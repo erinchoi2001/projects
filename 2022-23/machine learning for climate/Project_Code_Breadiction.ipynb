{
 "cells": [
  {
   "cell_type": "markdown",
   "metadata": {
    "id": "FoaEFON_rKP3"
   },
   "source": [
    "# ML for Climate Project Code\n",
    "Erin Choi, Vicky Lin (Breadiction)"
   ]
  },
  {
   "cell_type": "markdown",
   "metadata": {
    "id": "pUyR9fT9rRcL"
   },
   "source": [
    "# Data Preprocessing"
   ]
  },
  {
   "cell_type": "code",
   "execution_count": 2,
   "metadata": {
    "id": "56SlSgRxm0HO",
    "tags": []
   },
   "outputs": [],
   "source": [
    "# import packages\n",
    "import numpy as np\n",
    "import pandas as pd\n",
    "import matplotlib.pyplot as plt\n",
    "from IPython.display import clear_output\n",
    "\n",
    "from sklearn import metrics, model_selection\n",
    "from sklearn.preprocessing import MinMaxScaler, StandardScaler, OneHotEncoder, RobustScaler\n",
    "from sklearn.impute import SimpleImputer\n",
    "from sklearn.model_selection import train_test_split, GridSearchCV\n",
    "\n",
    "from sklearn.linear_model import LinearRegression, PoissonRegressor, Ridge, Lasso\n",
    "from sklearn.tree import DecisionTreeRegressor\n",
    "from sklearn.ensemble import RandomForestRegressor, AdaBoostRegressor, BaggingRegressor\n",
    "\n",
    "from xgboost import XGBRegressor\n",
    "\n",
    "import random, math, string\n",
    "\n",
    "from sklearn.metrics import mean_squared_log_error, mean_absolute_error, median_absolute_error, mean_absolute_percentage_error"
   ]
  },
  {
   "cell_type": "code",
   "execution_count": 2,
   "metadata": {
    "id": "9gKN6YtVDcGE"
   },
   "outputs": [
    {
     "data": {
      "text/html": [
       "<div>\n",
       "<style scoped>\n",
       "    .dataframe tbody tr th:only-of-type {\n",
       "        vertical-align: middle;\n",
       "    }\n",
       "\n",
       "    .dataframe tbody tr th {\n",
       "        vertical-align: top;\n",
       "    }\n",
       "\n",
       "    .dataframe thead th {\n",
       "        text-align: right;\n",
       "    }\n",
       "</style>\n",
       "<table border=\"1\" class=\"dataframe\">\n",
       "  <thead>\n",
       "    <tr style=\"text-align: right;\">\n",
       "      <th></th>\n",
       "      <th>Agencia_ID</th>\n",
       "      <th>Cliente_ID</th>\n",
       "      <th>Producto_ID</th>\n",
       "      <th>Venta_uni_hoy</th>\n",
       "      <th>Venta_hoy</th>\n",
       "      <th>Demanda_uni_equil</th>\n",
       "    </tr>\n",
       "  </thead>\n",
       "  <tbody>\n",
       "    <tr>\n",
       "      <th>0</th>\n",
       "      <td>1110</td>\n",
       "      <td>15766</td>\n",
       "      <td>1212</td>\n",
       "      <td>3</td>\n",
       "      <td>25.14</td>\n",
       "      <td>3</td>\n",
       "    </tr>\n",
       "    <tr>\n",
       "      <th>1</th>\n",
       "      <td>1110</td>\n",
       "      <td>15766</td>\n",
       "      <td>1216</td>\n",
       "      <td>4</td>\n",
       "      <td>33.52</td>\n",
       "      <td>4</td>\n",
       "    </tr>\n",
       "    <tr>\n",
       "      <th>2</th>\n",
       "      <td>1110</td>\n",
       "      <td>15766</td>\n",
       "      <td>1238</td>\n",
       "      <td>4</td>\n",
       "      <td>39.32</td>\n",
       "      <td>4</td>\n",
       "    </tr>\n",
       "    <tr>\n",
       "      <th>3</th>\n",
       "      <td>1110</td>\n",
       "      <td>15766</td>\n",
       "      <td>1240</td>\n",
       "      <td>4</td>\n",
       "      <td>33.52</td>\n",
       "      <td>4</td>\n",
       "    </tr>\n",
       "    <tr>\n",
       "      <th>4</th>\n",
       "      <td>1110</td>\n",
       "      <td>15766</td>\n",
       "      <td>1242</td>\n",
       "      <td>3</td>\n",
       "      <td>22.92</td>\n",
       "      <td>3</td>\n",
       "    </tr>\n",
       "  </tbody>\n",
       "</table>\n",
       "</div>"
      ],
      "text/plain": [
       "   Agencia_ID  Cliente_ID  Producto_ID  Venta_uni_hoy  Venta_hoy  \\\n",
       "0        1110       15766         1212              3      25.14   \n",
       "1        1110       15766         1216              4      33.52   \n",
       "2        1110       15766         1238              4      39.32   \n",
       "3        1110       15766         1240              4      33.52   \n",
       "4        1110       15766         1242              3      22.92   \n",
       "\n",
       "   Demanda_uni_equil  \n",
       "0                  3  \n",
       "1                  4  \n",
       "2                  4  \n",
       "3                  4  \n",
       "4                  3  "
      ]
     },
     "execution_count": 2,
     "metadata": {},
     "output_type": "execute_result"
    }
   ],
   "source": [
    "# import training data\n",
    "df_train = pd.read_csv('../project/data/train.csv', \n",
    "                       usecols=['Agencia_ID', 'Cliente_ID', 'Producto_ID',\n",
    "                                'Venta_uni_hoy', 'Venta_hoy', 'Demanda_uni_equil'])\n",
    "df_train.head()"
   ]
  },
  {
   "cell_type": "code",
   "execution_count": 3,
   "metadata": {},
   "outputs": [
    {
     "data": {
      "text/plain": [
       "(74180464, 6)"
      ]
     },
     "execution_count": 3,
     "metadata": {},
     "output_type": "execute_result"
    }
   ],
   "source": [
    "df_train.shape"
   ]
  },
  {
   "cell_type": "markdown",
   "metadata": {},
   "source": [
    "## Client Data Process"
   ]
  },
  {
   "cell_type": "code",
   "execution_count": 4,
   "metadata": {},
   "outputs": [
    {
     "data": {
      "text/html": [
       "<div>\n",
       "<style scoped>\n",
       "    .dataframe tbody tr th:only-of-type {\n",
       "        vertical-align: middle;\n",
       "    }\n",
       "\n",
       "    .dataframe tbody tr th {\n",
       "        vertical-align: top;\n",
       "    }\n",
       "\n",
       "    .dataframe thead th {\n",
       "        text-align: right;\n",
       "    }\n",
       "</style>\n",
       "<table border=\"1\" class=\"dataframe\">\n",
       "  <thead>\n",
       "    <tr style=\"text-align: right;\">\n",
       "      <th></th>\n",
       "      <th>Cliente_ID</th>\n",
       "      <th>NombreCliente</th>\n",
       "    </tr>\n",
       "  </thead>\n",
       "  <tbody>\n",
       "    <tr>\n",
       "      <th>0</th>\n",
       "      <td>0</td>\n",
       "      <td>SIN NOMBRE</td>\n",
       "    </tr>\n",
       "    <tr>\n",
       "      <th>1</th>\n",
       "      <td>1</td>\n",
       "      <td>OXXO XINANTECATL</td>\n",
       "    </tr>\n",
       "    <tr>\n",
       "      <th>2</th>\n",
       "      <td>2</td>\n",
       "      <td>SIN NOMBRE</td>\n",
       "    </tr>\n",
       "    <tr>\n",
       "      <th>3</th>\n",
       "      <td>3</td>\n",
       "      <td>EL MORENO</td>\n",
       "    </tr>\n",
       "    <tr>\n",
       "      <th>4</th>\n",
       "      <td>4</td>\n",
       "      <td>SDN SER  DE ALIM  CUERPO SA CIA  DE INT</td>\n",
       "    </tr>\n",
       "  </tbody>\n",
       "</table>\n",
       "</div>"
      ],
      "text/plain": [
       "   Cliente_ID                            NombreCliente\n",
       "0           0                               SIN NOMBRE\n",
       "1           1                         OXXO XINANTECATL\n",
       "2           2                               SIN NOMBRE\n",
       "3           3                                EL MORENO\n",
       "4           4  SDN SER  DE ALIM  CUERPO SA CIA  DE INT"
      ]
     },
     "execution_count": 4,
     "metadata": {},
     "output_type": "execute_result"
    }
   ],
   "source": [
    "# import client table\n",
    "df_client = pd.read_csv('../project/data/cliente_tabla.csv')\n",
    "df_client.head()"
   ]
  },
  {
   "cell_type": "code",
   "execution_count": 5,
   "metadata": {},
   "outputs": [],
   "source": [
    "# stopwords in spanish\n",
    "from nltk.corpus import stopwords\n",
    "stopwords = stopwords.words(\"spanish\")\n",
    "stopwords = [x.upper() for x in stopwords]"
   ]
  },
  {
   "cell_type": "code",
   "execution_count": 6,
   "metadata": {},
   "outputs": [],
   "source": [
    "# common names in spanish\n",
    "surnames = pd.read_csv('../project/data/surnames.csv')[:1000]\n",
    "female = pd.read_csv('../project/data/female_names.csv')[:1000]\n",
    "male = pd.read_csv('../project/data/male_names.csv')[:1000]"
   ]
  },
  {
   "cell_type": "code",
   "execution_count": 7,
   "metadata": {},
   "outputs": [],
   "source": [
    "# create list of most common names\n",
    "names = surnames['surname'].values\n",
    "for n in female['name']:\n",
    "    names = np.append(names, n)\n",
    "for n in male['name']:\n",
    "    names = np.append(names, n)"
   ]
  },
  {
   "cell_type": "code",
   "execution_count": 8,
   "metadata": {},
   "outputs": [],
   "source": [
    "# split words in each client value, \n",
    "# add to client_words if they're not stopwords or whitespace\n",
    "client_list = df_client['NombreCliente'].unique()\n",
    "client_words = []\n",
    "\n",
    "for c in client_list:\n",
    "    c_list = c.split(' ')\n",
    "    for w in c_list:\n",
    "        if w not in stopwords and w not in string.whitespace:\n",
    "            client_words.append(w)\n",
    "client_words = [x.upper() for x in client_words]"
   ]
  },
  {
   "cell_type": "code",
   "execution_count": 9,
   "metadata": {},
   "outputs": [],
   "source": [
    "# create a dataframe and find the unique client words\n",
    "client_words = pd.DataFrame(client_words)\n",
    "client_unique = client_words[0].unique()"
   ]
  },
  {
   "cell_type": "code",
   "execution_count": 10,
   "metadata": {},
   "outputs": [],
   "source": [
    "# drop client words that are common names or shorter than 3 characters\n",
    "for c in client_unique:\n",
    "    if c in names or len(c) < 3:\n",
    "        client_words.drop(client_words[client_words[0] == c].index, inplace = True)"
   ]
  },
  {
   "cell_type": "code",
   "execution_count": 11,
   "metadata": {},
   "outputs": [
    {
     "data": {
      "text/plain": [
       "ABARROTES       12337\n",
       "SUPER            9930\n",
       "OXXO             6652\n",
       "MISCELANEA       5892\n",
       "COMODIN          5084\n",
       "MINI             4024\n",
       "SAN              3730\n",
       "FARMACIA         3419\n",
       "PAPELERIA        2471\n",
       "TIENDA           2315\n",
       "CREMERIA         2068\n",
       "ESCUELA          2049\n",
       "CASA             1958\n",
       "PUESTO           1861\n",
       "DON              1793\n",
       "HAMBURGUESAS     1793\n",
       "DICONSA          1611\n",
       "MISC             1536\n",
       "ABTS             1517\n",
       "CAFETERIA        1516\n",
       "CARNICERIA       1443\n",
       "CENTRO           1402\n",
       "ESC              1374\n",
       "SANTA            1343\n",
       "SECUNDARIA       1332\n",
       "Name: 0, dtype: int64"
      ]
     },
     "execution_count": 11,
     "metadata": {},
     "output_type": "execute_result"
    }
   ],
   "source": [
    "# check most common client words with .value_counts()\n",
    "client_types = client_words[0].value_counts(ascending=False)\n",
    "client_types.head(25)"
   ]
  },
  {
   "cell_type": "code",
   "execution_count": 12,
   "metadata": {},
   "outputs": [],
   "source": [
    "# make names uppercase\n",
    "df_client_new = df_client.copy()\n",
    "df_client_new['NombreCliente'] = df_client_new['NombreCliente'].apply(str.upper)\n",
    "# df_client_new.head()"
   ]
  },
  {
   "cell_type": "code",
   "execution_count": 13,
   "metadata": {},
   "outputs": [],
   "source": [
    "# categorize the clients by type using specific search terms\n",
    "# there will be many overlaps in the categories since we can't sort the names one by one\n",
    "\n",
    "def categorize_client(df):\n",
    "    \n",
    "    # big companies and chains\n",
    "    df['NombreCliente'] = df['NombreCliente'].replace(['.*WAL MART.*', '.*SAMS CLUB.*'],'Walmart', regex=True)\n",
    "    df['NombreCliente'] = df['NombreCliente'].replace(['.*OXXO.*', '.*7 ELEVEN.*', '.*MODELORAMA.*'],\n",
    "                                                          'Convenience', regex=True)\n",
    "    df['NombreCliente'] = df['NombreCliente'].str.replace('.*BIMBO.*', 'Bimbo Store', regex=True)\n",
    "    \n",
    "    # supermarkets\n",
    "    df['NombreCliente'] = df['NombreCliente'].str.replace('.*SUPER.*', 'Supermarket', regex=True)\n",
    "    \n",
    "    # general marts\n",
    "    df['NombreCliente'] = df['NombreCliente'].replace(['.*COMERCIAL.*', '.*BODEGA.*', '.*DEPOSITO.*', '.*ABARROTES.*',\\\n",
    "                                                       '.*MERCADO.*', '.*CAMBIO.*', '.*MARKET.*', '.*MART.*', '.*MINI.*',\\\n",
    "                                                       '.*PLAZA.*', '.*MISC.*', '.*EXP.*', '.*SNACK.*', '.*PAPELERIA.*',\\\n",
    "                                                       '.*CARNICERIA.*', '.*LOCAL.*', '.*COMODIN.*', '.*PROVIDENCIA.*',\\\n",
    "                                                       '.*VERDU.*', '.*FRUT.*', '.*DULCE.*'], 'General Mart', regex=True)\n",
    "    \n",
    "    # restaurants/eateries\n",
    "    df['NombreCliente'] = df['NombreCliente'].replace(['.*CAFE.*', '.*CREMERIA.*', '.*DULCERIA.*', '.*REST.*',\\\n",
    "                                                       '.*BURGER.*', '.*BURGU.*', '.*TACO.*', '.*TORTA.*', '.*TAQUER.*',\\\n",
    "                                                       '.*HOT DOG.*', '.*COMEDOR.*', '.*ERIA.*', '.*COCINA.*'],\n",
    "                                                      'Restaurant', regex=True)\n",
    "    \n",
    "    # non food\n",
    "    df['NombreCliente'] = df['NombreCliente'].replace(['.*COLEG.*', '.*UNIV.*', '.*ESCU.*', '.*INSTI.*',\\\n",
    "                                                       '.*SECUNDARIA.*', '.*PRIMARIA.*', '.*PREPAR.*'], \n",
    "                                                      'School', regex=True)\n",
    "    df['NombreCliente'] = df['NombreCliente'].str.replace('.*PUESTO.*', 'Post', regex=True)\n",
    "    df['NombreCliente'] = df['NombreCliente'].replace(['.*FARMA.*', '.*HOSPITAL.*', '.*CLINI.*'], \n",
    "                                                      'Hospital/Pharmacy', regex=True)\n",
    "    df['NombreCliente'] = df['NombreCliente'].replace(['.*HOTEL.*', '.*MOTEL.*'],'Hotel', regex=True)\n",
    "    \n",
    "\n",
    "    # franchises with participles & numbers in the name, non-individuals\n",
    "    df['NombreCliente'] = df['NombreCliente'].replace([\n",
    "            '.*LA .*','.*EL .*','.*DE .*','.*LOS .*','.*DEL .*','.*Y .*', '.*SAN .*', '.*SANTA .*',\\\n",
    "            '.*AG .*','.*LAS .*','.*MI .*','.*MA .*', '.*II.*', '.*[0-9]+.*'], 'Small Franchise', regex=True)"
   ]
  },
  {
   "cell_type": "code",
   "execution_count": 14,
   "metadata": {},
   "outputs": [],
   "source": [
    "# leftover names = individuals unless no name provided\n",
    "def categorize_rest(df):\n",
    "    def indiv_none(data):\n",
    "        # check for uppercase = non-categorized clients\n",
    "        if (data.isupper()) and (data != \"NO IDENTIFICADO\"): \n",
    "            return 'Individual'\n",
    "        else:\n",
    "            return data\n",
    "    df['NombreCliente'] = df['NombreCliente'].map(indiv_none)"
   ]
  },
  {
   "cell_type": "code",
   "execution_count": 15,
   "metadata": {},
   "outputs": [],
   "source": [
    "# run functions\n",
    "categorize_client(df_client_new)"
   ]
  },
  {
   "cell_type": "code",
   "execution_count": 16,
   "metadata": {},
   "outputs": [],
   "source": [
    "categorize_rest(df_client_new)"
   ]
  },
  {
   "cell_type": "code",
   "execution_count": 17,
   "metadata": {},
   "outputs": [
    {
     "data": {
      "text/plain": [
       "Individual           341485\n",
       "NO IDENTIFICADO      281670\n",
       "Small Franchise      156076\n",
       "General Mart          90052\n",
       "Restaurant            21870\n",
       "Supermarket           16825\n",
       "Convenience           11866\n",
       "School                 6595\n",
       "Hospital/Pharmacy      5203\n",
       "Post                   2067\n",
       "Hotel                  1113\n",
       "Bimbo Store             320\n",
       "Walmart                 220\n",
       "Name: NombreCliente, dtype: int64"
      ]
     },
     "execution_count": 17,
     "metadata": {},
     "output_type": "execute_result"
    }
   ],
   "source": [
    "# check that categorization was successful\n",
    "df_client_new['NombreCliente'].value_counts()"
   ]
  },
  {
   "cell_type": "code",
   "execution_count": 18,
   "metadata": {},
   "outputs": [
    {
     "data": {
      "text/html": [
       "<div>\n",
       "<style scoped>\n",
       "    .dataframe tbody tr th:only-of-type {\n",
       "        vertical-align: middle;\n",
       "    }\n",
       "\n",
       "    .dataframe tbody tr th {\n",
       "        vertical-align: top;\n",
       "    }\n",
       "\n",
       "    .dataframe thead th {\n",
       "        text-align: right;\n",
       "    }\n",
       "</style>\n",
       "<table border=\"1\" class=\"dataframe\">\n",
       "  <thead>\n",
       "    <tr style=\"text-align: right;\">\n",
       "      <th></th>\n",
       "      <th>Cliente_ID</th>\n",
       "      <th>client_type</th>\n",
       "    </tr>\n",
       "  </thead>\n",
       "  <tbody>\n",
       "    <tr>\n",
       "      <th>0</th>\n",
       "      <td>0</td>\n",
       "      <td>Individual</td>\n",
       "    </tr>\n",
       "    <tr>\n",
       "      <th>1</th>\n",
       "      <td>1</td>\n",
       "      <td>Convenience</td>\n",
       "    </tr>\n",
       "    <tr>\n",
       "      <th>2</th>\n",
       "      <td>2</td>\n",
       "      <td>Individual</td>\n",
       "    </tr>\n",
       "    <tr>\n",
       "      <th>3</th>\n",
       "      <td>3</td>\n",
       "      <td>Small Franchise</td>\n",
       "    </tr>\n",
       "    <tr>\n",
       "      <th>4</th>\n",
       "      <td>4</td>\n",
       "      <td>Small Franchise</td>\n",
       "    </tr>\n",
       "  </tbody>\n",
       "</table>\n",
       "</div>"
      ],
      "text/plain": [
       "   Cliente_ID      client_type\n",
       "0           0       Individual\n",
       "1           1      Convenience\n",
       "2           2       Individual\n",
       "3           3  Small Franchise\n",
       "4           4  Small Franchise"
      ]
     },
     "execution_count": 18,
     "metadata": {},
     "output_type": "execute_result"
    }
   ],
   "source": [
    "df_client_new.rename(columns={'NombreCliente':'client_type'}, inplace=True)\n",
    "df_client_new.head()"
   ]
  },
  {
   "cell_type": "code",
   "execution_count": 20,
   "metadata": {},
   "outputs": [],
   "source": [
    "# # save as new csv\n",
    "# df_client_new.to_csv('../project/data/final_client.csv', encoding='utf-8')"
   ]
  },
  {
   "cell_type": "code",
   "execution_count": 19,
   "metadata": {},
   "outputs": [],
   "source": [
    "del surnames\n",
    "del female\n",
    "del male\n",
    "del names\n",
    "del stopwords\n",
    "del client_list\n",
    "del client_words\n",
    "del client_unique\n",
    "del client_types\n",
    "del df_client_new"
   ]
  },
  {
   "cell_type": "markdown",
   "metadata": {},
   "source": [
    "## Product Data Process"
   ]
  },
  {
   "cell_type": "code",
   "execution_count": 21,
   "metadata": {},
   "outputs": [
    {
     "data": {
      "text/html": [
       "<div>\n",
       "<style scoped>\n",
       "    .dataframe tbody tr th:only-of-type {\n",
       "        vertical-align: middle;\n",
       "    }\n",
       "\n",
       "    .dataframe tbody tr th {\n",
       "        vertical-align: top;\n",
       "    }\n",
       "\n",
       "    .dataframe thead th {\n",
       "        text-align: right;\n",
       "    }\n",
       "</style>\n",
       "<table border=\"1\" class=\"dataframe\">\n",
       "  <thead>\n",
       "    <tr style=\"text-align: right;\">\n",
       "      <th></th>\n",
       "      <th>Producto_ID</th>\n",
       "      <th>NombreProducto</th>\n",
       "    </tr>\n",
       "  </thead>\n",
       "  <tbody>\n",
       "    <tr>\n",
       "      <th>0</th>\n",
       "      <td>0</td>\n",
       "      <td>NO IDENTIFICADO 0</td>\n",
       "    </tr>\n",
       "    <tr>\n",
       "      <th>1</th>\n",
       "      <td>9</td>\n",
       "      <td>Capuccino Moka 750g NES 9</td>\n",
       "    </tr>\n",
       "    <tr>\n",
       "      <th>2</th>\n",
       "      <td>41</td>\n",
       "      <td>Bimbollos Ext sAjonjoli 6p 480g BIM 41</td>\n",
       "    </tr>\n",
       "    <tr>\n",
       "      <th>3</th>\n",
       "      <td>53</td>\n",
       "      <td>Burritos Sincro 170g CU LON 53</td>\n",
       "    </tr>\n",
       "    <tr>\n",
       "      <th>4</th>\n",
       "      <td>72</td>\n",
       "      <td>Div Tira Mini Doradita 4p 45g TR 72</td>\n",
       "    </tr>\n",
       "  </tbody>\n",
       "</table>\n",
       "</div>"
      ],
      "text/plain": [
       "   Producto_ID                          NombreProducto\n",
       "0            0                       NO IDENTIFICADO 0\n",
       "1            9               Capuccino Moka 750g NES 9\n",
       "2           41  Bimbollos Ext sAjonjoli 6p 480g BIM 41\n",
       "3           53          Burritos Sincro 170g CU LON 53\n",
       "4           72     Div Tira Mini Doradita 4p 45g TR 72"
      ]
     },
     "execution_count": 21,
     "metadata": {},
     "output_type": "execute_result"
    }
   ],
   "source": [
    "# import product table\n",
    "df_product = pd.read_csv('../project/data/producto_tabla.csv')\n",
    "df_product.head()"
   ]
  },
  {
   "cell_type": "code",
   "execution_count": 22,
   "metadata": {},
   "outputs": [],
   "source": [
    "# get substrings containing the weight, product name, and brand from the product\n",
    "import string\n",
    "\n",
    "df_product[\"product_name\"] = df_product['NombreProducto'].str.extract(r'^(.*?)(\\d*\\s\\d+(kg|Kg|g|G|ml| ml|p|Reb)\\s)', expand=False)[0]\n",
    "df_product[\"product_weight\"] = df_product['NombreProducto'].str.extract(r'^(.*?)(\\d*\\s\\d+(kg|Kg|g|G|ml| ml|Reb)\\s)')[1]\n",
    "df_product['brand'] = df_product['NombreProducto'].str.extract(r'^.*\\d+(kg|Kg|g|G|ml| ml|p|Reb)\\s(.*?)\\s\\d+$', expand=False)[1]\n"
   ]
  },
  {
   "cell_type": "code",
   "execution_count": 23,
   "metadata": {},
   "outputs": [
    {
     "data": {
      "text/html": [
       "<div>\n",
       "<style scoped>\n",
       "    .dataframe tbody tr th:only-of-type {\n",
       "        vertical-align: middle;\n",
       "    }\n",
       "\n",
       "    .dataframe tbody tr th {\n",
       "        vertical-align: top;\n",
       "    }\n",
       "\n",
       "    .dataframe thead th {\n",
       "        text-align: right;\n",
       "    }\n",
       "</style>\n",
       "<table border=\"1\" class=\"dataframe\">\n",
       "  <thead>\n",
       "    <tr style=\"text-align: right;\">\n",
       "      <th></th>\n",
       "      <th>Producto_ID</th>\n",
       "      <th>NombreProducto</th>\n",
       "      <th>product_name</th>\n",
       "      <th>product_weight</th>\n",
       "      <th>brand</th>\n",
       "    </tr>\n",
       "  </thead>\n",
       "  <tbody>\n",
       "    <tr>\n",
       "      <th>0</th>\n",
       "      <td>0</td>\n",
       "      <td>NO IDENTIFICADO 0</td>\n",
       "      <td>NaN</td>\n",
       "      <td>NaN</td>\n",
       "      <td>NaN</td>\n",
       "    </tr>\n",
       "    <tr>\n",
       "      <th>1</th>\n",
       "      <td>9</td>\n",
       "      <td>Capuccino Moka 750g NES 9</td>\n",
       "      <td>Capuccino Moka</td>\n",
       "      <td>750g</td>\n",
       "      <td>NES</td>\n",
       "    </tr>\n",
       "    <tr>\n",
       "      <th>2</th>\n",
       "      <td>41</td>\n",
       "      <td>Bimbollos Ext sAjonjoli 6p 480g BIM 41</td>\n",
       "      <td>Bimbollos Ext sAjonjoli</td>\n",
       "      <td>480g</td>\n",
       "      <td>BIM</td>\n",
       "    </tr>\n",
       "    <tr>\n",
       "      <th>3</th>\n",
       "      <td>53</td>\n",
       "      <td>Burritos Sincro 170g CU LON 53</td>\n",
       "      <td>Burritos Sincro</td>\n",
       "      <td>170g</td>\n",
       "      <td>CU LON</td>\n",
       "    </tr>\n",
       "    <tr>\n",
       "      <th>4</th>\n",
       "      <td>72</td>\n",
       "      <td>Div Tira Mini Doradita 4p 45g TR 72</td>\n",
       "      <td>Div Tira Mini Doradita</td>\n",
       "      <td>45g</td>\n",
       "      <td>TR</td>\n",
       "    </tr>\n",
       "    <tr>\n",
       "      <th>5</th>\n",
       "      <td>73</td>\n",
       "      <td>Pan Multigrano Linaza 540g BIM 73</td>\n",
       "      <td>Pan Multigrano Linaza</td>\n",
       "      <td>540g</td>\n",
       "      <td>BIM</td>\n",
       "    </tr>\n",
       "    <tr>\n",
       "      <th>6</th>\n",
       "      <td>98</td>\n",
       "      <td>Tostado Integral 180g WON 98</td>\n",
       "      <td>Tostado Integral</td>\n",
       "      <td>180g</td>\n",
       "      <td>WON</td>\n",
       "    </tr>\n",
       "    <tr>\n",
       "      <th>7</th>\n",
       "      <td>99</td>\n",
       "      <td>Pan Blanco 567g WON 99</td>\n",
       "      <td>Pan Blanco</td>\n",
       "      <td>567g</td>\n",
       "      <td>WON</td>\n",
       "    </tr>\n",
       "    <tr>\n",
       "      <th>8</th>\n",
       "      <td>100</td>\n",
       "      <td>Super Pan Bco Ajonjoli 680g SP WON 100</td>\n",
       "      <td>Super Pan Bco Ajonjoli</td>\n",
       "      <td>680g</td>\n",
       "      <td>SP WON</td>\n",
       "    </tr>\n",
       "    <tr>\n",
       "      <th>9</th>\n",
       "      <td>106</td>\n",
       "      <td>Wonder 100pct mediano 475g WON 106</td>\n",
       "      <td>Wonder 100pct mediano</td>\n",
       "      <td>475g</td>\n",
       "      <td>WON</td>\n",
       "    </tr>\n",
       "  </tbody>\n",
       "</table>\n",
       "</div>"
      ],
      "text/plain": [
       "   Producto_ID                          NombreProducto  \\\n",
       "0            0                       NO IDENTIFICADO 0   \n",
       "1            9               Capuccino Moka 750g NES 9   \n",
       "2           41  Bimbollos Ext sAjonjoli 6p 480g BIM 41   \n",
       "3           53          Burritos Sincro 170g CU LON 53   \n",
       "4           72     Div Tira Mini Doradita 4p 45g TR 72   \n",
       "5           73       Pan Multigrano Linaza 540g BIM 73   \n",
       "6           98            Tostado Integral 180g WON 98   \n",
       "7           99                  Pan Blanco 567g WON 99   \n",
       "8          100  Super Pan Bco Ajonjoli 680g SP WON 100   \n",
       "9          106      Wonder 100pct mediano 475g WON 106   \n",
       "\n",
       "              product_name product_weight   brand  \n",
       "0                      NaN            NaN     NaN  \n",
       "1           Capuccino Moka          750g      NES  \n",
       "2  Bimbollos Ext sAjonjoli          480g      BIM  \n",
       "3          Burritos Sincro          170g   CU LON  \n",
       "4   Div Tira Mini Doradita           45g       TR  \n",
       "5    Pan Multigrano Linaza          540g      BIM  \n",
       "6         Tostado Integral          180g      WON  \n",
       "7               Pan Blanco          567g      WON  \n",
       "8   Super Pan Bco Ajonjoli          680g   SP WON  \n",
       "9    Wonder 100pct mediano          475g      WON  "
      ]
     },
     "execution_count": 23,
     "metadata": {},
     "output_type": "execute_result"
    }
   ],
   "source": [
    "df_product.head(10)"
   ]
  },
  {
   "cell_type": "code",
   "execution_count": 24,
   "metadata": {},
   "outputs": [
    {
     "data": {
      "text/html": [
       "<div>\n",
       "<style scoped>\n",
       "    .dataframe tbody tr th:only-of-type {\n",
       "        vertical-align: middle;\n",
       "    }\n",
       "\n",
       "    .dataframe tbody tr th {\n",
       "        vertical-align: top;\n",
       "    }\n",
       "\n",
       "    .dataframe thead th {\n",
       "        text-align: right;\n",
       "    }\n",
       "</style>\n",
       "<table border=\"1\" class=\"dataframe\">\n",
       "  <thead>\n",
       "    <tr style=\"text-align: right;\">\n",
       "      <th></th>\n",
       "      <th>Producto_ID</th>\n",
       "      <th>NombreProducto</th>\n",
       "      <th>product_name</th>\n",
       "      <th>product_weight</th>\n",
       "      <th>brand</th>\n",
       "    </tr>\n",
       "  </thead>\n",
       "  <tbody>\n",
       "    <tr>\n",
       "      <th>0</th>\n",
       "      <td>0</td>\n",
       "      <td>NO IDENTIFICADO 0</td>\n",
       "      <td>NaN</td>\n",
       "      <td>NaN</td>\n",
       "      <td>NaN</td>\n",
       "    </tr>\n",
       "    <tr>\n",
       "      <th>40</th>\n",
       "      <td>322</td>\n",
       "      <td>Tuinky Fresas con Crema 2p WON 322</td>\n",
       "      <td>Tuinky Fresas con Crema</td>\n",
       "      <td>NaN</td>\n",
       "      <td>WON</td>\n",
       "    </tr>\n",
       "    <tr>\n",
       "      <th>93</th>\n",
       "      <td>1166</td>\n",
       "      <td>Bollo Regular 2pq 30p McD BIM 1166</td>\n",
       "      <td>Bollo Regular 2pq</td>\n",
       "      <td>NaN</td>\n",
       "      <td>McD BIM</td>\n",
       "    </tr>\n",
       "    <tr>\n",
       "      <th>117</th>\n",
       "      <td>1289</td>\n",
       "      <td>Donas 6P Prom BIM 1289</td>\n",
       "      <td>NaN</td>\n",
       "      <td>NaN</td>\n",
       "      <td>NaN</td>\n",
       "    </tr>\n",
       "    <tr>\n",
       "      <th>127</th>\n",
       "      <td>1641</td>\n",
       "      <td>Doraditas 4p TR 1641</td>\n",
       "      <td>Doraditas</td>\n",
       "      <td>NaN</td>\n",
       "      <td>TR</td>\n",
       "    </tr>\n",
       "    <tr>\n",
       "      <th>162</th>\n",
       "      <td>2575</td>\n",
       "      <td>Vasos 226 8g8oz NES 2575</td>\n",
       "      <td>NaN</td>\n",
       "      <td>NaN</td>\n",
       "      <td>NaN</td>\n",
       "    </tr>\n",
       "    <tr>\n",
       "      <th>190</th>\n",
       "      <td>3509</td>\n",
       "      <td>Paletina para Cafe NES 3509</td>\n",
       "      <td>NaN</td>\n",
       "      <td>NaN</td>\n",
       "      <td>NaN</td>\n",
       "    </tr>\n",
       "    <tr>\n",
       "      <th>199</th>\n",
       "      <td>3609</td>\n",
       "      <td>Mantecadas Chocolate 3p TR 3609</td>\n",
       "      <td>Mantecadas Chocolate</td>\n",
       "      <td>NaN</td>\n",
       "      <td>TR</td>\n",
       "    </tr>\n",
       "    <tr>\n",
       "      <th>232</th>\n",
       "      <td>4240</td>\n",
       "      <td>Mantecadas 2p SP TR 4240</td>\n",
       "      <td>Mantecadas</td>\n",
       "      <td>NaN</td>\n",
       "      <td>SP TR</td>\n",
       "    </tr>\n",
       "    <tr>\n",
       "      <th>296</th>\n",
       "      <td>5707</td>\n",
       "      <td>Tostada Ondulada Tubo 30p MR 5707</td>\n",
       "      <td>Tostada Ondulada Tubo</td>\n",
       "      <td>NaN</td>\n",
       "      <td>MR</td>\n",
       "    </tr>\n",
       "    <tr>\n",
       "      <th>347</th>\n",
       "      <td>8825</td>\n",
       "      <td>Obleas Tira 10p COR 8825</td>\n",
       "      <td>Obleas Tira</td>\n",
       "      <td>NaN</td>\n",
       "      <td>COR</td>\n",
       "    </tr>\n",
       "    <tr>\n",
       "      <th>381</th>\n",
       "      <td>30099</td>\n",
       "      <td>Camioncitos Bimbo BIM 30099</td>\n",
       "      <td>NaN</td>\n",
       "      <td>NaN</td>\n",
       "      <td>NaN</td>\n",
       "    </tr>\n",
       "    <tr>\n",
       "      <th>409</th>\n",
       "      <td>30280</td>\n",
       "      <td>Camioncito Bimbo Modelo 3 BIM 30280</td>\n",
       "      <td>NaN</td>\n",
       "      <td>NaN</td>\n",
       "      <td>NaN</td>\n",
       "    </tr>\n",
       "    <tr>\n",
       "      <th>416</th>\n",
       "      <td>30332</td>\n",
       "      <td>Leche Gansito Chocolate 24p MLA 30332</td>\n",
       "      <td>Leche Gansito Chocolate</td>\n",
       "      <td>NaN</td>\n",
       "      <td>MLA</td>\n",
       "    </tr>\n",
       "    <tr>\n",
       "      <th>516</th>\n",
       "      <td>30871</td>\n",
       "      <td>Empanaditas Pina 20p DH 30871</td>\n",
       "      <td>Empanaditas Pina</td>\n",
       "      <td>NaN</td>\n",
       "      <td>DH</td>\n",
       "    </tr>\n",
       "    <tr>\n",
       "      <th>518</th>\n",
       "      <td>30888</td>\n",
       "      <td>Empanaditas Pina 20p Prom DH 30888</td>\n",
       "      <td>Empanaditas Pina</td>\n",
       "      <td>NaN</td>\n",
       "      <td>Prom DH</td>\n",
       "    </tr>\n",
       "    <tr>\n",
       "      <th>528</th>\n",
       "      <td>30958</td>\n",
       "      <td>Empanzador Crujiente Prom BIM 30958</td>\n",
       "      <td>NaN</td>\n",
       "      <td>NaN</td>\n",
       "      <td>NaN</td>\n",
       "    </tr>\n",
       "    <tr>\n",
       "      <th>587</th>\n",
       "      <td>31245</td>\n",
       "      <td>Bran Frut Mix 20p CU BIM 31245</td>\n",
       "      <td>Bran Frut Mix</td>\n",
       "      <td>NaN</td>\n",
       "      <td>CU BIM</td>\n",
       "    </tr>\n",
       "    <tr>\n",
       "      <th>606</th>\n",
       "      <td>31320</td>\n",
       "      <td>Barra Multigrano Nuez 12p Prom CU BIM 31320</td>\n",
       "      <td>Barra Multigrano Nuez</td>\n",
       "      <td>NaN</td>\n",
       "      <td>Prom CU BIM</td>\n",
       "    </tr>\n",
       "    <tr>\n",
       "      <th>607</th>\n",
       "      <td>31322</td>\n",
       "      <td>Bran Frut Fresa 18p Prom CU BIM 31322</td>\n",
       "      <td>Bran Frut Fresa</td>\n",
       "      <td>NaN</td>\n",
       "      <td>Prom CU BIM</td>\n",
       "    </tr>\n",
       "    <tr>\n",
       "      <th>877</th>\n",
       "      <td>32841</td>\n",
       "      <td>Tortilla Hna Chihuahua 10p535g SP MTA DH 32841</td>\n",
       "      <td>NaN</td>\n",
       "      <td>NaN</td>\n",
       "      <td>SP MTA DH</td>\n",
       "    </tr>\n",
       "    <tr>\n",
       "      <th>1044</th>\n",
       "      <td>33862</td>\n",
       "      <td>Choco Roles Fresa 3X10 Prom MLA 33862</td>\n",
       "      <td>NaN</td>\n",
       "      <td>NaN</td>\n",
       "      <td>NaN</td>\n",
       "    </tr>\n",
       "    <tr>\n",
       "      <th>1045</th>\n",
       "      <td>33863</td>\n",
       "      <td>Choco Roles Fresa 3X10 Prom MTB MLA 33863</td>\n",
       "      <td>NaN</td>\n",
       "      <td>NaN</td>\n",
       "      <td>NaN</td>\n",
       "    </tr>\n",
       "    <tr>\n",
       "      <th>1152</th>\n",
       "      <td>34646</td>\n",
       "      <td>Burrito Vaporero FrijolChorizo90gCU LON 34646</td>\n",
       "      <td>NaN</td>\n",
       "      <td>NaN</td>\n",
       "      <td>NaN</td>\n",
       "    </tr>\n",
       "    <tr>\n",
       "      <th>1335</th>\n",
       "      <td>35427</td>\n",
       "      <td>DuoBarrita Fsa GalletaGansito137g MLA 35427</td>\n",
       "      <td>NaN</td>\n",
       "      <td>NaN</td>\n",
       "      <td>MLA</td>\n",
       "    </tr>\n",
       "    <tr>\n",
       "      <th>1336</th>\n",
       "      <td>35428</td>\n",
       "      <td>DuoBarrita Fsa GalletaGansito137gMTA MLA 35428</td>\n",
       "      <td>NaN</td>\n",
       "      <td>NaN</td>\n",
       "      <td>NaN</td>\n",
       "    </tr>\n",
       "    <tr>\n",
       "      <th>1389</th>\n",
       "      <td>35618</td>\n",
       "      <td>Exhibidor PDQ Bran Frut BIM 35618</td>\n",
       "      <td>NaN</td>\n",
       "      <td>NaN</td>\n",
       "      <td>NaN</td>\n",
       "    </tr>\n",
       "    <tr>\n",
       "      <th>1485</th>\n",
       "      <td>35979</td>\n",
       "      <td>Almohada del Osito Bimbo BIM 35979</td>\n",
       "      <td>NaN</td>\n",
       "      <td>NaN</td>\n",
       "      <td>NaN</td>\n",
       "    </tr>\n",
       "    <tr>\n",
       "      <th>1585</th>\n",
       "      <td>36323</td>\n",
       "      <td>Principe Cho Bco MG 10p110g Prom CR1 MLA 36323</td>\n",
       "      <td>NaN</td>\n",
       "      <td>NaN</td>\n",
       "      <td>Prom CR1 MLA</td>\n",
       "    </tr>\n",
       "    <tr>\n",
       "      <th>1677</th>\n",
       "      <td>36659</td>\n",
       "      <td>Tarima Twin Pack Thins Multig CU ORO 36659</td>\n",
       "      <td>NaN</td>\n",
       "      <td>NaN</td>\n",
       "      <td>NaN</td>\n",
       "    </tr>\n",
       "    <tr>\n",
       "      <th>1688</th>\n",
       "      <td>36706</td>\n",
       "      <td>Servilletero Bimbollos BIM 36706</td>\n",
       "      <td>NaN</td>\n",
       "      <td>NaN</td>\n",
       "      <td>NaN</td>\n",
       "    </tr>\n",
       "    <tr>\n",
       "      <th>1748</th>\n",
       "      <td>36927</td>\n",
       "      <td>Combo Salma mas Levite1360g Prom CUB SAN 36927</td>\n",
       "      <td>NaN</td>\n",
       "      <td>NaN</td>\n",
       "      <td>Prom CUB SAN</td>\n",
       "    </tr>\n",
       "    <tr>\n",
       "      <th>1749</th>\n",
       "      <td>36928</td>\n",
       "      <td>Combo Salma mas Levite1414g Prom CUB SAN 36928</td>\n",
       "      <td>NaN</td>\n",
       "      <td>NaN</td>\n",
       "      <td>Prom CUB SAN</td>\n",
       "    </tr>\n",
       "    <tr>\n",
       "      <th>1750</th>\n",
       "      <td>36929</td>\n",
       "      <td>Combo Tos Clas mas Sals500g Prom CUB SAN 36929</td>\n",
       "      <td>NaN</td>\n",
       "      <td>NaN</td>\n",
       "      <td>Prom CUB SAN</td>\n",
       "    </tr>\n",
       "    <tr>\n",
       "      <th>1888</th>\n",
       "      <td>37569</td>\n",
       "      <td>Deliciosas Chochochispas 204gPromMTA LAR 37569</td>\n",
       "      <td>NaN</td>\n",
       "      <td>NaN</td>\n",
       "      <td>NaN</td>\n",
       "    </tr>\n",
       "    <tr>\n",
       "      <th>1889</th>\n",
       "      <td>37570</td>\n",
       "      <td>Deliciosas Chochochispas 204gProm LAR 37570</td>\n",
       "      <td>NaN</td>\n",
       "      <td>NaN</td>\n",
       "      <td>NaN</td>\n",
       "    </tr>\n",
       "    <tr>\n",
       "      <th>1890</th>\n",
       "      <td>37573</td>\n",
       "      <td>Deliciosas Chochochispas 204gPromCU LAR 37573</td>\n",
       "      <td>NaN</td>\n",
       "      <td>NaN</td>\n",
       "      <td>NaN</td>\n",
       "    </tr>\n",
       "    <tr>\n",
       "      <th>1922</th>\n",
       "      <td>37644</td>\n",
       "      <td>LataCorazonChococatBesoNuez200g Temp GBI 37644</td>\n",
       "      <td>NaN</td>\n",
       "      <td>NaN</td>\n",
       "      <td>Temp GBI</td>\n",
       "    </tr>\n",
       "    <tr>\n",
       "      <th>1967</th>\n",
       "      <td>40859</td>\n",
       "      <td>Choco Roles 15p Cj MTA MLA 40859</td>\n",
       "      <td>Choco Roles</td>\n",
       "      <td>NaN</td>\n",
       "      <td>Cj MTA MLA</td>\n",
       "    </tr>\n",
       "    <tr>\n",
       "      <th>2045</th>\n",
       "      <td>43037</td>\n",
       "      <td>Mantecadas 2p SP MTA TR 43037</td>\n",
       "      <td>Mantecadas</td>\n",
       "      <td>NaN</td>\n",
       "      <td>SP MTA TR</td>\n",
       "    </tr>\n",
       "    <tr>\n",
       "      <th>2241</th>\n",
       "      <td>44951</td>\n",
       "      <td>Donas 6p Prom MTA BIM 44951</td>\n",
       "      <td>Donas</td>\n",
       "      <td>NaN</td>\n",
       "      <td>Prom MTA BIM</td>\n",
       "    </tr>\n",
       "    <tr>\n",
       "      <th>2244</th>\n",
       "      <td>44990</td>\n",
       "      <td>Doraditas 4p MTA TR 44990</td>\n",
       "      <td>Doraditas</td>\n",
       "      <td>NaN</td>\n",
       "      <td>MTA TR</td>\n",
       "    </tr>\n",
       "    <tr>\n",
       "      <th>2357</th>\n",
       "      <td>46203</td>\n",
       "      <td>Mantecadas 2p SP TAB TR 46203</td>\n",
       "      <td>Mantecadas</td>\n",
       "      <td>NaN</td>\n",
       "      <td>SP TAB TR</td>\n",
       "    </tr>\n",
       "    <tr>\n",
       "      <th>2419</th>\n",
       "      <td>47625</td>\n",
       "      <td>Tostada Ondulada Tubo 30p CU MR 47625</td>\n",
       "      <td>Tostada Ondulada Tubo</td>\n",
       "      <td>NaN</td>\n",
       "      <td>CU MR</td>\n",
       "    </tr>\n",
       "    <tr>\n",
       "      <th>2428</th>\n",
       "      <td>47910</td>\n",
       "      <td>BranFrut Fresa 18p BIM 47910</td>\n",
       "      <td>BranFrut Fresa</td>\n",
       "      <td>NaN</td>\n",
       "      <td>BIM</td>\n",
       "    </tr>\n",
       "    <tr>\n",
       "      <th>2449</th>\n",
       "      <td>48033</td>\n",
       "      <td>Galleta Granel Classics Chocolate GBI 48033</td>\n",
       "      <td>NaN</td>\n",
       "      <td>NaN</td>\n",
       "      <td>NaN</td>\n",
       "    </tr>\n",
       "    <tr>\n",
       "      <th>2456</th>\n",
       "      <td>48059</td>\n",
       "      <td>Paletina NEC 48059</td>\n",
       "      <td>NaN</td>\n",
       "      <td>NaN</td>\n",
       "      <td>NaN</td>\n",
       "    </tr>\n",
       "    <tr>\n",
       "      <th>2534</th>\n",
       "      <td>48961</td>\n",
       "      <td>Tostada Ondulada Tubo 30p CU MR 48961</td>\n",
       "      <td>Tostada Ondulada Tubo</td>\n",
       "      <td>NaN</td>\n",
       "      <td>CU MR</td>\n",
       "    </tr>\n",
       "    <tr>\n",
       "      <th>2546</th>\n",
       "      <td>49480</td>\n",
       "      <td>Bran Frut Mix 8p MTB BIM 49480</td>\n",
       "      <td>Bran Frut Mix</td>\n",
       "      <td>NaN</td>\n",
       "      <td>MTB BIM</td>\n",
       "    </tr>\n",
       "  </tbody>\n",
       "</table>\n",
       "</div>"
      ],
      "text/plain": [
       "      Producto_ID                                  NombreProducto  \\\n",
       "0               0                               NO IDENTIFICADO 0   \n",
       "40            322              Tuinky Fresas con Crema 2p WON 322   \n",
       "93           1166              Bollo Regular 2pq 30p McD BIM 1166   \n",
       "117          1289                          Donas 6P Prom BIM 1289   \n",
       "127          1641                            Doraditas 4p TR 1641   \n",
       "162          2575                        Vasos 226 8g8oz NES 2575   \n",
       "190          3509                     Paletina para Cafe NES 3509   \n",
       "199          3609                 Mantecadas Chocolate 3p TR 3609   \n",
       "232          4240                        Mantecadas 2p SP TR 4240   \n",
       "296          5707               Tostada Ondulada Tubo 30p MR 5707   \n",
       "347          8825                        Obleas Tira 10p COR 8825   \n",
       "381         30099                     Camioncitos Bimbo BIM 30099   \n",
       "409         30280             Camioncito Bimbo Modelo 3 BIM 30280   \n",
       "416         30332           Leche Gansito Chocolate 24p MLA 30332   \n",
       "516         30871                   Empanaditas Pina 20p DH 30871   \n",
       "518         30888              Empanaditas Pina 20p Prom DH 30888   \n",
       "528         30958             Empanzador Crujiente Prom BIM 30958   \n",
       "587         31245                  Bran Frut Mix 20p CU BIM 31245   \n",
       "606         31320     Barra Multigrano Nuez 12p Prom CU BIM 31320   \n",
       "607         31322           Bran Frut Fresa 18p Prom CU BIM 31322   \n",
       "877         32841  Tortilla Hna Chihuahua 10p535g SP MTA DH 32841   \n",
       "1044        33862           Choco Roles Fresa 3X10 Prom MLA 33862   \n",
       "1045        33863       Choco Roles Fresa 3X10 Prom MTB MLA 33863   \n",
       "1152        34646   Burrito Vaporero FrijolChorizo90gCU LON 34646   \n",
       "1335        35427     DuoBarrita Fsa GalletaGansito137g MLA 35427   \n",
       "1336        35428  DuoBarrita Fsa GalletaGansito137gMTA MLA 35428   \n",
       "1389        35618               Exhibidor PDQ Bran Frut BIM 35618   \n",
       "1485        35979              Almohada del Osito Bimbo BIM 35979   \n",
       "1585        36323  Principe Cho Bco MG 10p110g Prom CR1 MLA 36323   \n",
       "1677        36659      Tarima Twin Pack Thins Multig CU ORO 36659   \n",
       "1688        36706                Servilletero Bimbollos BIM 36706   \n",
       "1748        36927  Combo Salma mas Levite1360g Prom CUB SAN 36927   \n",
       "1749        36928  Combo Salma mas Levite1414g Prom CUB SAN 36928   \n",
       "1750        36929  Combo Tos Clas mas Sals500g Prom CUB SAN 36929   \n",
       "1888        37569  Deliciosas Chochochispas 204gPromMTA LAR 37569   \n",
       "1889        37570     Deliciosas Chochochispas 204gProm LAR 37570   \n",
       "1890        37573   Deliciosas Chochochispas 204gPromCU LAR 37573   \n",
       "1922        37644  LataCorazonChococatBesoNuez200g Temp GBI 37644   \n",
       "1967        40859                Choco Roles 15p Cj MTA MLA 40859   \n",
       "2045        43037                   Mantecadas 2p SP MTA TR 43037   \n",
       "2241        44951                     Donas 6p Prom MTA BIM 44951   \n",
       "2244        44990                       Doraditas 4p MTA TR 44990   \n",
       "2357        46203                   Mantecadas 2p SP TAB TR 46203   \n",
       "2419        47625           Tostada Ondulada Tubo 30p CU MR 47625   \n",
       "2428        47910                    BranFrut Fresa 18p BIM 47910   \n",
       "2449        48033     Galleta Granel Classics Chocolate GBI 48033   \n",
       "2456        48059                              Paletina NEC 48059   \n",
       "2534        48961           Tostada Ondulada Tubo 30p CU MR 48961   \n",
       "2546        49480                  Bran Frut Mix 8p MTB BIM 49480   \n",
       "\n",
       "                 product_name product_weight         brand  \n",
       "0                         NaN            NaN           NaN  \n",
       "40    Tuinky Fresas con Crema            NaN           WON  \n",
       "93          Bollo Regular 2pq            NaN       McD BIM  \n",
       "117                       NaN            NaN           NaN  \n",
       "127                 Doraditas            NaN            TR  \n",
       "162                       NaN            NaN           NaN  \n",
       "190                       NaN            NaN           NaN  \n",
       "199      Mantecadas Chocolate            NaN            TR  \n",
       "232                Mantecadas            NaN         SP TR  \n",
       "296     Tostada Ondulada Tubo            NaN            MR  \n",
       "347               Obleas Tira            NaN           COR  \n",
       "381                       NaN            NaN           NaN  \n",
       "409                       NaN            NaN           NaN  \n",
       "416   Leche Gansito Chocolate            NaN           MLA  \n",
       "516          Empanaditas Pina            NaN            DH  \n",
       "518          Empanaditas Pina            NaN       Prom DH  \n",
       "528                       NaN            NaN           NaN  \n",
       "587             Bran Frut Mix            NaN        CU BIM  \n",
       "606     Barra Multigrano Nuez            NaN   Prom CU BIM  \n",
       "607           Bran Frut Fresa            NaN   Prom CU BIM  \n",
       "877                       NaN            NaN     SP MTA DH  \n",
       "1044                      NaN            NaN           NaN  \n",
       "1045                      NaN            NaN           NaN  \n",
       "1152                      NaN            NaN           NaN  \n",
       "1335                      NaN            NaN           MLA  \n",
       "1336                      NaN            NaN           NaN  \n",
       "1389                      NaN            NaN           NaN  \n",
       "1485                      NaN            NaN           NaN  \n",
       "1585                      NaN            NaN  Prom CR1 MLA  \n",
       "1677                      NaN            NaN           NaN  \n",
       "1688                      NaN            NaN           NaN  \n",
       "1748                      NaN            NaN  Prom CUB SAN  \n",
       "1749                      NaN            NaN  Prom CUB SAN  \n",
       "1750                      NaN            NaN  Prom CUB SAN  \n",
       "1888                      NaN            NaN           NaN  \n",
       "1889                      NaN            NaN           NaN  \n",
       "1890                      NaN            NaN           NaN  \n",
       "1922                      NaN            NaN      Temp GBI  \n",
       "1967              Choco Roles            NaN    Cj MTA MLA  \n",
       "2045               Mantecadas            NaN     SP MTA TR  \n",
       "2241                    Donas            NaN  Prom MTA BIM  \n",
       "2244                Doraditas            NaN        MTA TR  \n",
       "2357               Mantecadas            NaN     SP TAB TR  \n",
       "2419    Tostada Ondulada Tubo            NaN         CU MR  \n",
       "2428           BranFrut Fresa            NaN           BIM  \n",
       "2449                      NaN            NaN           NaN  \n",
       "2456                      NaN            NaN           NaN  \n",
       "2534    Tostada Ondulada Tubo            NaN         CU MR  \n",
       "2546            Bran Frut Mix            NaN       MTB BIM  "
      ]
     },
     "execution_count": 24,
     "metadata": {},
     "output_type": "execute_result"
    }
   ],
   "source": [
    "# check what rows have null weights\n",
    "df_product.loc[df_product['product_weight'].isnull()]"
   ]
  },
  {
   "cell_type": "code",
   "execution_count": 25,
   "metadata": {},
   "outputs": [],
   "source": [
    "# manually add weight that weren't extracted\n",
    "# weight:\n",
    "# manually add available weights that weren't extracted\n",
    "df_product.loc[162, 'product_weight'] = '8g'\n",
    "df_product.loc[877, 'product_weight'] = '535g'\n",
    "df_product.loc[1152, 'product_weight'] = '90g'\n",
    "df_product.loc[1335, 'product_weight'] = '137g'\n",
    "df_product.loc[1336, 'product_weight'] = '137g'\n",
    "df_product.loc[1585, 'product_weight'] = '110g'\n",
    "df_product.loc[1748, 'product_weight'] = '1360g'\n",
    "df_product.loc[1749, 'product_weight'] = '1414g'\n",
    "df_product.loc[1750, 'product_weight'] = '500g'\n",
    "df_product.loc[1888, 'product_weight'] = '204g'\n",
    "df_product.loc[1889, 'product_weight'] = '204g'\n",
    "df_product.loc[1890, 'product_weight'] = '204g'\n",
    "df_product.loc[1922, 'product_weight'] = '200g'"
   ]
  },
  {
   "cell_type": "code",
   "execution_count": 26,
   "metadata": {},
   "outputs": [
    {
     "data": {
      "text/plain": [
       "36"
      ]
     },
     "execution_count": 26,
     "metadata": {},
     "output_type": "execute_result"
    }
   ],
   "source": [
    "#check again\n",
    "#df_product.loc[df_product['product_weight'].isnull()]\n",
    "len(df_product.loc[df_product['product_weight'].isnull()])"
   ]
  },
  {
   "cell_type": "code",
   "execution_count": 27,
   "metadata": {},
   "outputs": [
    {
     "data": {
      "text/html": [
       "<div>\n",
       "<style scoped>\n",
       "    .dataframe tbody tr th:only-of-type {\n",
       "        vertical-align: middle;\n",
       "    }\n",
       "\n",
       "    .dataframe tbody tr th {\n",
       "        vertical-align: top;\n",
       "    }\n",
       "\n",
       "    .dataframe thead th {\n",
       "        text-align: right;\n",
       "    }\n",
       "</style>\n",
       "<table border=\"1\" class=\"dataframe\">\n",
       "  <thead>\n",
       "    <tr style=\"text-align: right;\">\n",
       "      <th></th>\n",
       "      <th>Producto_ID</th>\n",
       "      <th>NombreProducto</th>\n",
       "      <th>product_name</th>\n",
       "      <th>product_weight</th>\n",
       "      <th>brand</th>\n",
       "    </tr>\n",
       "  </thead>\n",
       "  <tbody>\n",
       "    <tr>\n",
       "      <th>0</th>\n",
       "      <td>0</td>\n",
       "      <td>NO IDENTIFICADO 0</td>\n",
       "      <td>NaN</td>\n",
       "      <td>NaN</td>\n",
       "      <td>NaN</td>\n",
       "    </tr>\n",
       "    <tr>\n",
       "      <th>117</th>\n",
       "      <td>1289</td>\n",
       "      <td>Donas 6P Prom BIM 1289</td>\n",
       "      <td>NaN</td>\n",
       "      <td>NaN</td>\n",
       "      <td>NaN</td>\n",
       "    </tr>\n",
       "    <tr>\n",
       "      <th>162</th>\n",
       "      <td>2575</td>\n",
       "      <td>Vasos 226 8g8oz NES 2575</td>\n",
       "      <td>NaN</td>\n",
       "      <td>8g</td>\n",
       "      <td>NaN</td>\n",
       "    </tr>\n",
       "    <tr>\n",
       "      <th>190</th>\n",
       "      <td>3509</td>\n",
       "      <td>Paletina para Cafe NES 3509</td>\n",
       "      <td>NaN</td>\n",
       "      <td>NaN</td>\n",
       "      <td>NaN</td>\n",
       "    </tr>\n",
       "    <tr>\n",
       "      <th>218</th>\n",
       "      <td>4118</td>\n",
       "      <td>Tortillas Bolsa 2a 1kg 4118</td>\n",
       "      <td>Tortillas Bolsa 2a</td>\n",
       "      <td>1kg</td>\n",
       "      <td>NaN</td>\n",
       "    </tr>\n",
       "    <tr>\n",
       "      <th>381</th>\n",
       "      <td>30099</td>\n",
       "      <td>Camioncitos Bimbo BIM 30099</td>\n",
       "      <td>NaN</td>\n",
       "      <td>NaN</td>\n",
       "      <td>NaN</td>\n",
       "    </tr>\n",
       "    <tr>\n",
       "      <th>409</th>\n",
       "      <td>30280</td>\n",
       "      <td>Camioncito Bimbo Modelo 3 BIM 30280</td>\n",
       "      <td>NaN</td>\n",
       "      <td>NaN</td>\n",
       "      <td>NaN</td>\n",
       "    </tr>\n",
       "    <tr>\n",
       "      <th>528</th>\n",
       "      <td>30958</td>\n",
       "      <td>Empanzador Crujiente Prom BIM 30958</td>\n",
       "      <td>NaN</td>\n",
       "      <td>NaN</td>\n",
       "      <td>NaN</td>\n",
       "    </tr>\n",
       "    <tr>\n",
       "      <th>1044</th>\n",
       "      <td>33862</td>\n",
       "      <td>Choco Roles Fresa 3X10 Prom MLA 33862</td>\n",
       "      <td>NaN</td>\n",
       "      <td>NaN</td>\n",
       "      <td>NaN</td>\n",
       "    </tr>\n",
       "    <tr>\n",
       "      <th>1045</th>\n",
       "      <td>33863</td>\n",
       "      <td>Choco Roles Fresa 3X10 Prom MTB MLA 33863</td>\n",
       "      <td>NaN</td>\n",
       "      <td>NaN</td>\n",
       "      <td>NaN</td>\n",
       "    </tr>\n",
       "    <tr>\n",
       "      <th>1152</th>\n",
       "      <td>34646</td>\n",
       "      <td>Burrito Vaporero FrijolChorizo90gCU LON 34646</td>\n",
       "      <td>NaN</td>\n",
       "      <td>90g</td>\n",
       "      <td>NaN</td>\n",
       "    </tr>\n",
       "    <tr>\n",
       "      <th>1336</th>\n",
       "      <td>35428</td>\n",
       "      <td>DuoBarrita Fsa GalletaGansito137gMTA MLA 35428</td>\n",
       "      <td>NaN</td>\n",
       "      <td>137g</td>\n",
       "      <td>NaN</td>\n",
       "    </tr>\n",
       "    <tr>\n",
       "      <th>1389</th>\n",
       "      <td>35618</td>\n",
       "      <td>Exhibidor PDQ Bran Frut BIM 35618</td>\n",
       "      <td>NaN</td>\n",
       "      <td>NaN</td>\n",
       "      <td>NaN</td>\n",
       "    </tr>\n",
       "    <tr>\n",
       "      <th>1485</th>\n",
       "      <td>35979</td>\n",
       "      <td>Almohada del Osito Bimbo BIM 35979</td>\n",
       "      <td>NaN</td>\n",
       "      <td>NaN</td>\n",
       "      <td>NaN</td>\n",
       "    </tr>\n",
       "    <tr>\n",
       "      <th>1677</th>\n",
       "      <td>36659</td>\n",
       "      <td>Tarima Twin Pack Thins Multig CU ORO 36659</td>\n",
       "      <td>NaN</td>\n",
       "      <td>NaN</td>\n",
       "      <td>NaN</td>\n",
       "    </tr>\n",
       "    <tr>\n",
       "      <th>1688</th>\n",
       "      <td>36706</td>\n",
       "      <td>Servilletero Bimbollos BIM 36706</td>\n",
       "      <td>NaN</td>\n",
       "      <td>NaN</td>\n",
       "      <td>NaN</td>\n",
       "    </tr>\n",
       "    <tr>\n",
       "      <th>1888</th>\n",
       "      <td>37569</td>\n",
       "      <td>Deliciosas Chochochispas 204gPromMTA LAR 37569</td>\n",
       "      <td>NaN</td>\n",
       "      <td>204g</td>\n",
       "      <td>NaN</td>\n",
       "    </tr>\n",
       "    <tr>\n",
       "      <th>1889</th>\n",
       "      <td>37570</td>\n",
       "      <td>Deliciosas Chochochispas 204gProm LAR 37570</td>\n",
       "      <td>NaN</td>\n",
       "      <td>204g</td>\n",
       "      <td>NaN</td>\n",
       "    </tr>\n",
       "    <tr>\n",
       "      <th>1890</th>\n",
       "      <td>37573</td>\n",
       "      <td>Deliciosas Chochochispas 204gPromCU LAR 37573</td>\n",
       "      <td>NaN</td>\n",
       "      <td>204g</td>\n",
       "      <td>NaN</td>\n",
       "    </tr>\n",
       "    <tr>\n",
       "      <th>2449</th>\n",
       "      <td>48033</td>\n",
       "      <td>Galleta Granel Classics Chocolate GBI 48033</td>\n",
       "      <td>NaN</td>\n",
       "      <td>NaN</td>\n",
       "      <td>NaN</td>\n",
       "    </tr>\n",
       "    <tr>\n",
       "      <th>2456</th>\n",
       "      <td>48059</td>\n",
       "      <td>Paletina NEC 48059</td>\n",
       "      <td>NaN</td>\n",
       "      <td>NaN</td>\n",
       "      <td>NaN</td>\n",
       "    </tr>\n",
       "  </tbody>\n",
       "</table>\n",
       "</div>"
      ],
      "text/plain": [
       "      Producto_ID                                  NombreProducto  \\\n",
       "0               0                               NO IDENTIFICADO 0   \n",
       "117          1289                          Donas 6P Prom BIM 1289   \n",
       "162          2575                        Vasos 226 8g8oz NES 2575   \n",
       "190          3509                     Paletina para Cafe NES 3509   \n",
       "218          4118                     Tortillas Bolsa 2a 1kg 4118   \n",
       "381         30099                     Camioncitos Bimbo BIM 30099   \n",
       "409         30280             Camioncito Bimbo Modelo 3 BIM 30280   \n",
       "528         30958             Empanzador Crujiente Prom BIM 30958   \n",
       "1044        33862           Choco Roles Fresa 3X10 Prom MLA 33862   \n",
       "1045        33863       Choco Roles Fresa 3X10 Prom MTB MLA 33863   \n",
       "1152        34646   Burrito Vaporero FrijolChorizo90gCU LON 34646   \n",
       "1336        35428  DuoBarrita Fsa GalletaGansito137gMTA MLA 35428   \n",
       "1389        35618               Exhibidor PDQ Bran Frut BIM 35618   \n",
       "1485        35979              Almohada del Osito Bimbo BIM 35979   \n",
       "1677        36659      Tarima Twin Pack Thins Multig CU ORO 36659   \n",
       "1688        36706                Servilletero Bimbollos BIM 36706   \n",
       "1888        37569  Deliciosas Chochochispas 204gPromMTA LAR 37569   \n",
       "1889        37570     Deliciosas Chochochispas 204gProm LAR 37570   \n",
       "1890        37573   Deliciosas Chochochispas 204gPromCU LAR 37573   \n",
       "2449        48033     Galleta Granel Classics Chocolate GBI 48033   \n",
       "2456        48059                              Paletina NEC 48059   \n",
       "\n",
       "            product_name product_weight brand  \n",
       "0                    NaN            NaN   NaN  \n",
       "117                  NaN            NaN   NaN  \n",
       "162                  NaN             8g   NaN  \n",
       "190                  NaN            NaN   NaN  \n",
       "218   Tortillas Bolsa 2a           1kg    NaN  \n",
       "381                  NaN            NaN   NaN  \n",
       "409                  NaN            NaN   NaN  \n",
       "528                  NaN            NaN   NaN  \n",
       "1044                 NaN            NaN   NaN  \n",
       "1045                 NaN            NaN   NaN  \n",
       "1152                 NaN            90g   NaN  \n",
       "1336                 NaN           137g   NaN  \n",
       "1389                 NaN            NaN   NaN  \n",
       "1485                 NaN            NaN   NaN  \n",
       "1677                 NaN            NaN   NaN  \n",
       "1688                 NaN            NaN   NaN  \n",
       "1888                 NaN           204g   NaN  \n",
       "1889                 NaN           204g   NaN  \n",
       "1890                 NaN           204g   NaN  \n",
       "2449                 NaN            NaN   NaN  \n",
       "2456                 NaN            NaN   NaN  "
      ]
     },
     "execution_count": 27,
     "metadata": {},
     "output_type": "execute_result"
    }
   ],
   "source": [
    "# check which rows have null brand\n",
    "df_product.loc[df_product['brand'].isnull()]"
   ]
  },
  {
   "cell_type": "code",
   "execution_count": 28,
   "metadata": {},
   "outputs": [],
   "source": [
    "# do second extraction of brand \n",
    "# & drop any with numbers in the brand or no brand after this\n",
    "brand_nan_ix = df_product[df_product['brand'].isnull()==True].index\n",
    "for i in brand_nan_ix:\n",
    "    name = df_product.loc[i,'NombreProducto']\n",
    "    brand_name = name.split(\" \")[-2]\n",
    "    if brand_name.isalpha() == True:\n",
    "            df_product.loc[i,'brand'] = brand_name"
   ]
  },
  {
   "cell_type": "code",
   "execution_count": 29,
   "metadata": {},
   "outputs": [
    {
     "data": {
      "text/html": [
       "<div>\n",
       "<style scoped>\n",
       "    .dataframe tbody tr th:only-of-type {\n",
       "        vertical-align: middle;\n",
       "    }\n",
       "\n",
       "    .dataframe tbody tr th {\n",
       "        vertical-align: top;\n",
       "    }\n",
       "\n",
       "    .dataframe thead th {\n",
       "        text-align: right;\n",
       "    }\n",
       "</style>\n",
       "<table border=\"1\" class=\"dataframe\">\n",
       "  <thead>\n",
       "    <tr style=\"text-align: right;\">\n",
       "      <th></th>\n",
       "      <th>Producto_ID</th>\n",
       "      <th>NombreProducto</th>\n",
       "      <th>product_name</th>\n",
       "      <th>product_weight</th>\n",
       "      <th>brand</th>\n",
       "    </tr>\n",
       "  </thead>\n",
       "  <tbody>\n",
       "    <tr>\n",
       "      <th>218</th>\n",
       "      <td>4118</td>\n",
       "      <td>Tortillas Bolsa 2a 1kg 4118</td>\n",
       "      <td>Tortillas Bolsa 2a</td>\n",
       "      <td>1kg</td>\n",
       "      <td>NaN</td>\n",
       "    </tr>\n",
       "  </tbody>\n",
       "</table>\n",
       "</div>"
      ],
      "text/plain": [
       "     Producto_ID               NombreProducto        product_name  \\\n",
       "218         4118  Tortillas Bolsa 2a 1kg 4118  Tortillas Bolsa 2a   \n",
       "\n",
       "    product_weight brand  \n",
       "218           1kg    NaN  "
      ]
     },
     "execution_count": 29,
     "metadata": {},
     "output_type": "execute_result"
    }
   ],
   "source": [
    "# only one product does not have brand\n",
    "df_product.loc[df_product['brand'].isnull()]"
   ]
  },
  {
   "cell_type": "code",
   "execution_count": 30,
   "metadata": {},
   "outputs": [],
   "source": [
    "# drop product with no brand\n",
    "df_product = df_product.drop([218], axis = 0)"
   ]
  },
  {
   "cell_type": "code",
   "execution_count": 31,
   "metadata": {},
   "outputs": [],
   "source": [
    "# change all brands with fewer than 9 counts in product table to \"Other\"\n",
    "#df_product['brand'].value_counts()\n",
    "drop_ix = df_product['brand'].value_counts().loc[lambda x: x<10].index\n",
    "df_product.loc[df_product['brand'].isin(drop_ix), 'brand'] = 'Other'"
   ]
  },
  {
   "cell_type": "code",
   "execution_count": 32,
   "metadata": {},
   "outputs": [
    {
     "data": {
      "text/html": [
       "<div>\n",
       "<style scoped>\n",
       "    .dataframe tbody tr th:only-of-type {\n",
       "        vertical-align: middle;\n",
       "    }\n",
       "\n",
       "    .dataframe tbody tr th {\n",
       "        vertical-align: top;\n",
       "    }\n",
       "\n",
       "    .dataframe thead th {\n",
       "        text-align: right;\n",
       "    }\n",
       "</style>\n",
       "<table border=\"1\" class=\"dataframe\">\n",
       "  <thead>\n",
       "    <tr style=\"text-align: right;\">\n",
       "      <th></th>\n",
       "      <th>Producto_ID</th>\n",
       "      <th>NombreProducto</th>\n",
       "      <th>product_name</th>\n",
       "      <th>product_weight</th>\n",
       "      <th>brand</th>\n",
       "    </tr>\n",
       "  </thead>\n",
       "  <tbody>\n",
       "    <tr>\n",
       "      <th>0</th>\n",
       "      <td>0</td>\n",
       "      <td>NO IDENTIFICADO 0</td>\n",
       "      <td>NaN</td>\n",
       "      <td>NaN</td>\n",
       "      <td>Other</td>\n",
       "    </tr>\n",
       "    <tr>\n",
       "      <th>1</th>\n",
       "      <td>9</td>\n",
       "      <td>Capuccino Moka 750g NES 9</td>\n",
       "      <td>Capuccino Moka</td>\n",
       "      <td>750g</td>\n",
       "      <td>Other</td>\n",
       "    </tr>\n",
       "    <tr>\n",
       "      <th>2</th>\n",
       "      <td>41</td>\n",
       "      <td>Bimbollos Ext sAjonjoli 6p 480g BIM 41</td>\n",
       "      <td>Bimbollos Ext sAjonjoli</td>\n",
       "      <td>480g</td>\n",
       "      <td>BIM</td>\n",
       "    </tr>\n",
       "    <tr>\n",
       "      <th>3</th>\n",
       "      <td>53</td>\n",
       "      <td>Burritos Sincro 170g CU LON 53</td>\n",
       "      <td>Burritos Sincro</td>\n",
       "      <td>170g</td>\n",
       "      <td>CU LON</td>\n",
       "    </tr>\n",
       "    <tr>\n",
       "      <th>4</th>\n",
       "      <td>72</td>\n",
       "      <td>Div Tira Mini Doradita 4p 45g TR 72</td>\n",
       "      <td>Div Tira Mini Doradita</td>\n",
       "      <td>45g</td>\n",
       "      <td>TR</td>\n",
       "    </tr>\n",
       "  </tbody>\n",
       "</table>\n",
       "</div>"
      ],
      "text/plain": [
       "   Producto_ID                          NombreProducto  \\\n",
       "0            0                       NO IDENTIFICADO 0   \n",
       "1            9               Capuccino Moka 750g NES 9   \n",
       "2           41  Bimbollos Ext sAjonjoli 6p 480g BIM 41   \n",
       "3           53          Burritos Sincro 170g CU LON 53   \n",
       "4           72     Div Tira Mini Doradita 4p 45g TR 72   \n",
       "\n",
       "              product_name product_weight   brand  \n",
       "0                      NaN            NaN   Other  \n",
       "1           Capuccino Moka          750g    Other  \n",
       "2  Bimbollos Ext sAjonjoli          480g      BIM  \n",
       "3          Burritos Sincro          170g   CU LON  \n",
       "4   Div Tira Mini Doradita           45g       TR  "
      ]
     },
     "execution_count": 32,
     "metadata": {},
     "output_type": "execute_result"
    }
   ],
   "source": [
    "df_product.head()"
   ]
  },
  {
   "cell_type": "code",
   "execution_count": 33,
   "metadata": {},
   "outputs": [
    {
     "data": {
      "text/html": [
       "<div>\n",
       "<style scoped>\n",
       "    .dataframe tbody tr th:only-of-type {\n",
       "        vertical-align: middle;\n",
       "    }\n",
       "\n",
       "    .dataframe tbody tr th {\n",
       "        vertical-align: top;\n",
       "    }\n",
       "\n",
       "    .dataframe thead th {\n",
       "        text-align: right;\n",
       "    }\n",
       "</style>\n",
       "<table border=\"1\" class=\"dataframe\">\n",
       "  <thead>\n",
       "    <tr style=\"text-align: right;\">\n",
       "      <th></th>\n",
       "      <th>Producto_ID</th>\n",
       "      <th>NombreProducto</th>\n",
       "      <th>product_name</th>\n",
       "      <th>product_weight</th>\n",
       "      <th>brand</th>\n",
       "    </tr>\n",
       "  </thead>\n",
       "  <tbody>\n",
       "    <tr>\n",
       "      <th>0</th>\n",
       "      <td>0</td>\n",
       "      <td>NO IDENTIFICADO 0</td>\n",
       "      <td>NAN</td>\n",
       "      <td>NaN</td>\n",
       "      <td>Other</td>\n",
       "    </tr>\n",
       "    <tr>\n",
       "      <th>1</th>\n",
       "      <td>9</td>\n",
       "      <td>Capuccino Moka 750g NES 9</td>\n",
       "      <td>CAPUCCINO MOKA</td>\n",
       "      <td>750g</td>\n",
       "      <td>Other</td>\n",
       "    </tr>\n",
       "    <tr>\n",
       "      <th>2</th>\n",
       "      <td>41</td>\n",
       "      <td>Bimbollos Ext sAjonjoli 6p 480g BIM 41</td>\n",
       "      <td>BIMBOLLOS EXT SAJONJOLI</td>\n",
       "      <td>480g</td>\n",
       "      <td>BIM</td>\n",
       "    </tr>\n",
       "    <tr>\n",
       "      <th>3</th>\n",
       "      <td>53</td>\n",
       "      <td>Burritos Sincro 170g CU LON 53</td>\n",
       "      <td>BURRITOS SINCRO</td>\n",
       "      <td>170g</td>\n",
       "      <td>CU LON</td>\n",
       "    </tr>\n",
       "    <tr>\n",
       "      <th>4</th>\n",
       "      <td>72</td>\n",
       "      <td>Div Tira Mini Doradita 4p 45g TR 72</td>\n",
       "      <td>DIV TIRA MINI DORADITA</td>\n",
       "      <td>45g</td>\n",
       "      <td>TR</td>\n",
       "    </tr>\n",
       "  </tbody>\n",
       "</table>\n",
       "</div>"
      ],
      "text/plain": [
       "   Producto_ID                          NombreProducto  \\\n",
       "0            0                       NO IDENTIFICADO 0   \n",
       "1            9               Capuccino Moka 750g NES 9   \n",
       "2           41  Bimbollos Ext sAjonjoli 6p 480g BIM 41   \n",
       "3           53          Burritos Sincro 170g CU LON 53   \n",
       "4           72     Div Tira Mini Doradita 4p 45g TR 72   \n",
       "\n",
       "              product_name product_weight   brand  \n",
       "0                      NAN            NaN   Other  \n",
       "1           CAPUCCINO MOKA          750g    Other  \n",
       "2  BIMBOLLOS EXT SAJONJOLI          480g      BIM  \n",
       "3          BURRITOS SINCRO          170g   CU LON  \n",
       "4   DIV TIRA MINI DORADITA           45g       TR  "
      ]
     },
     "execution_count": 33,
     "metadata": {},
     "output_type": "execute_result"
    }
   ],
   "source": [
    "# change all product names to uppercase\n",
    "df_product['product_name'] = df_product['product_name'].astype('str')\n",
    "df_product['product_name'] = [x.upper() for x in df_product['product_name']]\n",
    "df_product.head()"
   ]
  },
  {
   "cell_type": "code",
   "execution_count": 34,
   "metadata": {},
   "outputs": [],
   "source": [
    "# get categories of products from product names\n",
    "# df_product['product_name'].value_counts()"
   ]
  },
  {
   "cell_type": "code",
   "execution_count": 35,
   "metadata": {},
   "outputs": [],
   "source": [
    "# categorize product names by type using specific terms\n",
    "# there will be overlaps in the categories since we can't sort the names one by one\n",
    "\n",
    "def categorize_product(df):\n",
    "    \n",
    "    # cookie\n",
    "    df['product_name'] = df['product_name'].replace(['.*DELICIOSA.*', '.*CANELITA.*', '.*SUAVICREMA.*',\\\n",
    "                                                     '.*CHOCOCHISPA.*', '.*BARRITA.*', '.*PLATIVOLO.*',\\\n",
    "                                                     '.*GALLETA.*', '.*TARTINA.*', '.*TRIKI.*', '.*PRINCIPE.*',\\\n",
    "                                                     '.*LORS.*', '.*POLVORON.*', '.*PASTISETA.*', '.*MARIAS.*',\\\n",
    "                                                     '.*SPONCH.*', '.*BESOS.*', '.*MAGNAS.*', '.*SURTIDO.*',\\\n",
    "                                                     '.*BOMBONETE.*', '.*DECANELA.*', '.*BISQUET.*', '.*COOKIE.*',\\\n",
    "                                                     '.*SURTIDO.*'], 'Cookies', regex=True)\n",
    "    # loaf bread\n",
    "    df['product_name'] = df['product_name'].replace(['.*PAN.*', '.*SILUETA.*', '.*WONDER.*', '.*DUTCH.*',\\\n",
    "                                                      '.*BREAD.*'], 'Loaf Bread', regex=True)\n",
    "    # bun\n",
    "    df['product_name'] = df['product_name'].replace(['.*MEDIAS NOCHES.*', '.*BIMBOLLO.*', '.*HOT DOG.*', '.*BOLLO.*',\\\n",
    "                                                     '.*COLCHONE.*', '.*SEMITA.*', '.*BUN.*', '.*TORTILLINA.*',\\\n",
    "                                                     '.*TORTILLA.*'], 'Buns', regex=True)\n",
    "    # cracker\n",
    "    df['product_name'] = df['product_name'].replace(['.*CANAPINA.*', '.*SALMA.*', '.*DORADITA.*', '.*BIMBUNUELO.*',\\\n",
    "                                                     '.*ANIMALITOS.*', '.*THINS.*', '.*PALITRIGOS.*', '.*CRACKER.*'], \n",
    "                                                    'Crackers', regex=True)\n",
    "    # chips\n",
    "    df['product_name'] = df['product_name'].replace(['.*TOSTAD.*', '.*TOTOPO.*', '.*NACHO.*', '.*CHIP.*', '.*CHURRITO.*',\\\n",
    "                                                     '.*RUNNERS.*'], 'Chips', regex=True)\n",
    "    \n",
    "    # Cake\n",
    "    df['product_name'] = df['product_name'].replace(['.*ROLES.*', '.*NITO.*', '.*PINGUI.*', '.*GANSITO.*', '.*DALMATA.*',\\\n",
    "                                                     '.*CHOCOTORRO.*', '.*SUBMARINOS.*', '.*PANQUE.*', '.*NAPOLITANO.*',\\\n",
    "                                                     '.*ROCKO.*', '.*TUINKY.*', '.*PIPUCHO.*', '.*TWINKIE.*','.*NEGRITO.*',\\\n",
    "                                                     '.*RAZTACHOC.*', '.*PACHONCITOS.*', '.*BIMBOLUNCH.*', '.*NAPI.*',\\\n",
    "                                                     '.*CHOCOROL.*', '.*CAKE.*'], 'Cakes', regex=True)\n",
    "        \n",
    "    # Pastry\n",
    "    df['product_name'] = df['product_name'].replace(['.*CONCHAS.*', '.*BIGOTE.*', '.*CUERNITO.*','.*MADALENA.*','.*OREJITA.*',\\\n",
    "                                                     '.*EMPANADITA.*', '.*REBANADA.*', '.*DONA.*', '.*DONITA.*', '.*DONUT.*',\\\n",
    "                                                     '.*MANTECADA.*', '.*MUFFIN.*'], 'Pastry', regex=True)\n",
    "    \n",
    "    # Bars\n",
    "    df['product_name'] = df['product_name'].replace(['.*BRAN FRUT.*', '.*BARRA.*','.*BARRI.*', '.*BAR.*'], \n",
    "                                                    'Bars', regex=True)\n",
    "    \n",
    "    # Savory\n",
    "    df['product_name'] = df['product_name'].replace(['.*SALADA.*', '.*SANDWICH.*' ,'.*BIMKINGO.*', '.*LONCHIBON.*',\\\n",
    "                                                     '.*BURRITO.*', '.*FIGATZA.*'], 'Savory', regex=True)\n",
    "    \n",
    "    # Drinks\n",
    "    df['product_name'] = df['product_name'].replace(['.*COCA.*', '.*NECTAR.*', '.*SPRITE.*', '.*FANTA.*', '.*AGUA.*',\\\n",
    "                                                     '.*LATA.*', '.*SIDRAL.*', '.*YERBABUENA.*', '.*BOTELLA.*'], \n",
    "                                                    'Drink', regex=True)    "
   ]
  },
  {
   "cell_type": "code",
   "execution_count": 36,
   "metadata": {},
   "outputs": [],
   "source": [
    "# remaining products categorized as Other\n",
    "def other_products(df):\n",
    "    def indiv_other(data):\n",
    "        # check for uppercase = non-categorized products\n",
    "        if (data.isupper()) and (data != \"NO IDENTIFICADO\"): \n",
    "            return 'Other'\n",
    "        else:\n",
    "            return data\n",
    "    df['product_name'] = df['product_name'].map(indiv_other)"
   ]
  },
  {
   "cell_type": "code",
   "execution_count": 37,
   "metadata": {},
   "outputs": [],
   "source": [
    "# run functions\n",
    "categorize_product(df_product)"
   ]
  },
  {
   "cell_type": "code",
   "execution_count": 38,
   "metadata": {},
   "outputs": [],
   "source": [
    "other_products(df_product)"
   ]
  },
  {
   "cell_type": "code",
   "execution_count": 39,
   "metadata": {},
   "outputs": [
    {
     "data": {
      "text/plain": [
       "Cookies       742\n",
       "Loaf Bread    315\n",
       "Buns          312\n",
       "Cakes         287\n",
       "Other         280\n",
       "Pastry        160\n",
       "Chips         156\n",
       "Bars          104\n",
       "Crackers       93\n",
       "Savory         74\n",
       "Drink          68\n",
       "Name: product_name, dtype: int64"
      ]
     },
     "execution_count": 39,
     "metadata": {},
     "output_type": "execute_result"
    }
   ],
   "source": [
    "# check categorization\n",
    "df_product['product_name'].value_counts()"
   ]
  },
  {
   "cell_type": "code",
   "execution_count": 40,
   "metadata": {},
   "outputs": [],
   "source": [
    "# get rid of unit in the weights and adjust all units to g\n",
    "import re\n",
    "product_weight_adjust = []\n",
    "for i in df_product[\"product_weight\"].values:\n",
    "    if type(i) != float:\n",
    "        i = i.lower()\n",
    "        if 'kg' in i:\n",
    "            num = int(re.sub(\"[^\\d\\.]\", \"\", i))*1000\n",
    "        else:\n",
    "            num = int(re.sub(\"[^\\d\\.]\", \"\", i))\n",
    "    else:\n",
    "        num = None\n",
    "    product_weight_adjust.append(num)\n",
    "df_product['product_weight'] = product_weight_adjust"
   ]
  },
  {
   "cell_type": "code",
   "execution_count": 41,
   "metadata": {},
   "outputs": [
    {
     "data": {
      "text/html": [
       "<div>\n",
       "<style scoped>\n",
       "    .dataframe tbody tr th:only-of-type {\n",
       "        vertical-align: middle;\n",
       "    }\n",
       "\n",
       "    .dataframe tbody tr th {\n",
       "        vertical-align: top;\n",
       "    }\n",
       "\n",
       "    .dataframe thead th {\n",
       "        text-align: right;\n",
       "    }\n",
       "</style>\n",
       "<table border=\"1\" class=\"dataframe\">\n",
       "  <thead>\n",
       "    <tr style=\"text-align: right;\">\n",
       "      <th></th>\n",
       "      <th>Producto_ID</th>\n",
       "      <th>NombreProducto</th>\n",
       "      <th>product_name</th>\n",
       "      <th>product_weight</th>\n",
       "      <th>brand</th>\n",
       "    </tr>\n",
       "  </thead>\n",
       "  <tbody>\n",
       "    <tr>\n",
       "      <th>0</th>\n",
       "      <td>0</td>\n",
       "      <td>NO IDENTIFICADO 0</td>\n",
       "      <td>Other</td>\n",
       "      <td>NaN</td>\n",
       "      <td>Other</td>\n",
       "    </tr>\n",
       "    <tr>\n",
       "      <th>1</th>\n",
       "      <td>9</td>\n",
       "      <td>Capuccino Moka 750g NES 9</td>\n",
       "      <td>Other</td>\n",
       "      <td>750.0</td>\n",
       "      <td>Other</td>\n",
       "    </tr>\n",
       "    <tr>\n",
       "      <th>2</th>\n",
       "      <td>41</td>\n",
       "      <td>Bimbollos Ext sAjonjoli 6p 480g BIM 41</td>\n",
       "      <td>Buns</td>\n",
       "      <td>480.0</td>\n",
       "      <td>BIM</td>\n",
       "    </tr>\n",
       "    <tr>\n",
       "      <th>3</th>\n",
       "      <td>53</td>\n",
       "      <td>Burritos Sincro 170g CU LON 53</td>\n",
       "      <td>Savory</td>\n",
       "      <td>170.0</td>\n",
       "      <td>CU LON</td>\n",
       "    </tr>\n",
       "    <tr>\n",
       "      <th>4</th>\n",
       "      <td>72</td>\n",
       "      <td>Div Tira Mini Doradita 4p 45g TR 72</td>\n",
       "      <td>Crackers</td>\n",
       "      <td>45.0</td>\n",
       "      <td>TR</td>\n",
       "    </tr>\n",
       "  </tbody>\n",
       "</table>\n",
       "</div>"
      ],
      "text/plain": [
       "   Producto_ID                          NombreProducto product_name  \\\n",
       "0            0                       NO IDENTIFICADO 0        Other   \n",
       "1            9               Capuccino Moka 750g NES 9        Other   \n",
       "2           41  Bimbollos Ext sAjonjoli 6p 480g BIM 41         Buns   \n",
       "3           53          Burritos Sincro 170g CU LON 53       Savory   \n",
       "4           72     Div Tira Mini Doradita 4p 45g TR 72     Crackers   \n",
       "\n",
       "   product_weight   brand  \n",
       "0             NaN   Other  \n",
       "1           750.0   Other  \n",
       "2           480.0     BIM  \n",
       "3           170.0  CU LON  \n",
       "4            45.0      TR  "
      ]
     },
     "execution_count": 41,
     "metadata": {},
     "output_type": "execute_result"
    }
   ],
   "source": [
    "df_product.head()"
   ]
  },
  {
   "cell_type": "code",
   "execution_count": 42,
   "metadata": {},
   "outputs": [
    {
     "data": {
      "text/html": [
       "<div>\n",
       "<style scoped>\n",
       "    .dataframe tbody tr th:only-of-type {\n",
       "        vertical-align: middle;\n",
       "    }\n",
       "\n",
       "    .dataframe tbody tr th {\n",
       "        vertical-align: top;\n",
       "    }\n",
       "\n",
       "    .dataframe thead th {\n",
       "        text-align: right;\n",
       "    }\n",
       "</style>\n",
       "<table border=\"1\" class=\"dataframe\">\n",
       "  <thead>\n",
       "    <tr style=\"text-align: right;\">\n",
       "      <th></th>\n",
       "      <th>Producto_ID</th>\n",
       "      <th>product_name</th>\n",
       "      <th>product_weight</th>\n",
       "      <th>brand</th>\n",
       "    </tr>\n",
       "  </thead>\n",
       "  <tbody>\n",
       "    <tr>\n",
       "      <th>0</th>\n",
       "      <td>0</td>\n",
       "      <td>Other</td>\n",
       "      <td>NaN</td>\n",
       "      <td>Other</td>\n",
       "    </tr>\n",
       "    <tr>\n",
       "      <th>1</th>\n",
       "      <td>9</td>\n",
       "      <td>Other</td>\n",
       "      <td>750.0</td>\n",
       "      <td>Other</td>\n",
       "    </tr>\n",
       "    <tr>\n",
       "      <th>2</th>\n",
       "      <td>41</td>\n",
       "      <td>Buns</td>\n",
       "      <td>480.0</td>\n",
       "      <td>BIM</td>\n",
       "    </tr>\n",
       "    <tr>\n",
       "      <th>3</th>\n",
       "      <td>53</td>\n",
       "      <td>Savory</td>\n",
       "      <td>170.0</td>\n",
       "      <td>CU LON</td>\n",
       "    </tr>\n",
       "    <tr>\n",
       "      <th>4</th>\n",
       "      <td>72</td>\n",
       "      <td>Crackers</td>\n",
       "      <td>45.0</td>\n",
       "      <td>TR</td>\n",
       "    </tr>\n",
       "  </tbody>\n",
       "</table>\n",
       "</div>"
      ],
      "text/plain": [
       "   Producto_ID product_name  product_weight   brand\n",
       "0            0        Other             NaN   Other\n",
       "1            9        Other           750.0   Other\n",
       "2           41         Buns           480.0     BIM\n",
       "3           53       Savory           170.0  CU LON\n",
       "4           72     Crackers            45.0      TR"
      ]
     },
     "execution_count": 42,
     "metadata": {},
     "output_type": "execute_result"
    }
   ],
   "source": [
    "# drop full product name column\n",
    "df_product.drop(columns='NombreProducto', inplace=True)\n",
    "df_product.head()"
   ]
  },
  {
   "cell_type": "code",
   "execution_count": 43,
   "metadata": {},
   "outputs": [
    {
     "data": {
      "text/html": [
       "<div>\n",
       "<style scoped>\n",
       "    .dataframe tbody tr th:only-of-type {\n",
       "        vertical-align: middle;\n",
       "    }\n",
       "\n",
       "    .dataframe tbody tr th {\n",
       "        vertical-align: top;\n",
       "    }\n",
       "\n",
       "    .dataframe thead th {\n",
       "        text-align: right;\n",
       "    }\n",
       "</style>\n",
       "<table border=\"1\" class=\"dataframe\">\n",
       "  <thead>\n",
       "    <tr style=\"text-align: right;\">\n",
       "      <th></th>\n",
       "      <th>Producto_ID</th>\n",
       "      <th>product_type</th>\n",
       "      <th>product_weight</th>\n",
       "      <th>brand</th>\n",
       "    </tr>\n",
       "  </thead>\n",
       "  <tbody>\n",
       "    <tr>\n",
       "      <th>0</th>\n",
       "      <td>0</td>\n",
       "      <td>Other</td>\n",
       "      <td>NaN</td>\n",
       "      <td>Other</td>\n",
       "    </tr>\n",
       "    <tr>\n",
       "      <th>1</th>\n",
       "      <td>9</td>\n",
       "      <td>Other</td>\n",
       "      <td>750.0</td>\n",
       "      <td>Other</td>\n",
       "    </tr>\n",
       "    <tr>\n",
       "      <th>2</th>\n",
       "      <td>41</td>\n",
       "      <td>Buns</td>\n",
       "      <td>480.0</td>\n",
       "      <td>BIM</td>\n",
       "    </tr>\n",
       "    <tr>\n",
       "      <th>3</th>\n",
       "      <td>53</td>\n",
       "      <td>Savory</td>\n",
       "      <td>170.0</td>\n",
       "      <td>CU LON</td>\n",
       "    </tr>\n",
       "    <tr>\n",
       "      <th>4</th>\n",
       "      <td>72</td>\n",
       "      <td>Crackers</td>\n",
       "      <td>45.0</td>\n",
       "      <td>TR</td>\n",
       "    </tr>\n",
       "  </tbody>\n",
       "</table>\n",
       "</div>"
      ],
      "text/plain": [
       "   Producto_ID product_type  product_weight   brand\n",
       "0            0        Other             NaN   Other\n",
       "1            9        Other           750.0   Other\n",
       "2           41         Buns           480.0     BIM\n",
       "3           53       Savory           170.0  CU LON\n",
       "4           72     Crackers            45.0      TR"
      ]
     },
     "execution_count": 43,
     "metadata": {},
     "output_type": "execute_result"
    }
   ],
   "source": [
    "# rename product name -> type\n",
    "df_product.rename(columns={'product_name':'product_type'}, inplace=True)\n",
    "df_product.head()"
   ]
  },
  {
   "cell_type": "code",
   "execution_count": 44,
   "metadata": {},
   "outputs": [],
   "source": [
    "# save as new csv\n",
    "# df_product_final.to_csv('/Users/bobolin/Desktop/Adv_DS_climate/project/out.csv', encoding='utf-8')\n",
    "# df_product.to_csv('../project/data/final_product.csv', encoding='utf-8')"
   ]
  },
  {
   "cell_type": "code",
   "execution_count": 45,
   "metadata": {},
   "outputs": [],
   "source": [
    "del drop_ix\n",
    "del product_weight_adjust"
   ]
  },
  {
   "cell_type": "markdown",
   "metadata": {},
   "source": [
    "## Town/State Data Process"
   ]
  },
  {
   "cell_type": "code",
   "execution_count": 46,
   "metadata": {},
   "outputs": [
    {
     "data": {
      "text/html": [
       "<div>\n",
       "<style scoped>\n",
       "    .dataframe tbody tr th:only-of-type {\n",
       "        vertical-align: middle;\n",
       "    }\n",
       "\n",
       "    .dataframe tbody tr th {\n",
       "        vertical-align: top;\n",
       "    }\n",
       "\n",
       "    .dataframe thead th {\n",
       "        text-align: right;\n",
       "    }\n",
       "</style>\n",
       "<table border=\"1\" class=\"dataframe\">\n",
       "  <thead>\n",
       "    <tr style=\"text-align: right;\">\n",
       "      <th></th>\n",
       "      <th>Agencia_ID</th>\n",
       "      <th>State</th>\n",
       "    </tr>\n",
       "  </thead>\n",
       "  <tbody>\n",
       "    <tr>\n",
       "      <th>0</th>\n",
       "      <td>1110</td>\n",
       "      <td>MÉXICO, D.F.</td>\n",
       "    </tr>\n",
       "    <tr>\n",
       "      <th>1</th>\n",
       "      <td>1111</td>\n",
       "      <td>MÉXICO, D.F.</td>\n",
       "    </tr>\n",
       "    <tr>\n",
       "      <th>2</th>\n",
       "      <td>1112</td>\n",
       "      <td>ESTADO DE MÉXICO</td>\n",
       "    </tr>\n",
       "    <tr>\n",
       "      <th>3</th>\n",
       "      <td>1113</td>\n",
       "      <td>MÉXICO, D.F.</td>\n",
       "    </tr>\n",
       "    <tr>\n",
       "      <th>4</th>\n",
       "      <td>1114</td>\n",
       "      <td>MÉXICO, D.F.</td>\n",
       "    </tr>\n",
       "  </tbody>\n",
       "</table>\n",
       "</div>"
      ],
      "text/plain": [
       "   Agencia_ID             State\n",
       "0        1110      MÉXICO, D.F.\n",
       "1        1111      MÉXICO, D.F.\n",
       "2        1112  ESTADO DE MÉXICO\n",
       "3        1113      MÉXICO, D.F.\n",
       "4        1114      MÉXICO, D.F."
      ]
     },
     "execution_count": 46,
     "metadata": {},
     "output_type": "execute_result"
    }
   ],
   "source": [
    "# import town/state data, drop towns\n",
    "df_town = pd.read_csv('../project/data/town_state.csv')\n",
    "df_town.drop(columns='Town', inplace=True)\n",
    "df_town.head()"
   ]
  },
  {
   "cell_type": "code",
   "execution_count": 47,
   "metadata": {},
   "outputs": [
    {
     "data": {
      "text/plain": [
       "33"
      ]
     },
     "execution_count": 47,
     "metadata": {},
     "output_type": "execute_result"
    }
   ],
   "source": [
    "len(df_town['State'].unique())"
   ]
  },
  {
   "cell_type": "markdown",
   "metadata": {},
   "source": [
    "## Sample/Downsize Data and Join All Tables"
   ]
  },
  {
   "cell_type": "code",
   "execution_count": 52,
   "metadata": {},
   "outputs": [],
   "source": [
    "df_client = pd.read_csv('../project/data/final_client.csv', \n",
    "                        usecols=['Cliente_ID', 'client_type'])\n",
    "\n",
    "df_product = pd.read_csv('../project/data/final_product.csv',\n",
    "                        usecols=['Producto_ID', 'product_type', 'product_weight', 'brand'])\n"
   ]
  },
  {
   "cell_type": "code",
   "execution_count": 53,
   "metadata": {},
   "outputs": [
    {
     "data": {
      "text/plain": [
       "(935362, 2)"
      ]
     },
     "execution_count": 53,
     "metadata": {},
     "output_type": "execute_result"
    }
   ],
   "source": [
    "df_client.shape"
   ]
  },
  {
   "cell_type": "code",
   "execution_count": 54,
   "metadata": {},
   "outputs": [
    {
     "data": {
      "text/plain": [
       "(653692, 2)"
      ]
     },
     "execution_count": 54,
     "metadata": {},
     "output_type": "execute_result"
    }
   ],
   "source": [
    "# remove no id clients to reduce data size\n",
    "no_id_ix = df_client.loc[df_client['client_type']=='NO IDENTIFICADO'].index\n",
    "df_client.drop(index=no_id_ix, inplace=True)\n",
    "df_client.shape"
   ]
  },
  {
   "cell_type": "code",
   "execution_count": 55,
   "metadata": {},
   "outputs": [
    {
     "data": {
      "text/plain": [
       "(74180464, 6)"
      ]
     },
     "execution_count": 55,
     "metadata": {},
     "output_type": "execute_result"
    }
   ],
   "source": [
    "df_train.shape"
   ]
  },
  {
   "cell_type": "code",
   "execution_count": 56,
   "metadata": {},
   "outputs": [],
   "source": [
    "# joins with training data\n",
    "\n",
    "# join the town data\n",
    "df_train = df_train.merge(df_town, left_on = 'Agencia_ID', right_on = 'Agencia_ID', how = 'inner')\n",
    "\n",
    "# join the client table\n",
    "df_train = df_train.merge(df_client, left_on = 'Cliente_ID', right_on = 'Cliente_ID', how ='inner')\n",
    "\n",
    "# join the product table\n",
    "df_train = df_train.merge(df_product, left_on = 'Producto_ID', right_on = 'Producto_ID', how ='inner')\n"
   ]
  },
  {
   "cell_type": "code",
   "execution_count": 57,
   "metadata": {},
   "outputs": [
    {
     "data": {
      "text/plain": [
       "(61519517, 11)"
      ]
     },
     "execution_count": 57,
     "metadata": {},
     "output_type": "execute_result"
    }
   ],
   "source": [
    "df_train.shape"
   ]
  },
  {
   "cell_type": "code",
   "execution_count": 58,
   "metadata": {},
   "outputs": [
    {
     "data": {
      "text/html": [
       "<div>\n",
       "<style scoped>\n",
       "    .dataframe tbody tr th:only-of-type {\n",
       "        vertical-align: middle;\n",
       "    }\n",
       "\n",
       "    .dataframe tbody tr th {\n",
       "        vertical-align: top;\n",
       "    }\n",
       "\n",
       "    .dataframe thead th {\n",
       "        text-align: right;\n",
       "    }\n",
       "</style>\n",
       "<table border=\"1\" class=\"dataframe\">\n",
       "  <thead>\n",
       "    <tr style=\"text-align: right;\">\n",
       "      <th></th>\n",
       "      <th>Agencia_ID</th>\n",
       "      <th>Cliente_ID</th>\n",
       "      <th>Producto_ID</th>\n",
       "      <th>Venta_uni_hoy</th>\n",
       "      <th>Venta_hoy</th>\n",
       "      <th>Demanda_uni_equil</th>\n",
       "      <th>State</th>\n",
       "      <th>client_type</th>\n",
       "      <th>product_type</th>\n",
       "      <th>product_weight</th>\n",
       "      <th>brand</th>\n",
       "    </tr>\n",
       "  </thead>\n",
       "  <tbody>\n",
       "    <tr>\n",
       "      <th>0</th>\n",
       "      <td>1110</td>\n",
       "      <td>15766</td>\n",
       "      <td>1212</td>\n",
       "      <td>3</td>\n",
       "      <td>25.14</td>\n",
       "      <td>3</td>\n",
       "      <td>MÉXICO, D.F.</td>\n",
       "      <td>Post</td>\n",
       "      <td>Cakes</td>\n",
       "      <td>120.0</td>\n",
       "      <td>BIM</td>\n",
       "    </tr>\n",
       "    <tr>\n",
       "      <th>1</th>\n",
       "      <td>1110</td>\n",
       "      <td>15766</td>\n",
       "      <td>1212</td>\n",
       "      <td>4</td>\n",
       "      <td>33.52</td>\n",
       "      <td>4</td>\n",
       "      <td>MÉXICO, D.F.</td>\n",
       "      <td>Post</td>\n",
       "      <td>Cakes</td>\n",
       "      <td>120.0</td>\n",
       "      <td>BIM</td>\n",
       "    </tr>\n",
       "    <tr>\n",
       "      <th>2</th>\n",
       "      <td>1110</td>\n",
       "      <td>15766</td>\n",
       "      <td>1212</td>\n",
       "      <td>5</td>\n",
       "      <td>41.90</td>\n",
       "      <td>5</td>\n",
       "      <td>MÉXICO, D.F.</td>\n",
       "      <td>Post</td>\n",
       "      <td>Cakes</td>\n",
       "      <td>120.0</td>\n",
       "      <td>BIM</td>\n",
       "    </tr>\n",
       "    <tr>\n",
       "      <th>3</th>\n",
       "      <td>1110</td>\n",
       "      <td>15766</td>\n",
       "      <td>1212</td>\n",
       "      <td>4</td>\n",
       "      <td>33.52</td>\n",
       "      <td>4</td>\n",
       "      <td>MÉXICO, D.F.</td>\n",
       "      <td>Post</td>\n",
       "      <td>Cakes</td>\n",
       "      <td>120.0</td>\n",
       "      <td>BIM</td>\n",
       "    </tr>\n",
       "    <tr>\n",
       "      <th>4</th>\n",
       "      <td>1110</td>\n",
       "      <td>15766</td>\n",
       "      <td>1212</td>\n",
       "      <td>1</td>\n",
       "      <td>8.38</td>\n",
       "      <td>1</td>\n",
       "      <td>MÉXICO, D.F.</td>\n",
       "      <td>Post</td>\n",
       "      <td>Cakes</td>\n",
       "      <td>120.0</td>\n",
       "      <td>BIM</td>\n",
       "    </tr>\n",
       "  </tbody>\n",
       "</table>\n",
       "</div>"
      ],
      "text/plain": [
       "   Agencia_ID  Cliente_ID  Producto_ID  Venta_uni_hoy  Venta_hoy  \\\n",
       "0        1110       15766         1212              3      25.14   \n",
       "1        1110       15766         1212              4      33.52   \n",
       "2        1110       15766         1212              5      41.90   \n",
       "3        1110       15766         1212              4      33.52   \n",
       "4        1110       15766         1212              1       8.38   \n",
       "\n",
       "   Demanda_uni_equil         State client_type product_type  product_weight  \\\n",
       "0                  3  MÉXICO, D.F.        Post        Cakes           120.0   \n",
       "1                  4  MÉXICO, D.F.        Post        Cakes           120.0   \n",
       "2                  5  MÉXICO, D.F.        Post        Cakes           120.0   \n",
       "3                  4  MÉXICO, D.F.        Post        Cakes           120.0   \n",
       "4                  1  MÉXICO, D.F.        Post        Cakes           120.0   \n",
       "\n",
       "  brand  \n",
       "0   BIM  \n",
       "1   BIM  \n",
       "2   BIM  \n",
       "3   BIM  \n",
       "4   BIM  "
      ]
     },
     "execution_count": 58,
     "metadata": {},
     "output_type": "execute_result"
    }
   ],
   "source": [
    "df_train.head()"
   ]
  },
  {
   "cell_type": "code",
   "execution_count": 59,
   "metadata": {},
   "outputs": [
    {
     "data": {
      "text/plain": [
       "(56055767, 11)"
      ]
     },
     "execution_count": 59,
     "metadata": {},
     "output_type": "execute_result"
    }
   ],
   "source": [
    "# remove other brand rows to reduce data\n",
    "other_brand_ix = df_train.loc[df_train['brand']=='Other'].index\n",
    "df_train.drop(index=other_brand_ix, inplace=True)\n",
    "df_train.shape"
   ]
  },
  {
   "cell_type": "code",
   "execution_count": 61,
   "metadata": {},
   "outputs": [
    {
     "data": {
      "text/plain": [
       "QUERETARO               250892\n",
       "BAJA CALIFORNIA SUR     314584\n",
       "Queretaro de Arteaga    362149\n",
       "CAMPECHE                396880\n",
       "TLAXCALA                402997\n",
       "Name: State, dtype: int64"
      ]
     },
     "execution_count": 61,
     "metadata": {},
     "output_type": "execute_result"
    }
   ],
   "source": [
    "sample_size = min(df_train['State'].value_counts()) #250892\n",
    "df_train['State'].value_counts(ascending=True)[:5]"
   ]
  },
  {
   "cell_type": "code",
   "execution_count": 62,
   "metadata": {},
   "outputs": [],
   "source": [
    "df_train_small = df_train.groupby(by='State', group_keys=False).apply(lambda x: x.sample(sample_size,\n",
    "                                                                       random_state=42))"
   ]
  },
  {
   "cell_type": "code",
   "execution_count": 63,
   "metadata": {},
   "outputs": [],
   "source": [
    "df_train = df_train_small"
   ]
  },
  {
   "cell_type": "code",
   "execution_count": 64,
   "metadata": {},
   "outputs": [
    {
     "data": {
      "text/plain": [
       "(8279436, 11)"
      ]
     },
     "execution_count": 64,
     "metadata": {},
     "output_type": "execute_result"
    }
   ],
   "source": [
    "df_train.shape"
   ]
  },
  {
   "cell_type": "code",
   "execution_count": 65,
   "metadata": {},
   "outputs": [],
   "source": [
    "# delete other dataframe variables\n",
    "del df_town\n",
    "del df_product\n",
    "del df_client\n",
    "del df_train_small"
   ]
  },
  {
   "cell_type": "code",
   "execution_count": 66,
   "metadata": {},
   "outputs": [
    {
     "data": {
      "text/html": [
       "<div>\n",
       "<style scoped>\n",
       "    .dataframe tbody tr th:only-of-type {\n",
       "        vertical-align: middle;\n",
       "    }\n",
       "\n",
       "    .dataframe tbody tr th {\n",
       "        vertical-align: top;\n",
       "    }\n",
       "\n",
       "    .dataframe thead th {\n",
       "        text-align: right;\n",
       "    }\n",
       "</style>\n",
       "<table border=\"1\" class=\"dataframe\">\n",
       "  <thead>\n",
       "    <tr style=\"text-align: right;\">\n",
       "      <th></th>\n",
       "      <th>Venta_uni_hoy</th>\n",
       "      <th>Venta_hoy</th>\n",
       "      <th>Demanda_uni_equil</th>\n",
       "      <th>State</th>\n",
       "      <th>client_type</th>\n",
       "      <th>product_type</th>\n",
       "      <th>product_weight</th>\n",
       "      <th>brand</th>\n",
       "    </tr>\n",
       "  </thead>\n",
       "  <tbody>\n",
       "    <tr>\n",
       "      <th>52103826</th>\n",
       "      <td>1</td>\n",
       "      <td>6.00</td>\n",
       "      <td>1</td>\n",
       "      <td>AGUASCALIENTES</td>\n",
       "      <td>Supermarket</td>\n",
       "      <td>Pastry</td>\n",
       "      <td>60.0</td>\n",
       "      <td>MTA TR</td>\n",
       "    </tr>\n",
       "    <tr>\n",
       "      <th>17346019</th>\n",
       "      <td>8</td>\n",
       "      <td>171.12</td>\n",
       "      <td>8</td>\n",
       "      <td>AGUASCALIENTES</td>\n",
       "      <td>Restaurant</td>\n",
       "      <td>Loaf Bread</td>\n",
       "      <td>675.0</td>\n",
       "      <td>BIM</td>\n",
       "    </tr>\n",
       "    <tr>\n",
       "      <th>59751176</th>\n",
       "      <td>3</td>\n",
       "      <td>27.00</td>\n",
       "      <td>3</td>\n",
       "      <td>AGUASCALIENTES</td>\n",
       "      <td>Individual</td>\n",
       "      <td>Cookies</td>\n",
       "      <td>104.0</td>\n",
       "      <td>MTB TR</td>\n",
       "    </tr>\n",
       "    <tr>\n",
       "      <th>5220681</th>\n",
       "      <td>3</td>\n",
       "      <td>22.92</td>\n",
       "      <td>3</td>\n",
       "      <td>AGUASCALIENTES</td>\n",
       "      <td>Individual</td>\n",
       "      <td>Pastry</td>\n",
       "      <td>105.0</td>\n",
       "      <td>BIM</td>\n",
       "    </tr>\n",
       "    <tr>\n",
       "      <th>36081272</th>\n",
       "      <td>1</td>\n",
       "      <td>5.19</td>\n",
       "      <td>1</td>\n",
       "      <td>AGUASCALIENTES</td>\n",
       "      <td>Individual</td>\n",
       "      <td>Cakes</td>\n",
       "      <td>70.0</td>\n",
       "      <td>MTB MLA</td>\n",
       "    </tr>\n",
       "  </tbody>\n",
       "</table>\n",
       "</div>"
      ],
      "text/plain": [
       "          Venta_uni_hoy  Venta_hoy  Demanda_uni_equil           State  \\\n",
       "52103826              1       6.00                  1  AGUASCALIENTES   \n",
       "17346019              8     171.12                  8  AGUASCALIENTES   \n",
       "59751176              3      27.00                  3  AGUASCALIENTES   \n",
       "5220681               3      22.92                  3  AGUASCALIENTES   \n",
       "36081272              1       5.19                  1  AGUASCALIENTES   \n",
       "\n",
       "          client_type product_type  product_weight    brand  \n",
       "52103826  Supermarket       Pastry            60.0   MTA TR  \n",
       "17346019   Restaurant   Loaf Bread           675.0      BIM  \n",
       "59751176   Individual      Cookies           104.0   MTB TR  \n",
       "5220681    Individual       Pastry           105.0      BIM  \n",
       "36081272   Individual        Cakes            70.0  MTB MLA  "
      ]
     },
     "execution_count": 66,
     "metadata": {},
     "output_type": "execute_result"
    }
   ],
   "source": [
    "# drop unneeded columns\n",
    "df_train.drop(columns=['Agencia_ID', 'Cliente_ID', 'Producto_ID'], inplace=True)\n",
    "df_train.head()"
   ]
  },
  {
   "cell_type": "code",
   "execution_count": 67,
   "metadata": {},
   "outputs": [],
   "source": [
    "# calculate item price based on the sales and unit sales columns\n",
    "df_train['price'] = df_train['Venta_hoy']/df_train['Venta_uni_hoy']"
   ]
  },
  {
   "cell_type": "code",
   "execution_count": 68,
   "metadata": {},
   "outputs": [
    {
     "data": {
      "text/html": [
       "<div>\n",
       "<style scoped>\n",
       "    .dataframe tbody tr th:only-of-type {\n",
       "        vertical-align: middle;\n",
       "    }\n",
       "\n",
       "    .dataframe tbody tr th {\n",
       "        vertical-align: top;\n",
       "    }\n",
       "\n",
       "    .dataframe thead th {\n",
       "        text-align: right;\n",
       "    }\n",
       "</style>\n",
       "<table border=\"1\" class=\"dataframe\">\n",
       "  <thead>\n",
       "    <tr style=\"text-align: right;\">\n",
       "      <th></th>\n",
       "      <th>Venta_uni_hoy</th>\n",
       "      <th>Venta_hoy</th>\n",
       "      <th>Demanda_uni_equil</th>\n",
       "      <th>State</th>\n",
       "      <th>client_type</th>\n",
       "      <th>product_type</th>\n",
       "      <th>product_weight</th>\n",
       "      <th>brand</th>\n",
       "      <th>price</th>\n",
       "    </tr>\n",
       "  </thead>\n",
       "  <tbody>\n",
       "    <tr>\n",
       "      <th>52103826</th>\n",
       "      <td>1</td>\n",
       "      <td>6.00</td>\n",
       "      <td>1</td>\n",
       "      <td>AGUASCALIENTES</td>\n",
       "      <td>Supermarket</td>\n",
       "      <td>Pastry</td>\n",
       "      <td>60.0</td>\n",
       "      <td>MTA TR</td>\n",
       "      <td>6.00</td>\n",
       "    </tr>\n",
       "    <tr>\n",
       "      <th>17346019</th>\n",
       "      <td>8</td>\n",
       "      <td>171.12</td>\n",
       "      <td>8</td>\n",
       "      <td>AGUASCALIENTES</td>\n",
       "      <td>Restaurant</td>\n",
       "      <td>Loaf Bread</td>\n",
       "      <td>675.0</td>\n",
       "      <td>BIM</td>\n",
       "      <td>21.39</td>\n",
       "    </tr>\n",
       "    <tr>\n",
       "      <th>59751176</th>\n",
       "      <td>3</td>\n",
       "      <td>27.00</td>\n",
       "      <td>3</td>\n",
       "      <td>AGUASCALIENTES</td>\n",
       "      <td>Individual</td>\n",
       "      <td>Cookies</td>\n",
       "      <td>104.0</td>\n",
       "      <td>MTB TR</td>\n",
       "      <td>9.00</td>\n",
       "    </tr>\n",
       "    <tr>\n",
       "      <th>5220681</th>\n",
       "      <td>3</td>\n",
       "      <td>22.92</td>\n",
       "      <td>3</td>\n",
       "      <td>AGUASCALIENTES</td>\n",
       "      <td>Individual</td>\n",
       "      <td>Pastry</td>\n",
       "      <td>105.0</td>\n",
       "      <td>BIM</td>\n",
       "      <td>7.64</td>\n",
       "    </tr>\n",
       "    <tr>\n",
       "      <th>36081272</th>\n",
       "      <td>1</td>\n",
       "      <td>5.19</td>\n",
       "      <td>1</td>\n",
       "      <td>AGUASCALIENTES</td>\n",
       "      <td>Individual</td>\n",
       "      <td>Cakes</td>\n",
       "      <td>70.0</td>\n",
       "      <td>MTB MLA</td>\n",
       "      <td>5.19</td>\n",
       "    </tr>\n",
       "  </tbody>\n",
       "</table>\n",
       "</div>"
      ],
      "text/plain": [
       "          Venta_uni_hoy  Venta_hoy  Demanda_uni_equil           State  \\\n",
       "52103826              1       6.00                  1  AGUASCALIENTES   \n",
       "17346019              8     171.12                  8  AGUASCALIENTES   \n",
       "59751176              3      27.00                  3  AGUASCALIENTES   \n",
       "5220681               3      22.92                  3  AGUASCALIENTES   \n",
       "36081272              1       5.19                  1  AGUASCALIENTES   \n",
       "\n",
       "          client_type product_type  product_weight    brand  price  \n",
       "52103826  Supermarket       Pastry            60.0   MTA TR   6.00  \n",
       "17346019   Restaurant   Loaf Bread           675.0      BIM  21.39  \n",
       "59751176   Individual      Cookies           104.0   MTB TR   9.00  \n",
       "5220681    Individual       Pastry           105.0      BIM   7.64  \n",
       "36081272   Individual        Cakes            70.0  MTB MLA   5.19  "
      ]
     },
     "execution_count": 68,
     "metadata": {},
     "output_type": "execute_result"
    }
   ],
   "source": [
    "df_train.head()"
   ]
  },
  {
   "cell_type": "code",
   "execution_count": 69,
   "metadata": {},
   "outputs": [
    {
     "data": {
      "text/html": [
       "<div>\n",
       "<style scoped>\n",
       "    .dataframe tbody tr th:only-of-type {\n",
       "        vertical-align: middle;\n",
       "    }\n",
       "\n",
       "    .dataframe tbody tr th {\n",
       "        vertical-align: top;\n",
       "    }\n",
       "\n",
       "    .dataframe thead th {\n",
       "        text-align: right;\n",
       "    }\n",
       "</style>\n",
       "<table border=\"1\" class=\"dataframe\">\n",
       "  <thead>\n",
       "    <tr style=\"text-align: right;\">\n",
       "      <th></th>\n",
       "      <th>state</th>\n",
       "      <th>client_type</th>\n",
       "      <th>brand</th>\n",
       "      <th>product_type</th>\n",
       "      <th>product_weight</th>\n",
       "      <th>price</th>\n",
       "      <th>demand</th>\n",
       "    </tr>\n",
       "  </thead>\n",
       "  <tbody>\n",
       "    <tr>\n",
       "      <th>52103826</th>\n",
       "      <td>AGUASCALIENTES</td>\n",
       "      <td>Supermarket</td>\n",
       "      <td>MTA TR</td>\n",
       "      <td>Pastry</td>\n",
       "      <td>60.0</td>\n",
       "      <td>6.00</td>\n",
       "      <td>1</td>\n",
       "    </tr>\n",
       "    <tr>\n",
       "      <th>17346019</th>\n",
       "      <td>AGUASCALIENTES</td>\n",
       "      <td>Restaurant</td>\n",
       "      <td>BIM</td>\n",
       "      <td>Loaf Bread</td>\n",
       "      <td>675.0</td>\n",
       "      <td>21.39</td>\n",
       "      <td>8</td>\n",
       "    </tr>\n",
       "    <tr>\n",
       "      <th>59751176</th>\n",
       "      <td>AGUASCALIENTES</td>\n",
       "      <td>Individual</td>\n",
       "      <td>MTB TR</td>\n",
       "      <td>Cookies</td>\n",
       "      <td>104.0</td>\n",
       "      <td>9.00</td>\n",
       "      <td>3</td>\n",
       "    </tr>\n",
       "    <tr>\n",
       "      <th>5220681</th>\n",
       "      <td>AGUASCALIENTES</td>\n",
       "      <td>Individual</td>\n",
       "      <td>BIM</td>\n",
       "      <td>Pastry</td>\n",
       "      <td>105.0</td>\n",
       "      <td>7.64</td>\n",
       "      <td>3</td>\n",
       "    </tr>\n",
       "    <tr>\n",
       "      <th>36081272</th>\n",
       "      <td>AGUASCALIENTES</td>\n",
       "      <td>Individual</td>\n",
       "      <td>MTB MLA</td>\n",
       "      <td>Cakes</td>\n",
       "      <td>70.0</td>\n",
       "      <td>5.19</td>\n",
       "      <td>1</td>\n",
       "    </tr>\n",
       "  </tbody>\n",
       "</table>\n",
       "</div>"
      ],
      "text/plain": [
       "                   state  client_type    brand product_type  product_weight  \\\n",
       "52103826  AGUASCALIENTES  Supermarket   MTA TR       Pastry            60.0   \n",
       "17346019  AGUASCALIENTES   Restaurant      BIM   Loaf Bread           675.0   \n",
       "59751176  AGUASCALIENTES   Individual   MTB TR      Cookies           104.0   \n",
       "5220681   AGUASCALIENTES   Individual      BIM       Pastry           105.0   \n",
       "36081272  AGUASCALIENTES   Individual  MTB MLA        Cakes            70.0   \n",
       "\n",
       "          price  demand  \n",
       "52103826   6.00       1  \n",
       "17346019  21.39       8  \n",
       "59751176   9.00       3  \n",
       "5220681    7.64       3  \n",
       "36081272   5.19       1  "
      ]
     },
     "execution_count": 69,
     "metadata": {},
     "output_type": "execute_result"
    }
   ],
   "source": [
    "df_train = df_train[['State', 'client_type', 'brand', 'product_type', 'product_weight', 'price', 'Demanda_uni_equil']]\n",
    "df_train.rename(columns={'State':'state', 'Demanda_uni_equil':'demand'},\n",
    "                inplace=True)\n",
    "df_train.head()        "
   ]
  },
  {
   "cell_type": "code",
   "execution_count": 70,
   "metadata": {},
   "outputs": [],
   "source": [
    "# saving joined data\n",
    "# df_train.to_csv('../project/data/final_data.csv', encoding='utf-8') #4.6GB\n",
    "# df_train.to_csv('final_data.csv', encoding='utf-8')"
   ]
  },
  {
   "cell_type": "markdown",
   "metadata": {
    "tags": []
   },
   "source": [
    "## Dropping Missing Values"
   ]
  },
  {
   "cell_type": "code",
   "execution_count": 71,
   "metadata": {},
   "outputs": [
    {
     "data": {
      "text/plain": [
       "(8279436, 7)"
      ]
     },
     "execution_count": 71,
     "metadata": {},
     "output_type": "execute_result"
    }
   ],
   "source": [
    "df_train.shape"
   ]
  },
  {
   "cell_type": "code",
   "execution_count": 72,
   "metadata": {},
   "outputs": [
    {
     "data": {
      "text/plain": [
       "state                 0\n",
       "client_type           0\n",
       "brand              3100\n",
       "product_type          0\n",
       "product_weight    21961\n",
       "price             30972\n",
       "demand                0\n",
       "dtype: int64"
      ]
     },
     "execution_count": 72,
     "metadata": {},
     "output_type": "execute_result"
    }
   ],
   "source": [
    "df_train.isnull().sum()"
   ]
  },
  {
   "cell_type": "code",
   "execution_count": 73,
   "metadata": {},
   "outputs": [
    {
     "data": {
      "text/plain": [
       "(0.0003744216393483807, 0.002652475361848319, 0.0037408345206122735)"
      ]
     },
     "execution_count": 73,
     "metadata": {},
     "output_type": "execute_result"
    }
   ],
   "source": [
    "# proportion of rows with missing data in training set\n",
    "3100/8279436, 21961/8279436, 30972/8279436"
   ]
  },
  {
   "cell_type": "markdown",
   "metadata": {},
   "source": [
    "Missing data makes up <1% of the data."
   ]
  },
  {
   "cell_type": "code",
   "execution_count": 74,
   "metadata": {},
   "outputs": [],
   "source": [
    "# drop rows with null brand\n",
    "brand_nan = df_train[df_train['brand'].isnull()==True].index\n",
    "df_train.drop(index=brand_nan, inplace=True)"
   ]
  },
  {
   "cell_type": "code",
   "execution_count": 75,
   "metadata": {},
   "outputs": [],
   "source": [
    "# drop rows with null weight\n",
    "weight_nan = df_train[df_train['product_weight'].isnull()==True].index\n",
    "df_train.drop(index=weight_nan, inplace=True)"
   ]
  },
  {
   "cell_type": "code",
   "execution_count": 76,
   "metadata": {},
   "outputs": [],
   "source": [
    "# drop rows with null price\n",
    "price_nan = df_train[df_train['price'].isnull()==True].index\n",
    "df_train.drop(index=price_nan, inplace=True)"
   ]
  },
  {
   "cell_type": "code",
   "execution_count": 77,
   "metadata": {},
   "outputs": [
    {
     "data": {
      "text/plain": [
       "(8226669, 7)"
      ]
     },
     "execution_count": 77,
     "metadata": {},
     "output_type": "execute_result"
    }
   ],
   "source": [
    "df_train.shape"
   ]
  },
  {
   "cell_type": "code",
   "execution_count": 78,
   "metadata": {},
   "outputs": [],
   "source": [
    "del brand_nan\n",
    "del weight_nan\n",
    "del price_nan"
   ]
  },
  {
   "cell_type": "code",
   "execution_count": 79,
   "metadata": {},
   "outputs": [],
   "source": [
    "df_train.to_parquet('final_data.parquet.gzip',\n",
    "                    compression='gzip',\n",
    "                    index=False)"
   ]
  },
  {
   "cell_type": "markdown",
   "metadata": {},
   "source": [
    "## Train/Test Split"
   ]
  },
  {
   "cell_type": "code",
   "execution_count": 80,
   "metadata": {},
   "outputs": [
    {
     "data": {
      "text/html": [
       "<div>\n",
       "<style scoped>\n",
       "    .dataframe tbody tr th:only-of-type {\n",
       "        vertical-align: middle;\n",
       "    }\n",
       "\n",
       "    .dataframe tbody tr th {\n",
       "        vertical-align: top;\n",
       "    }\n",
       "\n",
       "    .dataframe thead th {\n",
       "        text-align: right;\n",
       "    }\n",
       "</style>\n",
       "<table border=\"1\" class=\"dataframe\">\n",
       "  <thead>\n",
       "    <tr style=\"text-align: right;\">\n",
       "      <th></th>\n",
       "      <th>state</th>\n",
       "      <th>client_type</th>\n",
       "      <th>brand</th>\n",
       "      <th>product_type</th>\n",
       "      <th>product_weight</th>\n",
       "      <th>price</th>\n",
       "      <th>demand</th>\n",
       "    </tr>\n",
       "  </thead>\n",
       "  <tbody>\n",
       "    <tr>\n",
       "      <th>52103826</th>\n",
       "      <td>AGUASCALIENTES</td>\n",
       "      <td>Supermarket</td>\n",
       "      <td>MTA TR</td>\n",
       "      <td>Pastry</td>\n",
       "      <td>60.0</td>\n",
       "      <td>6.00</td>\n",
       "      <td>1</td>\n",
       "    </tr>\n",
       "    <tr>\n",
       "      <th>17346019</th>\n",
       "      <td>AGUASCALIENTES</td>\n",
       "      <td>Restaurant</td>\n",
       "      <td>BIM</td>\n",
       "      <td>Loaf Bread</td>\n",
       "      <td>675.0</td>\n",
       "      <td>21.39</td>\n",
       "      <td>8</td>\n",
       "    </tr>\n",
       "    <tr>\n",
       "      <th>59751176</th>\n",
       "      <td>AGUASCALIENTES</td>\n",
       "      <td>Individual</td>\n",
       "      <td>MTB TR</td>\n",
       "      <td>Cookies</td>\n",
       "      <td>104.0</td>\n",
       "      <td>9.00</td>\n",
       "      <td>3</td>\n",
       "    </tr>\n",
       "    <tr>\n",
       "      <th>5220681</th>\n",
       "      <td>AGUASCALIENTES</td>\n",
       "      <td>Individual</td>\n",
       "      <td>BIM</td>\n",
       "      <td>Pastry</td>\n",
       "      <td>105.0</td>\n",
       "      <td>7.64</td>\n",
       "      <td>3</td>\n",
       "    </tr>\n",
       "    <tr>\n",
       "      <th>36081272</th>\n",
       "      <td>AGUASCALIENTES</td>\n",
       "      <td>Individual</td>\n",
       "      <td>MTB MLA</td>\n",
       "      <td>Cakes</td>\n",
       "      <td>70.0</td>\n",
       "      <td>5.19</td>\n",
       "      <td>1</td>\n",
       "    </tr>\n",
       "  </tbody>\n",
       "</table>\n",
       "</div>"
      ],
      "text/plain": [
       "                   state  client_type    brand product_type  product_weight  \\\n",
       "52103826  AGUASCALIENTES  Supermarket   MTA TR       Pastry            60.0   \n",
       "17346019  AGUASCALIENTES   Restaurant      BIM   Loaf Bread           675.0   \n",
       "59751176  AGUASCALIENTES   Individual   MTB TR      Cookies           104.0   \n",
       "5220681   AGUASCALIENTES   Individual      BIM       Pastry           105.0   \n",
       "36081272  AGUASCALIENTES   Individual  MTB MLA        Cakes            70.0   \n",
       "\n",
       "          price  demand  \n",
       "52103826   6.00       1  \n",
       "17346019  21.39       8  \n",
       "59751176   9.00       3  \n",
       "5220681    7.64       3  \n",
       "36081272   5.19       1  "
      ]
     },
     "execution_count": 80,
     "metadata": {},
     "output_type": "execute_result"
    }
   ],
   "source": [
    "# train_test_split\n",
    "df_train = pd.read_parquet(\"final_data.parquet.gzip\")\n",
    "df_train.head()"
   ]
  },
  {
   "cell_type": "code",
   "execution_count": 81,
   "metadata": {},
   "outputs": [],
   "source": [
    "# split train and test data with 80:20\n",
    "df_label = df_train['demand']\n",
    "df_feature = df_train.drop(['demand'], axis = 1)\n",
    "X_train, X_test, y_train, y_test = train_test_split(df_feature, df_label, train_size = 0.8)"
   ]
  },
  {
   "cell_type": "code",
   "execution_count": 82,
   "metadata": {},
   "outputs": [
    {
     "data": {
      "text/plain": [
       "((6581335, 6), (1645334, 6), (6581335,), (1645334,))"
      ]
     },
     "execution_count": 82,
     "metadata": {},
     "output_type": "execute_result"
    }
   ],
   "source": [
    "X_train.shape, X_test.shape, y_train.shape, y_test.shape"
   ]
  },
  {
   "cell_type": "code",
   "execution_count": 83,
   "metadata": {},
   "outputs": [
    {
     "data": {
      "text/html": [
       "<div>\n",
       "<style scoped>\n",
       "    .dataframe tbody tr th:only-of-type {\n",
       "        vertical-align: middle;\n",
       "    }\n",
       "\n",
       "    .dataframe tbody tr th {\n",
       "        vertical-align: top;\n",
       "    }\n",
       "\n",
       "    .dataframe thead th {\n",
       "        text-align: right;\n",
       "    }\n",
       "</style>\n",
       "<table border=\"1\" class=\"dataframe\">\n",
       "  <thead>\n",
       "    <tr style=\"text-align: right;\">\n",
       "      <th></th>\n",
       "      <th>state</th>\n",
       "      <th>client_type</th>\n",
       "      <th>brand</th>\n",
       "      <th>product_type</th>\n",
       "      <th>product_weight</th>\n",
       "      <th>price</th>\n",
       "    </tr>\n",
       "  </thead>\n",
       "  <tbody>\n",
       "    <tr>\n",
       "      <th>26091449</th>\n",
       "      <td>CHIHUAHUA</td>\n",
       "      <td>Individual</td>\n",
       "      <td>Prom MTB MLA</td>\n",
       "      <td>Cookies</td>\n",
       "      <td>106.0</td>\n",
       "      <td>7.78</td>\n",
       "    </tr>\n",
       "    <tr>\n",
       "      <th>42080836</th>\n",
       "      <td>QUINTANA ROO</td>\n",
       "      <td>Small Franchise</td>\n",
       "      <td>BIM</td>\n",
       "      <td>Loaf Bread</td>\n",
       "      <td>360.0</td>\n",
       "      <td>15.85</td>\n",
       "    </tr>\n",
       "    <tr>\n",
       "      <th>21759426</th>\n",
       "      <td>HIDALGO</td>\n",
       "      <td>Small Franchise</td>\n",
       "      <td>MTB MLA</td>\n",
       "      <td>Cookies</td>\n",
       "      <td>113.0</td>\n",
       "      <td>6.25</td>\n",
       "    </tr>\n",
       "    <tr>\n",
       "      <th>55995488</th>\n",
       "      <td>COAHUILA</td>\n",
       "      <td>Individual</td>\n",
       "      <td>MTA BIM</td>\n",
       "      <td>Pastry</td>\n",
       "      <td>123.0</td>\n",
       "      <td>9.91</td>\n",
       "    </tr>\n",
       "    <tr>\n",
       "      <th>46427931</th>\n",
       "      <td>SAN LUIS POTOSÍ</td>\n",
       "      <td>Individual</td>\n",
       "      <td>BIM</td>\n",
       "      <td>Cakes</td>\n",
       "      <td>236.0</td>\n",
       "      <td>6.86</td>\n",
       "    </tr>\n",
       "  </tbody>\n",
       "</table>\n",
       "</div>"
      ],
      "text/plain": [
       "                    state      client_type         brand product_type  \\\n",
       "26091449        CHIHUAHUA       Individual  Prom MTB MLA      Cookies   \n",
       "42080836     QUINTANA ROO  Small Franchise           BIM   Loaf Bread   \n",
       "21759426          HIDALGO  Small Franchise       MTB MLA      Cookies   \n",
       "55995488         COAHUILA       Individual       MTA BIM       Pastry   \n",
       "46427931  SAN LUIS POTOSÍ       Individual           BIM        Cakes   \n",
       "\n",
       "          product_weight  price  \n",
       "26091449           106.0   7.78  \n",
       "42080836           360.0  15.85  \n",
       "21759426           113.0   6.25  \n",
       "55995488           123.0   9.91  \n",
       "46427931           236.0   6.86  "
      ]
     },
     "execution_count": 83,
     "metadata": {},
     "output_type": "execute_result"
    }
   ],
   "source": [
    "X_train.head()"
   ]
  },
  {
   "cell_type": "code",
   "execution_count": 84,
   "metadata": {},
   "outputs": [],
   "source": [
    "# # save split data (4 files)\n",
    "# X_train.to_csv('xtrain.csv', encoding='utf-8')\n",
    "# X_test.to_csv('xtest.csv', encoding='utf-8')\n",
    "# y_train.to_csv('ytrain.csv', encoding='utf-8')\n",
    "# y_test.to_csv('ytest.csv', encoding='utf-8')"
   ]
  },
  {
   "cell_type": "code",
   "execution_count": 85,
   "metadata": {},
   "outputs": [],
   "source": [
    "del df_train"
   ]
  },
  {
   "cell_type": "markdown",
   "metadata": {
    "tags": []
   },
   "source": [
    "## Standardize Data"
   ]
  },
  {
   "cell_type": "code",
   "execution_count": 86,
   "metadata": {},
   "outputs": [],
   "source": [
    "# numerical columns\n",
    "num_cols = ['product_weight', 'price']"
   ]
  },
  {
   "cell_type": "code",
   "execution_count": 87,
   "metadata": {},
   "outputs": [],
   "source": [
    "# robust scaler on numerical cols\n",
    "scaler = RobustScaler().fit(X_train[num_cols])\n",
    "X_train[num_cols] = scaler.transform(X_train[num_cols]).astype('float32')\n",
    "X_test[num_cols] = scaler.transform(X_test[num_cols]).astype('float32')"
   ]
  },
  {
   "cell_type": "code",
   "execution_count": 88,
   "metadata": {},
   "outputs": [
    {
     "data": {
      "text/html": [
       "<div>\n",
       "<style scoped>\n",
       "    .dataframe tbody tr th:only-of-type {\n",
       "        vertical-align: middle;\n",
       "    }\n",
       "\n",
       "    .dataframe tbody tr th {\n",
       "        vertical-align: top;\n",
       "    }\n",
       "\n",
       "    .dataframe thead th {\n",
       "        text-align: right;\n",
       "    }\n",
       "</style>\n",
       "<table border=\"1\" class=\"dataframe\">\n",
       "  <thead>\n",
       "    <tr style=\"text-align: right;\">\n",
       "      <th></th>\n",
       "      <th>state</th>\n",
       "      <th>client_type</th>\n",
       "      <th>brand</th>\n",
       "      <th>product_type</th>\n",
       "      <th>product_weight</th>\n",
       "      <th>price</th>\n",
       "    </tr>\n",
       "  </thead>\n",
       "  <tbody>\n",
       "    <tr>\n",
       "      <th>26091449</th>\n",
       "      <td>CHIHUAHUA</td>\n",
       "      <td>Individual</td>\n",
       "      <td>Prom MTB MLA</td>\n",
       "      <td>Cookies</td>\n",
       "      <td>-0.080000</td>\n",
       "      <td>-0.084507</td>\n",
       "    </tr>\n",
       "    <tr>\n",
       "      <th>42080836</th>\n",
       "      <td>QUINTANA ROO</td>\n",
       "      <td>Small Franchise</td>\n",
       "      <td>BIM</td>\n",
       "      <td>Loaf Bread</td>\n",
       "      <td>1.371429</td>\n",
       "      <td>1.052113</td>\n",
       "    </tr>\n",
       "    <tr>\n",
       "      <th>21759426</th>\n",
       "      <td>HIDALGO</td>\n",
       "      <td>Small Franchise</td>\n",
       "      <td>MTB MLA</td>\n",
       "      <td>Cookies</td>\n",
       "      <td>-0.040000</td>\n",
       "      <td>-0.300000</td>\n",
       "    </tr>\n",
       "    <tr>\n",
       "      <th>55995488</th>\n",
       "      <td>COAHUILA</td>\n",
       "      <td>Individual</td>\n",
       "      <td>MTA BIM</td>\n",
       "      <td>Pastry</td>\n",
       "      <td>0.017143</td>\n",
       "      <td>0.215493</td>\n",
       "    </tr>\n",
       "    <tr>\n",
       "      <th>46427931</th>\n",
       "      <td>SAN LUIS POTOSÍ</td>\n",
       "      <td>Individual</td>\n",
       "      <td>BIM</td>\n",
       "      <td>Cakes</td>\n",
       "      <td>0.662857</td>\n",
       "      <td>-0.214085</td>\n",
       "    </tr>\n",
       "  </tbody>\n",
       "</table>\n",
       "</div>"
      ],
      "text/plain": [
       "                    state      client_type         brand product_type  \\\n",
       "26091449        CHIHUAHUA       Individual  Prom MTB MLA      Cookies   \n",
       "42080836     QUINTANA ROO  Small Franchise           BIM   Loaf Bread   \n",
       "21759426          HIDALGO  Small Franchise       MTB MLA      Cookies   \n",
       "55995488         COAHUILA       Individual       MTA BIM       Pastry   \n",
       "46427931  SAN LUIS POTOSÍ       Individual           BIM        Cakes   \n",
       "\n",
       "          product_weight     price  \n",
       "26091449       -0.080000 -0.084507  \n",
       "42080836        1.371429  1.052113  \n",
       "21759426       -0.040000 -0.300000  \n",
       "55995488        0.017143  0.215493  \n",
       "46427931        0.662857 -0.214085  "
      ]
     },
     "execution_count": 88,
     "metadata": {},
     "output_type": "execute_result"
    }
   ],
   "source": [
    "X_train.head()"
   ]
  },
  {
   "cell_type": "code",
   "execution_count": 89,
   "metadata": {},
   "outputs": [
    {
     "data": {
      "text/html": [
       "<div>\n",
       "<style scoped>\n",
       "    .dataframe tbody tr th:only-of-type {\n",
       "        vertical-align: middle;\n",
       "    }\n",
       "\n",
       "    .dataframe tbody tr th {\n",
       "        vertical-align: top;\n",
       "    }\n",
       "\n",
       "    .dataframe thead th {\n",
       "        text-align: right;\n",
       "    }\n",
       "</style>\n",
       "<table border=\"1\" class=\"dataframe\">\n",
       "  <thead>\n",
       "    <tr style=\"text-align: right;\">\n",
       "      <th></th>\n",
       "      <th>state</th>\n",
       "      <th>client_type</th>\n",
       "      <th>brand</th>\n",
       "      <th>product_type</th>\n",
       "      <th>product_weight</th>\n",
       "      <th>price</th>\n",
       "    </tr>\n",
       "  </thead>\n",
       "  <tbody>\n",
       "    <tr>\n",
       "      <th>3561082</th>\n",
       "      <td>SINALOA</td>\n",
       "      <td>Individual</td>\n",
       "      <td>BIM</td>\n",
       "      <td>Pastry</td>\n",
       "      <td>0.028571</td>\n",
       "      <td>0.000000</td>\n",
       "    </tr>\n",
       "    <tr>\n",
       "      <th>46402949</th>\n",
       "      <td>TLAXCALA</td>\n",
       "      <td>Individual</td>\n",
       "      <td>BIM</td>\n",
       "      <td>Cakes</td>\n",
       "      <td>0.662857</td>\n",
       "      <td>-0.214085</td>\n",
       "    </tr>\n",
       "    <tr>\n",
       "      <th>60336657</th>\n",
       "      <td>CHIHUAHUA</td>\n",
       "      <td>Small Franchise</td>\n",
       "      <td>MTA BIM</td>\n",
       "      <td>Buns</td>\n",
       "      <td>2.057143</td>\n",
       "      <td>1.616901</td>\n",
       "    </tr>\n",
       "    <tr>\n",
       "      <th>19884040</th>\n",
       "      <td>HIDALGO</td>\n",
       "      <td>Individual</td>\n",
       "      <td>TR</td>\n",
       "      <td>Cakes</td>\n",
       "      <td>-0.114286</td>\n",
       "      <td>0.000000</td>\n",
       "    </tr>\n",
       "    <tr>\n",
       "      <th>60641592</th>\n",
       "      <td>CHIHUAHUA</td>\n",
       "      <td>Convenience</td>\n",
       "      <td>MTA BIM</td>\n",
       "      <td>Loaf Bread</td>\n",
       "      <td>3.200000</td>\n",
       "      <td>1.787324</td>\n",
       "    </tr>\n",
       "  </tbody>\n",
       "</table>\n",
       "</div>"
      ],
      "text/plain": [
       "              state      client_type    brand product_type  product_weight  \\\n",
       "3561082     SINALOA       Individual      BIM       Pastry        0.028571   \n",
       "46402949   TLAXCALA       Individual      BIM        Cakes        0.662857   \n",
       "60336657  CHIHUAHUA  Small Franchise  MTA BIM         Buns        2.057143   \n",
       "19884040    HIDALGO       Individual       TR        Cakes       -0.114286   \n",
       "60641592  CHIHUAHUA      Convenience  MTA BIM   Loaf Bread        3.200000   \n",
       "\n",
       "             price  \n",
       "3561082   0.000000  \n",
       "46402949 -0.214085  \n",
       "60336657  1.616901  \n",
       "19884040  0.000000  \n",
       "60641592  1.787324  "
      ]
     },
     "execution_count": 89,
     "metadata": {},
     "output_type": "execute_result"
    }
   ],
   "source": [
    "X_test.head()"
   ]
  },
  {
   "cell_type": "markdown",
   "metadata": {},
   "source": [
    "## Encode Categorical Features\n",
    "Also, changing datatypes and compressing files into parquet.gzip to save space"
   ]
  },
  {
   "cell_type": "markdown",
   "metadata": {
    "tags": []
   },
   "source": [
    "### Change target dtype & compress files"
   ]
  },
  {
   "cell_type": "code",
   "execution_count": 90,
   "metadata": {},
   "outputs": [],
   "source": [
    "y_train = pd.DataFrame(y_train, columns=['demand'])\n",
    "y_test = pd.DataFrame(y_test, columns=['demand'])"
   ]
  },
  {
   "cell_type": "code",
   "execution_count": 91,
   "metadata": {},
   "outputs": [
    {
     "data": {
      "text/html": [
       "<div>\n",
       "<style scoped>\n",
       "    .dataframe tbody tr th:only-of-type {\n",
       "        vertical-align: middle;\n",
       "    }\n",
       "\n",
       "    .dataframe tbody tr th {\n",
       "        vertical-align: top;\n",
       "    }\n",
       "\n",
       "    .dataframe thead th {\n",
       "        text-align: right;\n",
       "    }\n",
       "</style>\n",
       "<table border=\"1\" class=\"dataframe\">\n",
       "  <thead>\n",
       "    <tr style=\"text-align: right;\">\n",
       "      <th></th>\n",
       "      <th>demand</th>\n",
       "    </tr>\n",
       "  </thead>\n",
       "  <tbody>\n",
       "    <tr>\n",
       "      <th>count</th>\n",
       "      <td>6.581335e+06</td>\n",
       "    </tr>\n",
       "    <tr>\n",
       "      <th>mean</th>\n",
       "      <td>7.305953e+00</td>\n",
       "    </tr>\n",
       "    <tr>\n",
       "      <th>std</th>\n",
       "      <td>2.388225e+01</td>\n",
       "    </tr>\n",
       "    <tr>\n",
       "      <th>min</th>\n",
       "      <td>0.000000e+00</td>\n",
       "    </tr>\n",
       "    <tr>\n",
       "      <th>25%</th>\n",
       "      <td>2.000000e+00</td>\n",
       "    </tr>\n",
       "    <tr>\n",
       "      <th>50%</th>\n",
       "      <td>3.000000e+00</td>\n",
       "    </tr>\n",
       "    <tr>\n",
       "      <th>75%</th>\n",
       "      <td>6.000000e+00</td>\n",
       "    </tr>\n",
       "    <tr>\n",
       "      <th>max</th>\n",
       "      <td>4.997000e+03</td>\n",
       "    </tr>\n",
       "  </tbody>\n",
       "</table>\n",
       "</div>"
      ],
      "text/plain": [
       "             demand\n",
       "count  6.581335e+06\n",
       "mean   7.305953e+00\n",
       "std    2.388225e+01\n",
       "min    0.000000e+00\n",
       "25%    2.000000e+00\n",
       "50%    3.000000e+00\n",
       "75%    6.000000e+00\n",
       "max    4.997000e+03"
      ]
     },
     "execution_count": 91,
     "metadata": {},
     "output_type": "execute_result"
    }
   ],
   "source": [
    "y_train.describe()"
   ]
  },
  {
   "cell_type": "code",
   "execution_count": 92,
   "metadata": {},
   "outputs": [
    {
     "data": {
      "text/html": [
       "<div>\n",
       "<style scoped>\n",
       "    .dataframe tbody tr th:only-of-type {\n",
       "        vertical-align: middle;\n",
       "    }\n",
       "\n",
       "    .dataframe tbody tr th {\n",
       "        vertical-align: top;\n",
       "    }\n",
       "\n",
       "    .dataframe thead th {\n",
       "        text-align: right;\n",
       "    }\n",
       "</style>\n",
       "<table border=\"1\" class=\"dataframe\">\n",
       "  <thead>\n",
       "    <tr style=\"text-align: right;\">\n",
       "      <th></th>\n",
       "      <th>demand</th>\n",
       "    </tr>\n",
       "  </thead>\n",
       "  <tbody>\n",
       "    <tr>\n",
       "      <th>count</th>\n",
       "      <td>1.645334e+06</td>\n",
       "    </tr>\n",
       "    <tr>\n",
       "      <th>mean</th>\n",
       "      <td>7.307143e+00</td>\n",
       "    </tr>\n",
       "    <tr>\n",
       "      <th>std</th>\n",
       "      <td>2.404806e+01</td>\n",
       "    </tr>\n",
       "    <tr>\n",
       "      <th>min</th>\n",
       "      <td>0.000000e+00</td>\n",
       "    </tr>\n",
       "    <tr>\n",
       "      <th>25%</th>\n",
       "      <td>2.000000e+00</td>\n",
       "    </tr>\n",
       "    <tr>\n",
       "      <th>50%</th>\n",
       "      <td>3.000000e+00</td>\n",
       "    </tr>\n",
       "    <tr>\n",
       "      <th>75%</th>\n",
       "      <td>6.000000e+00</td>\n",
       "    </tr>\n",
       "    <tr>\n",
       "      <th>max</th>\n",
       "      <td>4.320000e+03</td>\n",
       "    </tr>\n",
       "  </tbody>\n",
       "</table>\n",
       "</div>"
      ],
      "text/plain": [
       "             demand\n",
       "count  1.645334e+06\n",
       "mean   7.307143e+00\n",
       "std    2.404806e+01\n",
       "min    0.000000e+00\n",
       "25%    2.000000e+00\n",
       "50%    3.000000e+00\n",
       "75%    6.000000e+00\n",
       "max    4.320000e+03"
      ]
     },
     "execution_count": 92,
     "metadata": {},
     "output_type": "execute_result"
    }
   ],
   "source": [
    "y_test.describe()"
   ]
  },
  {
   "cell_type": "code",
   "execution_count": 93,
   "metadata": {},
   "outputs": [],
   "source": [
    "y_train = y_train.astype('int16')\n",
    "y_test = y_test.astype('int16')"
   ]
  },
  {
   "cell_type": "code",
   "execution_count": 94,
   "metadata": {},
   "outputs": [],
   "source": [
    "# y_train.to_parquet('ytrain_final.parquet.gzip',\n",
    "#                   compression='gzip',\n",
    "#                   index=False)\n",
    "# y_test.to_parquet('ytest_final.parquet.gzip',\n",
    "#                   compression='gzip',\n",
    "#                   index=False)"
   ]
  },
  {
   "cell_type": "code",
   "execution_count": 95,
   "metadata": {},
   "outputs": [],
   "source": [
    "# del y_train\n",
    "# del y_test"
   ]
  },
  {
   "cell_type": "markdown",
   "metadata": {},
   "source": [
    "### Test set"
   ]
  },
  {
   "cell_type": "code",
   "execution_count": 96,
   "metadata": {},
   "outputs": [],
   "source": [
    "# list of categorical columns\n",
    "cat_cols = ['state', 'client_type', 'brand', 'product_type']"
   ]
  },
  {
   "cell_type": "code",
   "execution_count": 97,
   "metadata": {},
   "outputs": [],
   "source": [
    "X_test = pd.get_dummies(X_test, prefix=['state', 'client', 'brand', 'product'], \n",
    "                         dtype=np.uint8)"
   ]
  },
  {
   "cell_type": "code",
   "execution_count": 98,
   "metadata": {},
   "outputs": [],
   "source": [
    "# drop one category for each feature to prevent overdetermination\n",
    "# Colima = least populated MX state\n",
    "X_test.drop(columns=['state_COLIMA', 'client_Walmart', \n",
    "                     'brand_Prom TAB MLA', 'product_Drink'],\n",
    "            inplace=True)"
   ]
  },
  {
   "cell_type": "code",
   "execution_count": 99,
   "metadata": {},
   "outputs": [
    {
     "data": {
      "text/plain": [
       "Index(['product_weight', 'price', 'state_AGUASCALIENTES',\n",
       "       'state_BAJA CALIFORNIA NORTE', 'state_BAJA CALIFORNIA SUR',\n",
       "       'state_CAMPECHE', 'state_CHIAPAS', 'state_CHIHUAHUA', 'state_COAHUILA',\n",
       "       'state_DURANGO',\n",
       "       ...\n",
       "       'product_Bars', 'product_Buns', 'product_Cakes', 'product_Chips',\n",
       "       'product_Cookies', 'product_Crackers', 'product_Loaf Bread',\n",
       "       'product_Other', 'product_Pastry', 'product_Savory'],\n",
       "      dtype='object', length=107)"
      ]
     },
     "execution_count": 99,
     "metadata": {},
     "output_type": "execute_result"
    }
   ],
   "source": [
    "X_test.columns"
   ]
  },
  {
   "cell_type": "code",
   "execution_count": 100,
   "metadata": {},
   "outputs": [
    {
     "data": {
      "text/html": [
       "<div>\n",
       "<style scoped>\n",
       "    .dataframe tbody tr th:only-of-type {\n",
       "        vertical-align: middle;\n",
       "    }\n",
       "\n",
       "    .dataframe tbody tr th {\n",
       "        vertical-align: top;\n",
       "    }\n",
       "\n",
       "    .dataframe thead th {\n",
       "        text-align: right;\n",
       "    }\n",
       "</style>\n",
       "<table border=\"1\" class=\"dataframe\">\n",
       "  <thead>\n",
       "    <tr style=\"text-align: right;\">\n",
       "      <th></th>\n",
       "      <th>product_weight</th>\n",
       "      <th>price</th>\n",
       "      <th>state_AGUASCALIENTES</th>\n",
       "      <th>state_BAJA CALIFORNIA NORTE</th>\n",
       "      <th>state_BAJA CALIFORNIA SUR</th>\n",
       "      <th>state_CAMPECHE</th>\n",
       "      <th>state_CHIAPAS</th>\n",
       "      <th>state_CHIHUAHUA</th>\n",
       "      <th>state_COAHUILA</th>\n",
       "      <th>state_DURANGO</th>\n",
       "      <th>...</th>\n",
       "      <th>product_Bars</th>\n",
       "      <th>product_Buns</th>\n",
       "      <th>product_Cakes</th>\n",
       "      <th>product_Chips</th>\n",
       "      <th>product_Cookies</th>\n",
       "      <th>product_Crackers</th>\n",
       "      <th>product_Loaf Bread</th>\n",
       "      <th>product_Other</th>\n",
       "      <th>product_Pastry</th>\n",
       "      <th>product_Savory</th>\n",
       "    </tr>\n",
       "  </thead>\n",
       "  <tbody>\n",
       "    <tr>\n",
       "      <th>3561082</th>\n",
       "      <td>0.028571</td>\n",
       "      <td>0.000000</td>\n",
       "      <td>0</td>\n",
       "      <td>0</td>\n",
       "      <td>0</td>\n",
       "      <td>0</td>\n",
       "      <td>0</td>\n",
       "      <td>0</td>\n",
       "      <td>0</td>\n",
       "      <td>0</td>\n",
       "      <td>...</td>\n",
       "      <td>0</td>\n",
       "      <td>0</td>\n",
       "      <td>0</td>\n",
       "      <td>0</td>\n",
       "      <td>0</td>\n",
       "      <td>0</td>\n",
       "      <td>0</td>\n",
       "      <td>0</td>\n",
       "      <td>1</td>\n",
       "      <td>0</td>\n",
       "    </tr>\n",
       "    <tr>\n",
       "      <th>46402949</th>\n",
       "      <td>0.662857</td>\n",
       "      <td>-0.214085</td>\n",
       "      <td>0</td>\n",
       "      <td>0</td>\n",
       "      <td>0</td>\n",
       "      <td>0</td>\n",
       "      <td>0</td>\n",
       "      <td>0</td>\n",
       "      <td>0</td>\n",
       "      <td>0</td>\n",
       "      <td>...</td>\n",
       "      <td>0</td>\n",
       "      <td>0</td>\n",
       "      <td>1</td>\n",
       "      <td>0</td>\n",
       "      <td>0</td>\n",
       "      <td>0</td>\n",
       "      <td>0</td>\n",
       "      <td>0</td>\n",
       "      <td>0</td>\n",
       "      <td>0</td>\n",
       "    </tr>\n",
       "    <tr>\n",
       "      <th>60336657</th>\n",
       "      <td>2.057143</td>\n",
       "      <td>1.616901</td>\n",
       "      <td>0</td>\n",
       "      <td>0</td>\n",
       "      <td>0</td>\n",
       "      <td>0</td>\n",
       "      <td>0</td>\n",
       "      <td>1</td>\n",
       "      <td>0</td>\n",
       "      <td>0</td>\n",
       "      <td>...</td>\n",
       "      <td>0</td>\n",
       "      <td>1</td>\n",
       "      <td>0</td>\n",
       "      <td>0</td>\n",
       "      <td>0</td>\n",
       "      <td>0</td>\n",
       "      <td>0</td>\n",
       "      <td>0</td>\n",
       "      <td>0</td>\n",
       "      <td>0</td>\n",
       "    </tr>\n",
       "    <tr>\n",
       "      <th>19884040</th>\n",
       "      <td>-0.114286</td>\n",
       "      <td>0.000000</td>\n",
       "      <td>0</td>\n",
       "      <td>0</td>\n",
       "      <td>0</td>\n",
       "      <td>0</td>\n",
       "      <td>0</td>\n",
       "      <td>0</td>\n",
       "      <td>0</td>\n",
       "      <td>0</td>\n",
       "      <td>...</td>\n",
       "      <td>0</td>\n",
       "      <td>0</td>\n",
       "      <td>1</td>\n",
       "      <td>0</td>\n",
       "      <td>0</td>\n",
       "      <td>0</td>\n",
       "      <td>0</td>\n",
       "      <td>0</td>\n",
       "      <td>0</td>\n",
       "      <td>0</td>\n",
       "    </tr>\n",
       "    <tr>\n",
       "      <th>60641592</th>\n",
       "      <td>3.200000</td>\n",
       "      <td>1.787324</td>\n",
       "      <td>0</td>\n",
       "      <td>0</td>\n",
       "      <td>0</td>\n",
       "      <td>0</td>\n",
       "      <td>0</td>\n",
       "      <td>1</td>\n",
       "      <td>0</td>\n",
       "      <td>0</td>\n",
       "      <td>...</td>\n",
       "      <td>0</td>\n",
       "      <td>0</td>\n",
       "      <td>0</td>\n",
       "      <td>0</td>\n",
       "      <td>0</td>\n",
       "      <td>0</td>\n",
       "      <td>1</td>\n",
       "      <td>0</td>\n",
       "      <td>0</td>\n",
       "      <td>0</td>\n",
       "    </tr>\n",
       "  </tbody>\n",
       "</table>\n",
       "<p>5 rows × 107 columns</p>\n",
       "</div>"
      ],
      "text/plain": [
       "          product_weight     price  state_AGUASCALIENTES  \\\n",
       "3561082         0.028571  0.000000                     0   \n",
       "46402949        0.662857 -0.214085                     0   \n",
       "60336657        2.057143  1.616901                     0   \n",
       "19884040       -0.114286  0.000000                     0   \n",
       "60641592        3.200000  1.787324                     0   \n",
       "\n",
       "          state_BAJA CALIFORNIA NORTE  state_BAJA CALIFORNIA SUR  \\\n",
       "3561082                             0                          0   \n",
       "46402949                            0                          0   \n",
       "60336657                            0                          0   \n",
       "19884040                            0                          0   \n",
       "60641592                            0                          0   \n",
       "\n",
       "          state_CAMPECHE  state_CHIAPAS  state_CHIHUAHUA  state_COAHUILA  \\\n",
       "3561082                0              0                0               0   \n",
       "46402949               0              0                0               0   \n",
       "60336657               0              0                1               0   \n",
       "19884040               0              0                0               0   \n",
       "60641592               0              0                1               0   \n",
       "\n",
       "          state_DURANGO  ...  product_Bars  product_Buns  product_Cakes  \\\n",
       "3561082               0  ...             0             0              0   \n",
       "46402949              0  ...             0             0              1   \n",
       "60336657              0  ...             0             1              0   \n",
       "19884040              0  ...             0             0              1   \n",
       "60641592              0  ...             0             0              0   \n",
       "\n",
       "          product_Chips  product_Cookies  product_Crackers  \\\n",
       "3561082               0                0                 0   \n",
       "46402949              0                0                 0   \n",
       "60336657              0                0                 0   \n",
       "19884040              0                0                 0   \n",
       "60641592              0                0                 0   \n",
       "\n",
       "          product_Loaf Bread  product_Other  product_Pastry  product_Savory  \n",
       "3561082                    0              0               1               0  \n",
       "46402949                   0              0               0               0  \n",
       "60336657                   0              0               0               0  \n",
       "19884040                   0              0               0               0  \n",
       "60641592                   1              0               0               0  \n",
       "\n",
       "[5 rows x 107 columns]"
      ]
     },
     "execution_count": 100,
     "metadata": {},
     "output_type": "execute_result"
    }
   ],
   "source": [
    "X_test.head()"
   ]
  },
  {
   "cell_type": "code",
   "execution_count": 101,
   "metadata": {},
   "outputs": [
    {
     "data": {
      "text/plain": [
       "(1645334, 107)"
      ]
     },
     "execution_count": 101,
     "metadata": {},
     "output_type": "execute_result"
    }
   ],
   "source": [
    "X_test.shape"
   ]
  },
  {
   "cell_type": "code",
   "execution_count": 102,
   "metadata": {},
   "outputs": [
    {
     "name": "stdout",
     "output_type": "stream",
     "text": [
      "<class 'pandas.core.frame.DataFrame'>\n",
      "Int64Index: 1645334 entries, 3561082 to 24765673\n",
      "Columns: 107 entries, product_weight to product_Savory\n",
      "dtypes: float32(2), uint8(105)\n",
      "memory usage: 189.9 MB\n"
     ]
    }
   ],
   "source": [
    "X_test.info(memory_usage='deep')"
   ]
  },
  {
   "cell_type": "code",
   "execution_count": 103,
   "metadata": {},
   "outputs": [],
   "source": [
    "# X_test.to_parquet('xtest_final.parquet.gzip',\n",
    "#                   compression='gzip',\n",
    "#                   index=False)"
   ]
  },
  {
   "cell_type": "code",
   "execution_count": 104,
   "metadata": {},
   "outputs": [],
   "source": [
    "# del X_test"
   ]
  },
  {
   "cell_type": "markdown",
   "metadata": {},
   "source": [
    "### Training set"
   ]
  },
  {
   "cell_type": "code",
   "execution_count": 105,
   "metadata": {},
   "outputs": [
    {
     "name": "stdout",
     "output_type": "stream",
     "text": [
      "<class 'pandas.core.frame.DataFrame'>\n",
      "Int64Index: 6581335 entries, 26091449 to 61316329\n",
      "Data columns (total 6 columns):\n",
      " #   Column          Dtype  \n",
      "---  ------          -----  \n",
      " 0   state           object \n",
      " 1   client_type     object \n",
      " 2   brand           object \n",
      " 3   product_type    object \n",
      " 4   product_weight  float32\n",
      " 5   price           float32\n",
      "dtypes: float32(2), object(4)\n",
      "memory usage: 1.7 GB\n"
     ]
    }
   ],
   "source": [
    "X_train.info(memory_usage='deep')"
   ]
  },
  {
   "cell_type": "code",
   "execution_count": 106,
   "metadata": {},
   "outputs": [],
   "source": [
    "X_train = pd.get_dummies(X_train, prefix=['state', 'client', 'brand', 'product'],\n",
    "                          dtype=np.uint8)\n",
    "X_train.drop(columns=['state_COLIMA', 'client_Walmart', \n",
    "                     'brand_Prom TAB MLA', 'product_Drink'],\n",
    "            inplace=True)"
   ]
  },
  {
   "cell_type": "code",
   "execution_count": 107,
   "metadata": {},
   "outputs": [
    {
     "data": {
      "text/html": [
       "<div>\n",
       "<style scoped>\n",
       "    .dataframe tbody tr th:only-of-type {\n",
       "        vertical-align: middle;\n",
       "    }\n",
       "\n",
       "    .dataframe tbody tr th {\n",
       "        vertical-align: top;\n",
       "    }\n",
       "\n",
       "    .dataframe thead th {\n",
       "        text-align: right;\n",
       "    }\n",
       "</style>\n",
       "<table border=\"1\" class=\"dataframe\">\n",
       "  <thead>\n",
       "    <tr style=\"text-align: right;\">\n",
       "      <th></th>\n",
       "      <th>product_weight</th>\n",
       "      <th>price</th>\n",
       "      <th>state_AGUASCALIENTES</th>\n",
       "      <th>state_BAJA CALIFORNIA NORTE</th>\n",
       "      <th>state_BAJA CALIFORNIA SUR</th>\n",
       "      <th>state_CAMPECHE</th>\n",
       "      <th>state_CHIAPAS</th>\n",
       "      <th>state_CHIHUAHUA</th>\n",
       "      <th>state_COAHUILA</th>\n",
       "      <th>state_DURANGO</th>\n",
       "      <th>...</th>\n",
       "      <th>product_Bars</th>\n",
       "      <th>product_Buns</th>\n",
       "      <th>product_Cakes</th>\n",
       "      <th>product_Chips</th>\n",
       "      <th>product_Cookies</th>\n",
       "      <th>product_Crackers</th>\n",
       "      <th>product_Loaf Bread</th>\n",
       "      <th>product_Other</th>\n",
       "      <th>product_Pastry</th>\n",
       "      <th>product_Savory</th>\n",
       "    </tr>\n",
       "  </thead>\n",
       "  <tbody>\n",
       "    <tr>\n",
       "      <th>26091449</th>\n",
       "      <td>-0.080000</td>\n",
       "      <td>-0.084507</td>\n",
       "      <td>0</td>\n",
       "      <td>0</td>\n",
       "      <td>0</td>\n",
       "      <td>0</td>\n",
       "      <td>0</td>\n",
       "      <td>1</td>\n",
       "      <td>0</td>\n",
       "      <td>0</td>\n",
       "      <td>...</td>\n",
       "      <td>0</td>\n",
       "      <td>0</td>\n",
       "      <td>0</td>\n",
       "      <td>0</td>\n",
       "      <td>1</td>\n",
       "      <td>0</td>\n",
       "      <td>0</td>\n",
       "      <td>0</td>\n",
       "      <td>0</td>\n",
       "      <td>0</td>\n",
       "    </tr>\n",
       "    <tr>\n",
       "      <th>42080836</th>\n",
       "      <td>1.371429</td>\n",
       "      <td>1.052113</td>\n",
       "      <td>0</td>\n",
       "      <td>0</td>\n",
       "      <td>0</td>\n",
       "      <td>0</td>\n",
       "      <td>0</td>\n",
       "      <td>0</td>\n",
       "      <td>0</td>\n",
       "      <td>0</td>\n",
       "      <td>...</td>\n",
       "      <td>0</td>\n",
       "      <td>0</td>\n",
       "      <td>0</td>\n",
       "      <td>0</td>\n",
       "      <td>0</td>\n",
       "      <td>0</td>\n",
       "      <td>1</td>\n",
       "      <td>0</td>\n",
       "      <td>0</td>\n",
       "      <td>0</td>\n",
       "    </tr>\n",
       "    <tr>\n",
       "      <th>21759426</th>\n",
       "      <td>-0.040000</td>\n",
       "      <td>-0.300000</td>\n",
       "      <td>0</td>\n",
       "      <td>0</td>\n",
       "      <td>0</td>\n",
       "      <td>0</td>\n",
       "      <td>0</td>\n",
       "      <td>0</td>\n",
       "      <td>0</td>\n",
       "      <td>0</td>\n",
       "      <td>...</td>\n",
       "      <td>0</td>\n",
       "      <td>0</td>\n",
       "      <td>0</td>\n",
       "      <td>0</td>\n",
       "      <td>1</td>\n",
       "      <td>0</td>\n",
       "      <td>0</td>\n",
       "      <td>0</td>\n",
       "      <td>0</td>\n",
       "      <td>0</td>\n",
       "    </tr>\n",
       "    <tr>\n",
       "      <th>55995488</th>\n",
       "      <td>0.017143</td>\n",
       "      <td>0.215493</td>\n",
       "      <td>0</td>\n",
       "      <td>0</td>\n",
       "      <td>0</td>\n",
       "      <td>0</td>\n",
       "      <td>0</td>\n",
       "      <td>0</td>\n",
       "      <td>1</td>\n",
       "      <td>0</td>\n",
       "      <td>...</td>\n",
       "      <td>0</td>\n",
       "      <td>0</td>\n",
       "      <td>0</td>\n",
       "      <td>0</td>\n",
       "      <td>0</td>\n",
       "      <td>0</td>\n",
       "      <td>0</td>\n",
       "      <td>0</td>\n",
       "      <td>1</td>\n",
       "      <td>0</td>\n",
       "    </tr>\n",
       "    <tr>\n",
       "      <th>46427931</th>\n",
       "      <td>0.662857</td>\n",
       "      <td>-0.214085</td>\n",
       "      <td>0</td>\n",
       "      <td>0</td>\n",
       "      <td>0</td>\n",
       "      <td>0</td>\n",
       "      <td>0</td>\n",
       "      <td>0</td>\n",
       "      <td>0</td>\n",
       "      <td>0</td>\n",
       "      <td>...</td>\n",
       "      <td>0</td>\n",
       "      <td>0</td>\n",
       "      <td>1</td>\n",
       "      <td>0</td>\n",
       "      <td>0</td>\n",
       "      <td>0</td>\n",
       "      <td>0</td>\n",
       "      <td>0</td>\n",
       "      <td>0</td>\n",
       "      <td>0</td>\n",
       "    </tr>\n",
       "  </tbody>\n",
       "</table>\n",
       "<p>5 rows × 108 columns</p>\n",
       "</div>"
      ],
      "text/plain": [
       "          product_weight     price  state_AGUASCALIENTES  \\\n",
       "26091449       -0.080000 -0.084507                     0   \n",
       "42080836        1.371429  1.052113                     0   \n",
       "21759426       -0.040000 -0.300000                     0   \n",
       "55995488        0.017143  0.215493                     0   \n",
       "46427931        0.662857 -0.214085                     0   \n",
       "\n",
       "          state_BAJA CALIFORNIA NORTE  state_BAJA CALIFORNIA SUR  \\\n",
       "26091449                            0                          0   \n",
       "42080836                            0                          0   \n",
       "21759426                            0                          0   \n",
       "55995488                            0                          0   \n",
       "46427931                            0                          0   \n",
       "\n",
       "          state_CAMPECHE  state_CHIAPAS  state_CHIHUAHUA  state_COAHUILA  \\\n",
       "26091449               0              0                1               0   \n",
       "42080836               0              0                0               0   \n",
       "21759426               0              0                0               0   \n",
       "55995488               0              0                0               1   \n",
       "46427931               0              0                0               0   \n",
       "\n",
       "          state_DURANGO  ...  product_Bars  product_Buns  product_Cakes  \\\n",
       "26091449              0  ...             0             0              0   \n",
       "42080836              0  ...             0             0              0   \n",
       "21759426              0  ...             0             0              0   \n",
       "55995488              0  ...             0             0              0   \n",
       "46427931              0  ...             0             0              1   \n",
       "\n",
       "          product_Chips  product_Cookies  product_Crackers  \\\n",
       "26091449              0                1                 0   \n",
       "42080836              0                0                 0   \n",
       "21759426              0                1                 0   \n",
       "55995488              0                0                 0   \n",
       "46427931              0                0                 0   \n",
       "\n",
       "          product_Loaf Bread  product_Other  product_Pastry  product_Savory  \n",
       "26091449                   0              0               0               0  \n",
       "42080836                   1              0               0               0  \n",
       "21759426                   0              0               0               0  \n",
       "55995488                   0              0               1               0  \n",
       "46427931                   0              0               0               0  \n",
       "\n",
       "[5 rows x 108 columns]"
      ]
     },
     "execution_count": 107,
     "metadata": {},
     "output_type": "execute_result"
    }
   ],
   "source": [
    "X_train.head()"
   ]
  },
  {
   "cell_type": "code",
   "execution_count": 108,
   "metadata": {},
   "outputs": [
    {
     "data": {
      "text/plain": [
       "(6581335, 108)"
      ]
     },
     "execution_count": 108,
     "metadata": {},
     "output_type": "execute_result"
    }
   ],
   "source": [
    "X_train.shape"
   ]
  },
  {
   "cell_type": "code",
   "execution_count": 109,
   "metadata": {},
   "outputs": [
    {
     "name": "stdout",
     "output_type": "stream",
     "text": [
      "<class 'pandas.core.frame.DataFrame'>\n",
      "Int64Index: 6581335 entries, 26091449 to 61316329\n",
      "Columns: 108 entries, product_weight to product_Savory\n",
      "dtypes: float32(2), uint8(106)\n",
      "memory usage: 765.7 MB\n"
     ]
    }
   ],
   "source": [
    "X_train.info(memory_usage='deep')"
   ]
  },
  {
   "cell_type": "code",
   "execution_count": 111,
   "metadata": {},
   "outputs": [],
   "source": [
    "# X_train.to_parquet('xtrain_final.parquet.gzip',\n",
    "#                    compression='gzip',\n",
    "#                    index=False)"
   ]
  },
  {
   "cell_type": "markdown",
   "metadata": {},
   "source": [
    "# Data Visualization"
   ]
  },
  {
   "cell_type": "code",
   "execution_count": 112,
   "metadata": {},
   "outputs": [
    {
     "data": {
      "text/html": [
       "<div>\n",
       "<style scoped>\n",
       "    .dataframe tbody tr th:only-of-type {\n",
       "        vertical-align: middle;\n",
       "    }\n",
       "\n",
       "    .dataframe tbody tr th {\n",
       "        vertical-align: top;\n",
       "    }\n",
       "\n",
       "    .dataframe thead th {\n",
       "        text-align: right;\n",
       "    }\n",
       "</style>\n",
       "<table border=\"1\" class=\"dataframe\">\n",
       "  <thead>\n",
       "    <tr style=\"text-align: right;\">\n",
       "      <th></th>\n",
       "      <th>product_weight</th>\n",
       "      <th>price</th>\n",
       "    </tr>\n",
       "  </thead>\n",
       "  <tbody>\n",
       "    <tr>\n",
       "      <th>count</th>\n",
       "      <td>6.581335e+06</td>\n",
       "      <td>6.581335e+06</td>\n",
       "    </tr>\n",
       "    <tr>\n",
       "      <th>mean</th>\n",
       "      <td>5.318121e-01</td>\n",
       "      <td>2.787335e-01</td>\n",
       "    </tr>\n",
       "    <tr>\n",
       "      <th>std</th>\n",
       "      <td>5.102870e+00</td>\n",
       "      <td>9.299783e-01</td>\n",
       "    </tr>\n",
       "    <tr>\n",
       "      <th>min</th>\n",
       "      <td>-6.571429e-01</td>\n",
       "      <td>-1.143662e+00</td>\n",
       "    </tr>\n",
       "    <tr>\n",
       "      <th>25%</th>\n",
       "      <td>-2.285714e-01</td>\n",
       "      <td>-2.140845e-01</td>\n",
       "    </tr>\n",
       "    <tr>\n",
       "      <th>50%</th>\n",
       "      <td>0.000000e+00</td>\n",
       "      <td>0.000000e+00</td>\n",
       "    </tr>\n",
       "    <tr>\n",
       "      <th>75%</th>\n",
       "      <td>7.714286e-01</td>\n",
       "      <td>7.859155e-01</td>\n",
       "    </tr>\n",
       "    <tr>\n",
       "      <th>max</th>\n",
       "      <td>1.382171e+03</td>\n",
       "      <td>9.019648e+02</td>\n",
       "    </tr>\n",
       "  </tbody>\n",
       "</table>\n",
       "</div>"
      ],
      "text/plain": [
       "       product_weight         price\n",
       "count    6.581335e+06  6.581335e+06\n",
       "mean     5.318121e-01  2.787335e-01\n",
       "std      5.102870e+00  9.299783e-01\n",
       "min     -6.571429e-01 -1.143662e+00\n",
       "25%     -2.285714e-01 -2.140845e-01\n",
       "50%      0.000000e+00  0.000000e+00\n",
       "75%      7.714286e-01  7.859155e-01\n",
       "max      1.382171e+03  9.019648e+02"
      ]
     },
     "execution_count": 112,
     "metadata": {},
     "output_type": "execute_result"
    }
   ],
   "source": [
    "X_train[['product_weight', 'price']].describe()"
   ]
  },
  {
   "cell_type": "code",
   "execution_count": 113,
   "metadata": {},
   "outputs": [
    {
     "data": {
      "image/png": "[encoded data removed]",
      "text/plain": [
       "<Figure size 640x480 with 1 Axes>"
      ]
     },
     "metadata": {},
     "output_type": "display_data"
    }
   ],
   "source": [
    "# scaled product weight distribution\n",
    "plt.hist(X_train['product_weight'], bins=40, range=(-1,5))\n",
    "\n",
    "plt.title('Histogram of product_weight')\n",
    "plt.xlabel('Scaled Weight')\n",
    "plt.ylabel('Count')\n",
    "plt.show()"
   ]
  },
  {
   "cell_type": "code",
   "execution_count": 114,
   "metadata": {},
   "outputs": [
    {
     "data": {
      "image/png": "[encoded data removed]",
      "text/plain": [
       "<Figure size 640x480 with 1 Axes>"
      ]
     },
     "metadata": {},
     "output_type": "display_data"
    }
   ],
   "source": [
    "# scaled price distribution\n",
    "plt.hist(X_train['price'], bins=40, range=(-2,4))\n",
    "\n",
    "plt.title('Histogram of price')\n",
    "plt.xlabel('Scaled Price')\n",
    "plt.ylabel('Count')\n",
    "plt.show()"
   ]
  },
  {
   "cell_type": "code",
   "execution_count": 115,
   "metadata": {},
   "outputs": [
    {
     "data": {
      "text/html": [
       "<div>\n",
       "<style scoped>\n",
       "    .dataframe tbody tr th:only-of-type {\n",
       "        vertical-align: middle;\n",
       "    }\n",
       "\n",
       "    .dataframe tbody tr th {\n",
       "        vertical-align: top;\n",
       "    }\n",
       "\n",
       "    .dataframe thead th {\n",
       "        text-align: right;\n",
       "    }\n",
       "</style>\n",
       "<table border=\"1\" class=\"dataframe\">\n",
       "  <thead>\n",
       "    <tr style=\"text-align: right;\">\n",
       "      <th></th>\n",
       "      <th>demand</th>\n",
       "    </tr>\n",
       "  </thead>\n",
       "  <tbody>\n",
       "    <tr>\n",
       "      <th>count</th>\n",
       "      <td>6.581335e+06</td>\n",
       "    </tr>\n",
       "    <tr>\n",
       "      <th>mean</th>\n",
       "      <td>7.305953e+00</td>\n",
       "    </tr>\n",
       "    <tr>\n",
       "      <th>std</th>\n",
       "      <td>2.388225e+01</td>\n",
       "    </tr>\n",
       "    <tr>\n",
       "      <th>min</th>\n",
       "      <td>0.000000e+00</td>\n",
       "    </tr>\n",
       "    <tr>\n",
       "      <th>25%</th>\n",
       "      <td>2.000000e+00</td>\n",
       "    </tr>\n",
       "    <tr>\n",
       "      <th>50%</th>\n",
       "      <td>3.000000e+00</td>\n",
       "    </tr>\n",
       "    <tr>\n",
       "      <th>75%</th>\n",
       "      <td>6.000000e+00</td>\n",
       "    </tr>\n",
       "    <tr>\n",
       "      <th>max</th>\n",
       "      <td>4.997000e+03</td>\n",
       "    </tr>\n",
       "  </tbody>\n",
       "</table>\n",
       "</div>"
      ],
      "text/plain": [
       "             demand\n",
       "count  6.581335e+06\n",
       "mean   7.305953e+00\n",
       "std    2.388225e+01\n",
       "min    0.000000e+00\n",
       "25%    2.000000e+00\n",
       "50%    3.000000e+00\n",
       "75%    6.000000e+00\n",
       "max    4.997000e+03"
      ]
     },
     "execution_count": 115,
     "metadata": {},
     "output_type": "execute_result"
    }
   ],
   "source": [
    "y_train.describe()"
   ]
  },
  {
   "cell_type": "code",
   "execution_count": 116,
   "metadata": {},
   "outputs": [
    {
     "data": {
      "image/png": "[encoded data removed]",
      "text/plain": [
       "<Figure size 640x480 with 1 Axes>"
      ]
     },
     "metadata": {},
     "output_type": "display_data"
    }
   ],
   "source": [
    "# target = demand distribution\n",
    "plt.hist(y_train['demand'], bins=40, range=(0,100))\n",
    "\n",
    "plt.title('Histogram of Demand')\n",
    "plt.xlabel('Demand')\n",
    "plt.ylabel('Count')\n",
    "plt.show()"
   ]
  },
  {
   "cell_type": "markdown",
   "metadata": {
    "tags": []
   },
   "source": [
    "# Match column numbers in train/test data"
   ]
  },
  {
   "cell_type": "code",
   "execution_count": 3,
   "metadata": {
    "tags": []
   },
   "outputs": [],
   "source": [
    "X_train = pd.read_parquet(\"xtrain_final.parquet.gzip\")\n",
    "y_train = pd.read_parquet(\"ytrain_final.parquet.gzip\")\n",
    "X_test = pd.read_parquet(\"xtest_final.parquet.gzip\")\n",
    "y_test = pd.read_parquet(\"ytest_final.parquet.gzip\")"
   ]
  },
  {
   "cell_type": "code",
   "execution_count": 5,
   "metadata": {},
   "outputs": [],
   "source": [
    "X_train.isnull().sum()"
   ]
  },
  {
   "cell_type": "code",
   "execution_count": 9,
   "metadata": {},
   "outputs": [],
   "source": [
    "for col in X_train.columns:\n",
    "    if col not in X_test.columns:\n",
    "        print(col)"
   ]
  },
  {
   "cell_type": "code",
   "execution_count": 10,
   "metadata": {},
   "outputs": [],
   "source": [
    "# drop column - all rows with this brand were allocated to X_train\n",
    "drop_brand_ix = X_train[X_train['brand_Cj DH']==1].index\n",
    "X_train.drop(index=drop_brand_ix, inplace=True)\n",
    "y_train.drop(index=drop_brand_ix, inplace=True)"
   ]
  },
  {
   "cell_type": "code",
   "execution_count": 11,
   "metadata": {},
   "outputs": [],
   "source": [
    "X_train.drop(columns=['brand_Cj DH'], inplace=True)"
   ]
  },
  {
   "cell_type": "code",
   "execution_count": 12,
   "metadata": {},
   "outputs": [
    {
     "data": {
      "text/plain": [
       "((6581333, 107), (6581333, 1))"
      ]
     },
     "execution_count": 12,
     "metadata": {},
     "output_type": "execute_result"
    }
   ],
   "source": [
    "X_train.shape, y_train.shape"
   ]
  },
  {
   "cell_type": "code",
   "execution_count": 13,
   "metadata": {},
   "outputs": [],
   "source": [
    "X_train.to_parquet('xtrain_final.parquet.gzip',\n",
    "                  compression='gzip',\n",
    "                  index=False)\n",
    "y_train.to_parquet('ytrain_final.parquet.gzip',\n",
    "                  compression='gzip',\n",
    "                  index=False)"
   ]
  },
  {
   "cell_type": "markdown",
   "metadata": {},
   "source": [
    "# Train & Hyperparameter Tune Models"
   ]
  },
  {
   "cell_type": "code",
   "execution_count": 3,
   "metadata": {},
   "outputs": [],
   "source": [
    "# X_train = pd.read_parquet(\"xtrain_final.parquet.gzip\")\n",
    "# y_train = pd.read_parquet(\"ytrain_final.parquet.gzip\")\n",
    "# X_test = pd.read_parquet(\"xtest_final.parquet.gzip\")\n",
    "# y_test = pd.read_parquet(\"ytest_final.parquet.gzip\")"
   ]
  },
  {
   "cell_type": "markdown",
   "metadata": {},
   "source": [
    "## Linear Regression"
   ]
  },
  {
   "cell_type": "code",
   "execution_count": 4,
   "metadata": {
    "tags": []
   },
   "outputs": [],
   "source": [
    "# linear, ridge, lasso, adaboost, baggingregressor, xgboost\n",
    "MODEL = []\n",
    "RMSLE = []\n",
    "MAE = []\n",
    "MedAE = []\n",
    "MAPE = []"
   ]
  },
  {
   "cell_type": "code",
   "execution_count": 5,
   "metadata": {
    "tags": []
   },
   "outputs": [],
   "source": [
    "# function for evaluating on training\n",
    "def model_evals(y_true, y_pred):\n",
    "    # turn negative predictions into 0\n",
    "    y_pred[y_pred < 0] = 0\n",
    "    \n",
    "    #print out the result\n",
    "    print(\"RMSLE:\", mean_squared_log_error(y_true, y_pred, squared=False))\n",
    "    print(\"MAE:\", mean_absolute_error(y_true, y_pred))\n",
    "    print(\"MedAE:\", median_absolute_error(y_true, y_pred))\n",
    "    print(\"MAPE:\", mean_absolute_percentage_error(y_true, y_pred))"
   ]
  },
  {
   "cell_type": "code",
   "execution_count": 6,
   "metadata": {
    "tags": []
   },
   "outputs": [],
   "source": [
    "# function for evaluating on test\n",
    "def model_evals_test(model, y_true, y_pred):\n",
    "    # turn negative predictions into 0\n",
    "    y_pred[y_pred < 0] = 0\n",
    "    \n",
    "    # store the result for the later dataframe\n",
    "    rmsle = mean_squared_log_error(y_true, y_pred, squared=False)\n",
    "    mae = mean_absolute_error(y_true, y_pred)\n",
    "    medae = median_absolute_error(y_true, y_pred)\n",
    "    mape = mean_absolute_percentage_error(y_true, y_pred)\n",
    "    \n",
    "    MODEL.append(model)\n",
    "    RMSLE.append(rmsle)\n",
    "    MAE.append(mae)\n",
    "    MedAE.append(medae)\n",
    "    MAPE.append(mape)\n",
    "    \n",
    "    #print out the result\n",
    "    print(\"RMSLE:\", rmsle)\n",
    "    print(\"MAE:\", mae)\n",
    "    print(\"MedAE:\", medae)\n",
    "    print(\"MAPE:\", mape)"
   ]
  },
  {
   "cell_type": "code",
   "execution_count": 53,
   "metadata": {
    "tags": []
   },
   "outputs": [],
   "source": [
    "# train the linear regression model\n",
    "lr = LinearRegression().fit(X_train, y_train)"
   ]
  },
  {
   "cell_type": "code",
   "execution_count": 40,
   "metadata": {
    "tags": []
   },
   "outputs": [
    {
     "name": "stdout",
     "output_type": "stream",
     "text": [
      "RMSLE: 0.8960704\n",
      "MAE: 6.315258\n",
      "MedAE: 3.5545883\n",
      "MAPE: 447308784219149.06\n"
     ]
    }
   ],
   "source": [
    "# make prediction on the train features\n",
    "yPred1_train = lr.predict(X_train)\n",
    "model_evals(y_train, yPred1_train)"
   ]
  },
  {
   "cell_type": "code",
   "execution_count": 54,
   "metadata": {
    "tags": []
   },
   "outputs": [
    {
     "name": "stdout",
     "output_type": "stream",
     "text": [
      "RMSLE: 0.89645326\n",
      "MAE: 6.3222933\n",
      "MedAE: 3.5568542\n",
      "MAPE: 458072740179288.5\n"
     ]
    }
   ],
   "source": [
    "# make prediction on the test features\n",
    "yPred1_test= lr.predict(X_test)\n",
    "model_evals_test('Linear Regression', y_test, yPred1_test)"
   ]
  },
  {
   "cell_type": "code",
   "execution_count": 7,
   "metadata": {
    "tags": []
   },
   "outputs": [],
   "source": [
    "pr = PoissonRegressor().fit(X_train, y_train.values)"
   ]
  },
  {
   "cell_type": "code",
   "execution_count": null,
   "metadata": {},
   "outputs": [],
   "source": [
    "yPred2_train = pr.predict(X_train)\n",
    "# turn negative predictions into 0\n",
    "yPred2_train[yPred2_train < 0] = 0\n",
    "\n",
    "print(\"RMSLE:\", mean_squared_log_error(y_train, yPred2_train, squared=False))\n",
    "print(\"MAE:\", mean_absolute_error(y_train, yPred2_train))\n",
    "print(\"MedAE:\", median_absolute_error(y_train, yPred2_train))\n",
    "print(\"MAPE:\", mean_absolute_percentage_error(y_train, yPred2_train))"
   ]
  },
  {
   "cell_type": "code",
   "execution_count": null,
   "metadata": {},
   "outputs": [],
   "source": [
    "pr_weights = pd.DataFrame()\n",
    "pr_weights['feature'] = np.array(X_train.columns)\n",
    "pr_weights['weights'] = pr.coef_[0]\n",
    "pr_weights"
   ]
  },
  {
   "cell_type": "code",
   "execution_count": null,
   "metadata": {},
   "outputs": [],
   "source": [
    "pr_weights[pr_weights['weights']>0]"
   ]
  },
  {
   "cell_type": "code",
   "execution_count": null,
   "metadata": {},
   "outputs": [],
   "source": [
    "# test on training data\n",
    "\n",
    "# yPred1_test = lr.predict(pd.DataFrame(xTest))\n",
    "\n",
    "print(\"RMSLE:\", mean_squared_log_error(yTrain, yPred1_train, squared=False))\n",
    "print(\"MAE:\", mean_absolute_error(yTrain, yPred1_train))\n",
    "print(\"MedAE:\", median_absolute_error(yTrain, yPred1_train))\n",
    "print(\"MAPE:\", mean_absolute_percentage_error(yTrain, yPred1_train))"
   ]
  },
  {
   "cell_type": "markdown",
   "metadata": {
    "tags": []
   },
   "source": [
    "## Lasso Regression"
   ]
  },
  {
   "cell_type": "code",
   "execution_count": 57,
   "metadata": {
    "tags": []
   },
   "outputs": [],
   "source": [
    "lasso = Lasso(alpha=0.01, random_state=42).fit(X_train, y_train)"
   ]
  },
  {
   "cell_type": "code",
   "execution_count": 59,
   "metadata": {
    "tags": []
   },
   "outputs": [
    {
     "name": "stdout",
     "output_type": "stream",
     "text": [
      "RMSLE: 0.8992366\n",
      "MAE: 6.3404865\n",
      "MedAE: 3.6616554\n",
      "MAPE: 448917168971858.6\n"
     ]
    }
   ],
   "source": [
    "# predict on train features\n",
    "lasso_pred_train = lasso.predict(X_train)\n",
    "model_evals(y_train, lasso_pred_train)"
   ]
  },
  {
   "cell_type": "code",
   "execution_count": 60,
   "metadata": {
    "tags": []
   },
   "outputs": [
    {
     "name": "stdout",
     "output_type": "stream",
     "text": [
      "RMSLE: 0.8997714\n",
      "MAE: 6.353492\n",
      "MedAE: 3.6614819\n",
      "MAPE: 459924211552118.7\n"
     ]
    }
   ],
   "source": [
    "# predict on test features\n",
    "lasso_pred_test = lasso.predict(X_test)\n",
    "model_evals_test('Lasso Regression', y_test, lasso_pred_test)"
   ]
  },
  {
   "cell_type": "markdown",
   "metadata": {
    "tags": []
   },
   "source": [
    "## Ridge Regression"
   ]
  },
  {
   "cell_type": "code",
   "execution_count": 4,
   "metadata": {
    "tags": []
   },
   "outputs": [],
   "source": [
    "ridge = Ridge(alpha=0.1, random_state=42).fit(X_train, y_train)"
   ]
  },
  {
   "cell_type": "code",
   "execution_count": 61,
   "metadata": {
    "tags": []
   },
   "outputs": [
    {
     "name": "stdout",
     "output_type": "stream",
     "text": [
      "RMSLE: 0.8960823\n",
      "MAE: 6.3153157\n",
      "MedAE: 3.554634\n",
      "MAPE: 447308745809818.44\n"
     ]
    }
   ],
   "source": [
    "# predict on train features\n",
    "ridge_pred_train = ridge.predict(X_train)\n",
    "model_evals(y_train, ridge_pred_train)"
   ]
  },
  {
   "cell_type": "code",
   "execution_count": 63,
   "metadata": {
    "tags": []
   },
   "outputs": [
    {
     "name": "stdout",
     "output_type": "stream",
     "text": [
      "RMSLE: 0.89646465\n",
      "MAE: 6.3223505\n",
      "MedAE: 3.5568771\n",
      "MAPE: 458080013901847.0\n"
     ]
    }
   ],
   "source": [
    "# predict on test features\n",
    "ridge_pred_test = ridge.predict(X_test)\n",
    "model_evals_test('Ridge Regression', y_test, ridge_pred_test)"
   ]
  },
  {
   "cell_type": "markdown",
   "metadata": {
    "id": "QeGv7rZorA3h"
   },
   "source": [
    "## XGBoost"
   ]
  },
  {
   "cell_type": "code",
   "execution_count": 22,
   "metadata": {
    "id": "b8_0Ppz2qa0V",
    "tags": []
   },
   "outputs": [
    {
     "data": {
      "text/html": [
       "<style>#sk-container-id-3 {color: black;background-color: white;}#sk-container-id-3 pre{padding: 0;}#sk-container-id-3 div.sk-toggleable {background-color: white;}#sk-container-id-3 label.sk-toggleable__label {cursor: pointer;display: block;width: 100%;margin-bottom: 0;padding: 0.3em;box-sizing: border-box;text-align: center;}#sk-container-id-3 label.sk-toggleable__label-arrow:before {content: \"▸\";float: left;margin-right: 0.25em;color: #696969;}#sk-container-id-3 label.sk-toggleable__label-arrow:hover:before {color: black;}#sk-container-id-3 div.sk-estimator:hover label.sk-toggleable__label-arrow:before {color: black;}#sk-container-id-3 div.sk-toggleable__content {max-height: 0;max-width: 0;overflow: hidden;text-align: left;background-color: #f0f8ff;}#sk-container-id-3 div.sk-toggleable__content pre {margin: 0.2em;color: black;border-radius: 0.25em;background-color: #f0f8ff;}#sk-container-id-3 input.sk-toggleable__control:checked~div.sk-toggleable__content {max-height: 200px;max-width: 100%;overflow: auto;}#sk-container-id-3 input.sk-toggleable__control:checked~label.sk-toggleable__label-arrow:before {content: \"▾\";}#sk-container-id-3 div.sk-estimator input.sk-toggleable__control:checked~label.sk-toggleable__label {background-color: #d4ebff;}#sk-container-id-3 div.sk-label input.sk-toggleable__control:checked~label.sk-toggleable__label {background-color: #d4ebff;}#sk-container-id-3 input.sk-hidden--visually {border: 0;clip: rect(1px 1px 1px 1px);clip: rect(1px, 1px, 1px, 1px);height: 1px;margin: -1px;overflow: hidden;padding: 0;position: absolute;width: 1px;}#sk-container-id-3 div.sk-estimator {font-family: monospace;background-color: #f0f8ff;border: 1px dotted black;border-radius: 0.25em;box-sizing: border-box;margin-bottom: 0.5em;}#sk-container-id-3 div.sk-estimator:hover {background-color: #d4ebff;}#sk-container-id-3 div.sk-parallel-item::after {content: \"\";width: 100%;border-bottom: 1px solid gray;flex-grow: 1;}#sk-container-id-3 div.sk-label:hover label.sk-toggleable__label {background-color: #d4ebff;}#sk-container-id-3 div.sk-serial::before {content: \"\";position: absolute;border-left: 1px solid gray;box-sizing: border-box;top: 0;bottom: 0;left: 50%;z-index: 0;}#sk-container-id-3 div.sk-serial {display: flex;flex-direction: column;align-items: center;background-color: white;padding-right: 0.2em;padding-left: 0.2em;position: relative;}#sk-container-id-3 div.sk-item {position: relative;z-index: 1;}#sk-container-id-3 div.sk-parallel {display: flex;align-items: stretch;justify-content: center;background-color: white;position: relative;}#sk-container-id-3 div.sk-item::before, #sk-container-id-3 div.sk-parallel-item::before {content: \"\";position: absolute;border-left: 1px solid gray;box-sizing: border-box;top: 0;bottom: 0;left: 50%;z-index: -1;}#sk-container-id-3 div.sk-parallel-item {display: flex;flex-direction: column;z-index: 1;position: relative;background-color: white;}#sk-container-id-3 div.sk-parallel-item:first-child::after {align-self: flex-end;width: 50%;}#sk-container-id-3 div.sk-parallel-item:last-child::after {align-self: flex-start;width: 50%;}#sk-container-id-3 div.sk-parallel-item:only-child::after {width: 0;}#sk-container-id-3 div.sk-dashed-wrapped {border: 1px dashed gray;margin: 0 0.4em 0.5em 0.4em;box-sizing: border-box;padding-bottom: 0.4em;background-color: white;}#sk-container-id-3 div.sk-label label {font-family: monospace;font-weight: bold;display: inline-block;line-height: 1.2em;}#sk-container-id-3 div.sk-label-container {text-align: center;}#sk-container-id-3 div.sk-container {/* jupyter's `normalize.less` sets `[hidden] { display: none; }` but bootstrap.min.css set `[hidden] { display: none !important; }` so we also need the `!important` here to be able to override the default hidden behavior on the sphinx rendered scikit-learn.org. See: https://github.com/scikit-learn/scikit-learn/issues/21755 */display: inline-block !important;position: relative;}#sk-container-id-3 div.sk-text-repr-fallback {display: none;}</style><div id=\"sk-container-id-3\" class=\"sk-top-container\"><div class=\"sk-text-repr-fallback\"><pre>XGBRegressor(base_score=None, booster=None, callbacks=None,\n",
       "             colsample_bylevel=None, colsample_bynode=None,\n",
       "             colsample_bytree=None, early_stopping_rounds=None,\n",
       "             enable_categorical=False, eval_metric=None, feature_types=None,\n",
       "             gamma=None, gpu_id=None, grow_policy=None, importance_type=None,\n",
       "             interaction_constraints=None, learning_rate=None, max_bin=None,\n",
       "             max_cat_threshold=None, max_cat_to_onehot=None,\n",
       "             max_delta_step=None, max_depth=None, max_leaves=None,\n",
       "             min_child_weight=None, missing=nan, monotone_constraints=None,\n",
       "             n_estimators=100, n_jobs=None, num_parallel_tree=None,\n",
       "             predictor=None, random_state=42, ...)</pre><b>In a Jupyter environment, please rerun this cell to show the HTML representation or trust the notebook. <br />On GitHub, the HTML representation is unable to render, please try loading this page with nbviewer.org.</b></div><div class=\"sk-container\" hidden><div class=\"sk-item\"><div class=\"sk-estimator sk-toggleable\"><input class=\"sk-toggleable__control sk-hidden--visually\" id=\"sk-estimator-id-3\" type=\"checkbox\" checked><label for=\"sk-estimator-id-3\" class=\"sk-toggleable__label sk-toggleable__label-arrow\">XGBRegressor</label><div class=\"sk-toggleable__content\"><pre>XGBRegressor(base_score=None, booster=None, callbacks=None,\n",
       "             colsample_bylevel=None, colsample_bynode=None,\n",
       "             colsample_bytree=None, early_stopping_rounds=None,\n",
       "             enable_categorical=False, eval_metric=None, feature_types=None,\n",
       "             gamma=None, gpu_id=None, grow_policy=None, importance_type=None,\n",
       "             interaction_constraints=None, learning_rate=None, max_bin=None,\n",
       "             max_cat_threshold=None, max_cat_to_onehot=None,\n",
       "             max_delta_step=None, max_depth=None, max_leaves=None,\n",
       "             min_child_weight=None, missing=nan, monotone_constraints=None,\n",
       "             n_estimators=100, n_jobs=None, num_parallel_tree=None,\n",
       "             predictor=None, random_state=42, ...)</pre></div></div></div></div></div>"
      ],
      "text/plain": [
       "XGBRegressor(base_score=None, booster=None, callbacks=None,\n",
       "             colsample_bylevel=None, colsample_bynode=None,\n",
       "             colsample_bytree=None, early_stopping_rounds=None,\n",
       "             enable_categorical=False, eval_metric=None, feature_types=None,\n",
       "             gamma=None, gpu_id=None, grow_policy=None, importance_type=None,\n",
       "             interaction_constraints=None, learning_rate=None, max_bin=None,\n",
       "             max_cat_threshold=None, max_cat_to_onehot=None,\n",
       "             max_delta_step=None, max_depth=None, max_leaves=None,\n",
       "             min_child_weight=None, missing=nan, monotone_constraints=None,\n",
       "             n_estimators=100, n_jobs=None, num_parallel_tree=None,\n",
       "             predictor=None, random_state=42, ...)"
      ]
     },
     "execution_count": 22,
     "metadata": {},
     "output_type": "execute_result"
    }
   ],
   "source": [
    "# xgboost regressor orig\n",
    "xgb_model = XGBRegressor(objective=\"reg:squarederror\", random_state=42, seed=42)\n",
    "xgb_model.fit(X_train, y_train)"
   ]
  },
  {
   "cell_type": "code",
   "execution_count": 64,
   "metadata": {
    "tags": []
   },
   "outputs": [
    {
     "name": "stdout",
     "output_type": "stream",
     "text": [
      "RMSLE: 0.7151908\n",
      "MAE: 4.859439\n",
      "MedAE: 2.4731874\n",
      "MAPE: 361687344370554.8\n"
     ]
    }
   ],
   "source": [
    "# predict on train features orig\n",
    "xgb_pred_train = xgb_model.predict(X_train)\n",
    "model_evals(y_train, xgb_pred_train)"
   ]
  },
  {
   "cell_type": "code",
   "execution_count": 66,
   "metadata": {
    "tags": []
   },
   "outputs": [
    {
     "name": "stdout",
     "output_type": "stream",
     "text": [
      "RMSLE: 0.7163994\n",
      "MAE: 4.8843694\n",
      "MedAE: 2.4741693\n",
      "MAPE: 375269092021322.7\n"
     ]
    }
   ],
   "source": [
    "# predict on test features orig\n",
    "xgb_pred_test = xgb_model.predict(X_test)\n",
    "model_evals_test('XGBoost', y_test, xgb_pred_test)"
   ]
  },
  {
   "cell_type": "markdown",
   "metadata": {
    "tags": []
   },
   "source": [
    "## Bagging"
   ]
  },
  {
   "cell_type": "code",
   "execution_count": 27,
   "metadata": {
    "id": "9Jopva-Gq8bn",
    "tags": []
   },
   "outputs": [
    {
     "name": "stderr",
     "output_type": "stream",
     "text": [
      "/Library/Frameworks/Python.framework/Versions/3.10/lib/python3.10/site-packages/sklearn/ensemble/_base.py:166: FutureWarning: `base_estimator` was renamed to `estimator` in version 1.2 and will be removed in 1.4.\n",
      "  warnings.warn(\n"
     ]
    },
    {
     "data": {
      "text/html": [
       "<style>#sk-container-id-4 {color: black;background-color: white;}#sk-container-id-4 pre{padding: 0;}#sk-container-id-4 div.sk-toggleable {background-color: white;}#sk-container-id-4 label.sk-toggleable__label {cursor: pointer;display: block;width: 100%;margin-bottom: 0;padding: 0.3em;box-sizing: border-box;text-align: center;}#sk-container-id-4 label.sk-toggleable__label-arrow:before {content: \"▸\";float: left;margin-right: 0.25em;color: #696969;}#sk-container-id-4 label.sk-toggleable__label-arrow:hover:before {color: black;}#sk-container-id-4 div.sk-estimator:hover label.sk-toggleable__label-arrow:before {color: black;}#sk-container-id-4 div.sk-toggleable__content {max-height: 0;max-width: 0;overflow: hidden;text-align: left;background-color: #f0f8ff;}#sk-container-id-4 div.sk-toggleable__content pre {margin: 0.2em;color: black;border-radius: 0.25em;background-color: #f0f8ff;}#sk-container-id-4 input.sk-toggleable__control:checked~div.sk-toggleable__content {max-height: 200px;max-width: 100%;overflow: auto;}#sk-container-id-4 input.sk-toggleable__control:checked~label.sk-toggleable__label-arrow:before {content: \"▾\";}#sk-container-id-4 div.sk-estimator input.sk-toggleable__control:checked~label.sk-toggleable__label {background-color: #d4ebff;}#sk-container-id-4 div.sk-label input.sk-toggleable__control:checked~label.sk-toggleable__label {background-color: #d4ebff;}#sk-container-id-4 input.sk-hidden--visually {border: 0;clip: rect(1px 1px 1px 1px);clip: rect(1px, 1px, 1px, 1px);height: 1px;margin: -1px;overflow: hidden;padding: 0;position: absolute;width: 1px;}#sk-container-id-4 div.sk-estimator {font-family: monospace;background-color: #f0f8ff;border: 1px dotted black;border-radius: 0.25em;box-sizing: border-box;margin-bottom: 0.5em;}#sk-container-id-4 div.sk-estimator:hover {background-color: #d4ebff;}#sk-container-id-4 div.sk-parallel-item::after {content: \"\";width: 100%;border-bottom: 1px solid gray;flex-grow: 1;}#sk-container-id-4 div.sk-label:hover label.sk-toggleable__label {background-color: #d4ebff;}#sk-container-id-4 div.sk-serial::before {content: \"\";position: absolute;border-left: 1px solid gray;box-sizing: border-box;top: 0;bottom: 0;left: 50%;z-index: 0;}#sk-container-id-4 div.sk-serial {display: flex;flex-direction: column;align-items: center;background-color: white;padding-right: 0.2em;padding-left: 0.2em;position: relative;}#sk-container-id-4 div.sk-item {position: relative;z-index: 1;}#sk-container-id-4 div.sk-parallel {display: flex;align-items: stretch;justify-content: center;background-color: white;position: relative;}#sk-container-id-4 div.sk-item::before, #sk-container-id-4 div.sk-parallel-item::before {content: \"\";position: absolute;border-left: 1px solid gray;box-sizing: border-box;top: 0;bottom: 0;left: 50%;z-index: -1;}#sk-container-id-4 div.sk-parallel-item {display: flex;flex-direction: column;z-index: 1;position: relative;background-color: white;}#sk-container-id-4 div.sk-parallel-item:first-child::after {align-self: flex-end;width: 50%;}#sk-container-id-4 div.sk-parallel-item:last-child::after {align-self: flex-start;width: 50%;}#sk-container-id-4 div.sk-parallel-item:only-child::after {width: 0;}#sk-container-id-4 div.sk-dashed-wrapped {border: 1px dashed gray;margin: 0 0.4em 0.5em 0.4em;box-sizing: border-box;padding-bottom: 0.4em;background-color: white;}#sk-container-id-4 div.sk-label label {font-family: monospace;font-weight: bold;display: inline-block;line-height: 1.2em;}#sk-container-id-4 div.sk-label-container {text-align: center;}#sk-container-id-4 div.sk-container {/* jupyter's `normalize.less` sets `[hidden] { display: none; }` but bootstrap.min.css set `[hidden] { display: none !important; }` so we also need the `!important` here to be able to override the default hidden behavior on the sphinx rendered scikit-learn.org. See: https://github.com/scikit-learn/scikit-learn/issues/21755 */display: inline-block !important;position: relative;}#sk-container-id-4 div.sk-text-repr-fallback {display: none;}</style><div id=\"sk-container-id-4\" class=\"sk-top-container\"><div class=\"sk-text-repr-fallback\"><pre>BaggingRegressor(base_estimator=DecisionTreeRegressor(max_depth=3),\n",
       "                 n_estimators=100)</pre><b>In a Jupyter environment, please rerun this cell to show the HTML representation or trust the notebook. <br />On GitHub, the HTML representation is unable to render, please try loading this page with nbviewer.org.</b></div><div class=\"sk-container\" hidden><div class=\"sk-item sk-dashed-wrapped\"><div class=\"sk-label-container\"><div class=\"sk-label sk-toggleable\"><input class=\"sk-toggleable__control sk-hidden--visually\" id=\"sk-estimator-id-4\" type=\"checkbox\" ><label for=\"sk-estimator-id-4\" class=\"sk-toggleable__label sk-toggleable__label-arrow\">BaggingRegressor</label><div class=\"sk-toggleable__content\"><pre>BaggingRegressor(base_estimator=DecisionTreeRegressor(max_depth=3),\n",
       "                 n_estimators=100)</pre></div></div></div><div class=\"sk-parallel\"><div class=\"sk-parallel-item\"><div class=\"sk-item\"><div class=\"sk-label-container\"><div class=\"sk-label sk-toggleable\"><input class=\"sk-toggleable__control sk-hidden--visually\" id=\"sk-estimator-id-5\" type=\"checkbox\" ><label for=\"sk-estimator-id-5\" class=\"sk-toggleable__label sk-toggleable__label-arrow\">base_estimator: DecisionTreeRegressor</label><div class=\"sk-toggleable__content\"><pre>DecisionTreeRegressor(max_depth=3)</pre></div></div></div><div class=\"sk-serial\"><div class=\"sk-item\"><div class=\"sk-estimator sk-toggleable\"><input class=\"sk-toggleable__control sk-hidden--visually\" id=\"sk-estimator-id-6\" type=\"checkbox\" ><label for=\"sk-estimator-id-6\" class=\"sk-toggleable__label sk-toggleable__label-arrow\">DecisionTreeRegressor</label><div class=\"sk-toggleable__content\"><pre>DecisionTreeRegressor(max_depth=3)</pre></div></div></div></div></div></div></div></div></div></div>"
      ],
      "text/plain": [
       "BaggingRegressor(base_estimator=DecisionTreeRegressor(max_depth=3),\n",
       "                 n_estimators=100)"
      ]
     },
     "execution_count": 27,
     "metadata": {},
     "output_type": "execute_result"
    }
   ],
   "source": [
    "# bagging regressor\n",
    "bagged_trees = BaggingRegressor(\n",
    "    base_estimator = DecisionTreeRegressor(max_depth=3), n_estimators=100)\n",
    "bagged_trees.fit(X_train, y_train.values.ravel())"
   ]
  },
  {
   "cell_type": "code",
   "execution_count": 68,
   "metadata": {
    "tags": []
   },
   "outputs": [
    {
     "name": "stdout",
     "output_type": "stream",
     "text": [
      "RMSLE: 0.9311984969521092\n",
      "MAE: 6.426065917716058\n",
      "MedAE: 4.831723946101311\n",
      "MAPE: 464045531151146.25\n"
     ]
    }
   ],
   "source": [
    "# predict on train features\n",
    "bagged_pred_train = bagged_trees.predict(X_train)\n",
    "model_evals(y_train, bagged_pred_train)"
   ]
  },
  {
   "cell_type": "code",
   "execution_count": 70,
   "metadata": {
    "tags": []
   },
   "outputs": [
    {
     "name": "stdout",
     "output_type": "stream",
     "text": [
      "RMSLE: 0.9318232449132862\n",
      "MAE: 6.441883003606613\n",
      "MedAE: 4.831723946101311\n",
      "MAPE: 470627351978173.3\n"
     ]
    }
   ],
   "source": [
    "# predict on test features\n",
    "bagged_pred_test = bagged_trees.predict(X_test)\n",
    "model_evals_test('Bagging', y_test, bagged_pred_test)"
   ]
  },
  {
   "cell_type": "markdown",
   "metadata": {},
   "source": [
    "## AdaBoost"
   ]
  },
  {
   "cell_type": "code",
   "execution_count": 32,
   "metadata": {
    "tags": []
   },
   "outputs": [],
   "source": [
    "# train adaboost classifier\n",
    "abc = AdaBoostRegressor(\n",
    "    DecisionTreeRegressor(max_depth=1, criterion=\"squared_error\", \n",
    "                          min_samples_split=50, random_state=42), \n",
    "    n_estimators=100, random_state=42).fit(X_train, y_train.values.ravel())"
   ]
  },
  {
   "cell_type": "code",
   "execution_count": 34,
   "metadata": {
    "tags": []
   },
   "outputs": [
    {
     "name": "stdout",
     "output_type": "stream",
     "text": [
      "RMSLE: 1.2386611134497552\n",
      "MAE: 9.639688930313826\n",
      "MedAE: 8.493672714423834\n",
      "MAPE: 747736005059773.1\n"
     ]
    }
   ],
   "source": [
    "# predict on train features\n",
    "abc_pred_train = abc.predict(X_train)\n",
    "model_evals(y_train, abc_pred_train)"
   ]
  },
  {
   "cell_type": "code",
   "execution_count": 33,
   "metadata": {},
   "outputs": [
    {
     "name": "stdout",
     "output_type": "stream",
     "text": [
      "RMSLE: 1.257163192153694\n",
      "MAE: 10.046502425886548\n",
      "MedAE: 8.493672714423834\n",
      "MAPE: 760341892717934.0\n"
     ]
    }
   ],
   "source": [
    "# predict on test features new\n",
    "abc_pred_test = abc.predict(X_test)\n",
    "model_evals_test('AdaBoost', y_test, abc_pred_test)"
   ]
  },
  {
   "cell_type": "markdown",
   "metadata": {},
   "source": [
    "# Evaluation Dataframe & Visualization"
   ]
  },
  {
   "cell_type": "code",
   "execution_count": 88,
   "metadata": {
    "tags": []
   },
   "outputs": [],
   "source": [
    "# rmsle, mae, medae, mape\n",
    "# df_evals.drop([3], axis = 0, inplace = True)\n",
    "df_evals.reset_index(drop=True, inplace=True)"
   ]
  },
  {
   "cell_type": "code",
   "execution_count": 65,
   "metadata": {
    "tags": []
   },
   "outputs": [
    {
     "data": {
      "text/html": [
       "<div>\n",
       "<style scoped>\n",
       "    .dataframe tbody tr th:only-of-type {\n",
       "        vertical-align: middle;\n",
       "    }\n",
       "\n",
       "    .dataframe tbody tr th {\n",
       "        vertical-align: top;\n",
       "    }\n",
       "\n",
       "    .dataframe thead th {\n",
       "        text-align: right;\n",
       "    }\n",
       "</style>\n",
       "<table border=\"1\" class=\"dataframe\">\n",
       "  <thead>\n",
       "    <tr style=\"text-align: right;\">\n",
       "      <th></th>\n",
       "      <th>Model</th>\n",
       "      <th>RMSLE</th>\n",
       "      <th>MAE</th>\n",
       "      <th>MedAE</th>\n",
       "      <th>MAPE</th>\n",
       "    </tr>\n",
       "  </thead>\n",
       "  <tbody>\n",
       "    <tr>\n",
       "      <th>0</th>\n",
       "      <td>Linear Regression</td>\n",
       "      <td>0.896453</td>\n",
       "      <td>6.322293</td>\n",
       "      <td>3.556854</td>\n",
       "      <td>4.580727e+14</td>\n",
       "    </tr>\n",
       "    <tr>\n",
       "      <th>1</th>\n",
       "      <td>Lasso Regression</td>\n",
       "      <td>0.899771</td>\n",
       "      <td>6.353492</td>\n",
       "      <td>3.661482</td>\n",
       "      <td>4.599242e+14</td>\n",
       "    </tr>\n",
       "    <tr>\n",
       "      <th>2</th>\n",
       "      <td>Ridge Regression</td>\n",
       "      <td>0.896465</td>\n",
       "      <td>6.322351</td>\n",
       "      <td>3.556877</td>\n",
       "      <td>4.580800e+14</td>\n",
       "    </tr>\n",
       "    <tr>\n",
       "      <th>3</th>\n",
       "      <td>XGBoost</td>\n",
       "      <td>0.716399</td>\n",
       "      <td>4.884369</td>\n",
       "      <td>2.474169</td>\n",
       "      <td>3.752691e+14</td>\n",
       "    </tr>\n",
       "    <tr>\n",
       "      <th>4</th>\n",
       "      <td>Bagging</td>\n",
       "      <td>0.931823</td>\n",
       "      <td>6.441883</td>\n",
       "      <td>4.831724</td>\n",
       "      <td>4.706274e+14</td>\n",
       "    </tr>\n",
       "    <tr>\n",
       "      <th>5</th>\n",
       "      <td>AdaBoost</td>\n",
       "      <td>1.257163</td>\n",
       "      <td>10.046502</td>\n",
       "      <td>8.493673</td>\n",
       "      <td>7.603419e+14</td>\n",
       "    </tr>\n",
       "  </tbody>\n",
       "</table>\n",
       "</div>"
      ],
      "text/plain": [
       "               Model     RMSLE        MAE     MedAE          MAPE\n",
       "0  Linear Regression  0.896453   6.322293  3.556854  4.580727e+14\n",
       "1   Lasso Regression  0.899771   6.353492  3.661482  4.599242e+14\n",
       "2   Ridge Regression  0.896465   6.322351  3.556877  4.580800e+14\n",
       "3            XGBoost  0.716399   4.884369  2.474169  3.752691e+14\n",
       "4            Bagging  0.931823   6.441883  4.831724  4.706274e+14\n",
       "5           AdaBoost  1.257163  10.046502  8.493673  7.603419e+14"
      ]
     },
     "execution_count": 65,
     "metadata": {},
     "output_type": "execute_result"
    }
   ],
   "source": [
    "df_evals"
   ]
  },
  {
   "cell_type": "code",
   "execution_count": 64,
   "metadata": {
    "tags": []
   },
   "outputs": [],
   "source": [
    "# save the evals\n",
    "df_evals.to_csv('models_evals.csv', encoding='utf-8', index=False)\n",
    "# df_evals = pd.read_csv('models_evals.csv', index_col=0)"
   ]
  },
  {
   "cell_type": "markdown",
   "metadata": {},
   "source": [
    "# Compare Models"
   ]
  },
  {
   "cell_type": "code",
   "execution_count": 66,
   "metadata": {
    "tags": []
   },
   "outputs": [],
   "source": [
    "# create/display dataframe with all the evaluation metrics\n",
    "# print(plt.style.available)\n",
    "plt.style.use('seaborn-v0_8-pastel')"
   ]
  },
  {
   "cell_type": "code",
   "execution_count": 67,
   "metadata": {
    "tags": []
   },
   "outputs": [
    {
     "data": {
      "image/png": "[encoded data removed]",
      "text/plain": [
       "<Figure size 640x480 with 1 Axes>"
      ]
     },
     "metadata": {},
     "output_type": "display_data"
    }
   ],
   "source": [
    "plt.bar(range(6), df_evals['RMSLE'], tick_label=df_evals['Model'],\n",
    "       color='sandybrown')\n",
    "plt.title(\"Model RMSLE\")\n",
    "plt.xlabel(\"Models\")\n",
    "plt.ylabel(\"RMSLE\")\n",
    "plt.xticks(rotation=90)\n",
    "plt.show()"
   ]
  },
  {
   "cell_type": "code",
   "execution_count": 68,
   "metadata": {
    "tags": []
   },
   "outputs": [
    {
     "data": {
      "image/png": "[encoded data removed]",
      "text/plain": [
       "<Figure size 640x480 with 1 Axes>"
      ]
     },
     "metadata": {},
     "output_type": "display_data"
    }
   ],
   "source": [
    "plt.bar(range(6), df_evals['MAE'], tick_label=df_evals['Model'],\n",
    "       color='orange')\n",
    "plt.title(\"Model MAE\")\n",
    "plt.xlabel(\"Models\")\n",
    "plt.ylabel(\"MAE\")\n",
    "plt.xticks(rotation=90)\n",
    "plt.show()"
   ]
  },
  {
   "cell_type": "code",
   "execution_count": 69,
   "metadata": {
    "tags": []
   },
   "outputs": [
    {
     "data": {
      "image/png": "[encoded data removed]",
      "text/plain": [
       "<Figure size 640x480 with 1 Axes>"
      ]
     },
     "metadata": {},
     "output_type": "display_data"
    }
   ],
   "source": [
    "plt.bar(range(6), df_evals['MedAE'], tick_label=df_evals['Model'],\n",
    "       color='peru')\n",
    "plt.title(\"Model MedAE\")\n",
    "plt.xlabel(\"Models\")\n",
    "plt.ylabel(\"MedAE\")\n",
    "plt.xticks(rotation=90)\n",
    "plt.show()"
   ]
  },
  {
   "cell_type": "markdown",
   "metadata": {},
   "source": [
    "# Feature Importance in the best model"
   ]
  },
  {
   "cell_type": "code",
   "execution_count": 95,
   "metadata": {
    "tags": []
   },
   "outputs": [],
   "source": [
    "# methods vary\n",
    "# for xgboost - information gain feature importances, there should be a function/method for this\n",
    "feat_imp = xgb_model.feature_importances_\n",
    "feat_list = list(X_train.columns)"
   ]
  },
  {
   "cell_type": "code",
   "execution_count": 105,
   "metadata": {
    "tags": []
   },
   "outputs": [
    {
     "data": {
      "image/png": "[encoded data removed]",
      "text/plain": [
       "<Figure size 3000x600 with 1 Axes>"
      ]
     },
     "metadata": {},
     "output_type": "display_data"
    }
   ],
   "source": [
    "plt.figure(figsize=(30,6))\n",
    "plt.bar(range(len(feat_imp)), feat_imp, tick_label = feat_list,\n",
    "       color='sandybrown')\n",
    "plt.title(\"XGBoost Information Gain Feature Importances\")\n",
    "plt.xlabel(\"Features\")\n",
    "plt.ylabel(\"Importance Gain Scores\")\n",
    "plt.xticks(rotation=90)\n",
    "plt.show()"
   ]
  },
  {
   "cell_type": "code",
   "execution_count": 108,
   "metadata": {
    "tags": []
   },
   "outputs": [],
   "source": [
    "# Order the features based on their importance\n",
    "df_feature_importance = pd.DataFrame({'Feature': feat_list , 'Importance': feat_imp})\n",
    "df_feature_importance.sort_values(by = ['Importance'], ascending = False, inplace = True)"
   ]
  },
  {
   "cell_type": "code",
   "execution_count": 120,
   "metadata": {
    "tags": []
   },
   "outputs": [
    {
     "data": {
      "text/html": [
       "<div>\n",
       "<style scoped>\n",
       "    .dataframe tbody tr th:only-of-type {\n",
       "        vertical-align: middle;\n",
       "    }\n",
       "\n",
       "    .dataframe tbody tr th {\n",
       "        vertical-align: top;\n",
       "    }\n",
       "\n",
       "    .dataframe thead th {\n",
       "        text-align: right;\n",
       "    }\n",
       "</style>\n",
       "<table border=\"1\" class=\"dataframe\">\n",
       "  <thead>\n",
       "    <tr style=\"text-align: right;\">\n",
       "      <th></th>\n",
       "      <th>Feature</th>\n",
       "      <th>Importance</th>\n",
       "    </tr>\n",
       "  </thead>\n",
       "  <tbody>\n",
       "    <tr>\n",
       "      <th>0</th>\n",
       "      <td>brand_BAR</td>\n",
       "      <td>0.120298</td>\n",
       "    </tr>\n",
       "    <tr>\n",
       "      <th>1</th>\n",
       "      <td>brand_CC</td>\n",
       "      <td>0.084348</td>\n",
       "    </tr>\n",
       "    <tr>\n",
       "      <th>2</th>\n",
       "      <td>state_QUERETARO</td>\n",
       "      <td>0.069850</td>\n",
       "    </tr>\n",
       "    <tr>\n",
       "      <th>3</th>\n",
       "      <td>brand_MTA LON</td>\n",
       "      <td>0.058350</td>\n",
       "    </tr>\n",
       "    <tr>\n",
       "      <th>4</th>\n",
       "      <td>brand_TNB BIM</td>\n",
       "      <td>0.041204</td>\n",
       "    </tr>\n",
       "    <tr>\n",
       "      <th>5</th>\n",
       "      <td>product_Pastry</td>\n",
       "      <td>0.030590</td>\n",
       "    </tr>\n",
       "    <tr>\n",
       "      <th>6</th>\n",
       "      <td>state_SINALOA</td>\n",
       "      <td>0.028307</td>\n",
       "    </tr>\n",
       "    <tr>\n",
       "      <th>7</th>\n",
       "      <td>state_PUEBLA</td>\n",
       "      <td>0.026467</td>\n",
       "    </tr>\n",
       "    <tr>\n",
       "      <th>8</th>\n",
       "      <td>brand_DH</td>\n",
       "      <td>0.025971</td>\n",
       "    </tr>\n",
       "    <tr>\n",
       "      <th>9</th>\n",
       "      <td>state_BAJA CALIFORNIA NORTE</td>\n",
       "      <td>0.025872</td>\n",
       "    </tr>\n",
       "    <tr>\n",
       "      <th>10</th>\n",
       "      <td>brand_MTB MLA</td>\n",
       "      <td>0.023099</td>\n",
       "    </tr>\n",
       "    <tr>\n",
       "      <th>11</th>\n",
       "      <td>product_Other</td>\n",
       "      <td>0.018366</td>\n",
       "    </tr>\n",
       "    <tr>\n",
       "      <th>12</th>\n",
       "      <td>brand_CU LON</td>\n",
       "      <td>0.017755</td>\n",
       "    </tr>\n",
       "    <tr>\n",
       "      <th>13</th>\n",
       "      <td>brand_TAB BIM</td>\n",
       "      <td>0.017302</td>\n",
       "    </tr>\n",
       "    <tr>\n",
       "      <th>14</th>\n",
       "      <td>product_Cookies</td>\n",
       "      <td>0.016527</td>\n",
       "    </tr>\n",
       "    <tr>\n",
       "      <th>15</th>\n",
       "      <td>brand_MTA WON</td>\n",
       "      <td>0.015913</td>\n",
       "    </tr>\n",
       "    <tr>\n",
       "      <th>16</th>\n",
       "      <td>state_Queretaro de Arteaga</td>\n",
       "      <td>0.015825</td>\n",
       "    </tr>\n",
       "    <tr>\n",
       "      <th>17</th>\n",
       "      <td>brand_RIC</td>\n",
       "      <td>0.015726</td>\n",
       "    </tr>\n",
       "    <tr>\n",
       "      <th>18</th>\n",
       "      <td>brand_MLA</td>\n",
       "      <td>0.014243</td>\n",
       "    </tr>\n",
       "    <tr>\n",
       "      <th>19</th>\n",
       "      <td>brand_MTA TR</td>\n",
       "      <td>0.013777</td>\n",
       "    </tr>\n",
       "  </tbody>\n",
       "</table>\n",
       "</div>"
      ],
      "text/plain": [
       "                        Feature  Importance\n",
       "0                     brand_BAR    0.120298\n",
       "1                      brand_CC    0.084348\n",
       "2               state_QUERETARO    0.069850\n",
       "3                 brand_MTA LON    0.058350\n",
       "4                 brand_TNB BIM    0.041204\n",
       "5                product_Pastry    0.030590\n",
       "6                 state_SINALOA    0.028307\n",
       "7                  state_PUEBLA    0.026467\n",
       "8                      brand_DH    0.025971\n",
       "9   state_BAJA CALIFORNIA NORTE    0.025872\n",
       "10                brand_MTB MLA    0.023099\n",
       "11                product_Other    0.018366\n",
       "12                 brand_CU LON    0.017755\n",
       "13                brand_TAB BIM    0.017302\n",
       "14              product_Cookies    0.016527\n",
       "15                brand_MTA WON    0.015913\n",
       "16   state_Queretaro de Arteaga    0.015825\n",
       "17                    brand_RIC    0.015726\n",
       "18                    brand_MLA    0.014243\n",
       "19                 brand_MTA TR    0.013777"
      ]
     },
     "execution_count": 120,
     "metadata": {},
     "output_type": "execute_result"
    }
   ],
   "source": [
    "top_20_feature = df_feature_importance[:20]\n",
    "top_20_feature.reset_index(drop=True, inplace=True)\n",
    "top_20_feature"
   ]
  },
  {
   "cell_type": "code",
   "execution_count": 74,
   "metadata": {},
   "outputs": [
    {
     "data": {
      "image/png": "[encoded data removed]",
      "text/plain": [
       "<Figure size 1000x600 with 1 Axes>"
      ]
     },
     "metadata": {},
     "output_type": "display_data"
    }
   ],
   "source": [
    "# top 20 features\n",
    "plt.figure(figsize=(10,6))\n",
    "plt.bar(range(len(top_20_feature['Feature'])), top_20_feature['Importance'], tick_label = top_20_feature['Feature'],\n",
    "       color='sandybrown')\n",
    "plt.title(\"Top 20 XGBoost Information Gain Feature Importances\")\n",
    "plt.xlabel(\"Features\")\n",
    "plt.ylabel(\"Importance Gain Scores\")\n",
    "plt.xticks(rotation=90)\n",
    "plt.show()"
   ]
  },
  {
   "cell_type": "code",
   "execution_count": 75,
   "metadata": {},
   "outputs": [],
   "source": [
    "# save the evals\n",
    "# df_feature_importance.to_csv('df_feature_importance.csv', encoding='utf-8')"
   ]
  }
 ],
 "metadata": {
  "colab": {
   "machine_shape": "hm",
   "provenance": [],
   "toc_visible": true
  },
  "kernelspec": {
   "display_name": "Python 3 (ipykernel)",
   "language": "python",
   "name": "python3"
  },
  "language_info": {
   "codemirror_mode": {
    "name": "ipython",
    "version": 3
   },
   "file_extension": ".py",
   "mimetype": "text/x-python",
   "name": "python",
   "nbconvert_exporter": "python",
   "pygments_lexer": "ipython3",
   "version": "3.8.13"
  }
 },
 "nbformat": 4,
 "nbformat_minor": 4
}
