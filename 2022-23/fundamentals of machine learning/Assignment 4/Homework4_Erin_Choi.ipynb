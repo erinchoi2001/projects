{
 "cells": [
  {
   "cell_type": "markdown",
   "id": "c05d0596-b233-4179-a490-0301bcd71a35",
   "metadata": {},
   "source": [
    "# FML Homework 4 - Erin Choi"
   ]
  },
  {
   "cell_type": "markdown",
   "id": "494a8eec-0eba-4d09-ab00-023eab47b39a",
   "metadata": {},
   "source": [
    "## Data Preprocessing"
   ]
  },
  {
   "cell_type": "code",
   "execution_count": 1,
   "id": "81f73014-d070-47d6-bfd0-28eed6adfdfb",
   "metadata": {},
   "outputs": [],
   "source": [
    "# import packages - general\n",
    "import numpy as np\n",
    "import pandas as pd\n",
    "import matplotlib.pyplot as plt\n",
    "from IPython import display\n",
    "from sklearn import metrics, model_selection, tree, utils\n",
    "\n",
    "# preprocessing\n",
    "from sklearn.preprocessing import MinMaxScaler\n",
    "from sklearn.model_selection import StratifiedShuffleSplit, train_test_split\n",
    "\n",
    "# evaluation\n",
    "from sklearn.metrics import f1_score, accuracy_score, precision_score, recall_score, confusion_matrix\n",
    "from sklearn.metrics import roc_auc_score, average_precision_score, roc_curve, precision_recall_curve\n",
    "from sklearn.metrics import mean_squared_error\n",
    "\n",
    "# for perceptron\n",
    "from sklearn.linear_model import Perceptron\n",
    "\n",
    "# for NNs\n",
    "import random\n",
    "import torch\n",
    "from torch import nn, optim\n",
    "import math"
   ]
  },
  {
   "cell_type": "code",
   "execution_count": 2,
   "id": "e42a6441-a125-4c9c-ad20-8e8236cf8b04",
   "metadata": {},
   "outputs": [
    {
     "data": {
      "text/plain": [
       "<torch._C.Generator at 0x7fb501d3c3f0>"
      ]
     },
     "execution_count": 2,
     "metadata": {},
     "output_type": "execute_result"
    }
   ],
   "source": [
    "seed = 42\n",
    "random.seed(seed)\n",
    "np.random.seed(seed)\n",
    "torch.manual_seed(seed)"
   ]
  },
  {
   "cell_type": "code",
   "execution_count": 3,
   "id": "59f2b0a3-b4e7-4da2-85d9-56cebf76288b",
   "metadata": {},
   "outputs": [
    {
     "data": {
      "text/html": [
       "<div>\n",
       "<style scoped>\n",
       "    .dataframe tbody tr th:only-of-type {\n",
       "        vertical-align: middle;\n",
       "    }\n",
       "\n",
       "    .dataframe tbody tr th {\n",
       "        vertical-align: top;\n",
       "    }\n",
       "\n",
       "    .dataframe thead th {\n",
       "        text-align: right;\n",
       "    }\n",
       "</style>\n",
       "<table border=\"1\" class=\"dataframe\">\n",
       "  <thead>\n",
       "    <tr style=\"text-align: right;\">\n",
       "      <th></th>\n",
       "      <th>Diabetes</th>\n",
       "      <th>HighBP</th>\n",
       "      <th>HighChol</th>\n",
       "      <th>BMI</th>\n",
       "      <th>Smoker</th>\n",
       "      <th>Stroke</th>\n",
       "      <th>Myocardial</th>\n",
       "      <th>PhysActivity</th>\n",
       "      <th>Fruit</th>\n",
       "      <th>Vegetables</th>\n",
       "      <th>...</th>\n",
       "      <th>HasHealthcare</th>\n",
       "      <th>NotAbleToAffordDoctor</th>\n",
       "      <th>GeneralHealth</th>\n",
       "      <th>MentalHealth</th>\n",
       "      <th>PhysicalHealth</th>\n",
       "      <th>HardToClimbStairs</th>\n",
       "      <th>BiologicalSex</th>\n",
       "      <th>AgeBracket</th>\n",
       "      <th>EducationBracket</th>\n",
       "      <th>IncomeBracket</th>\n",
       "    </tr>\n",
       "  </thead>\n",
       "  <tbody>\n",
       "    <tr>\n",
       "      <th>0</th>\n",
       "      <td>0</td>\n",
       "      <td>1</td>\n",
       "      <td>1</td>\n",
       "      <td>40</td>\n",
       "      <td>1</td>\n",
       "      <td>0</td>\n",
       "      <td>0</td>\n",
       "      <td>0</td>\n",
       "      <td>0</td>\n",
       "      <td>1</td>\n",
       "      <td>...</td>\n",
       "      <td>1</td>\n",
       "      <td>0</td>\n",
       "      <td>5</td>\n",
       "      <td>18</td>\n",
       "      <td>15</td>\n",
       "      <td>1</td>\n",
       "      <td>1</td>\n",
       "      <td>9</td>\n",
       "      <td>4</td>\n",
       "      <td>3</td>\n",
       "    </tr>\n",
       "    <tr>\n",
       "      <th>1</th>\n",
       "      <td>0</td>\n",
       "      <td>0</td>\n",
       "      <td>0</td>\n",
       "      <td>25</td>\n",
       "      <td>1</td>\n",
       "      <td>0</td>\n",
       "      <td>0</td>\n",
       "      <td>1</td>\n",
       "      <td>0</td>\n",
       "      <td>0</td>\n",
       "      <td>...</td>\n",
       "      <td>0</td>\n",
       "      <td>1</td>\n",
       "      <td>3</td>\n",
       "      <td>0</td>\n",
       "      <td>0</td>\n",
       "      <td>0</td>\n",
       "      <td>1</td>\n",
       "      <td>7</td>\n",
       "      <td>6</td>\n",
       "      <td>1</td>\n",
       "    </tr>\n",
       "    <tr>\n",
       "      <th>2</th>\n",
       "      <td>0</td>\n",
       "      <td>1</td>\n",
       "      <td>1</td>\n",
       "      <td>28</td>\n",
       "      <td>0</td>\n",
       "      <td>0</td>\n",
       "      <td>0</td>\n",
       "      <td>0</td>\n",
       "      <td>1</td>\n",
       "      <td>0</td>\n",
       "      <td>...</td>\n",
       "      <td>1</td>\n",
       "      <td>1</td>\n",
       "      <td>5</td>\n",
       "      <td>30</td>\n",
       "      <td>30</td>\n",
       "      <td>1</td>\n",
       "      <td>1</td>\n",
       "      <td>9</td>\n",
       "      <td>4</td>\n",
       "      <td>8</td>\n",
       "    </tr>\n",
       "    <tr>\n",
       "      <th>3</th>\n",
       "      <td>0</td>\n",
       "      <td>1</td>\n",
       "      <td>0</td>\n",
       "      <td>27</td>\n",
       "      <td>0</td>\n",
       "      <td>0</td>\n",
       "      <td>0</td>\n",
       "      <td>1</td>\n",
       "      <td>1</td>\n",
       "      <td>1</td>\n",
       "      <td>...</td>\n",
       "      <td>1</td>\n",
       "      <td>0</td>\n",
       "      <td>2</td>\n",
       "      <td>0</td>\n",
       "      <td>0</td>\n",
       "      <td>0</td>\n",
       "      <td>1</td>\n",
       "      <td>11</td>\n",
       "      <td>3</td>\n",
       "      <td>6</td>\n",
       "    </tr>\n",
       "    <tr>\n",
       "      <th>4</th>\n",
       "      <td>0</td>\n",
       "      <td>1</td>\n",
       "      <td>1</td>\n",
       "      <td>24</td>\n",
       "      <td>0</td>\n",
       "      <td>0</td>\n",
       "      <td>0</td>\n",
       "      <td>1</td>\n",
       "      <td>1</td>\n",
       "      <td>1</td>\n",
       "      <td>...</td>\n",
       "      <td>1</td>\n",
       "      <td>0</td>\n",
       "      <td>2</td>\n",
       "      <td>3</td>\n",
       "      <td>0</td>\n",
       "      <td>0</td>\n",
       "      <td>1</td>\n",
       "      <td>11</td>\n",
       "      <td>5</td>\n",
       "      <td>4</td>\n",
       "    </tr>\n",
       "  </tbody>\n",
       "</table>\n",
       "<p>5 rows × 21 columns</p>\n",
       "</div>"
      ],
      "text/plain": [
       "   Diabetes  HighBP  HighChol  BMI  Smoker  Stroke  Myocardial  PhysActivity  \\\n",
       "0         0       1         1   40       1       0           0             0   \n",
       "1         0       0         0   25       1       0           0             1   \n",
       "2         0       1         1   28       0       0           0             0   \n",
       "3         0       1         0   27       0       0           0             1   \n",
       "4         0       1         1   24       0       0           0             1   \n",
       "\n",
       "   Fruit  Vegetables  ...  HasHealthcare  NotAbleToAffordDoctor  \\\n",
       "0      0           1  ...              1                      0   \n",
       "1      0           0  ...              0                      1   \n",
       "2      1           0  ...              1                      1   \n",
       "3      1           1  ...              1                      0   \n",
       "4      1           1  ...              1                      0   \n",
       "\n",
       "   GeneralHealth  MentalHealth  PhysicalHealth  HardToClimbStairs  \\\n",
       "0              5            18              15                  1   \n",
       "1              3             0               0                  0   \n",
       "2              5            30              30                  1   \n",
       "3              2             0               0                  0   \n",
       "4              2             3               0                  0   \n",
       "\n",
       "   BiologicalSex  AgeBracket  EducationBracket  IncomeBracket  \n",
       "0              1           9                 4              3  \n",
       "1              1           7                 6              1  \n",
       "2              1           9                 4              8  \n",
       "3              1          11                 3              6  \n",
       "4              1          11                 5              4  \n",
       "\n",
       "[5 rows x 21 columns]"
      ]
     },
     "execution_count": 3,
     "metadata": {},
     "output_type": "execute_result"
    }
   ],
   "source": [
    "# preprocess data in pandas\n",
    "data = pd.read_csv('diabetes.csv', encoding='utf-8')\n",
    "\n",
    "# change biologicalsex to 0/1 rather than 1/2 binary\n",
    "data.loc[(data['BiologicalSex']==2, 'BiologicalSex')] = 0\n",
    "\n",
    "# drop zodiac\n",
    "data.drop(columns=['Zodiac'], inplace=True)\n",
    "    \n",
    "data.head()"
   ]
  },
  {
   "cell_type": "code",
   "execution_count": 158,
   "id": "5f0c9980-ef96-4cbf-84bf-f50f09c6da0d",
   "metadata": {},
   "outputs": [
    {
     "data": {
      "text/plain": [
       "(253680, 21)"
      ]
     },
     "execution_count": 158,
     "metadata": {},
     "output_type": "execute_result"
    }
   ],
   "source": [
    "data.shape"
   ]
  },
  {
   "cell_type": "code",
   "execution_count": 118,
   "id": "34565ad7-234f-4141-8fc5-3369729583dc",
   "metadata": {},
   "outputs": [],
   "source": [
    "# separate features from target\n",
    "dataX = data.copy().drop(columns=['Diabetes'])\n",
    "dataY = pd.DataFrame(data.copy()['Diabetes'])"
   ]
  },
  {
   "cell_type": "code",
   "execution_count": 119,
   "id": "24eb40a3-5c43-4478-b7c2-a73358079931",
   "metadata": {},
   "outputs": [
    {
     "name": "stdout",
     "output_type": "stream",
     "text": [
      "(202944, 20) (50736, 20) (202944, 1) (50736, 1)\n"
     ]
    }
   ],
   "source": [
    "# split data into train/test sets using StratifiedShuffleSplit\n",
    "# to make sure sets have the same proportion of diabetes classes\n",
    "split = StratifiedShuffleSplit(n_splits = 1, test_size = 0.2, random_state=42)\n",
    "for train_index, test_index in split.split(dataX, dataY):\n",
    "    xTrain = dataX.loc[train_index]\n",
    "    yTrain = dataY.loc[train_index]\n",
    "    xTest = dataX.loc[test_index]\n",
    "    yTest = dataY.loc[test_index]\n",
    "    \n",
    "print(xTrain.shape, xTest.shape, yTrain.shape, yTest.shape)"
   ]
  },
  {
   "cell_type": "code",
   "execution_count": 120,
   "id": "adf5cab6-c160-4dcd-b19a-c4d5516ff616",
   "metadata": {},
   "outputs": [],
   "source": [
    "# scale continuous & ordinal features using MinMaxScaler\n",
    "# so they're between 0 and 1 (as binary variables are 0/1)\n",
    "# scaling happens after the train/test split to prevent data leakage\n",
    "\n",
    "contord = ['GeneralHealth', 'AgeBracket', 'EducationBracket', 'IncomeBracket',\n",
    "                     'BMI', 'MentalHealth', 'PhysicalHealth']\n",
    "\n",
    "scaler = MinMaxScaler()\n",
    "xTrain_scaled = scaler.fit_transform(pd.DataFrame(xTrain[contord]))\n",
    "for i in range(len(contord)):\n",
    "    xTrain[contord[i]] = xTrain_scaled[:,i]\n",
    "    \n",
    "xTest_scaled = scaler.transform(pd.DataFrame(xTest[contord]))\n",
    "for i in range(len(contord)):\n",
    "    xTest[contord[i]] = xTest_scaled[:,i]"
   ]
  },
  {
   "cell_type": "code",
   "execution_count": 121,
   "id": "98b7a802-a679-49d7-b794-0c6e71a61b5a",
   "metadata": {},
   "outputs": [],
   "source": [
    "# turn dfs to numpy arrays, turn arrays into tensors\n",
    "xTrainT = torch.tensor(np.array(xTrain), dtype=torch.float32)\n",
    "xTestT = torch.tensor(np.array(xTest), dtype=torch.float32)\n",
    "yTrainT = torch.flatten(torch.tensor(np.array(yTrain), dtype=torch.float32))\n",
    "yTrainT = yTrainT.long()\n",
    "yTestT = torch.flatten(torch.tensor(np.array(yTest), dtype=torch.float32))\n",
    "yTestT = yTestT.long()"
   ]
  },
  {
   "cell_type": "markdown",
   "id": "ec6e83e6-75f7-48e3-92fb-0bbe58154543",
   "metadata": {},
   "source": [
    "## Question 1\n",
    "**Build and train a Perceptron (one input layer, one output layer, no hidden layers and\n",
    "no activation functions) to classify diabetes from the rest of the dataset. What is the\n",
    "AUC of this model?**"
   ]
  },
  {
   "cell_type": "code",
   "execution_count": 8,
   "id": "35011d19-7c5c-45d8-bdc2-f598a2e36f39",
   "metadata": {},
   "outputs": [
    {
     "name": "stdout",
     "output_type": "stream",
     "text": [
      "Perceptron\n",
      "AUROC = 0.798\n",
      "AUPRC = 0.367\n",
      "Accuracy = 0.761\n",
      "F1 Score = 0.433\n",
      "Confusion matrix:\n",
      " [[34005  9662]\n",
      " [ 2441  4628]]\n"
     ]
    }
   ],
   "source": [
    "# build and train perceptron \n",
    "perc = Perceptron(\n",
    "            random_state=42, \n",
    "            class_weight=\"balanced\", \n",
    "            max_iter=100\n",
    "        ).fit(xTrain, yTrain.values.flatten())\n",
    "# changing the penalty/alpha did not improve the AUC\n",
    "# decreasing max_iter to 100 from the default 1000 did not change the results\n",
    "\n",
    "# predict and evaluate on test set\n",
    "yPred_perc = perc.predict(xTest)\n",
    "yProb_perc = perc.decision_function(xTest)\n",
    "\n",
    "print(\"Perceptron\")\n",
    "\n",
    "auroc_perc = roc_auc_score(yTest, yProb_perc)\n",
    "print(\"AUROC = {:0.3f}\".format(auroc_perc))\n",
    "\n",
    "auprc_perc = average_precision_score(yTest, yProb_perc)\n",
    "print(\"AUPRC = {:0.3f}\".format(auprc_perc))\n",
    "\n",
    "acc_perc = accuracy_score(yTest, yPred_perc)\n",
    "print(\"Accuracy = {:0.3f}\".format(acc_perc))\n",
    "\n",
    "f1_perc = f1_score(yTest, yPred_perc)\n",
    "print(\"F1 Score = {:0.3f}\".format(f1_perc))\n",
    "\n",
    "print(\"Confusion matrix:\\n\", confusion_matrix(yTest, yPred_perc))\n",
    "# tn fp / fn tp"
   ]
  },
  {
   "cell_type": "markdown",
   "id": "8253e2bc-2a46-4890-90fb-ba88b6606d50",
   "metadata": {},
   "source": [
    "The AUROC of the model is 0.798, and the AUPRC is 0.367.\n",
    "\n",
    "Changing the seed to several different values from my default seed of 42 generally gave worse results for all metrics; one seed (37) gave slightly higher AUROC and AUPRC scores, but at a huge expense in terms of accuracy (dropped to 0.354) and F1 score (0.297).\n",
    "\n",
    "This is improved from the original results for the default Perceptron model:\n",
    "* AUROC = 0.775\n",
    "* AUPRC = 0.341\n",
    "* Accuracy = 0.861\n",
    "* F1 Score = 0.035\n",
    "* Confusion matrix:\n",
    "     [[43539   128]\n",
    "     [ 6940   129]]"
   ]
  },
  {
   "cell_type": "code",
   "execution_count": 9,
   "id": "16a2ddad-df8e-4089-83d4-6c1976b59ee1",
   "metadata": {},
   "outputs": [
    {
     "data": {
      "image/png": "[encoded data removed]",
      "text/plain": [
       "<Figure size 640x480 with 1 Axes>"
      ]
     },
     "metadata": {},
     "output_type": "display_data"
    }
   ],
   "source": [
    "# plot ROC curve\n",
    "fpr, tpr, thresholds = roc_curve(yTest, yProb_perc)\n",
    "plt.plot(fpr, tpr, color='orange', label='ROC')\n",
    "plt.plot([0, 1], [0, 1], color='darkblue', linestyle='--',label='ROC curve (area = %0.3f)' % auroc_perc)\n",
    "plt.xlabel('False Positive Rate')\n",
    "plt.ylabel('True Positive Rate')\n",
    "plt.title('ROC Curve for Perceptron')\n",
    "plt.legend()\n",
    "plt.show()"
   ]
  },
  {
   "cell_type": "code",
   "execution_count": 10,
   "id": "7be680f1-7364-4d6e-9f40-30259e31ffce",
   "metadata": {},
   "outputs": [
    {
     "data": {
      "image/png": "[encoded data removed]",
      "text/plain": [
       "<Figure size 640x480 with 1 Axes>"
      ]
     },
     "metadata": {},
     "output_type": "display_data"
    }
   ],
   "source": [
    "# plot PR curve\n",
    "prec, rec, thresholds = precision_recall_curve(yTest, yProb_perc)\n",
    "plt.plot(rec, prec, color='orange', label='PR curve (area = %0.3f)' % auprc_perc)\n",
    "plt.xlabel('Recall')\n",
    "plt.ylabel('Precision')\n",
    "plt.title('PR Curve for Perceptron')\n",
    "plt.legend()\n",
    "plt.show()"
   ]
  },
  {
   "cell_type": "markdown",
   "id": "bb71f039-99ce-453c-88f7-a2ffb348ef65",
   "metadata": {},
   "source": [
    "## Question 2\n",
    "**Build and train a feedforward neural network with at least one hidden layer to classify\n",
    "diabetes from the rest of the dataset. Make sure to try different numbers of hidden\n",
    "layers and different activation functions (at a minimum reLU and sigmoid). Doing so:\n",
    "How does AUC vary as a function of the number of hidden layers and is it dependent\n",
    "on the kind of activation function used (make sure to include “no activation function”\n",
    "in your comparison). How does this network perform relative to the Perceptron?**"
   ]
  },
  {
   "cell_type": "markdown",
   "id": "ea70c350-4d27-4bfc-8c11-deceb3aea88e",
   "metadata": {},
   "source": [
    "* diff # hidden layers\n",
    "* diff hidden size (# units in layers)\n",
    "* activation = relu & sigmoid & none\n",
    "* num epochs\n",
    "* learning rate\n",
    "* (X batch size)"
   ]
  },
  {
   "cell_type": "code",
   "execution_count": 122,
   "id": "c08acc00-e402-4412-a80b-424047f0afa6",
   "metadata": {},
   "outputs": [],
   "source": [
    "# define parameters\n",
    "learning_rate = 1e-3\n",
    "num_epochs = 500\n",
    "\n",
    "D = 20  # dimensions of input - 20 features\n",
    "C = 2  # num_classes - 2 for diabetes 0/1, 1 for regression\n",
    "H = 100 # num_hidden_units - try [10, 25, 50, 100] later\n",
    "\n",
    "# compute class weights for imbalanced classes to pass to criterion/loss function\n",
    "class_weights = utils.class_weight.compute_class_weight(class_weight='balanced', classes=np.unique(yTrain), y=yTrain.values.flatten())\n",
    "class_weights = torch.tensor(class_weights, dtype=torch.float32)\n",
    "\n",
    "# observe training loss - init model with 20 hidden size, not going down at some point\n",
    "# so model doesn't have enough capacity to improve - increase # of layers or the # of units in layer\n",
    "# validation is bad but training is good - overfitting, decrease the #"
   ]
  },
  {
   "cell_type": "code",
   "execution_count": 96,
   "id": "d98d3101-6679-4ef6-b06c-db6f81304b11",
   "metadata": {},
   "outputs": [],
   "source": [
    "# define neural network models\n",
    "torch.manual_seed(seed)\n",
    "\n",
    "# no activation function\n",
    "\n",
    "# 1 HL\n",
    "model1_none = nn.Sequential(\n",
    "    nn.Linear(D, H),\n",
    "    nn.Linear(H, C)\n",
    ")\n",
    "\n",
    "# 2 HL\n",
    "model2_none = nn.Sequential(\n",
    "    nn.Linear(D, H),\n",
    "    nn.Linear(H, H),\n",
    "    nn.Linear(H, C)\n",
    ")\n",
    "\n",
    "# 3 HL\n",
    "model3_none = nn.Sequential(\n",
    "    nn.Linear(D, H),\n",
    "    nn.Linear(H, H),\n",
    "    nn.Linear(H, H),\n",
    "    nn.Linear(H, C)\n",
    ")\n",
    "\n",
    "# relu as activation function\n",
    "\n",
    "# 1 HL\n",
    "model1_relu = nn.Sequential(\n",
    "    nn.Linear(D, H),\n",
    "    nn.ReLU(),\n",
    "    nn.Linear(H, C)\n",
    ")\n",
    "\n",
    "# 2 HL\n",
    "model2_relu = nn.Sequential(\n",
    "    nn.Linear(D, H),\n",
    "    nn.ReLU(),\n",
    "    nn.Linear(H, H),\n",
    "    nn.ReLU(),\n",
    "    nn.Linear(H, C)\n",
    ")\n",
    "\n",
    "# 3 HL\n",
    "model3_relu = nn.Sequential(\n",
    "    nn.Linear(D, H),\n",
    "    nn.ReLU(),\n",
    "    nn.Linear(H, H),\n",
    "    nn.ReLU(),\n",
    "    nn.Linear(H, H),\n",
    "    nn.ReLU(),\n",
    "    nn.Linear(H, C)\n",
    ")\n",
    "\n",
    "# sigmoid as activation function\n",
    "\n",
    "# 1 HL\n",
    "model1_sig = nn.Sequential(\n",
    "    nn.Linear(D, H),\n",
    "    nn.Sigmoid(),\n",
    "    nn.Linear(H, C)\n",
    ")\n",
    "\n",
    "# 2 HL\n",
    "model2_sig = nn.Sequential(\n",
    "    nn.Linear(D, H),\n",
    "    nn.Sigmoid(),\n",
    "    nn.Linear(H, H),\n",
    "    nn.Sigmoid(),\n",
    "    nn.Linear(H, C)\n",
    ")\n",
    "\n",
    "# 3 HL\n",
    "model3_sig = nn.Sequential(\n",
    "    nn.Linear(D, H),\n",
    "    nn.Sigmoid(),\n",
    "    nn.Linear(H, H),\n",
    "    nn.Sigmoid(),\n",
    "    nn.Linear(H, H),\n",
    "    nn.Sigmoid(),\n",
    "    nn.Linear(H, C)\n",
    ")\n",
    "\n",
    "# put all models in a list\n",
    "q2_models = [model1_none, model2_none, model3_none,\n",
    "             model1_relu, model2_relu, model3_relu,\n",
    "             model1_sig, model2_sig, model3_sig]"
   ]
  },
  {
   "cell_type": "code",
   "execution_count": 146,
   "id": "e7638f6a-14ae-4c05-8321-ff4fd23cbf9d",
   "metadata": {},
   "outputs": [],
   "source": [
    "# use cross entropy loss for classification\n",
    "criterion = torch.nn.CrossEntropyLoss(weight=class_weights)\n",
    "\n",
    "# define a training loop\n",
    "def q2_train(model, num_epochs, modelnum):\n",
    "    \n",
    "    model.train()\n",
    "    \n",
    "    criterion = torch.nn.CrossEntropyLoss(weight=class_weights)\n",
    "    # stochastic gradient descent optimizer\n",
    "    optimizer = torch.optim.SGD(model.parameters(), lr=learning_rate)\n",
    "    \n",
    "    for e in range(num_epochs):\n",
    "\n",
    "        # Forward pass over the model to get the logits \n",
    "        yPred = model(xTrainT)\n",
    "\n",
    "        # Compute the loss and accuracy\n",
    "        loss = criterion(yPred, yTrainT)\n",
    "        score, predicted = torch.max(yPred, 1)\n",
    "        acc = (yTrainT == predicted).sum().float() / len(yTrainT)\n",
    "        auc = roc_auc_score(yTrainT, score.detach().numpy())\n",
    "        \n",
    "        print(\"[MODEL]: %i, [EPOCH]: %i, [LOSS]: %.6f, [ACCURACY]: %.3f, [AUROC]: %.3f\" % (modelnum, e, loss.item(), acc, auc))\n",
    "        display.clear_output(wait=True)\n",
    "\n",
    "        # reset (zero) the gradients before running the backward pass over the model\n",
    "        # we need to do this because the gradients get accumulated at the same place across iterations\n",
    "        optimizer.zero_grad()\n",
    "        model.zero_grad()\n",
    "\n",
    "        # Backward pass to compute the gradient of loss wrt our learnable params (weights and biases)\n",
    "        loss.backward()\n",
    "\n",
    "        # Update params\n",
    "        optimizer.step()\n",
    "        \n",
    "# define an evaluating function\n",
    "def q2_test(model, aucs, results):\n",
    "    \n",
    "    model.eval()\n",
    "   \n",
    "    with torch.no_grad():\n",
    "        y = torch.max(model(xTestT), 1) \n",
    "        yLogit = y.values.detach().numpy() # logits\n",
    "        yPred = y.indices.numpy() # classes\n",
    "        \n",
    "        # logits plugged into auc gives auc, uses them like probabilities\n",
    "        auroc_m = roc_auc_score(yTest, yLogit)\n",
    "        auprc_m = average_precision_score(yTest, yLogit)\n",
    "        acc_m = accuracy_score(yTest, yPred)\n",
    "        f1_m = f1_score(yTest, yPred)\n",
    "        \n",
    "        # print(\"AUROC = {:0.3f}\".format(auroc_m))\n",
    "        # print(\"AUPRC = {:0.3f}\".format(auprc_m))\n",
    "        # print(\"Accuracy = {:0.3f}\".format(acc_m))\n",
    "        # print(\"F1 Score = {:0.3f}\".format(f1_m))\n",
    "        # print(\"Confusion matrix:\\n\", confusion_matrix(yTest, yPred))\n",
    "        # tn fp / fn tp\n",
    "        \n",
    "        # store results\n",
    "        aucs.append(auroc_m)\n",
    "        results.append([auprc_m, acc_m, f1_m])"
   ]
  },
  {
   "cell_type": "markdown",
   "id": "badaa7c9-0bf7-49b0-afd3-9618d24f5ea7",
   "metadata": {},
   "source": [
    "### H = 100 version"
   ]
  },
  {
   "cell_type": "code",
   "execution_count": 30,
   "id": "76d80ab6-bbb3-4078-a8cd-a80d2046a956",
   "metadata": {},
   "outputs": [
    {
     "name": "stdout",
     "output_type": "stream",
     "text": [
      "[MODEL]: 9, [EPOCH]: 199, [LOSS]: 0.693142, [ACCURACY]: 0.861, [AUROC]: 0.287\n"
     ]
    }
   ],
   "source": [
    "q2_auc2 = []\n",
    "q2_results2 = []\n",
    "\n",
    "modelnum = 1\n",
    "for m in q2_models:\n",
    "    q2_train(m, 200, modelnum)\n",
    "    q2_test(m, q2_auc2, q2_results2)\n",
    "    modelnum += 1"
   ]
  },
  {
   "cell_type": "markdown",
   "id": "20837574-2f3d-467f-8f4f-24afb0e6a285",
   "metadata": {},
   "source": [
    "Order of networks in results: linear 1,2,3 layers, ReLU 1,2,3 layers, Sigmoid 1,2,3 layers\n",
    "\n",
    "Order of metrics in results list: AUPRC, accuracy, F1"
   ]
  },
  {
   "cell_type": "code",
   "execution_count": 33,
   "id": "26d7efd2-615c-4fb9-a049-c30c86f26e1e",
   "metadata": {},
   "outputs": [
    {
     "data": {
      "text/plain": [
       "[0.5705181542107491,\n",
       " 0.5660813409273271,\n",
       " 0.40362576119309673,\n",
       " 0.5531293346486847,\n",
       " 0.31535359284593,\n",
       " 0.42827091197338696,\n",
       " 0.5007098534533059,\n",
       " 0.5398373344857857,\n",
       " 0.28498746750794746]"
      ]
     },
     "execution_count": 33,
     "metadata": {},
     "output_type": "execute_result"
    }
   ],
   "source": [
    "q2_auc2"
   ]
  },
  {
   "cell_type": "code",
   "execution_count": 34,
   "id": "8dcbbf20-be45-48ed-9c3d-d51908ad6def",
   "metadata": {},
   "outputs": [
    {
     "data": {
      "text/plain": [
       "[[0.21458073056265387, 0.6723431094292022, 0.40098010954165464],\n",
       " [0.2211576465560252, 0.6613647114474929, 0.3832872680282853],\n",
       " [0.11126530487739782, 0.7360454115421002, 0.3133011998769357],\n",
       " [0.1714907720129944, 0.3046160517187007, 0.22995831241678852],\n",
       " [0.09576449931474626, 0.29960974456007566, 0.23032770906885572],\n",
       " [0.12114413470868682, 0.13932907600126143, 0.24458091860565698],\n",
       " [0.154192628387036, 0.8317959634184799, 0.09501590668080594],\n",
       " [0.15810793353855632, 0.13932907600126143, 0.24458091860565698],\n",
       " [0.09085572943798469, 0.8606709239987386, 0.0]]"
      ]
     },
     "execution_count": 34,
     "metadata": {},
     "output_type": "execute_result"
    }
   ],
   "source": [
    "q2_results2"
   ]
  },
  {
   "cell_type": "code",
   "execution_count": 35,
   "id": "67fc57d1-0381-41c1-9d27-5191a7bf0541",
   "metadata": {},
   "outputs": [
    {
     "data": {
      "image/png": "[encoded data removed]",
      "text/plain": [
       "<Figure size 640x480 with 1 Axes>"
      ]
     },
     "metadata": {},
     "output_type": "display_data"
    }
   ],
   "source": [
    "# plot AUC for each hidden layer for each model\n",
    "plt.figure()\n",
    "plt.plot(np.arange(1,4), q2_auc2[0:3], color=\"orange\", label=\"No Activation Function\")\n",
    "plt.plot(np.arange(1,4), q2_auc2[3:6], color=\"darkblue\", label=\"ReLU\")\n",
    "plt.plot(np.arange(1,4), q2_auc2[6:9], color=\"green\", label=\"Sigmoid\")\n",
    "plt.title('AUC Change with Different Hidden Layer Numbers')\n",
    "plt.xlabel('Number of Hidden Layers')\n",
    "plt.ylabel('AUROC')\n",
    "plt.legend(loc='upper right')\n",
    "plt.show()"
   ]
  },
  {
   "cell_type": "code",
   "execution_count": 36,
   "id": "b961d011-0401-4ff6-b246-89f2602ec437",
   "metadata": {},
   "outputs": [
    {
     "data": {
      "image/png": "[encoded data removed]",
      "text/plain": [
       "<Figure size 640x480 with 1 Axes>"
      ]
     },
     "metadata": {},
     "output_type": "display_data"
    }
   ],
   "source": [
    "# plot accuracy for each hidden layer for each model\n",
    "plt.figure()\n",
    "plt.plot(np.arange(1,4), [q2_results2[0][1],q2_results2[1][1],q2_results2[2][1]], color=\"orange\", label=\"No Activation Function\")\n",
    "plt.plot(np.arange(1,4), [q2_results2[3][1],q2_results2[4][1],q2_results2[5][1]], color=\"darkblue\", label=\"ReLU\")\n",
    "plt.plot(np.arange(1,4), [q2_results2[6][1],q2_results2[7][1],q2_results2[8][1]], color=\"green\", label=\"Sigmoid\")\n",
    "plt.title('Accuracy Change with Different Hidden Layer Numbers')\n",
    "plt.xlabel('Number of Hidden Layers')\n",
    "plt.ylabel('Accuracy Score')\n",
    "plt.legend(loc='upper right')\n",
    "plt.show()"
   ]
  },
  {
   "cell_type": "markdown",
   "id": "8ca4f012-1acd-4106-851c-ead13d0fb4fa",
   "metadata": {},
   "source": [
    "### H = 50 version"
   ]
  },
  {
   "cell_type": "code",
   "execution_count": 188,
   "id": "3b9f0fa1-27b1-48a5-a275-ba88758d74ec",
   "metadata": {},
   "outputs": [],
   "source": [
    "# reinitialize: define neural network models\n",
    "torch.manual_seed(seed)\n",
    "H = 50\n",
    "\n",
    "# no activation function\n",
    "\n",
    "# 1 HL\n",
    "model1_none = nn.Sequential(\n",
    "    nn.Linear(D, H),\n",
    "    nn.Linear(H, C)\n",
    ")\n",
    "\n",
    "# 2 HL\n",
    "model2_none = nn.Sequential(\n",
    "    nn.Linear(D, H),\n",
    "    nn.Linear(H, H),\n",
    "    nn.Linear(H, C)\n",
    ")\n",
    "\n",
    "# 3 HL\n",
    "model3_none = nn.Sequential(\n",
    "    nn.Linear(D, H),\n",
    "    nn.Linear(H, H),\n",
    "    nn.Linear(H, H),\n",
    "    nn.Linear(H, C)\n",
    ")\n",
    "\n",
    "# relu as activation function\n",
    "\n",
    "# 1 HL\n",
    "model1_relu = nn.Sequential(\n",
    "    nn.Linear(D, H),\n",
    "    nn.ReLU(),\n",
    "    nn.Linear(H, C)\n",
    ")\n",
    "\n",
    "# 2 HL\n",
    "model2_relu = nn.Sequential(\n",
    "    nn.Linear(D, H),\n",
    "    nn.ReLU(),\n",
    "    nn.Linear(H, H),\n",
    "    nn.ReLU(),\n",
    "    nn.Linear(H, C)\n",
    ")\n",
    "\n",
    "# 3 HL\n",
    "model3_relu = nn.Sequential(\n",
    "    nn.Linear(D, H),\n",
    "    nn.ReLU(),\n",
    "    nn.Linear(H, H),\n",
    "    nn.ReLU(),\n",
    "    nn.Linear(H, H),\n",
    "    nn.ReLU(),\n",
    "    nn.Linear(H, C)\n",
    ")\n",
    "\n",
    "# sigmoid as activation function\n",
    "\n",
    "# 1 HL\n",
    "model1_sig = nn.Sequential(\n",
    "    nn.Linear(D, H),\n",
    "    nn.Sigmoid(),\n",
    "    nn.Linear(H, C)\n",
    ")\n",
    "\n",
    "# 2 HL\n",
    "model2_sig = nn.Sequential(\n",
    "    nn.Linear(D, H),\n",
    "    nn.Sigmoid(),\n",
    "    nn.Linear(H, H),\n",
    "    nn.Sigmoid(),\n",
    "    nn.Linear(H, C)\n",
    ")\n",
    "\n",
    "# 3 HL\n",
    "model3_sig = nn.Sequential(\n",
    "    nn.Linear(D, H),\n",
    "    nn.Sigmoid(),\n",
    "    nn.Linear(H, H),\n",
    "    nn.Sigmoid(),\n",
    "    nn.Linear(H, H),\n",
    "    nn.Sigmoid(),\n",
    "    nn.Linear(H, C)\n",
    ")\n",
    "\n",
    "# put all models in a list\n",
    "q2_models = [model1_none, model2_none, model3_none,\n",
    "             model1_relu, model2_relu, model3_relu,\n",
    "             model1_sig, model2_sig, model3_sig]"
   ]
  },
  {
   "cell_type": "code",
   "execution_count": 37,
   "id": "4fa360a7-8925-48df-976a-38b7f3fa4c81",
   "metadata": {},
   "outputs": [
    {
     "name": "stdout",
     "output_type": "stream",
     "text": [
      "[MODEL]: 9, [EPOCH]: 199, [LOSS]: 0.692954, [ACCURACY]: 0.860, [AUROC]: 0.286\n"
     ]
    }
   ],
   "source": [
    "q2_auc3 = []\n",
    "q2_results3 = []\n",
    "\n",
    "modelnum = 1\n",
    "for m in q2_models:\n",
    "    q2_train(m, 200, modelnum)\n",
    "    q2_test(m, q2_auc3, q2_results3)\n",
    "    modelnum += 1"
   ]
  },
  {
   "cell_type": "code",
   "execution_count": 38,
   "id": "6ecbb59c-a2d1-4044-9381-183215f0216d",
   "metadata": {},
   "outputs": [
    {
     "data": {
      "text/plain": [
       "[0.5493479045263352,\n",
       " 0.5488058483405753,\n",
       " 0.42542682668630816,\n",
       " 0.578820803244509,\n",
       " 0.3281632357968576,\n",
       " 0.4490995544628784,\n",
       " 0.5088590711354771,\n",
       " 0.3881469896936629,\n",
       " 0.2843950747335876]"
      ]
     },
     "execution_count": 38,
     "metadata": {},
     "output_type": "execute_result"
    }
   ],
   "source": [
    "q2_auc3"
   ]
  },
  {
   "cell_type": "code",
   "execution_count": 39,
   "id": "515173e3-5268-4e9d-af8e-95599867881b",
   "metadata": {},
   "outputs": [
    {
     "data": {
      "text/plain": [
       "[[0.20761827720325898, 0.6816658782718386, 0.40496628965110704],\n",
       " [0.2122944334541401, 0.6731906338694418, 0.3897088593617726],\n",
       " [0.12339802931519347, 0.7093976663513087, 0.3567751505104267],\n",
       " [0.18514878803913426, 0.43178413749605804, 0.2563520520029922],\n",
       " [0.09772105922039698, 0.397153894670451, 0.26259703939437773],\n",
       " [0.12831630821800163, 0.13932907600126143, 0.24458091860565698],\n",
       " [0.14947181507036314, 0.5453129927467676, 0.23488441511060992],\n",
       " [0.10515253727785528, 0.5450764742983286, 0.32442558173569447],\n",
       " [0.09077915525911144, 0.8601781772311574, 0.040573437922639975]]"
      ]
     },
     "execution_count": 39,
     "metadata": {},
     "output_type": "execute_result"
    }
   ],
   "source": [
    "q2_results3"
   ]
  },
  {
   "cell_type": "code",
   "execution_count": 40,
   "id": "bb74ae99-bf13-4355-9495-498f8812ee4a",
   "metadata": {},
   "outputs": [
    {
     "data": {
      "image/png": "[encoded data removed]",
      "text/plain": [
       "<Figure size 640x480 with 1 Axes>"
      ]
     },
     "metadata": {},
     "output_type": "display_data"
    }
   ],
   "source": [
    "# plot AUC for each hidden layer for each model\n",
    "plt.figure()\n",
    "plt.plot(np.arange(1,4), q2_auc3[0:3], color=\"orange\", label=\"No Activation Function\")\n",
    "plt.plot(np.arange(1,4), q2_auc3[3:6], color=\"darkblue\", label=\"ReLU\")\n",
    "plt.plot(np.arange(1,4), q2_auc3[6:9], color=\"green\", label=\"Sigmoid\")\n",
    "plt.title('AUC Change with Different Hidden Layer Numbers')\n",
    "plt.xlabel('Number of Hidden Layers')\n",
    "plt.ylabel('AUROC')\n",
    "plt.legend(loc='upper right')\n",
    "plt.show()"
   ]
  },
  {
   "cell_type": "code",
   "execution_count": 42,
   "id": "62aaaf60-d042-48ff-8930-847eb912497b",
   "metadata": {},
   "outputs": [
    {
     "data": {
      "image/png": "[encoded data removed]",
      "text/plain": [
       "<Figure size 640x480 with 1 Axes>"
      ]
     },
     "metadata": {},
     "output_type": "display_data"
    }
   ],
   "source": [
    "# plot accuracy for each hidden layer for each model\n",
    "plt.figure()\n",
    "plt.plot(np.arange(1,4), [q2_results3[0][1],q2_results3[1][1],q2_results3[2][1]], color=\"orange\", label=\"No Activation Function\")\n",
    "plt.plot(np.arange(1,4), [q2_results3[3][1],q2_results3[4][1],q2_results3[5][1]], color=\"darkblue\", label=\"ReLU\")\n",
    "plt.plot(np.arange(1,4), [q2_results3[6][1],q2_results3[7][1],q2_results3[8][1]], color=\"green\", label=\"Sigmoid\")\n",
    "plt.title('Accuracy Change with Different Hidden Layer Numbers')\n",
    "plt.xlabel('Number of Hidden Layers')\n",
    "plt.ylabel('Accuracy Score')\n",
    "plt.legend(loc='upper right')\n",
    "plt.show()"
   ]
  },
  {
   "cell_type": "markdown",
   "id": "95240b37-4106-479c-ac49-9fff83741dc1",
   "metadata": {},
   "source": [
    "## Question 3\n",
    "**Build and train a “deep” network (at least 2 hidden layers) to classify diabetes from\n",
    "the rest of the dataset. Given the nature of this dataset, is there a benefit of using a\n",
    "CNN or RNN for the classification?**"
   ]
  },
  {
   "cell_type": "markdown",
   "id": "1031aec8-5f27-4aef-a1a2-cdafb215f807",
   "metadata": {},
   "source": [
    "There is no benefit of using a CNN or RNN for this classification because we're not trying to capture a pattern or work with data that has a temporal or spatial dimension to it."
   ]
  },
  {
   "cell_type": "markdown",
   "id": "79b9fb6d-96de-468c-b68f-7f7e93fd893d",
   "metadata": {},
   "source": [
    "### H = 75 "
   ]
  },
  {
   "cell_type": "code",
   "execution_count": 160,
   "id": "70d14479-4e8c-4763-bff6-8794fcfcd02e",
   "metadata": {},
   "outputs": [],
   "source": [
    "# define deep neural networks\n",
    "torch.manual_seed(seed)\n",
    "H = 75\n",
    "\n",
    "# 2 HL\n",
    "model2_none = nn.Sequential(\n",
    "    nn.Linear(D, H),\n",
    "    nn.Linear(H, H),\n",
    "    nn.Linear(H, C)\n",
    ")\n",
    "\n",
    "# 3 HL\n",
    "model3_none = nn.Sequential(\n",
    "    nn.Linear(D, H),\n",
    "    nn.Linear(H, H),\n",
    "    nn.Linear(H, H),\n",
    "    nn.Linear(H, C)\n",
    ")\n",
    "\n",
    "q3_models = [model2_none, model3_none]"
   ]
  },
  {
   "cell_type": "code",
   "execution_count": 113,
   "id": "2832d56b-3150-464d-9b09-066bb08861fb",
   "metadata": {},
   "outputs": [
    {
     "name": "stdout",
     "output_type": "stream",
     "text": [
      "[MODEL]: 2, [EPOCH]: 199, [LOSS]: 0.692288, [ACCURACY]: 0.148, [AUROC]: 0.677\n"
     ]
    }
   ],
   "source": [
    "q3_auc = []\n",
    "q3_results = []\n",
    "\n",
    "modelnum = 1\n",
    "for m in q3_models:\n",
    "    q2_train(m, 200, modelnum)\n",
    "    q2_test(m, q3_auc, q3_results)\n",
    "    modelnum += 1"
   ]
  },
  {
   "cell_type": "code",
   "execution_count": 114,
   "id": "03694d9e-d4d2-4d6e-ae0e-95f186561aab",
   "metadata": {},
   "outputs": [
    {
     "data": {
      "text/plain": [
       "([0.514421644826398, 0.667370381656466],\n",
       " [[0.13962222934828405, 0.4669268369599495, 0.3098749681041082],\n",
       "  [0.26396252354188715, 0.14772548092084517, 0.242568620925222]])"
      ]
     },
     "execution_count": 114,
     "metadata": {},
     "output_type": "execute_result"
    }
   ],
   "source": [
    "q3_auc, q3_results"
   ]
  },
  {
   "cell_type": "markdown",
   "id": "02f3c5bc-459d-44c5-8f2c-ab8f208d0e9f",
   "metadata": {},
   "source": [
    "### H = 50"
   ]
  },
  {
   "cell_type": "code",
   "execution_count": 186,
   "id": "55b8dc60-dc57-4f25-8084-84bd23c73688",
   "metadata": {},
   "outputs": [],
   "source": [
    "# reinit DNN\n",
    "torch.manual_seed(seed)\n",
    "H = 50\n",
    "\n",
    "# 2 HL\n",
    "model2_none = nn.Sequential(\n",
    "    nn.Linear(D, H),\n",
    "    nn.Linear(H, H),\n",
    "    nn.Linear(H, C)\n",
    ")\n",
    "\n",
    "# 3 HL\n",
    "model3_none = nn.Sequential(\n",
    "    nn.Linear(D, H),\n",
    "    nn.Linear(H, H),\n",
    "    nn.Linear(H, H),\n",
    "    nn.Linear(H, C)\n",
    ")\n",
    "\n",
    "q3_models = [model2_none, model3_none]"
   ]
  },
  {
   "cell_type": "code",
   "execution_count": 124,
   "id": "06e5bfde-52cb-4be3-a115-2f462948d8d8",
   "metadata": {},
   "outputs": [
    {
     "name": "stdout",
     "output_type": "stream",
     "text": [
      "[MODEL]: 2, [EPOCH]: 199, [LOSS]: 0.691904, [ACCURACY]: 0.170, [AUROC]: 0.409\n"
     ]
    }
   ],
   "source": [
    "q3_auc3 = []\n",
    "q3_results3 = []\n",
    "\n",
    "modelnum = 1\n",
    "for m in q3_models:\n",
    "    q2_train(m, 200, modelnum)\n",
    "    q2_test(m, q3_auc3, q3_results3)\n",
    "    modelnum += 1"
   ]
  },
  {
   "cell_type": "code",
   "execution_count": 125,
   "id": "b9a8eb9c-3bec-472a-89b7-8f57a855718c",
   "metadata": {},
   "outputs": [
    {
     "data": {
      "text/plain": [
       "([0.6695754809148702, 0.417279922064007],\n",
       " [[0.24938178116817078, 0.3946113213497319, 0.1253523934276846],\n",
       "  [0.1153906071322609, 0.1722445600756859, 0.24762177753094827]])"
      ]
     },
     "execution_count": 125,
     "metadata": {},
     "output_type": "execute_result"
    }
   ],
   "source": [
    "q3_auc3, q3_results3"
   ]
  },
  {
   "cell_type": "markdown",
   "id": "035b40d3-c2bb-46d2-85de-2daf11a2cb5a",
   "metadata": {},
   "source": [
    "### H = 25"
   ]
  },
  {
   "cell_type": "code",
   "execution_count": 187,
   "id": "90e59d31-1320-4cb3-886d-6cdff956867c",
   "metadata": {},
   "outputs": [],
   "source": [
    "# reinit DNN\n",
    "torch.manual_seed(seed)\n",
    "H = 25\n",
    "\n",
    "# 2 HL\n",
    "model2_none = nn.Sequential(\n",
    "    nn.Linear(D, H),\n",
    "    nn.Linear(H, H),\n",
    "    nn.Linear(H, C)\n",
    ")\n",
    "\n",
    "# 3 HL\n",
    "model3_none = nn.Sequential(\n",
    "    nn.Linear(D, H),\n",
    "    nn.Linear(H, H),\n",
    "    nn.Linear(H, H),\n",
    "    nn.Linear(H, C)\n",
    ")\n",
    "\n",
    "q3_models = [model2_none, model3_none]"
   ]
  },
  {
   "cell_type": "code",
   "execution_count": 161,
   "id": "2eaea1bd-e557-4c2b-b312-112c17b1f033",
   "metadata": {},
   "outputs": [
    {
     "name": "stdout",
     "output_type": "stream",
     "text": [
      "[MODEL]: 2, [EPOCH]: 199, [LOSS]: 0.693857, [ACCURACY]: 0.653, [AUROC]: 0.452\n"
     ]
    }
   ],
   "source": [
    "q3_auc4 = []\n",
    "q3_results4 = []\n",
    "\n",
    "modelnum = 1\n",
    "for m in q3_models:\n",
    "    q2_train(m, 200, modelnum)\n",
    "    q2_test(m, q3_auc4, q3_results4)\n",
    "    modelnum += 1"
   ]
  },
  {
   "cell_type": "code",
   "execution_count": 162,
   "id": "4cf770d4-6622-469b-90c6-ea4815e2edad",
   "metadata": {},
   "outputs": [
    {
     "data": {
      "text/plain": [
       "([0.655554168763498, 0.45368367629235085],\n",
       " [[0.22207024337677025, 0.13954588457899716, 0.24460132890365446],\n",
       "  [0.14275758920164508, 0.6522981709239988, 0.17715378515788982]])"
      ]
     },
     "execution_count": 162,
     "metadata": {},
     "output_type": "execute_result"
    }
   ],
   "source": [
    "q3_auc4, q3_results4"
   ]
  },
  {
   "cell_type": "markdown",
   "id": "10e776b2-337a-4063-8da6-1707d2de9a5f",
   "metadata": {},
   "source": [
    "## Question 4\n",
    "**Build and train a feedforward neural network with one hidden layer to predict BMI\n",
    "from the rest of the dataset. Use RMSE to assess the accuracy of your model. Does\n",
    "the RMSE depend on the activation function used?**"
   ]
  },
  {
   "cell_type": "markdown",
   "id": "5516d6b2-78d3-422c-b27d-5b5deeb15a70",
   "metadata": {},
   "source": [
    "### Preprocessing Part 2"
   ]
  },
  {
   "cell_type": "code",
   "execution_count": 4,
   "id": "28a3f599-1319-4dfa-a46b-cc9c84efb2b0",
   "metadata": {},
   "outputs": [],
   "source": [
    "# preprocess data in pandas\n",
    "# separate features from target\n",
    "dataX2 = data.copy().drop(columns=['BMI'])\n",
    "dataY2 = pd.DataFrame(data.copy()['BMI'])"
   ]
  },
  {
   "cell_type": "code",
   "execution_count": 5,
   "id": "496570d8-97e4-4d38-8e0b-5a03587d6d6b",
   "metadata": {},
   "outputs": [
    {
     "name": "stdout",
     "output_type": "stream",
     "text": [
      "(202944, 20) (50736, 20) (202944, 1) (50736, 1)\n"
     ]
    }
   ],
   "source": [
    "# split data into train/test sets \n",
    "xTrain2, xTest2, yTrain2, yTest2 = train_test_split(dataX2, dataY2, test_size = 0.2, random_state = 42)\n",
    "print(xTrain2.shape, xTest2.shape, yTrain2.shape, yTest2.shape)"
   ]
  },
  {
   "cell_type": "code",
   "execution_count": 6,
   "id": "f9bb8b48-a6ea-4007-b383-5eeefcb6e1f7",
   "metadata": {},
   "outputs": [],
   "source": [
    "# scale continuous & ordinal features using MinMaxScaler\n",
    "# so they're between 0 and 1 (as binary variables are 0/1)\n",
    "# scaling happens after the train/test split to prevent data leakage\n",
    "\n",
    "contord = ['GeneralHealth', 'AgeBracket', 'EducationBracket', 'IncomeBracket',\n",
    "            'MentalHealth', 'PhysicalHealth']\n",
    "\n",
    "scaler = MinMaxScaler()\n",
    "xTrain2_scaled = scaler.fit_transform(pd.DataFrame(xTrain2[contord]))\n",
    "for i in range(len(contord)):\n",
    "    xTrain2[contord[i]] = xTrain2_scaled[:,i]\n",
    "    \n",
    "xTest2_scaled = scaler.transform(pd.DataFrame(xTest2[contord]))\n",
    "for i in range(len(contord)):\n",
    "    xTest2[contord[i]] = xTest2_scaled[:,i]"
   ]
  },
  {
   "cell_type": "code",
   "execution_count": 22,
   "id": "8bc62dc5-8f61-4147-9bc3-e009522bd527",
   "metadata": {},
   "outputs": [],
   "source": [
    "# turn dfs to numpy arrays, turn arrays into tensors\n",
    "xTrainB = torch.tensor(np.array(xTrain2), dtype=torch.float32)\n",
    "xTestB = torch.tensor(np.array(xTest2), dtype=torch.float32)\n",
    "yTrainB = torch.flatten(torch.tensor(np.array(yTrain2), dtype=torch.float32))\n",
    "# yTrainB = yTrainB.long()\n",
    "yTestB = torch.flatten(torch.tensor(np.array(yTest2), dtype=torch.float32))\n",
    "# yTestB = yTestB.long()"
   ]
  },
  {
   "cell_type": "markdown",
   "id": "95d8c67d-1a68-4e55-b1ae-436af93d91df",
   "metadata": {},
   "source": [
    "### Problem"
   ]
  },
  {
   "cell_type": "code",
   "execution_count": 65,
   "id": "567b30dd-3ec6-4e45-a0b8-eb39a1a6d3f9",
   "metadata": {},
   "outputs": [],
   "source": [
    "# define 1 hidden layer model with different activation functions\n",
    "torch.manual_seed(seed)\n",
    "H = 100\n",
    "learning_rate = 1e-3\n",
    "\n",
    "model1_none = nn.Sequential(\n",
    "    nn.Linear(20, H),\n",
    "    nn.Linear(H, 1)\n",
    ")\n",
    "\n",
    "model1_relu = nn.Sequential(\n",
    "    nn.Linear(20, H),\n",
    "    nn.ReLU(),\n",
    "    nn.Linear(H, 1)\n",
    ")\n",
    "\n",
    "model1_sig = nn.Sequential(\n",
    "    nn.Linear(20, H),\n",
    "    nn.Sigmoid(),\n",
    "    nn.Linear(H, 1)\n",
    ")\n",
    "\n",
    "q4_models = [model1_none, model1_relu, model1_sig]"
   ]
  },
  {
   "cell_type": "code",
   "execution_count": 147,
   "id": "e7baee27-8eb8-4b44-96bd-b0b92a9b97db",
   "metadata": {},
   "outputs": [],
   "source": [
    "# use MSE loss for regression\n",
    "criterion = torch.nn.MSELoss()\n",
    "\n",
    "# define a training loop\n",
    "def q4_train(model, num_epochs, modelnum):\n",
    "    \n",
    "    model.train()\n",
    "    \n",
    "    # stochastic gradient descent optimizer\n",
    "    criterion = torch.nn.MSELoss()\n",
    "    optimizer = torch.optim.SGD(model.parameters(), lr=learning_rate)\n",
    "    \n",
    "    for e in range(num_epochs):\n",
    "\n",
    "        # Forward pass over the model to get the logits \n",
    "        yPred = model(xTrainB).flatten()\n",
    "\n",
    "        # Compute the loss\n",
    "        loss = criterion(yPred, yTrainB)\n",
    "        \n",
    "        print(\"[MODEL]: %i, [EPOCH]: %i, [LOSS/MSE]: %.6f\" % (modelnum, e, loss.item()))\n",
    "        display.clear_output(wait=True)\n",
    "\n",
    "        # reset (zero) the gradients before running the backward pass over the model\n",
    "        # we need to do this because the gradients get accumulated at the same place across iterations\n",
    "        optimizer.zero_grad()\n",
    "        model.zero_grad()\n",
    "\n",
    "        # Backward pass to compute the gradient of loss wrt our learnable params (weights and biases)\n",
    "        loss.backward()\n",
    "\n",
    "        # Update params\n",
    "        optimizer.step()\n",
    "        \n",
    "# define an evaluating function\n",
    "def q4_test(model, results):\n",
    "    \n",
    "    model.eval()\n",
    "   \n",
    "    with torch.no_grad():\n",
    "        yPred = model(xTestB).detach().numpy()\n",
    "        \n",
    "        # logits plugged into auc gives auc, uses them like probabilities\n",
    "        rmse = mean_squared_error(yTest2, yPred, squared=False)\n",
    "        \n",
    "        # store results\n",
    "        results.append(rmse)"
   ]
  },
  {
   "cell_type": "markdown",
   "id": "927760e5-fb61-4125-a185-f6f7a5171228",
   "metadata": {},
   "source": [
    "#### H = 100, 200 e"
   ]
  },
  {
   "cell_type": "code",
   "execution_count": 30,
   "id": "fd22e067-6353-48fa-85b0-1ea26a736c5e",
   "metadata": {},
   "outputs": [
    {
     "name": "stdout",
     "output_type": "stream",
     "text": [
      "[MODEL]: 3, [EPOCH]: 199, [LOSS/MSE]: 42.753914\n"
     ]
    }
   ],
   "source": [
    "q4_results = []\n",
    "\n",
    "modelnum = 1\n",
    "for m in q4_models:\n",
    "    q4_train(m, 200, modelnum)\n",
    "    q4_test(m, q4_results)\n",
    "    modelnum += 1"
   ]
  },
  {
   "cell_type": "code",
   "execution_count": 31,
   "id": "ec4c49f9-50cb-4cf9-9217-ac664983481f",
   "metadata": {},
   "outputs": [
    {
     "data": {
      "text/plain": [
       "[7.148145959505741, 7.027571653973327, 6.521466740736697]"
      ]
     },
     "execution_count": 31,
     "metadata": {},
     "output_type": "execute_result"
    }
   ],
   "source": [
    "q4_results"
   ]
  },
  {
   "cell_type": "markdown",
   "id": "6940aa24-6e6e-4543-9c96-0754f160bd50",
   "metadata": {},
   "source": [
    "#### H = 100, 300 e"
   ]
  },
  {
   "cell_type": "code",
   "execution_count": 190,
   "id": "d52368db-6d77-4325-b481-54ade1787397",
   "metadata": {},
   "outputs": [],
   "source": [
    "# reinit models\n",
    "torch.manual_seed(seed)\n",
    "H = 100\n",
    "learning_rate = 1e-3\n",
    "\n",
    "model1_none = nn.Sequential(\n",
    "    nn.Linear(20, H),\n",
    "    nn.Linear(H, 1)\n",
    ")\n",
    "\n",
    "model1_relu = nn.Sequential(\n",
    "    nn.Linear(20, H),\n",
    "    nn.ReLU(),\n",
    "    nn.Linear(H, 1)\n",
    ")\n",
    "\n",
    "model1_sig = nn.Sequential(\n",
    "    nn.Linear(20, H),\n",
    "    nn.Sigmoid(),\n",
    "    nn.Linear(H, 1)\n",
    ")\n",
    "\n",
    "q4_models = [model1_none, model1_relu, model1_sig]"
   ]
  },
  {
   "cell_type": "code",
   "execution_count": 48,
   "id": "54b74f46-0e2b-4aa4-a086-11d9971cbd79",
   "metadata": {},
   "outputs": [
    {
     "name": "stdout",
     "output_type": "stream",
     "text": [
      "[MODEL]: 3, [EPOCH]: 299, [LOSS/MSE]: 42.130241\n"
     ]
    }
   ],
   "source": [
    "# H = 100, 300 e\n",
    "q4_results2 = []\n",
    "\n",
    "modelnum = 1\n",
    "for m in q4_models:\n",
    "    q4_train(m, 300, modelnum)\n",
    "    q4_test(m, q4_results2)\n",
    "    modelnum += 1"
   ]
  },
  {
   "cell_type": "code",
   "execution_count": 49,
   "id": "18f271dd-14fa-41f1-9d94-82ed99ce44d7",
   "metadata": {},
   "outputs": [
    {
     "data": {
      "text/plain": [
       "[6.947235023197961, 6.85875284285827, 6.473955708184115]"
      ]
     },
     "execution_count": 49,
     "metadata": {},
     "output_type": "execute_result"
    }
   ],
   "source": [
    "q4_results2"
   ]
  },
  {
   "cell_type": "markdown",
   "id": "21d1a6b6-aa1b-485d-90b9-a15d86e12e87",
   "metadata": {},
   "source": [
    "## Question 5\n",
    "**Build and train a neural network of your choice to predict BMI from the rest of your\n",
    "dataset. How low can you get RMSE and what design choices does RMSE seem to\n",
    "depend on?**"
   ]
  },
  {
   "cell_type": "markdown",
   "id": "c89e6ac0-ff95-4fd4-8700-0519f943a210",
   "metadata": {},
   "source": [
    "* number of epochs - balance for lower RMSE (too high = increased again)\n",
    "* learning rate - if increased too much, loss becomes unstable!\n",
    "* 2 hidden layers brought rmse down a bit compared to 1\n",
    "* diff hidden size tested below w diff activations: "
   ]
  },
  {
   "cell_type": "code",
   "execution_count": 165,
   "id": "573ec4ab-5ed8-4ae4-a8c6-0092027a6f25",
   "metadata": {},
   "outputs": [],
   "source": [
    "# define models \n",
    "torch.manual_seed(seed)\n",
    "H = 100\n",
    "learning_rate = 1e-3\n",
    "\n",
    "model1_none = nn.Sequential(\n",
    "    nn.Linear(20, H),\n",
    "    nn.Linear(H, H),\n",
    "    nn.Linear(H, 1)\n",
    ")\n",
    "\n",
    "model1_relu = nn.Sequential(\n",
    "    nn.Linear(20, H),\n",
    "    nn.ReLU(),\n",
    "    nn.Linear(H, H),\n",
    "    nn.ReLU(),\n",
    "    nn.Linear(H, 1)\n",
    ")\n",
    "\n",
    "model1_sig = nn.Sequential(\n",
    "    nn.Linear(20, H),\n",
    "    nn.Sigmoid(),\n",
    "    nn.Linear(H, H),\n",
    "    nn.Sigmoid(),\n",
    "    nn.Linear(H, 1) \n",
    ")\n",
    "\n",
    "q5_models = [model1_none, model1_relu, model1_sig]"
   ]
  },
  {
   "cell_type": "code",
   "execution_count": 166,
   "id": "a60ba63d-23f7-4f8f-a205-ae5aa5275e14",
   "metadata": {},
   "outputs": [
    {
     "name": "stdout",
     "output_type": "stream",
     "text": [
      "[MODEL]: 3, [EPOCH]: 299, [LOSS/MSE]: 43.523022\n"
     ]
    }
   ],
   "source": [
    "# H=100, 300 e more layers\n",
    "q5_results0 = []\n",
    "\n",
    "modelnum = 1\n",
    "for m in q5_models:\n",
    "    q4_train(m, 300, modelnum)\n",
    "    q4_test(m, q5_results0)\n",
    "    modelnum += 1"
   ]
  },
  {
   "cell_type": "code",
   "execution_count": 167,
   "id": "dfa33ee8-0bd2-48a0-b283-3417c5be5873",
   "metadata": {},
   "outputs": [
    {
     "data": {
      "text/plain": [
       "[6.474085539246689, 6.431755478815381, 6.578634842800645]"
      ]
     },
     "execution_count": 167,
     "metadata": {},
     "output_type": "execute_result"
    }
   ],
   "source": [
    "q5_results0"
   ]
  },
  {
   "cell_type": "code",
   "execution_count": 87,
   "id": "f701e5b5-f625-49d6-b732-44a8b9daa826",
   "metadata": {},
   "outputs": [
    {
     "name": "stdout",
     "output_type": "stream",
     "text": [
      "[MODEL]: 3, [EPOCH]: 299, [LOSS/MSE]: 43.480774\n"
     ]
    }
   ],
   "source": [
    "# H=50, 300 e more layers\n",
    "torch.manual_seed(seed)\n",
    "H = 50\n",
    "learning_rate = 1e-3\n",
    "\n",
    "model1_none = nn.Sequential(\n",
    "    nn.Linear(20, H),\n",
    "    nn.Linear(H, H),\n",
    "    nn.Linear(H, 1)\n",
    ")\n",
    "\n",
    "model1_relu = nn.Sequential(\n",
    "    nn.Linear(20, H),\n",
    "    nn.ReLU(),\n",
    "    nn.Linear(H, H),\n",
    "    nn.ReLU(),\n",
    "    nn.Linear(H, 1)\n",
    ")\n",
    "\n",
    "model1_sig = nn.Sequential(\n",
    "    nn.Linear(20, H),\n",
    "    nn.Sigmoid(),\n",
    "    nn.Linear(H, H),\n",
    "    nn.Sigmoid(),\n",
    "    nn.Linear(H, 1) \n",
    ")\n",
    "\n",
    "q5_models = [model1_none, model1_relu, model1_sig]\n",
    "\n",
    "q5_results = []\n",
    "\n",
    "modelnum = 1\n",
    "for m in q5_models:\n",
    "    q4_train(m, 300, modelnum)\n",
    "    q4_test(m, q5_results)\n",
    "    modelnum += 1"
   ]
  },
  {
   "cell_type": "code",
   "execution_count": 88,
   "id": "652d0ead-c9ac-41c1-96b0-64b8b993eb47",
   "metadata": {},
   "outputs": [
    {
     "data": {
      "text/plain": [
       "[6.4732912109560665, 6.448369151569148, 6.575143817601382]"
      ]
     },
     "execution_count": 88,
     "metadata": {},
     "output_type": "execute_result"
    }
   ],
   "source": [
    "q5_results\n",
    "#[6.474085539246689, 6.431755478815381, 6.578634842800645]"
   ]
  },
  {
   "cell_type": "code",
   "execution_count": 84,
   "id": "6ba8f243-3323-4c5e-8ada-aa4993b566a7",
   "metadata": {},
   "outputs": [
    {
     "name": "stdout",
     "output_type": "stream",
     "text": [
      "[MODEL]: 3, [EPOCH]: 199, [LOSS/MSE]: 43.625771\n"
     ]
    }
   ],
   "source": [
    "# H=50, 200 e more layers\n",
    "torch.manual_seed(seed)\n",
    "H = 50\n",
    "learning_rate = 1e-3\n",
    "\n",
    "model1_none = nn.Sequential(\n",
    "    nn.Linear(20, H),\n",
    "    nn.Linear(H, H),\n",
    "    nn.Linear(H, 1)\n",
    ")\n",
    "\n",
    "model1_relu = nn.Sequential(\n",
    "    nn.Linear(20, H),\n",
    "    nn.ReLU(),\n",
    "    nn.Linear(H, H),\n",
    "    nn.ReLU(),\n",
    "    nn.Linear(H, 1)\n",
    ")\n",
    "\n",
    "model1_sig = nn.Sequential(\n",
    "    nn.Linear(20, H),\n",
    "    nn.Sigmoid(),\n",
    "    nn.Linear(H, H),\n",
    "    nn.Sigmoid(),\n",
    "    nn.Linear(H, 1) \n",
    ")\n",
    "\n",
    "q5_results2 = []\n",
    "\n",
    "modelnum = 1\n",
    "for m in q5_models:\n",
    "    q4_train(m, 200, modelnum)\n",
    "    q4_test(m, q5_results2)\n",
    "    modelnum += 1\n",
    "#[MODEL]: 3, [EPOCH]: 199, [LOSS/MSE]: 43.303879"
   ]
  },
  {
   "cell_type": "code",
   "execution_count": 85,
   "id": "caab8861-bc17-4f78-83a4-85ff108b41b7",
   "metadata": {},
   "outputs": [
    {
     "data": {
      "text/plain": [
       "[6.653333920132557, 6.610342621259697, 6.5860902472243765]"
      ]
     },
     "execution_count": 85,
     "metadata": {},
     "output_type": "execute_result"
    }
   ],
   "source": [
    "q5_results2\n",
    "#[6.262104686596941, 6.24537284281639, 6.562027933847368]"
   ]
  },
  {
   "cell_type": "code",
   "execution_count": 72,
   "id": "21ad301f-7586-485f-9277-a4745777ea53",
   "metadata": {},
   "outputs": [
    {
     "name": "stdout",
     "output_type": "stream",
     "text": [
      "[MODEL]: 3, [EPOCH]: 199, [LOSS/MSE]: 43.634438\n"
     ]
    }
   ],
   "source": [
    "# H=100, 200 e more layers\n",
    "torch.manual_seed(seed)\n",
    "H = 100\n",
    "learning_rate = 1e-3\n",
    "\n",
    "model1_none = nn.Sequential(\n",
    "    nn.Linear(20, H),\n",
    "    nn.Linear(H, H),\n",
    "    nn.Linear(H, 1)\n",
    ")\n",
    "\n",
    "model1_relu = nn.Sequential(\n",
    "    nn.Linear(20, H),\n",
    "    nn.ReLU(),\n",
    "    nn.Linear(H, H),\n",
    "    nn.ReLU(),\n",
    "    nn.Linear(H, 1)\n",
    ")\n",
    "\n",
    "model1_sig = nn.Sequential(\n",
    "    nn.Linear(20, H),\n",
    "    nn.Sigmoid(),\n",
    "    nn.Linear(H, H),\n",
    "    nn.Sigmoid(),\n",
    "    nn.Linear(H, 1) \n",
    ")\n",
    "\n",
    "q5_results3 = []\n",
    "\n",
    "modelnum = 1\n",
    "for m in q5_models:\n",
    "    q4_train(m, 200, modelnum)\n",
    "    q4_test(m, q5_results3)\n",
    "    modelnum += 1"
   ]
  },
  {
   "cell_type": "code",
   "execution_count": 73,
   "id": "f6fd5cb7-ea20-427a-b7b0-590ae5987d3e",
   "metadata": {},
   "outputs": [
    {
     "data": {
      "text/plain": [
       "[6.666888330919462, 6.601179124761885, 6.587064394547919]"
      ]
     },
     "execution_count": 73,
     "metadata": {},
     "output_type": "execute_result"
    }
   ],
   "source": [
    "q5_results3"
   ]
  },
  {
   "cell_type": "code",
   "execution_count": 78,
   "id": "743573e5-9edc-44be-8396-cca6f24392ed",
   "metadata": {},
   "outputs": [
    {
     "name": "stdout",
     "output_type": "stream",
     "text": [
      "[MODEL]: 3, [EPOCH]: 199, [LOSS/MSE]: 43.472504\n"
     ]
    }
   ],
   "source": [
    "# H=75, 200 e more layers\n",
    "torch.manual_seed(seed)\n",
    "H = 75\n",
    "learning_rate = 1e-3\n",
    "\n",
    "model1_none = nn.Sequential(\n",
    "    nn.Linear(20, H),\n",
    "    nn.Linear(H, H),\n",
    "    nn.Linear(H, 1)\n",
    ")\n",
    "\n",
    "model1_relu = nn.Sequential(\n",
    "    nn.Linear(20, H),\n",
    "    nn.ReLU(),\n",
    "    nn.Linear(H, H),\n",
    "    nn.ReLU(),\n",
    "    nn.Linear(H, 1)\n",
    ")\n",
    "\n",
    "model1_sig = nn.Sequential(\n",
    "    nn.Linear(20, H),\n",
    "    nn.Sigmoid(),\n",
    "    nn.Linear(H, H),\n",
    "    nn.Sigmoid(),\n",
    "    nn.Linear(H, 1) \n",
    ")\n",
    "\n",
    "q5_results4 = []\n",
    "\n",
    "modelnum = 1\n",
    "for m in q5_models:\n",
    "    q4_train(m, 200, modelnum)\n",
    "    q4_test(m, q5_results4)\n",
    "    modelnum += 1"
   ]
  },
  {
   "cell_type": "code",
   "execution_count": 79,
   "id": "c27922a6-fae2-48ff-a15f-94bbe8bb44ef",
   "metadata": {},
   "outputs": [
    {
     "data": {
      "text/plain": [
       "[6.657647354584873, 6.616655170694267, 6.575047882438081]"
      ]
     },
     "execution_count": 79,
     "metadata": {},
     "output_type": "execute_result"
    }
   ],
   "source": [
    "q5_results4"
   ]
  },
  {
   "cell_type": "code",
   "execution_count": 81,
   "id": "48888e6c-d924-4f08-a585-80d6870782e7",
   "metadata": {},
   "outputs": [
    {
     "name": "stdout",
     "output_type": "stream",
     "text": [
      "[MODEL]: 3, [EPOCH]: 199, [LOSS/MSE]: 43.387024\n"
     ]
    }
   ],
   "source": [
    "# H=25, 200 e more layers\n",
    "torch.manual_seed(seed)\n",
    "H = 25\n",
    "learning_rate = 1e-3\n",
    "\n",
    "model1_none = nn.Sequential(\n",
    "    nn.Linear(20, H),\n",
    "    nn.Linear(H, H),\n",
    "    nn.Linear(H, 1)\n",
    ")\n",
    "\n",
    "model1_relu = nn.Sequential(\n",
    "    nn.Linear(20, H),\n",
    "    nn.ReLU(),\n",
    "    nn.Linear(H, H),\n",
    "    nn.ReLU(),\n",
    "    nn.Linear(H, 1)\n",
    ")\n",
    "\n",
    "model1_sig = nn.Sequential(\n",
    "    nn.Linear(20, H),\n",
    "    nn.Sigmoid(),\n",
    "    nn.Linear(H, H),\n",
    "    nn.Sigmoid(),\n",
    "    nn.Linear(H, 1) \n",
    ")\n",
    "\n",
    "q5_results5 = []\n",
    "\n",
    "modelnum = 1\n",
    "for m in q5_models:\n",
    "    q4_train(m, 200, modelnum)\n",
    "    q4_test(m, q5_results5)\n",
    "    modelnum += 1"
   ]
  },
  {
   "cell_type": "code",
   "execution_count": 82,
   "id": "366db3bb-35d1-4184-8ab6-7d7472321dfd",
   "metadata": {},
   "outputs": [
    {
     "data": {
      "text/plain": [
       "[6.609998672314062, 6.653731050707734, 6.568421090937007]"
      ]
     },
     "execution_count": 82,
     "metadata": {},
     "output_type": "execute_result"
    }
   ],
   "source": [
    "q5_results5"
   ]
  },
  {
   "cell_type": "code",
   "execution_count": 89,
   "id": "1b6e259d-e72d-43ea-a5f9-7a8b1127e1c2",
   "metadata": {},
   "outputs": [
    {
     "name": "stdout",
     "output_type": "stream",
     "text": [
      "[MODEL]: 1, [EPOCH]: 299, [LOSS/MSE]: 41.995518\n"
     ]
    }
   ],
   "source": [
    "# define models \n",
    "torch.manual_seed(seed)\n",
    "H = 100\n",
    "learning_rate = 1e-3\n",
    "\n",
    "model1_none = nn.Sequential(\n",
    "    nn.Linear(20, H),\n",
    "    nn.Linear(H, H),\n",
    "    nn.Linear(H, 1)\n",
    ")\n",
    "\n",
    "# H=100, 300 e more layers w no activation\n",
    "q5_results6 = []\n",
    "\n",
    "q4_train(model1_none, 300, 1)\n",
    "q4_test(model1_none, q5_results6)"
   ]
  },
  {
   "cell_type": "code",
   "execution_count": 90,
   "id": "45dcbb0c-d53e-4381-aeab-3e1350584a32",
   "metadata": {},
   "outputs": [
    {
     "data": {
      "text/plain": [
       "[6.474085539246689]"
      ]
     },
     "execution_count": 90,
     "metadata": {},
     "output_type": "execute_result"
    }
   ],
   "source": [
    "q5_results6"
   ]
  },
  {
   "cell_type": "code",
   "execution_count": 95,
   "id": "4498cce5-37cc-4d3a-badd-a85bfb4bb490",
   "metadata": {},
   "outputs": [
    {
     "name": "stdout",
     "output_type": "stream",
     "text": [
      "[MODEL]: 1, [EPOCH]: 299, [LOSS/MSE]: 41.955467\n"
     ]
    }
   ],
   "source": [
    "# define models \n",
    "torch.manual_seed(seed)\n",
    "H = 50\n",
    "learning_rate = 1e-3\n",
    "\n",
    "model1_relu = nn.Sequential(\n",
    "    nn.Linear(20, H),\n",
    "    nn.ReLU(),\n",
    "    nn.Linear(H, H),\n",
    "    nn.ReLU(),\n",
    "    nn.Linear(H, 1)\n",
    ")\n",
    "\n",
    "# H=50, 300 e more layers w relu\n",
    "q5_results7 = []\n",
    "\n",
    "q4_train(model1_relu, 300, 1)\n",
    "q4_test(model1_relu, q5_results7)"
   ]
  },
  {
   "cell_type": "code",
   "execution_count": 96,
   "id": "d68383fc-4ebe-4b6c-9170-67ae11dc9bf8",
   "metadata": {},
   "outputs": [
    {
     "data": {
      "text/plain": [
       "[6.4729466581616455]"
      ]
     },
     "execution_count": 96,
     "metadata": {},
     "output_type": "execute_result"
    }
   ],
   "source": [
    "q5_results7"
   ]
  },
  {
   "cell_type": "code",
   "execution_count": 99,
   "id": "39a20eb2-78d7-4273-b296-162d3d2c13d0",
   "metadata": {},
   "outputs": [
    {
     "name": "stdout",
     "output_type": "stream",
     "text": [
      "[MODEL]: 1, [EPOCH]: 199, [LOSS/MSE]: 40.570930\n"
     ]
    }
   ],
   "source": [
    "# define models \n",
    "torch.manual_seed(seed)\n",
    "H = 50\n",
    "learning_rate = 0.002\n",
    "\n",
    "model1_relu = nn.Sequential(\n",
    "    nn.Linear(20, H),\n",
    "    nn.ReLU(),\n",
    "    nn.Linear(H, H),\n",
    "    nn.ReLU(),\n",
    "    nn.Linear(H, 1)\n",
    ")\n",
    "\n",
    "# H=50, 200 e more layers w relu, 0.002 lr\n",
    "q5_results8 = []\n",
    "\n",
    "q4_train(model1_relu, 200, 1)\n",
    "q4_test(model1_relu, q5_results8)"
   ]
  },
  {
   "cell_type": "code",
   "execution_count": 100,
   "id": "876e60ba-3dad-4b4d-912d-aa74ddc8e6e9",
   "metadata": {},
   "outputs": [
    {
     "data": {
      "text/plain": [
       "[6.362380804479654]"
      ]
     },
     "execution_count": 100,
     "metadata": {},
     "output_type": "execute_result"
    }
   ],
   "source": [
    "q5_results8"
   ]
  },
  {
   "cell_type": "code",
   "execution_count": 102,
   "id": "cc5095ab-cb9f-48cc-9c3b-06e61ee6f8a3",
   "metadata": {},
   "outputs": [
    {
     "name": "stdout",
     "output_type": "stream",
     "text": [
      "[MODEL]: 1, [EPOCH]: 249, [LOSS/MSE]: 39.602802\n"
     ]
    }
   ],
   "source": [
    "# define models \n",
    "torch.manual_seed(seed)\n",
    "H = 50\n",
    "learning_rate = 0.002\n",
    "\n",
    "model1_relu = nn.Sequential(\n",
    "    nn.Linear(20, H),\n",
    "    nn.ReLU(),\n",
    "    nn.Linear(H, H),\n",
    "    nn.ReLU(),\n",
    "    nn.Linear(H, 1)\n",
    ")\n",
    "\n",
    "# H=50, 250 e more layers w relu, 0.002 lr\n",
    "q5_results9 = []\n",
    "\n",
    "q4_train(model1_relu, 250, 1)\n",
    "q4_test(model1_relu, q5_results9)"
   ]
  },
  {
   "cell_type": "code",
   "execution_count": 103,
   "id": "0916b165-9942-4989-82ca-9d5fb7a2b5b1",
   "metadata": {},
   "outputs": [
    {
     "data": {
      "text/plain": [
       "[6.284144126730596]"
      ]
     },
     "execution_count": 103,
     "metadata": {},
     "output_type": "execute_result"
    }
   ],
   "source": [
    "q5_results9"
   ]
  },
  {
   "cell_type": "code",
   "execution_count": 104,
   "id": "0cb9a7e9-eab1-426e-96b4-b998e2e79ab7",
   "metadata": {},
   "outputs": [
    {
     "name": "stdout",
     "output_type": "stream",
     "text": [
      "[MODEL]: 1, [EPOCH]: 299, [LOSS/MSE]: 38.925385\n"
     ]
    }
   ],
   "source": [
    "# define models \n",
    "torch.manual_seed(seed)\n",
    "H = 50\n",
    "learning_rate = 0.002\n",
    "\n",
    "model1_relu = nn.Sequential(\n",
    "    nn.Linear(20, H),\n",
    "    nn.ReLU(),\n",
    "    nn.Linear(H, H),\n",
    "    nn.ReLU(),\n",
    "    nn.Linear(H, 1)\n",
    ")\n",
    "\n",
    "# H=50, 300 e more layers w relu, 0.002 lr\n",
    "q5_results10 = []\n",
    "\n",
    "q4_train(model1_relu, 300, 1)\n",
    "q4_test(model1_relu, q5_results10)"
   ]
  },
  {
   "cell_type": "code",
   "execution_count": 105,
   "id": "eced963b-1e53-4175-a904-31c4779969e1",
   "metadata": {},
   "outputs": [
    {
     "data": {
      "text/plain": [
       "[6.228678300495256]"
      ]
     },
     "execution_count": 105,
     "metadata": {},
     "output_type": "execute_result"
    }
   ],
   "source": [
    "q5_results10 # increasing to 500 epochs increased result"
   ]
  },
  {
   "cell_type": "code",
   "execution_count": 108,
   "id": "7419ee7e-3770-4473-916c-ae80a682f405",
   "metadata": {},
   "outputs": [
    {
     "name": "stdout",
     "output_type": "stream",
     "text": [
      "[MODEL]: 1, [EPOCH]: 199, [LOSS/MSE]: 38.297398\n"
     ]
    }
   ],
   "source": [
    "# define models \n",
    "torch.manual_seed(seed)\n",
    "H = 50\n",
    "learning_rate = 0.002\n",
    "\n",
    "model1_relu = nn.Sequential(\n",
    "    nn.Linear(20, H),\n",
    "    nn.ReLU(),\n",
    "    nn.Linear(H, H),\n",
    "    nn.ReLU(),\n",
    "    nn.Linear(H, H),\n",
    "    nn.ReLU(),\n",
    "    nn.Linear(H, 1)\n",
    ")\n",
    "\n",
    "# H=50, 200 e, 3 layers w relu, 0.002 lr\n",
    "q5_results11 = []\n",
    "\n",
    "q4_train(model1_relu, 200, 1)\n",
    "q4_test(model1_relu, q5_results11)"
   ]
  },
  {
   "cell_type": "code",
   "execution_count": 109,
   "id": "231b1c06-c710-43b7-85aa-67048b3b3827",
   "metadata": {},
   "outputs": [
    {
     "data": {
      "text/plain": [
       "[6.1792510921081325]"
      ]
     },
     "execution_count": 109,
     "metadata": {},
     "output_type": "execute_result"
    }
   ],
   "source": [
    "q5_results11"
   ]
  },
  {
   "cell_type": "code",
   "execution_count": 172,
   "id": "3ffe491f-aebe-429f-a443-26d14ad1a07a",
   "metadata": {},
   "outputs": [
    {
     "name": "stdout",
     "output_type": "stream",
     "text": [
      "[MODEL]: 1, [EPOCH]: 299, [LOSS/MSE]: 43.141232\n"
     ]
    }
   ],
   "source": [
    "# define models \n",
    "torch.manual_seed(seed)\n",
    "H = 100\n",
    "learning_rate = 0.002\n",
    "\n",
    "model1_relu = nn.Sequential(\n",
    "    nn.Linear(20, H),\n",
    "    nn.Sigmoid(),\n",
    "    nn.Linear(H, H),\n",
    "    nn.Sigmoid(),\n",
    "    nn.Linear(H, 1)\n",
    ")\n",
    "\n",
    "# H=50, 300 e, 3 layers w sigmoid, 0.002 lr\n",
    "q5_results13 = []\n",
    "\n",
    "q4_train(model1_relu, 300, 1)\n",
    "q4_test(model1_relu, q5_results13)"
   ]
  },
  {
   "cell_type": "code",
   "execution_count": 173,
   "id": "ccb575eb-cf7b-4635-aad4-62bb23d41294",
   "metadata": {},
   "outputs": [
    {
     "data": {
      "text/plain": [
       "[6.550047427390426]"
      ]
     },
     "execution_count": 173,
     "metadata": {},
     "output_type": "execute_result"
    }
   ],
   "source": [
    "q5_results13\n",
    "# [6.588174001529347] with extra layer, 50\n",
    "# [6.530419231965142] with 50"
   ]
  },
  {
   "cell_type": "markdown",
   "id": "e8fd1abb-f887-4fc2-bffa-b87c3d91b03c",
   "metadata": {},
   "source": [
    "### Final Model"
   ]
  },
  {
   "cell_type": "code",
   "execution_count": 111,
   "id": "f71484ea-f005-4a26-a815-f756590657ba",
   "metadata": {},
   "outputs": [
    {
     "name": "stdout",
     "output_type": "stream",
     "text": [
      "[MODEL]: 1, [EPOCH]: 299, [LOSS/MSE]: 37.791744\n"
     ]
    }
   ],
   "source": [
    "# define models \n",
    "torch.manual_seed(seed)\n",
    "H = 50\n",
    "learning_rate = 0.002\n",
    "\n",
    "model1_relu = nn.Sequential(\n",
    "    nn.Linear(20, H),\n",
    "    nn.ReLU(),\n",
    "    nn.Linear(H, H),\n",
    "    nn.ReLU(),\n",
    "    nn.Linear(H, H),\n",
    "    nn.ReLU(),\n",
    "    nn.Linear(H, 1)\n",
    ")\n",
    "\n",
    "# H=50, 300 e, 3 layers w relu, 0.002 lr\n",
    "q5_results12 = []\n",
    "\n",
    "q4_train(model1_relu, 300, 1)\n",
    "q4_test(model1_relu, q5_results12)"
   ]
  },
  {
   "cell_type": "code",
   "execution_count": 112,
   "id": "41eeafba-934b-4893-90e8-a0d157b5a8ef",
   "metadata": {},
   "outputs": [
    {
     "data": {
      "text/plain": [
       "[6.135516699813233]"
      ]
     },
     "execution_count": 112,
     "metadata": {},
     "output_type": "execute_result"
    }
   ],
   "source": [
    "q5_results12"
   ]
  },
  {
   "cell_type": "markdown",
   "id": "b92607b2-611a-48cf-acfe-cfe120373d6b",
   "metadata": {},
   "source": [
    "## Extra Credit: Part A\n",
    "Are there any predictors/features that have effectively no impact on the accuracy of these\n",
    "models? If so, please list them and comment briefly on your findings."
   ]
  },
  {
   "cell_type": "markdown",
   "id": "84a242f0-abf1-466e-b544-a1208093b529",
   "metadata": {},
   "source": [
    "### Diabetes model"
   ]
  },
  {
   "cell_type": "code",
   "execution_count": 138,
   "id": "540b113d-b64e-48c5-8d4f-ad7923e95559",
   "metadata": {},
   "outputs": [
    {
     "name": "stdout",
     "output_type": "stream",
     "text": [
      "[MODEL]: 1, [EPOCH]: 199, [LOSS]: 0.714416, [ACCURACY]: 0.393, [AUROC]: 0.668\n"
     ]
    }
   ],
   "source": [
    "# first best model - for diabetes classification\n",
    "\n",
    "# 2 HL\n",
    "torch.manual_seed(seed)\n",
    "H = 50\n",
    "learning_rate = 0.001\n",
    "\n",
    "best_q3 = nn.Sequential(\n",
    "    nn.Linear(20, H),\n",
    "    nn.Linear(H, H),\n",
    "    nn.Linear(H, 2)\n",
    ")\n",
    "\n",
    "eca_auc = []\n",
    "eca_results = []\n",
    "\n",
    "q2_train(best_q3, 200, modelnum)\n",
    "q2_test(best_q3, eca_auc, eca_results)"
   ]
  },
  {
   "cell_type": "code",
   "execution_count": 139,
   "id": "ed00f629-2df9-40e7-9cb9-8231e0d415ed",
   "metadata": {},
   "outputs": [
    {
     "data": {
      "text/plain": [
       "([0.6695754809148702],\n",
       " [[0.24938178116817078, 0.3946113213497319, 0.1253523934276846]])"
      ]
     },
     "execution_count": 139,
     "metadata": {},
     "output_type": "execute_result"
    }
   ],
   "source": [
    "eca_auc, eca_results"
   ]
  },
  {
   "cell_type": "code",
   "execution_count": 141,
   "id": "2ba48b17-4478-4ad6-8702-054ae06b1eb1",
   "metadata": {},
   "outputs": [],
   "source": [
    "bestauc = eca_auc[0]\n",
    "bestacc = eca_results[0][1]"
   ]
  },
  {
   "cell_type": "code",
   "execution_count": 142,
   "id": "69516fa0-0299-43cb-b4ef-f8eddf46a796",
   "metadata": {},
   "outputs": [],
   "source": [
    "m1_aucdiff = []\n",
    "m1_accdiff = []\n",
    "\n",
    "for col in xTest.columns:\n",
    "    xTest_copy = xTest.copy()\n",
    "    xTest_copy[col] = xTest[col].sample(frac=1).values\n",
    "    xTest_copy = torch.tensor(np.array(xTest_copy), dtype=torch.float32)\n",
    "    \n",
    "    y = torch.max(best_q3(xTest_copy), 1) \n",
    "    yLogit = y.values.detach().numpy() # logits\n",
    "    yPred = y.indices.numpy() # classes\n",
    "    \n",
    "    auc = roc_auc_score(yTest, yLogit)\n",
    "    acc = accuracy_score(yTest, yPred)\n",
    "    # rmse = mean_squared_error(best_q3(model.blah)\n",
    "    \n",
    "    m1_aucdiff.append({'predictor':col, 'score':auc-bestauc})\n",
    "    m1_accdiff.append({'predictor':col, 'score':acc-bestacc})"
   ]
  },
  {
   "cell_type": "code",
   "execution_count": 176,
   "id": "f344bc17-f058-4a62-81b3-6f59d540fa1a",
   "metadata": {},
   "outputs": [],
   "source": [
    "m1_auc = pd.DataFrame(m1_aucdiff).sort_values(by='score', ascending=True, key=abs)\n",
    "m1_acc = pd.DataFrame(m1_accdiff).sort_values(by='score', ascending=True, key=abs)"
   ]
  },
  {
   "cell_type": "code",
   "execution_count": 182,
   "id": "ce104652-2fd0-4d21-a501-a8f4562182e3",
   "metadata": {},
   "outputs": [
    {
     "data": {
      "text/html": [
       "<div>\n",
       "<style scoped>\n",
       "    .dataframe tbody tr th:only-of-type {\n",
       "        vertical-align: middle;\n",
       "    }\n",
       "\n",
       "    .dataframe tbody tr th {\n",
       "        vertical-align: top;\n",
       "    }\n",
       "\n",
       "    .dataframe thead th {\n",
       "        text-align: right;\n",
       "    }\n",
       "</style>\n",
       "<table border=\"1\" class=\"dataframe\">\n",
       "  <thead>\n",
       "    <tr style=\"text-align: right;\">\n",
       "      <th></th>\n",
       "      <th>predictor</th>\n",
       "      <th>score</th>\n",
       "    </tr>\n",
       "  </thead>\n",
       "  <tbody>\n",
       "    <tr>\n",
       "      <th>12</th>\n",
       "      <td>GeneralHealth</td>\n",
       "      <td>-0.000400</td>\n",
       "    </tr>\n",
       "    <tr>\n",
       "      <th>18</th>\n",
       "      <td>EducationBracket</td>\n",
       "      <td>-0.000417</td>\n",
       "    </tr>\n",
       "    <tr>\n",
       "      <th>11</th>\n",
       "      <td>NotAbleToAffordDoctor</td>\n",
       "      <td>-0.001398</td>\n",
       "    </tr>\n",
       "    <tr>\n",
       "      <th>16</th>\n",
       "      <td>BiologicalSex</td>\n",
       "      <td>-0.001662</td>\n",
       "    </tr>\n",
       "    <tr>\n",
       "      <th>2</th>\n",
       "      <td>BMI</td>\n",
       "      <td>-0.001821</td>\n",
       "    </tr>\n",
       "    <tr>\n",
       "      <th>7</th>\n",
       "      <td>Fruit</td>\n",
       "      <td>-0.001838</td>\n",
       "    </tr>\n",
       "    <tr>\n",
       "      <th>13</th>\n",
       "      <td>MentalHealth</td>\n",
       "      <td>-0.003546</td>\n",
       "    </tr>\n",
       "    <tr>\n",
       "      <th>10</th>\n",
       "      <td>HasHealthcare</td>\n",
       "      <td>0.004066</td>\n",
       "    </tr>\n",
       "    <tr>\n",
       "      <th>4</th>\n",
       "      <td>Stroke</td>\n",
       "      <td>-0.005539</td>\n",
       "    </tr>\n",
       "    <tr>\n",
       "      <th>3</th>\n",
       "      <td>Smoker</td>\n",
       "      <td>-0.005874</td>\n",
       "    </tr>\n",
       "  </tbody>\n",
       "</table>\n",
       "</div>"
      ],
      "text/plain": [
       "                predictor     score\n",
       "12          GeneralHealth -0.000400\n",
       "18       EducationBracket -0.000417\n",
       "11  NotAbleToAffordDoctor -0.001398\n",
       "16          BiologicalSex -0.001662\n",
       "2                     BMI -0.001821\n",
       "7                   Fruit -0.001838\n",
       "13           MentalHealth -0.003546\n",
       "10          HasHealthcare  0.004066\n",
       "4                  Stroke -0.005539\n",
       "3                  Smoker -0.005874"
      ]
     },
     "execution_count": 182,
     "metadata": {},
     "output_type": "execute_result"
    }
   ],
   "source": [
    "m1_auc.head(10)"
   ]
  },
  {
   "cell_type": "code",
   "execution_count": 180,
   "id": "1f4b67be-0de9-41a8-8764-051ffa8c0110",
   "metadata": {},
   "outputs": [
    {
     "data": {
      "text/html": [
       "<div>\n",
       "<style scoped>\n",
       "    .dataframe tbody tr th:only-of-type {\n",
       "        vertical-align: middle;\n",
       "    }\n",
       "\n",
       "    .dataframe tbody tr th {\n",
       "        vertical-align: top;\n",
       "    }\n",
       "\n",
       "    .dataframe thead th {\n",
       "        text-align: right;\n",
       "    }\n",
       "</style>\n",
       "<table border=\"1\" class=\"dataframe\">\n",
       "  <thead>\n",
       "    <tr style=\"text-align: right;\">\n",
       "      <th></th>\n",
       "      <th>predictor</th>\n",
       "      <th>score</th>\n",
       "    </tr>\n",
       "  </thead>\n",
       "  <tbody>\n",
       "    <tr>\n",
       "      <th>17</th>\n",
       "      <td>AgeBracket</td>\n",
       "      <td>-0.000355</td>\n",
       "    </tr>\n",
       "    <tr>\n",
       "      <th>11</th>\n",
       "      <td>NotAbleToAffordDoctor</td>\n",
       "      <td>-0.000729</td>\n",
       "    </tr>\n",
       "    <tr>\n",
       "      <th>10</th>\n",
       "      <td>HasHealthcare</td>\n",
       "      <td>-0.000788</td>\n",
       "    </tr>\n",
       "    <tr>\n",
       "      <th>18</th>\n",
       "      <td>EducationBracket</td>\n",
       "      <td>0.001104</td>\n",
       "    </tr>\n",
       "    <tr>\n",
       "      <th>9</th>\n",
       "      <td>HeavyDrinker</td>\n",
       "      <td>0.001537</td>\n",
       "    </tr>\n",
       "    <tr>\n",
       "      <th>2</th>\n",
       "      <td>BMI</td>\n",
       "      <td>-0.002405</td>\n",
       "    </tr>\n",
       "    <tr>\n",
       "      <th>16</th>\n",
       "      <td>BiologicalSex</td>\n",
       "      <td>-0.003272</td>\n",
       "    </tr>\n",
       "    <tr>\n",
       "      <th>3</th>\n",
       "      <td>Smoker</td>\n",
       "      <td>0.004592</td>\n",
       "    </tr>\n",
       "    <tr>\n",
       "      <th>6</th>\n",
       "      <td>PhysActivity</td>\n",
       "      <td>-0.007569</td>\n",
       "    </tr>\n",
       "    <tr>\n",
       "      <th>4</th>\n",
       "      <td>Stroke</td>\n",
       "      <td>0.008219</td>\n",
       "    </tr>\n",
       "  </tbody>\n",
       "</table>\n",
       "</div>"
      ],
      "text/plain": [
       "                predictor     score\n",
       "17             AgeBracket -0.000355\n",
       "11  NotAbleToAffordDoctor -0.000729\n",
       "10          HasHealthcare -0.000788\n",
       "18       EducationBracket  0.001104\n",
       "9            HeavyDrinker  0.001537\n",
       "2                     BMI -0.002405\n",
       "16          BiologicalSex -0.003272\n",
       "3                  Smoker  0.004592\n",
       "6            PhysActivity -0.007569\n",
       "4                  Stroke  0.008219"
      ]
     },
     "execution_count": 180,
     "metadata": {},
     "output_type": "execute_result"
    }
   ],
   "source": [
    "m1_acc.head(10)"
   ]
  },
  {
   "cell_type": "markdown",
   "id": "cc84e89c-3ddb-478a-bb89-485c3fcd5135",
   "metadata": {},
   "source": [
    "### BMI model"
   ]
  },
  {
   "cell_type": "code",
   "execution_count": 149,
   "id": "6001672b-6cd1-4701-b651-d0a544a1f34e",
   "metadata": {},
   "outputs": [
    {
     "name": "stdout",
     "output_type": "stream",
     "text": [
      "[MODEL]: 1, [EPOCH]: 299, [LOSS/MSE]: 37.791744\n"
     ]
    }
   ],
   "source": [
    "# second best model - for bmi prediction\n",
    "torch.manual_seed(seed)\n",
    "H = 50\n",
    "learning_rate = 0.002\n",
    "\n",
    "model1_relu = nn.Sequential(\n",
    "    nn.Linear(20, H),\n",
    "    nn.ReLU(),\n",
    "    nn.Linear(H, H),\n",
    "    nn.ReLU(),\n",
    "    nn.Linear(H, H),\n",
    "    nn.ReLU(),\n",
    "    nn.Linear(H, 1)\n",
    ")\n",
    "\n",
    "# H=100, 300 e, 3 layers w no activation, 0.002 lr\n",
    "ecb_results = []\n",
    "\n",
    "q4_train(model1_relu, 300, 1)\n",
    "q4_test(model1_relu, ecb_results)"
   ]
  },
  {
   "cell_type": "code",
   "execution_count": 151,
   "id": "372ade83-e40f-4654-b785-5ccf92b1b5e2",
   "metadata": {},
   "outputs": [
    {
     "data": {
      "text/plain": [
       "[6.135516699813233]"
      ]
     },
     "execution_count": 151,
     "metadata": {},
     "output_type": "execute_result"
    }
   ],
   "source": [
    "bestrmse = ecb_results[0]\n",
    "ecb_results"
   ]
  },
  {
   "cell_type": "code",
   "execution_count": 156,
   "id": "dbd70c18-439a-432b-94c4-749830f58f75",
   "metadata": {},
   "outputs": [],
   "source": [
    "m2_rmsediff = []\n",
    "\n",
    "for col in xTest2.columns:\n",
    "    xTest2_copy = xTest2.copy()\n",
    "    xTest2_copy[col] = xTest2[col].sample(frac=1).values\n",
    "    xTest2_copy = torch.tensor(np.array(xTest2_copy), dtype=torch.float32)\n",
    "    \n",
    "    yPred = model1_relu(xTest2_copy).detach().numpy()\n",
    "    rmse = mean_squared_error(yTest2, yPred, squared=False)\n",
    "    \n",
    "    m2_rmsediff.append({'predictor':col, 'score':rmse-bestrmse})\n"
   ]
  },
  {
   "cell_type": "code",
   "execution_count": 185,
   "id": "8abee511-c2f8-4035-b378-5d332dfeaf3a",
   "metadata": {},
   "outputs": [
    {
     "data": {
      "text/html": [
       "<div>\n",
       "<style scoped>\n",
       "    .dataframe tbody tr th:only-of-type {\n",
       "        vertical-align: middle;\n",
       "    }\n",
       "\n",
       "    .dataframe tbody tr th {\n",
       "        vertical-align: top;\n",
       "    }\n",
       "\n",
       "    .dataframe thead th {\n",
       "        text-align: right;\n",
       "    }\n",
       "</style>\n",
       "<table border=\"1\" class=\"dataframe\">\n",
       "  <thead>\n",
       "    <tr style=\"text-align: right;\">\n",
       "      <th></th>\n",
       "      <th>predictor</th>\n",
       "      <th>score</th>\n",
       "    </tr>\n",
       "  </thead>\n",
       "  <tbody>\n",
       "    <tr>\n",
       "      <th>8</th>\n",
       "      <td>Vegetables</td>\n",
       "      <td>0.000400</td>\n",
       "    </tr>\n",
       "    <tr>\n",
       "      <th>13</th>\n",
       "      <td>MentalHealth</td>\n",
       "      <td>0.000531</td>\n",
       "    </tr>\n",
       "    <tr>\n",
       "      <th>10</th>\n",
       "      <td>HasHealthcare</td>\n",
       "      <td>0.000547</td>\n",
       "    </tr>\n",
       "    <tr>\n",
       "      <th>18</th>\n",
       "      <td>EducationBracket</td>\n",
       "      <td>0.000696</td>\n",
       "    </tr>\n",
       "    <tr>\n",
       "      <th>11</th>\n",
       "      <td>NotAbleToAffordDoctor</td>\n",
       "      <td>0.004869</td>\n",
       "    </tr>\n",
       "  </tbody>\n",
       "</table>\n",
       "</div>"
      ],
      "text/plain": [
       "                predictor     score\n",
       "8              Vegetables  0.000400\n",
       "13           MentalHealth  0.000531\n",
       "10          HasHealthcare  0.000547\n",
       "18       EducationBracket  0.000696\n",
       "11  NotAbleToAffordDoctor  0.004869"
      ]
     },
     "execution_count": 185,
     "metadata": {},
     "output_type": "execute_result"
    }
   ],
   "source": [
    "m2_rmse = pd.DataFrame(m2_rmsediff).sort_values(by='score', ascending=True)\n",
    "m2_rmse.head(5)"
   ]
  },
  {
   "cell_type": "markdown",
   "id": "658f62b1-9a6a-4ef4-a8bb-b21d24093b8c",
   "metadata": {},
   "source": [
    "## Extra Credit: Part B\n",
    "Write a summary statement on the overall pros and cons of using neural networks to\n",
    "learn from the same dataset as in the prior homework, relative to using classical methods\n",
    "(logistic regression, SVM, trees, forests, boosting methods). Any overall lessons?"
   ]
  },
  {
   "attachments": {
    "03018716-e809-427e-95bc-8f8e6842f6eb.png": {
     "image/png": "[encoded data removed]"
    }
   },
   "cell_type": "markdown",
   "id": "dd1e1ff7-6ffc-4edc-bba7-87574d0b0342",
   "metadata": {},
   "source": [
    "![image.png](attachment:03018716-e809-427e-95bc-8f8e6842f6eb.png)"
   ]
  },
  {
   "cell_type": "markdown",
   "id": "0730f0e1-2d53-45ac-9d54-4228d96f36b0",
   "metadata": {},
   "source": [
    "* NNs are great for modeling more complex relationships, but they may be too complex for certain relationships that would be better modeled by linear methods.\n",
    "* This dataset is large, but not very large - different seeds and network initializations do make differences. Classical methods are better suited for smaller datasets, since it takes a lot of data to train all the parameters of a  neural network well. NNs can perform poorly if not trained on enough data.\n",
    "* NNs require much more hyperparameter tuning to really optimize their performance. NNs already take so much time to train individually, so retraining or validating models take that much more time and effort. It took significantly more time to complete this assignment than the previous one using the same data.\n",
    "* From performance in the previous assignment compared to this one, it appears a simpler model may be better for classifying diabetes with this particular dataset - the perceptron had the most similar performance to the classical methods, and my NNs performed worse even after attempting to hyperparameter tune\n",
    "* I can't compare the performance for the regression task (predicting BMI) since that was not done in the previous assignment, but using NNs to do regression using this dataset seemed more fitting than the classification task"
   ]
  }
 ],
 "metadata": {
  "kernelspec": {
   "display_name": "Python 3 (ipykernel)",
   "language": "python",
   "name": "python3"
  },
  "language_info": {
   "codemirror_mode": {
    "name": "ipython",
    "version": 3
   },
   "file_extension": ".py",
   "mimetype": "text/x-python",
   "name": "python",
   "nbconvert_exporter": "python",
   "pygments_lexer": "ipython3",
   "version": "3.8.13"
  }
 },
 "nbformat": 4,
 "nbformat_minor": 5
}
