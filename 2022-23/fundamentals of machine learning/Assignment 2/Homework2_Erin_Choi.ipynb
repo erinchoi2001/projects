{
 "cells": [
  {
   "cell_type": "markdown",
   "id": "27da1926-f82d-41b5-b1b8-aee9ae28be81",
   "metadata": {},
   "source": [
    "# FML Homework 2 - Erin Choi"
   ]
  },
  {
   "cell_type": "markdown",
   "id": "236051f8-1e00-4581-a8ba-fe86762ba79f",
   "metadata": {
    "tags": []
   },
   "source": [
    "## Data cleaning"
   ]
  },
  {
   "cell_type": "code",
   "execution_count": 1,
   "id": "18c2ec22-73e8-43cf-bdfc-e33f9eed58a4",
   "metadata": {},
   "outputs": [],
   "source": [
    "# import packages\n",
    "import numpy as np\n",
    "import pandas as pd\n",
    "import matplotlib.pyplot as plt\n",
    "from sklearn import metrics\n",
    "from sklearn import model_selection\n",
    "from sklearn.preprocessing import OneHotEncoder, StandardScaler\n",
    "from sklearn.model_selection import train_test_split, GridSearchCV, StratifiedShuffleSplit\n",
    "from sklearn.linear_model import LinearRegression, LogisticRegression, Ridge, Lasso\n",
    "from sklearn.ensemble import RandomForestRegressor\n",
    "from sklearn.metrics import r2_score, mean_squared_error, accuracy_score, precision_score, recall_score, confusion_matrix, plot_roc_curve, plot_precision_recall_curve, roc_auc_score\n",
    "import warnings"
   ]
  },
  {
   "cell_type": "code",
   "execution_count": 2,
   "id": "9245823c-faa0-4f44-994d-94bb872224ad",
   "metadata": {},
   "outputs": [
    {
     "data": {
      "text/html": [
       "<div>\n",
       "<style scoped>\n",
       "    .dataframe tbody tr th:only-of-type {\n",
       "        vertical-align: middle;\n",
       "    }\n",
       "\n",
       "    .dataframe tbody tr th {\n",
       "        vertical-align: top;\n",
       "    }\n",
       "\n",
       "    .dataframe thead th {\n",
       "        text-align: right;\n",
       "    }\n",
       "</style>\n",
       "<table border=\"1\" class=\"dataframe\">\n",
       "  <thead>\n",
       "    <tr style=\"text-align: right;\">\n",
       "      <th></th>\n",
       "      <th>company</th>\n",
       "      <th>title</th>\n",
       "      <th>location</th>\n",
       "      <th>totalyearlycompensation</th>\n",
       "      <th>basesalary</th>\n",
       "      <th>stockgrantvalue</th>\n",
       "      <th>bonus</th>\n",
       "      <th>yearsofexperience</th>\n",
       "      <th>yearsatcompany</th>\n",
       "      <th>gender</th>\n",
       "      <th>...</th>\n",
       "      <th>Race_Two_Or_More</th>\n",
       "      <th>Race_Black</th>\n",
       "      <th>Race_Hispanic</th>\n",
       "      <th>Race</th>\n",
       "      <th>Education</th>\n",
       "      <th>Age</th>\n",
       "      <th>Height</th>\n",
       "      <th>Zodiac</th>\n",
       "      <th>SAT</th>\n",
       "      <th>GPA</th>\n",
       "    </tr>\n",
       "  </thead>\n",
       "  <tbody>\n",
       "    <tr>\n",
       "      <th>0</th>\n",
       "      <td>Oracle</td>\n",
       "      <td>Product Manager</td>\n",
       "      <td>Redwood City, CA</td>\n",
       "      <td>127000</td>\n",
       "      <td>107000</td>\n",
       "      <td>20000.0</td>\n",
       "      <td>10000.0</td>\n",
       "      <td>1.5</td>\n",
       "      <td>1.5</td>\n",
       "      <td>NaN</td>\n",
       "      <td>...</td>\n",
       "      <td>0</td>\n",
       "      <td>0</td>\n",
       "      <td>0</td>\n",
       "      <td>NaN</td>\n",
       "      <td>NaN</td>\n",
       "      <td>38</td>\n",
       "      <td>68.590</td>\n",
       "      <td>5</td>\n",
       "      <td>829</td>\n",
       "      <td>2.13</td>\n",
       "    </tr>\n",
       "    <tr>\n",
       "      <th>1</th>\n",
       "      <td>eBay</td>\n",
       "      <td>Software Engineer</td>\n",
       "      <td>San Francisco, CA</td>\n",
       "      <td>100000</td>\n",
       "      <td>0</td>\n",
       "      <td>0.0</td>\n",
       "      <td>0.0</td>\n",
       "      <td>5.0</td>\n",
       "      <td>3.0</td>\n",
       "      <td>NaN</td>\n",
       "      <td>...</td>\n",
       "      <td>0</td>\n",
       "      <td>0</td>\n",
       "      <td>0</td>\n",
       "      <td>NaN</td>\n",
       "      <td>NaN</td>\n",
       "      <td>34</td>\n",
       "      <td>68.059</td>\n",
       "      <td>7</td>\n",
       "      <td>993</td>\n",
       "      <td>2.77</td>\n",
       "    </tr>\n",
       "    <tr>\n",
       "      <th>2</th>\n",
       "      <td>Amazon</td>\n",
       "      <td>Product Manager</td>\n",
       "      <td>Seattle, WA</td>\n",
       "      <td>310000</td>\n",
       "      <td>155000</td>\n",
       "      <td>0.0</td>\n",
       "      <td>0.0</td>\n",
       "      <td>8.0</td>\n",
       "      <td>0.0</td>\n",
       "      <td>NaN</td>\n",
       "      <td>...</td>\n",
       "      <td>0</td>\n",
       "      <td>0</td>\n",
       "      <td>0</td>\n",
       "      <td>NaN</td>\n",
       "      <td>NaN</td>\n",
       "      <td>42</td>\n",
       "      <td>61.343</td>\n",
       "      <td>3</td>\n",
       "      <td>1200</td>\n",
       "      <td>3.26</td>\n",
       "    </tr>\n",
       "    <tr>\n",
       "      <th>3</th>\n",
       "      <td>Apple</td>\n",
       "      <td>Software Engineering Manager</td>\n",
       "      <td>Sunnyvale, CA</td>\n",
       "      <td>372000</td>\n",
       "      <td>157000</td>\n",
       "      <td>180000.0</td>\n",
       "      <td>35000.0</td>\n",
       "      <td>7.0</td>\n",
       "      <td>5.0</td>\n",
       "      <td>NaN</td>\n",
       "      <td>...</td>\n",
       "      <td>0</td>\n",
       "      <td>0</td>\n",
       "      <td>0</td>\n",
       "      <td>NaN</td>\n",
       "      <td>NaN</td>\n",
       "      <td>28</td>\n",
       "      <td>66.495</td>\n",
       "      <td>3</td>\n",
       "      <td>1170</td>\n",
       "      <td>3.07</td>\n",
       "    </tr>\n",
       "    <tr>\n",
       "      <th>4</th>\n",
       "      <td>Microsoft</td>\n",
       "      <td>Software Engineer</td>\n",
       "      <td>Mountain View, CA</td>\n",
       "      <td>157000</td>\n",
       "      <td>0</td>\n",
       "      <td>0.0</td>\n",
       "      <td>0.0</td>\n",
       "      <td>5.0</td>\n",
       "      <td>3.0</td>\n",
       "      <td>NaN</td>\n",
       "      <td>...</td>\n",
       "      <td>0</td>\n",
       "      <td>0</td>\n",
       "      <td>0</td>\n",
       "      <td>NaN</td>\n",
       "      <td>NaN</td>\n",
       "      <td>34</td>\n",
       "      <td>69.015</td>\n",
       "      <td>2</td>\n",
       "      <td>1115</td>\n",
       "      <td>2.91</td>\n",
       "    </tr>\n",
       "  </tbody>\n",
       "</table>\n",
       "<p>5 rows × 27 columns</p>\n",
       "</div>"
      ],
      "text/plain": [
       "     company                         title           location  \\\n",
       "0     Oracle               Product Manager   Redwood City, CA   \n",
       "1       eBay             Software Engineer  San Francisco, CA   \n",
       "2     Amazon               Product Manager        Seattle, WA   \n",
       "3      Apple  Software Engineering Manager      Sunnyvale, CA   \n",
       "4  Microsoft             Software Engineer  Mountain View, CA   \n",
       "\n",
       "   totalyearlycompensation  basesalary  stockgrantvalue    bonus  \\\n",
       "0                   127000      107000          20000.0  10000.0   \n",
       "1                   100000           0              0.0      0.0   \n",
       "2                   310000      155000              0.0      0.0   \n",
       "3                   372000      157000         180000.0  35000.0   \n",
       "4                   157000           0              0.0      0.0   \n",
       "\n",
       "   yearsofexperience  yearsatcompany gender  ...  Race_Two_Or_More  \\\n",
       "0                1.5             1.5    NaN  ...                 0   \n",
       "1                5.0             3.0    NaN  ...                 0   \n",
       "2                8.0             0.0    NaN  ...                 0   \n",
       "3                7.0             5.0    NaN  ...                 0   \n",
       "4                5.0             3.0    NaN  ...                 0   \n",
       "\n",
       "   Race_Black  Race_Hispanic  Race  Education  Age  Height  Zodiac   SAT   GPA  \n",
       "0           0              0   NaN        NaN   38  68.590       5   829  2.13  \n",
       "1           0              0   NaN        NaN   34  68.059       7   993  2.77  \n",
       "2           0              0   NaN        NaN   42  61.343       3  1200  3.26  \n",
       "3           0              0   NaN        NaN   28  66.495       3  1170  3.07  \n",
       "4           0              0   NaN        NaN   34  69.015       2  1115  2.91  \n",
       "\n",
       "[5 rows x 27 columns]"
      ]
     },
     "execution_count": 2,
     "metadata": {},
     "output_type": "execute_result"
    }
   ],
   "source": [
    "# load data\n",
    "data = pd.read_csv('techSalaries2017.csv')\n",
    "data.head()"
   ]
  },
  {
   "cell_type": "code",
   "execution_count": 3,
   "id": "38e27d85-7e9b-431e-87c3-a4194f54b1f0",
   "metadata": {},
   "outputs": [
    {
     "data": {
      "text/plain": [
       "(62642, 27)"
      ]
     },
     "execution_count": 3,
     "metadata": {},
     "output_type": "execute_result"
    }
   ],
   "source": [
    "# how many rows are in the data?\n",
    "data.shape"
   ]
  },
  {
   "cell_type": "code",
   "execution_count": 4,
   "id": "d0254b0f-e32f-4232-91db-d63d051656a7",
   "metadata": {},
   "outputs": [
    {
     "data": {
      "text/plain": [
       "company                        5\n",
       "title                          0\n",
       "location                       0\n",
       "totalyearlycompensation        0\n",
       "basesalary                     0\n",
       "stockgrantvalue                0\n",
       "bonus                          0\n",
       "yearsofexperience              0\n",
       "yearsatcompany                 0\n",
       "gender                     19540\n",
       "Masters_Degree                 0\n",
       "Bachelors_Degree               0\n",
       "Doctorate_Degree               0\n",
       "Highschool                     0\n",
       "Some_College                   0\n",
       "Race_Asian                     0\n",
       "Race_White                     0\n",
       "Race_Two_Or_More               0\n",
       "Race_Black                     0\n",
       "Race_Hispanic                  0\n",
       "Race                       40215\n",
       "Education                  32272\n",
       "Age                            0\n",
       "Height                         0\n",
       "Zodiac                         0\n",
       "SAT                            0\n",
       "GPA                            0\n",
       "dtype: int64"
      ]
     },
     "execution_count": 4,
     "metadata": {},
     "output_type": "execute_result"
    }
   ],
   "source": [
    "# which columns have null values?\n",
    "data.isnull().sum()"
   ]
  },
  {
   "cell_type": "code",
   "execution_count": 5,
   "id": "3920d721-42eb-45c1-b2cf-080132aab05d",
   "metadata": {},
   "outputs": [
    {
     "data": {
      "text/plain": [
       "Male                               35702\n",
       "Female                              6999\n",
       "Other                                400\n",
       "Title: Senior Software Engineer        1\n",
       "Name: gender, dtype: int64"
      ]
     },
     "execution_count": 5,
     "metadata": {},
     "output_type": "execute_result"
    }
   ],
   "source": [
    "# checking unique values for each column: there's something weird in the gender column\n",
    "data['gender'].value_counts()"
   ]
  },
  {
   "cell_type": "code",
   "execution_count": 6,
   "id": "b144ffe9-a89a-406f-aa5a-2a4d242508e0",
   "metadata": {},
   "outputs": [
    {
     "data": {
      "text/plain": [
       "19541"
      ]
     },
     "execution_count": 6,
     "metadata": {},
     "output_type": "execute_result"
    }
   ],
   "source": [
    "# change the weird gender value to null value\n",
    "data.loc[(data['gender']=='Title: Senior Software Engineer', 'gender')] = np.nan\n",
    "# data.iloc[11010]\n",
    "data['gender'].isnull().sum()"
   ]
  },
  {
   "cell_type": "code",
   "execution_count": 7,
   "id": "0c433abd-f235-499e-a362-ee8dfd17bf27",
   "metadata": {},
   "outputs": [
    {
     "data": {
      "text/plain": [
       "(21591, 27)"
      ]
     },
     "execution_count": 7,
     "metadata": {},
     "output_type": "execute_result"
    }
   ],
   "source": [
    "# to restrict to data that provides race/education information,\n",
    "# drop rows with NA for race and/or education\n",
    "# drop rows with no gender information as well\n",
    "data.dropna(subset=['Race', 'Education', 'gender'], inplace=True)\n",
    "data.shape"
   ]
  },
  {
   "cell_type": "code",
   "execution_count": 8,
   "id": "57a89094-b0fa-4b61-81c3-9903d12d4430",
   "metadata": {},
   "outputs": [
    {
     "data": {
      "text/html": [
       "<div>\n",
       "<style scoped>\n",
       "    .dataframe tbody tr th:only-of-type {\n",
       "        vertical-align: middle;\n",
       "    }\n",
       "\n",
       "    .dataframe tbody tr th {\n",
       "        vertical-align: top;\n",
       "    }\n",
       "\n",
       "    .dataframe thead th {\n",
       "        text-align: right;\n",
       "    }\n",
       "</style>\n",
       "<table border=\"1\" class=\"dataframe\">\n",
       "  <thead>\n",
       "    <tr style=\"text-align: right;\">\n",
       "      <th></th>\n",
       "      <th>company</th>\n",
       "      <th>title</th>\n",
       "      <th>location</th>\n",
       "      <th>totalyearlycompensation</th>\n",
       "      <th>basesalary</th>\n",
       "      <th>stockgrantvalue</th>\n",
       "      <th>bonus</th>\n",
       "      <th>yearsofexperience</th>\n",
       "      <th>yearsatcompany</th>\n",
       "      <th>gender</th>\n",
       "      <th>...</th>\n",
       "      <th>Race_Asian</th>\n",
       "      <th>Race_White</th>\n",
       "      <th>Race_Two_Or_More</th>\n",
       "      <th>Race_Black</th>\n",
       "      <th>Race_Hispanic</th>\n",
       "      <th>Age</th>\n",
       "      <th>Height</th>\n",
       "      <th>Zodiac</th>\n",
       "      <th>SAT</th>\n",
       "      <th>GPA</th>\n",
       "    </tr>\n",
       "  </thead>\n",
       "  <tbody>\n",
       "    <tr>\n",
       "      <th>0</th>\n",
       "      <td>Google</td>\n",
       "      <td>Software Engineer</td>\n",
       "      <td>Sunnyvale, CA</td>\n",
       "      <td>400000</td>\n",
       "      <td>210000</td>\n",
       "      <td>145000.0</td>\n",
       "      <td>45000.0</td>\n",
       "      <td>5.0</td>\n",
       "      <td>5.0</td>\n",
       "      <td>Male</td>\n",
       "      <td>...</td>\n",
       "      <td>1</td>\n",
       "      <td>0</td>\n",
       "      <td>0</td>\n",
       "      <td>0</td>\n",
       "      <td>0</td>\n",
       "      <td>45</td>\n",
       "      <td>68.891</td>\n",
       "      <td>9</td>\n",
       "      <td>1166</td>\n",
       "      <td>3.04</td>\n",
       "    </tr>\n",
       "    <tr>\n",
       "      <th>1</th>\n",
       "      <td>Microsoft</td>\n",
       "      <td>Software Engineer</td>\n",
       "      <td>Redmond, WA</td>\n",
       "      <td>136000</td>\n",
       "      <td>124000</td>\n",
       "      <td>1000.0</td>\n",
       "      <td>11000.0</td>\n",
       "      <td>3.0</td>\n",
       "      <td>2.0</td>\n",
       "      <td>Male</td>\n",
       "      <td>...</td>\n",
       "      <td>0</td>\n",
       "      <td>0</td>\n",
       "      <td>1</td>\n",
       "      <td>0</td>\n",
       "      <td>0</td>\n",
       "      <td>24</td>\n",
       "      <td>61.454</td>\n",
       "      <td>12</td>\n",
       "      <td>1175</td>\n",
       "      <td>3.07</td>\n",
       "    </tr>\n",
       "    <tr>\n",
       "      <th>2</th>\n",
       "      <td>Google</td>\n",
       "      <td>Software Engineer</td>\n",
       "      <td>San Bruno, CA</td>\n",
       "      <td>337000</td>\n",
       "      <td>177000</td>\n",
       "      <td>125000.0</td>\n",
       "      <td>36000.0</td>\n",
       "      <td>6.0</td>\n",
       "      <td>6.0</td>\n",
       "      <td>Male</td>\n",
       "      <td>...</td>\n",
       "      <td>1</td>\n",
       "      <td>0</td>\n",
       "      <td>0</td>\n",
       "      <td>0</td>\n",
       "      <td>0</td>\n",
       "      <td>25</td>\n",
       "      <td>65.455</td>\n",
       "      <td>1</td>\n",
       "      <td>1268</td>\n",
       "      <td>3.34</td>\n",
       "    </tr>\n",
       "    <tr>\n",
       "      <th>3</th>\n",
       "      <td>Microsoft</td>\n",
       "      <td>Software Engineer</td>\n",
       "      <td>Seattle, WA</td>\n",
       "      <td>222000</td>\n",
       "      <td>164000</td>\n",
       "      <td>38000.0</td>\n",
       "      <td>20000.0</td>\n",
       "      <td>4.0</td>\n",
       "      <td>4.0</td>\n",
       "      <td>Male</td>\n",
       "      <td>...</td>\n",
       "      <td>1</td>\n",
       "      <td>0</td>\n",
       "      <td>0</td>\n",
       "      <td>0</td>\n",
       "      <td>0</td>\n",
       "      <td>32</td>\n",
       "      <td>73.769</td>\n",
       "      <td>8</td>\n",
       "      <td>1070</td>\n",
       "      <td>2.75</td>\n",
       "    </tr>\n",
       "    <tr>\n",
       "      <th>4</th>\n",
       "      <td>Blend</td>\n",
       "      <td>Software Engineer</td>\n",
       "      <td>San Francisco, CA</td>\n",
       "      <td>187000</td>\n",
       "      <td>165000</td>\n",
       "      <td>22000.0</td>\n",
       "      <td>0.0</td>\n",
       "      <td>5.0</td>\n",
       "      <td>0.0</td>\n",
       "      <td>Male</td>\n",
       "      <td>...</td>\n",
       "      <td>0</td>\n",
       "      <td>1</td>\n",
       "      <td>0</td>\n",
       "      <td>0</td>\n",
       "      <td>0</td>\n",
       "      <td>29</td>\n",
       "      <td>68.710</td>\n",
       "      <td>2</td>\n",
       "      <td>1187</td>\n",
       "      <td>3.23</td>\n",
       "    </tr>\n",
       "  </tbody>\n",
       "</table>\n",
       "<p>5 rows × 25 columns</p>\n",
       "</div>"
      ],
      "text/plain": [
       "     company              title           location  totalyearlycompensation  \\\n",
       "0     Google  Software Engineer      Sunnyvale, CA                   400000   \n",
       "1  Microsoft  Software Engineer        Redmond, WA                   136000   \n",
       "2     Google  Software Engineer      San Bruno, CA                   337000   \n",
       "3  Microsoft  Software Engineer        Seattle, WA                   222000   \n",
       "4      Blend  Software Engineer  San Francisco, CA                   187000   \n",
       "\n",
       "   basesalary  stockgrantvalue    bonus  yearsofexperience  yearsatcompany  \\\n",
       "0      210000         145000.0  45000.0                5.0             5.0   \n",
       "1      124000           1000.0  11000.0                3.0             2.0   \n",
       "2      177000         125000.0  36000.0                6.0             6.0   \n",
       "3      164000          38000.0  20000.0                4.0             4.0   \n",
       "4      165000          22000.0      0.0                5.0             0.0   \n",
       "\n",
       "  gender  ...  Race_Asian  Race_White  Race_Two_Or_More  Race_Black  \\\n",
       "0   Male  ...           1           0                 0           0   \n",
       "1   Male  ...           0           0                 1           0   \n",
       "2   Male  ...           1           0                 0           0   \n",
       "3   Male  ...           1           0                 0           0   \n",
       "4   Male  ...           0           1                 0           0   \n",
       "\n",
       "   Race_Hispanic  Age  Height  Zodiac   SAT   GPA  \n",
       "0              0   45  68.891       9  1166  3.04  \n",
       "1              0   24  61.454      12  1175  3.07  \n",
       "2              0   25  65.455       1  1268  3.34  \n",
       "3              0   32  73.769       8  1070  2.75  \n",
       "4              0   29  68.710       2  1187  3.23  \n",
       "\n",
       "[5 rows x 25 columns]"
      ]
     },
     "execution_count": 8,
     "metadata": {},
     "output_type": "execute_result"
    }
   ],
   "source": [
    "# drop race and education columns\n",
    "data.drop(columns=['Education', 'Race'], inplace=True)\n",
    "# reset index\n",
    "data.reset_index(drop=True, inplace=True)\n",
    "data.head()"
   ]
  },
  {
   "cell_type": "code",
   "execution_count": 9,
   "id": "549374a1-7150-49f4-8b9d-3d638fd547a4",
   "metadata": {},
   "outputs": [
    {
     "data": {
      "text/plain": [
       "female  male  other\n",
       "0.0     1.0   0.0      17605\n",
       "1.0     0.0   0.0       3880\n",
       "0.0     0.0   1.0        106\n",
       "dtype: int64"
      ]
     },
     "execution_count": 9,
     "metadata": {},
     "output_type": "execute_result"
    }
   ],
   "source": [
    "# encode the gender column into numerical data using one-hot encoding\n",
    "gendercol = pd.DataFrame(data['gender'])\n",
    "ohe = OneHotEncoder()\n",
    "gender_1hot = ohe.fit_transform(gendercol)\n",
    "gender_df = pd.DataFrame(gender_1hot.toarray(), columns=['female','male','other'])\n",
    "gender_df.value_counts()"
   ]
  },
  {
   "cell_type": "code",
   "execution_count": 10,
   "id": "f9672820-2cfb-4d9b-9e45-50d398402e03",
   "metadata": {},
   "outputs": [
    {
     "data": {
      "text/html": [
       "<div>\n",
       "<style scoped>\n",
       "    .dataframe tbody tr th:only-of-type {\n",
       "        vertical-align: middle;\n",
       "    }\n",
       "\n",
       "    .dataframe tbody tr th {\n",
       "        vertical-align: top;\n",
       "    }\n",
       "\n",
       "    .dataframe thead th {\n",
       "        text-align: right;\n",
       "    }\n",
       "</style>\n",
       "<table border=\"1\" class=\"dataframe\">\n",
       "  <thead>\n",
       "    <tr style=\"text-align: right;\">\n",
       "      <th></th>\n",
       "      <th>company</th>\n",
       "      <th>title</th>\n",
       "      <th>location</th>\n",
       "      <th>totalyearlycompensation</th>\n",
       "      <th>basesalary</th>\n",
       "      <th>stockgrantvalue</th>\n",
       "      <th>bonus</th>\n",
       "      <th>yearsofexperience</th>\n",
       "      <th>yearsatcompany</th>\n",
       "      <th>gender</th>\n",
       "      <th>...</th>\n",
       "      <th>Race_Black</th>\n",
       "      <th>Race_Hispanic</th>\n",
       "      <th>Age</th>\n",
       "      <th>Height</th>\n",
       "      <th>Zodiac</th>\n",
       "      <th>SAT</th>\n",
       "      <th>GPA</th>\n",
       "      <th>male</th>\n",
       "      <th>female</th>\n",
       "      <th>other_gender</th>\n",
       "    </tr>\n",
       "  </thead>\n",
       "  <tbody>\n",
       "    <tr>\n",
       "      <th>21586</th>\n",
       "      <td>Facebook</td>\n",
       "      <td>Software Engineering Manager</td>\n",
       "      <td>Menlo Park, CA</td>\n",
       "      <td>1470000</td>\n",
       "      <td>290000</td>\n",
       "      <td>1100.0</td>\n",
       "      <td>80000.0</td>\n",
       "      <td>9.0</td>\n",
       "      <td>7.0</td>\n",
       "      <td>Male</td>\n",
       "      <td>...</td>\n",
       "      <td>0</td>\n",
       "      <td>0</td>\n",
       "      <td>31</td>\n",
       "      <td>68.402</td>\n",
       "      <td>12</td>\n",
       "      <td>1436</td>\n",
       "      <td>3.77</td>\n",
       "      <td>1.0</td>\n",
       "      <td>0.0</td>\n",
       "      <td>0.0</td>\n",
       "    </tr>\n",
       "    <tr>\n",
       "      <th>21587</th>\n",
       "      <td>Google</td>\n",
       "      <td>Product Manager</td>\n",
       "      <td>San Francisco, CA</td>\n",
       "      <td>4500000</td>\n",
       "      <td>450000</td>\n",
       "      <td>3700.0</td>\n",
       "      <td>350000.0</td>\n",
       "      <td>20.0</td>\n",
       "      <td>14.0</td>\n",
       "      <td>Male</td>\n",
       "      <td>...</td>\n",
       "      <td>0</td>\n",
       "      <td>0</td>\n",
       "      <td>57</td>\n",
       "      <td>69.195</td>\n",
       "      <td>6</td>\n",
       "      <td>1363</td>\n",
       "      <td>3.50</td>\n",
       "      <td>1.0</td>\n",
       "      <td>0.0</td>\n",
       "      <td>0.0</td>\n",
       "    </tr>\n",
       "    <tr>\n",
       "      <th>21588</th>\n",
       "      <td>Zapier</td>\n",
       "      <td>Software Engineering Manager</td>\n",
       "      <td>Denver, CO</td>\n",
       "      <td>1605000</td>\n",
       "      <td>250000</td>\n",
       "      <td>1305.0</td>\n",
       "      <td>50000.0</td>\n",
       "      <td>16.0</td>\n",
       "      <td>2.0</td>\n",
       "      <td>Female</td>\n",
       "      <td>...</td>\n",
       "      <td>0</td>\n",
       "      <td>0</td>\n",
       "      <td>55</td>\n",
       "      <td>66.902</td>\n",
       "      <td>11</td>\n",
       "      <td>1447</td>\n",
       "      <td>3.77</td>\n",
       "      <td>0.0</td>\n",
       "      <td>1.0</td>\n",
       "      <td>0.0</td>\n",
       "    </tr>\n",
       "    <tr>\n",
       "      <th>21589</th>\n",
       "      <td>Facebook</td>\n",
       "      <td>Software Engineering Manager</td>\n",
       "      <td>Menlo Park, CA</td>\n",
       "      <td>2372000</td>\n",
       "      <td>315000</td>\n",
       "      <td>1933.0</td>\n",
       "      <td>124000.0</td>\n",
       "      <td>22.0</td>\n",
       "      <td>2.0</td>\n",
       "      <td>Male</td>\n",
       "      <td>...</td>\n",
       "      <td>1</td>\n",
       "      <td>0</td>\n",
       "      <td>50</td>\n",
       "      <td>62.691</td>\n",
       "      <td>8</td>\n",
       "      <td>1513</td>\n",
       "      <td>3.85</td>\n",
       "      <td>1.0</td>\n",
       "      <td>0.0</td>\n",
       "      <td>0.0</td>\n",
       "    </tr>\n",
       "    <tr>\n",
       "      <th>21590</th>\n",
       "      <td>Facebook</td>\n",
       "      <td>Product Manager</td>\n",
       "      <td>Menlo Park, CA</td>\n",
       "      <td>4980000</td>\n",
       "      <td>380000</td>\n",
       "      <td>4400.0</td>\n",
       "      <td>200000.0</td>\n",
       "      <td>17.0</td>\n",
       "      <td>0.0</td>\n",
       "      <td>Male</td>\n",
       "      <td>...</td>\n",
       "      <td>0</td>\n",
       "      <td>0</td>\n",
       "      <td>49</td>\n",
       "      <td>65.138</td>\n",
       "      <td>2</td>\n",
       "      <td>1362</td>\n",
       "      <td>3.48</td>\n",
       "      <td>1.0</td>\n",
       "      <td>0.0</td>\n",
       "      <td>0.0</td>\n",
       "    </tr>\n",
       "  </tbody>\n",
       "</table>\n",
       "<p>5 rows × 28 columns</p>\n",
       "</div>"
      ],
      "text/plain": [
       "        company                         title           location  \\\n",
       "21586  Facebook  Software Engineering Manager     Menlo Park, CA   \n",
       "21587    Google               Product Manager  San Francisco, CA   \n",
       "21588    Zapier  Software Engineering Manager         Denver, CO   \n",
       "21589  Facebook  Software Engineering Manager     Menlo Park, CA   \n",
       "21590  Facebook               Product Manager     Menlo Park, CA   \n",
       "\n",
       "       totalyearlycompensation  basesalary  stockgrantvalue     bonus  \\\n",
       "21586                  1470000      290000           1100.0   80000.0   \n",
       "21587                  4500000      450000           3700.0  350000.0   \n",
       "21588                  1605000      250000           1305.0   50000.0   \n",
       "21589                  2372000      315000           1933.0  124000.0   \n",
       "21590                  4980000      380000           4400.0  200000.0   \n",
       "\n",
       "       yearsofexperience  yearsatcompany  gender  ...  Race_Black  \\\n",
       "21586                9.0             7.0    Male  ...           0   \n",
       "21587               20.0            14.0    Male  ...           0   \n",
       "21588               16.0             2.0  Female  ...           0   \n",
       "21589               22.0             2.0    Male  ...           1   \n",
       "21590               17.0             0.0    Male  ...           0   \n",
       "\n",
       "       Race_Hispanic  Age  Height  Zodiac   SAT   GPA  male  female  \\\n",
       "21586              0   31  68.402      12  1436  3.77   1.0     0.0   \n",
       "21587              0   57  69.195       6  1363  3.50   1.0     0.0   \n",
       "21588              0   55  66.902      11  1447  3.77   0.0     1.0   \n",
       "21589              0   50  62.691       8  1513  3.85   1.0     0.0   \n",
       "21590              0   49  65.138       2  1362  3.48   1.0     0.0   \n",
       "\n",
       "       other_gender  \n",
       "21586           0.0  \n",
       "21587           0.0  \n",
       "21588           0.0  \n",
       "21589           0.0  \n",
       "21590           0.0  \n",
       "\n",
       "[5 rows x 28 columns]"
      ]
     },
     "execution_count": 10,
     "metadata": {},
     "output_type": "execute_result"
    }
   ],
   "source": [
    "# add encoded columns back into the dataset\n",
    "data['male'] = gender_df['male']\n",
    "data['female'] = gender_df['female']\n",
    "data['other_gender'] = gender_df['other']\n",
    "# later, don't include \"other\" column in the model to avoid overdetermination\n",
    "data.tail()"
   ]
  },
  {
   "cell_type": "code",
   "execution_count": 11,
   "id": "2efae5ce-0d01-4137-bfa0-0a060f24bb52",
   "metadata": {},
   "outputs": [
    {
     "data": {
      "text/plain": [
       "(21591, 27)"
      ]
     },
     "execution_count": 11,
     "metadata": {},
     "output_type": "execute_result"
    }
   ],
   "source": [
    "# drop gender column now\n",
    "data.drop(columns=['gender'], inplace=True)\n",
    "data.shape"
   ]
  },
  {
   "cell_type": "code",
   "execution_count": 12,
   "id": "8353777e-91f6-481f-aac8-083e4a6ecb3f",
   "metadata": {},
   "outputs": [
    {
     "data": {
      "text/plain": [
       "aries  taurus  gemini  cancer  leo  virgo  libra  scorpio  sagittarius  capricorn  aquarius  pisces\n",
       "0.0    0.0     0.0     0.0     0.0  1.0    0.0    0.0      0.0          0.0        0.0       0.0       1843\n",
       "1.0    0.0     0.0     0.0     0.0  0.0    0.0    0.0      0.0          0.0        0.0       0.0       1836\n",
       "0.0    0.0     0.0     0.0     0.0  0.0    1.0    0.0      0.0          0.0        0.0       0.0       1829\n",
       "               1.0     0.0     0.0  0.0    0.0    0.0      0.0          0.0        0.0       0.0       1816\n",
       "               0.0     0.0     0.0  0.0    0.0    0.0      0.0          0.0        0.0       1.0       1808\n",
       "                                                           1.0          0.0        0.0       0.0       1807\n",
       "                       1.0     0.0  0.0    0.0    0.0      0.0          0.0        0.0       0.0       1800\n",
       "                       0.0     1.0  0.0    0.0    0.0      0.0          0.0        0.0       0.0       1788\n",
       "       1.0     0.0     0.0     0.0  0.0    0.0    0.0      0.0          0.0        0.0       0.0       1775\n",
       "       0.0     0.0     0.0     0.0  0.0    0.0    0.0      0.0          1.0        0.0       0.0       1773\n",
       "                                                  1.0      0.0          0.0        0.0       0.0       1771\n",
       "                                                  0.0      0.0          0.0        1.0       0.0       1745\n",
       "dtype: int64"
      ]
     },
     "execution_count": 12,
     "metadata": {},
     "output_type": "execute_result"
    }
   ],
   "source": [
    "# do the same with Zodiac as well - one hot encoding\n",
    "zodiac_names = ['aries', 'taurus', 'gemini', 'cancer', 'leo', 'virgo', \n",
    "                'libra', 'scorpio', 'sagittarius', 'capricorn', 'aquarius', 'pisces']\n",
    "zodiaccol = pd.DataFrame(data['Zodiac'])\n",
    "\n",
    "ohe = OneHotEncoder()\n",
    "zodiac_1hot = ohe.fit_transform(zodiaccol)\n",
    "zodiac_df = pd.DataFrame(zodiac_1hot.toarray(), columns=zodiac_names)\n",
    "zodiac_df.value_counts()"
   ]
  },
  {
   "cell_type": "code",
   "execution_count": 13,
   "id": "29e56aa2-307a-4c8e-bbf9-1e69ada80e7c",
   "metadata": {},
   "outputs": [
    {
     "data": {
      "text/html": [
       "<div>\n",
       "<style scoped>\n",
       "    .dataframe tbody tr th:only-of-type {\n",
       "        vertical-align: middle;\n",
       "    }\n",
       "\n",
       "    .dataframe tbody tr th {\n",
       "        vertical-align: top;\n",
       "    }\n",
       "\n",
       "    .dataframe thead th {\n",
       "        text-align: right;\n",
       "    }\n",
       "</style>\n",
       "<table border=\"1\" class=\"dataframe\">\n",
       "  <thead>\n",
       "    <tr style=\"text-align: right;\">\n",
       "      <th></th>\n",
       "      <th>company</th>\n",
       "      <th>title</th>\n",
       "      <th>location</th>\n",
       "      <th>totalyearlycompensation</th>\n",
       "      <th>basesalary</th>\n",
       "      <th>stockgrantvalue</th>\n",
       "      <th>bonus</th>\n",
       "      <th>yearsofexperience</th>\n",
       "      <th>yearsatcompany</th>\n",
       "      <th>Masters_Degree</th>\n",
       "      <th>...</th>\n",
       "      <th>gemini</th>\n",
       "      <th>cancer</th>\n",
       "      <th>leo</th>\n",
       "      <th>virgo</th>\n",
       "      <th>libra</th>\n",
       "      <th>scorpio</th>\n",
       "      <th>sagittarius</th>\n",
       "      <th>capricorn</th>\n",
       "      <th>aquarius</th>\n",
       "      <th>pisces</th>\n",
       "    </tr>\n",
       "  </thead>\n",
       "  <tbody>\n",
       "    <tr>\n",
       "      <th>21586</th>\n",
       "      <td>Facebook</td>\n",
       "      <td>Software Engineering Manager</td>\n",
       "      <td>Menlo Park, CA</td>\n",
       "      <td>1470000</td>\n",
       "      <td>290000</td>\n",
       "      <td>1100.0</td>\n",
       "      <td>80000.0</td>\n",
       "      <td>9.0</td>\n",
       "      <td>7.0</td>\n",
       "      <td>0</td>\n",
       "      <td>...</td>\n",
       "      <td>0.0</td>\n",
       "      <td>0.0</td>\n",
       "      <td>0.0</td>\n",
       "      <td>0.0</td>\n",
       "      <td>0.0</td>\n",
       "      <td>0.0</td>\n",
       "      <td>0.0</td>\n",
       "      <td>0.0</td>\n",
       "      <td>0.0</td>\n",
       "      <td>1.0</td>\n",
       "    </tr>\n",
       "    <tr>\n",
       "      <th>21587</th>\n",
       "      <td>Google</td>\n",
       "      <td>Product Manager</td>\n",
       "      <td>San Francisco, CA</td>\n",
       "      <td>4500000</td>\n",
       "      <td>450000</td>\n",
       "      <td>3700.0</td>\n",
       "      <td>350000.0</td>\n",
       "      <td>20.0</td>\n",
       "      <td>14.0</td>\n",
       "      <td>1</td>\n",
       "      <td>...</td>\n",
       "      <td>0.0</td>\n",
       "      <td>0.0</td>\n",
       "      <td>0.0</td>\n",
       "      <td>1.0</td>\n",
       "      <td>0.0</td>\n",
       "      <td>0.0</td>\n",
       "      <td>0.0</td>\n",
       "      <td>0.0</td>\n",
       "      <td>0.0</td>\n",
       "      <td>0.0</td>\n",
       "    </tr>\n",
       "    <tr>\n",
       "      <th>21588</th>\n",
       "      <td>Zapier</td>\n",
       "      <td>Software Engineering Manager</td>\n",
       "      <td>Denver, CO</td>\n",
       "      <td>1605000</td>\n",
       "      <td>250000</td>\n",
       "      <td>1305.0</td>\n",
       "      <td>50000.0</td>\n",
       "      <td>16.0</td>\n",
       "      <td>2.0</td>\n",
       "      <td>1</td>\n",
       "      <td>...</td>\n",
       "      <td>0.0</td>\n",
       "      <td>0.0</td>\n",
       "      <td>0.0</td>\n",
       "      <td>0.0</td>\n",
       "      <td>0.0</td>\n",
       "      <td>0.0</td>\n",
       "      <td>0.0</td>\n",
       "      <td>0.0</td>\n",
       "      <td>1.0</td>\n",
       "      <td>0.0</td>\n",
       "    </tr>\n",
       "    <tr>\n",
       "      <th>21589</th>\n",
       "      <td>Facebook</td>\n",
       "      <td>Software Engineering Manager</td>\n",
       "      <td>Menlo Park, CA</td>\n",
       "      <td>2372000</td>\n",
       "      <td>315000</td>\n",
       "      <td>1933.0</td>\n",
       "      <td>124000.0</td>\n",
       "      <td>22.0</td>\n",
       "      <td>2.0</td>\n",
       "      <td>1</td>\n",
       "      <td>...</td>\n",
       "      <td>0.0</td>\n",
       "      <td>0.0</td>\n",
       "      <td>0.0</td>\n",
       "      <td>0.0</td>\n",
       "      <td>0.0</td>\n",
       "      <td>1.0</td>\n",
       "      <td>0.0</td>\n",
       "      <td>0.0</td>\n",
       "      <td>0.0</td>\n",
       "      <td>0.0</td>\n",
       "    </tr>\n",
       "    <tr>\n",
       "      <th>21590</th>\n",
       "      <td>Facebook</td>\n",
       "      <td>Product Manager</td>\n",
       "      <td>Menlo Park, CA</td>\n",
       "      <td>4980000</td>\n",
       "      <td>380000</td>\n",
       "      <td>4400.0</td>\n",
       "      <td>200000.0</td>\n",
       "      <td>17.0</td>\n",
       "      <td>0.0</td>\n",
       "      <td>1</td>\n",
       "      <td>...</td>\n",
       "      <td>0.0</td>\n",
       "      <td>0.0</td>\n",
       "      <td>0.0</td>\n",
       "      <td>0.0</td>\n",
       "      <td>0.0</td>\n",
       "      <td>0.0</td>\n",
       "      <td>0.0</td>\n",
       "      <td>0.0</td>\n",
       "      <td>0.0</td>\n",
       "      <td>0.0</td>\n",
       "    </tr>\n",
       "  </tbody>\n",
       "</table>\n",
       "<p>5 rows × 39 columns</p>\n",
       "</div>"
      ],
      "text/plain": [
       "        company                         title           location  \\\n",
       "21586  Facebook  Software Engineering Manager     Menlo Park, CA   \n",
       "21587    Google               Product Manager  San Francisco, CA   \n",
       "21588    Zapier  Software Engineering Manager         Denver, CO   \n",
       "21589  Facebook  Software Engineering Manager     Menlo Park, CA   \n",
       "21590  Facebook               Product Manager     Menlo Park, CA   \n",
       "\n",
       "       totalyearlycompensation  basesalary  stockgrantvalue     bonus  \\\n",
       "21586                  1470000      290000           1100.0   80000.0   \n",
       "21587                  4500000      450000           3700.0  350000.0   \n",
       "21588                  1605000      250000           1305.0   50000.0   \n",
       "21589                  2372000      315000           1933.0  124000.0   \n",
       "21590                  4980000      380000           4400.0  200000.0   \n",
       "\n",
       "       yearsofexperience  yearsatcompany  Masters_Degree  ...  gemini  cancer  \\\n",
       "21586                9.0             7.0               0  ...     0.0     0.0   \n",
       "21587               20.0            14.0               1  ...     0.0     0.0   \n",
       "21588               16.0             2.0               1  ...     0.0     0.0   \n",
       "21589               22.0             2.0               1  ...     0.0     0.0   \n",
       "21590               17.0             0.0               1  ...     0.0     0.0   \n",
       "\n",
       "       leo  virgo  libra  scorpio  sagittarius  capricorn  aquarius  pisces  \n",
       "21586  0.0    0.0    0.0      0.0          0.0        0.0       0.0     1.0  \n",
       "21587  0.0    1.0    0.0      0.0          0.0        0.0       0.0     0.0  \n",
       "21588  0.0    0.0    0.0      0.0          0.0        0.0       1.0     0.0  \n",
       "21589  0.0    0.0    0.0      1.0          0.0        0.0       0.0     0.0  \n",
       "21590  0.0    0.0    0.0      0.0          0.0        0.0       0.0     0.0  \n",
       "\n",
       "[5 rows x 39 columns]"
      ]
     },
     "execution_count": 13,
     "metadata": {},
     "output_type": "execute_result"
    }
   ],
   "source": [
    "# add columns back\n",
    "for name in zodiac_names:\n",
    "    data[name] = zodiac_df[name]\n",
    "# later, don't include one of these columns in the model to avoid overdetermination\n",
    "data.tail()"
   ]
  },
  {
   "cell_type": "code",
   "execution_count": 14,
   "id": "02bd4004-57ce-43e9-9cba-55aa62ac94c5",
   "metadata": {},
   "outputs": [
    {
     "data": {
      "text/plain": [
       "(21591, 38)"
      ]
     },
     "execution_count": 14,
     "metadata": {},
     "output_type": "execute_result"
    }
   ],
   "source": [
    "# drop zodiac column now\n",
    "data.drop(columns=['Zodiac'], inplace=True)\n",
    "data.shape"
   ]
  },
  {
   "cell_type": "code",
   "execution_count": 15,
   "id": "243428c3-c391-4b96-8d5e-7de01e8598b1",
   "metadata": {},
   "outputs": [
    {
     "data": {
      "text/html": [
       "<div>\n",
       "<style scoped>\n",
       "    .dataframe tbody tr th:only-of-type {\n",
       "        vertical-align: middle;\n",
       "    }\n",
       "\n",
       "    .dataframe tbody tr th {\n",
       "        vertical-align: top;\n",
       "    }\n",
       "\n",
       "    .dataframe thead th {\n",
       "        text-align: right;\n",
       "    }\n",
       "</style>\n",
       "<table border=\"1\" class=\"dataframe\">\n",
       "  <thead>\n",
       "    <tr style=\"text-align: right;\">\n",
       "      <th></th>\n",
       "      <th>company</th>\n",
       "      <th>title</th>\n",
       "      <th>location</th>\n",
       "      <th>Masters_Degree</th>\n",
       "      <th>Bachelors_Degree</th>\n",
       "      <th>Doctorate_Degree</th>\n",
       "      <th>Highschool</th>\n",
       "      <th>Some_College</th>\n",
       "      <th>Race_Asian</th>\n",
       "      <th>Race_White</th>\n",
       "      <th>...</th>\n",
       "      <th>gemini</th>\n",
       "      <th>cancer</th>\n",
       "      <th>leo</th>\n",
       "      <th>virgo</th>\n",
       "      <th>libra</th>\n",
       "      <th>scorpio</th>\n",
       "      <th>sagittarius</th>\n",
       "      <th>capricorn</th>\n",
       "      <th>aquarius</th>\n",
       "      <th>pisces</th>\n",
       "    </tr>\n",
       "  </thead>\n",
       "  <tbody>\n",
       "    <tr>\n",
       "      <th>0</th>\n",
       "      <td>Google</td>\n",
       "      <td>Software Engineer</td>\n",
       "      <td>Sunnyvale, CA</td>\n",
       "      <td>0</td>\n",
       "      <td>0</td>\n",
       "      <td>1</td>\n",
       "      <td>0</td>\n",
       "      <td>0</td>\n",
       "      <td>1</td>\n",
       "      <td>0</td>\n",
       "      <td>...</td>\n",
       "      <td>0.0</td>\n",
       "      <td>0.0</td>\n",
       "      <td>0.0</td>\n",
       "      <td>0.0</td>\n",
       "      <td>0.0</td>\n",
       "      <td>0.0</td>\n",
       "      <td>1.0</td>\n",
       "      <td>0.0</td>\n",
       "      <td>0.0</td>\n",
       "      <td>0.0</td>\n",
       "    </tr>\n",
       "    <tr>\n",
       "      <th>1</th>\n",
       "      <td>Microsoft</td>\n",
       "      <td>Software Engineer</td>\n",
       "      <td>Redmond, WA</td>\n",
       "      <td>0</td>\n",
       "      <td>1</td>\n",
       "      <td>0</td>\n",
       "      <td>0</td>\n",
       "      <td>0</td>\n",
       "      <td>0</td>\n",
       "      <td>0</td>\n",
       "      <td>...</td>\n",
       "      <td>0.0</td>\n",
       "      <td>0.0</td>\n",
       "      <td>0.0</td>\n",
       "      <td>0.0</td>\n",
       "      <td>0.0</td>\n",
       "      <td>0.0</td>\n",
       "      <td>0.0</td>\n",
       "      <td>0.0</td>\n",
       "      <td>0.0</td>\n",
       "      <td>1.0</td>\n",
       "    </tr>\n",
       "    <tr>\n",
       "      <th>2</th>\n",
       "      <td>Google</td>\n",
       "      <td>Software Engineer</td>\n",
       "      <td>San Bruno, CA</td>\n",
       "      <td>0</td>\n",
       "      <td>1</td>\n",
       "      <td>0</td>\n",
       "      <td>0</td>\n",
       "      <td>0</td>\n",
       "      <td>1</td>\n",
       "      <td>0</td>\n",
       "      <td>...</td>\n",
       "      <td>0.0</td>\n",
       "      <td>0.0</td>\n",
       "      <td>0.0</td>\n",
       "      <td>0.0</td>\n",
       "      <td>0.0</td>\n",
       "      <td>0.0</td>\n",
       "      <td>0.0</td>\n",
       "      <td>0.0</td>\n",
       "      <td>0.0</td>\n",
       "      <td>0.0</td>\n",
       "    </tr>\n",
       "    <tr>\n",
       "      <th>3</th>\n",
       "      <td>Microsoft</td>\n",
       "      <td>Software Engineer</td>\n",
       "      <td>Seattle, WA</td>\n",
       "      <td>1</td>\n",
       "      <td>0</td>\n",
       "      <td>0</td>\n",
       "      <td>0</td>\n",
       "      <td>0</td>\n",
       "      <td>1</td>\n",
       "      <td>0</td>\n",
       "      <td>...</td>\n",
       "      <td>0.0</td>\n",
       "      <td>0.0</td>\n",
       "      <td>0.0</td>\n",
       "      <td>0.0</td>\n",
       "      <td>0.0</td>\n",
       "      <td>1.0</td>\n",
       "      <td>0.0</td>\n",
       "      <td>0.0</td>\n",
       "      <td>0.0</td>\n",
       "      <td>0.0</td>\n",
       "    </tr>\n",
       "    <tr>\n",
       "      <th>4</th>\n",
       "      <td>Blend</td>\n",
       "      <td>Software Engineer</td>\n",
       "      <td>San Francisco, CA</td>\n",
       "      <td>0</td>\n",
       "      <td>1</td>\n",
       "      <td>0</td>\n",
       "      <td>0</td>\n",
       "      <td>0</td>\n",
       "      <td>0</td>\n",
       "      <td>1</td>\n",
       "      <td>...</td>\n",
       "      <td>0.0</td>\n",
       "      <td>0.0</td>\n",
       "      <td>0.0</td>\n",
       "      <td>0.0</td>\n",
       "      <td>0.0</td>\n",
       "      <td>0.0</td>\n",
       "      <td>0.0</td>\n",
       "      <td>0.0</td>\n",
       "      <td>0.0</td>\n",
       "      <td>0.0</td>\n",
       "    </tr>\n",
       "  </tbody>\n",
       "</table>\n",
       "<p>5 rows × 28 columns</p>\n",
       "</div>"
      ],
      "text/plain": [
       "     company              title           location  Masters_Degree  \\\n",
       "0     Google  Software Engineer      Sunnyvale, CA               0   \n",
       "1  Microsoft  Software Engineer        Redmond, WA               0   \n",
       "2     Google  Software Engineer      San Bruno, CA               0   \n",
       "3  Microsoft  Software Engineer        Seattle, WA               1   \n",
       "4      Blend  Software Engineer  San Francisco, CA               0   \n",
       "\n",
       "   Bachelors_Degree  Doctorate_Degree  Highschool  Some_College  Race_Asian  \\\n",
       "0                 0                 1           0             0           1   \n",
       "1                 1                 0           0             0           0   \n",
       "2                 1                 0           0             0           1   \n",
       "3                 0                 0           0             0           1   \n",
       "4                 1                 0           0             0           0   \n",
       "\n",
       "   Race_White  ...  gemini  cancer  leo  virgo  libra  scorpio  sagittarius  \\\n",
       "0           0  ...     0.0     0.0  0.0    0.0    0.0      0.0          1.0   \n",
       "1           0  ...     0.0     0.0  0.0    0.0    0.0      0.0          0.0   \n",
       "2           0  ...     0.0     0.0  0.0    0.0    0.0      0.0          0.0   \n",
       "3           0  ...     0.0     0.0  0.0    0.0    0.0      1.0          0.0   \n",
       "4           1  ...     0.0     0.0  0.0    0.0    0.0      0.0          0.0   \n",
       "\n",
       "   capricorn  aquarius  pisces  \n",
       "0        0.0       0.0     0.0  \n",
       "1        0.0       0.0     1.0  \n",
       "2        0.0       0.0     0.0  \n",
       "3        0.0       0.0     0.0  \n",
       "4        0.0       0.0     0.0  \n",
       "\n",
       "[5 rows x 28 columns]"
      ]
     },
     "execution_count": 15,
     "metadata": {},
     "output_type": "execute_result"
    }
   ],
   "source": [
    "# Standardize the numerical columns\n",
    "scale_cols = ['totalyearlycompensation', 'basesalary', 'stockgrantvalue',\n",
    "              'bonus', 'yearsofexperience', 'yearsatcompany', 'Age', 'Height',\n",
    "              'SAT', 'GPA']\n",
    "data_scaling = data.copy()\n",
    "data_scaled = data.copy()\n",
    "data_scaled.drop(columns=scale_cols, inplace=True)\n",
    "data_scaled.head()"
   ]
  },
  {
   "cell_type": "code",
   "execution_count": 16,
   "id": "d0af43c4-645b-4a7d-9543-a6ae2f0dfdb2",
   "metadata": {},
   "outputs": [
    {
     "data": {
      "text/html": [
       "<div>\n",
       "<style scoped>\n",
       "    .dataframe tbody tr th:only-of-type {\n",
       "        vertical-align: middle;\n",
       "    }\n",
       "\n",
       "    .dataframe tbody tr th {\n",
       "        vertical-align: top;\n",
       "    }\n",
       "\n",
       "    .dataframe thead th {\n",
       "        text-align: right;\n",
       "    }\n",
       "</style>\n",
       "<table border=\"1\" class=\"dataframe\">\n",
       "  <thead>\n",
       "    <tr style=\"text-align: right;\">\n",
       "      <th></th>\n",
       "      <th>totalyearlycompensation</th>\n",
       "      <th>basesalary</th>\n",
       "      <th>stockgrantvalue</th>\n",
       "      <th>bonus</th>\n",
       "      <th>yearsofexperience</th>\n",
       "      <th>yearsatcompany</th>\n",
       "      <th>Age</th>\n",
       "      <th>Height</th>\n",
       "      <th>SAT</th>\n",
       "      <th>GPA</th>\n",
       "    </tr>\n",
       "  </thead>\n",
       "  <tbody>\n",
       "    <tr>\n",
       "      <th>0</th>\n",
       "      <td>1.518933</td>\n",
       "      <td>1.330754</td>\n",
       "      <td>1.381814</td>\n",
       "      <td>1.059895</td>\n",
       "      <td>-0.362911</td>\n",
       "      <td>0.690758</td>\n",
       "      <td>0.845917</td>\n",
       "      <td>0.630969</td>\n",
       "      <td>0.798871</td>\n",
       "      <td>0.493157</td>\n",
       "    </tr>\n",
       "    <tr>\n",
       "      <th>1</th>\n",
       "      <td>-0.464693</td>\n",
       "      <td>-0.172378</td>\n",
       "      <td>-0.605816</td>\n",
       "      <td>-0.295624</td>\n",
       "      <td>-0.704951</td>\n",
       "      <td>-0.211545</td>\n",
       "      <td>-1.419175</td>\n",
       "      <td>-1.845165</td>\n",
       "      <td>0.875509</td>\n",
       "      <td>0.600926</td>\n",
       "    </tr>\n",
       "    <tr>\n",
       "      <th>2</th>\n",
       "      <td>1.045568</td>\n",
       "      <td>0.753971</td>\n",
       "      <td>1.105754</td>\n",
       "      <td>0.701081</td>\n",
       "      <td>-0.191891</td>\n",
       "      <td>0.991526</td>\n",
       "      <td>-1.311314</td>\n",
       "      <td>-0.513040</td>\n",
       "      <td>1.667436</td>\n",
       "      <td>1.570849</td>\n",
       "    </tr>\n",
       "    <tr>\n",
       "      <th>3</th>\n",
       "      <td>0.181488</td>\n",
       "      <td>0.526753</td>\n",
       "      <td>-0.095106</td>\n",
       "      <td>0.063190</td>\n",
       "      <td>-0.533931</td>\n",
       "      <td>0.389991</td>\n",
       "      <td>-0.556283</td>\n",
       "      <td>2.255089</td>\n",
       "      <td>-0.018602</td>\n",
       "      <td>-0.548613</td>\n",
       "    </tr>\n",
       "    <tr>\n",
       "      <th>4</th>\n",
       "      <td>-0.081492</td>\n",
       "      <td>0.544232</td>\n",
       "      <td>-0.315954</td>\n",
       "      <td>-0.734174</td>\n",
       "      <td>-0.362911</td>\n",
       "      <td>-0.813080</td>\n",
       "      <td>-0.879868</td>\n",
       "      <td>0.570705</td>\n",
       "      <td>0.977693</td>\n",
       "      <td>1.175695</td>\n",
       "    </tr>\n",
       "  </tbody>\n",
       "</table>\n",
       "</div>"
      ],
      "text/plain": [
       "   totalyearlycompensation  basesalary  stockgrantvalue     bonus  \\\n",
       "0                 1.518933    1.330754         1.381814  1.059895   \n",
       "1                -0.464693   -0.172378        -0.605816 -0.295624   \n",
       "2                 1.045568    0.753971         1.105754  0.701081   \n",
       "3                 0.181488    0.526753        -0.095106  0.063190   \n",
       "4                -0.081492    0.544232        -0.315954 -0.734174   \n",
       "\n",
       "   yearsofexperience  yearsatcompany       Age    Height       SAT       GPA  \n",
       "0          -0.362911        0.690758  0.845917  0.630969  0.798871  0.493157  \n",
       "1          -0.704951       -0.211545 -1.419175 -1.845165  0.875509  0.600926  \n",
       "2          -0.191891        0.991526 -1.311314 -0.513040  1.667436  1.570849  \n",
       "3          -0.533931        0.389991 -0.556283  2.255089 -0.018602 -0.548613  \n",
       "4          -0.362911       -0.813080 -0.879868  0.570705  0.977693  1.175695  "
      ]
     },
     "execution_count": 16,
     "metadata": {},
     "output_type": "execute_result"
    }
   ],
   "source": [
    "# Use standard scaler to standardize the selected features\n",
    "scaler = StandardScaler()\n",
    "scaled_cols = scaler.fit_transform(data_scaling[scale_cols]) \n",
    "scaled_df = pd.DataFrame(scaled_cols, columns=scale_cols)\n",
    "scaled_df.head()"
   ]
  },
  {
   "cell_type": "code",
   "execution_count": 17,
   "id": "e39fe9e9-ba87-4292-8e38-88d581fb2e4c",
   "metadata": {},
   "outputs": [
    {
     "data": {
      "text/html": [
       "<div>\n",
       "<style scoped>\n",
       "    .dataframe tbody tr th:only-of-type {\n",
       "        vertical-align: middle;\n",
       "    }\n",
       "\n",
       "    .dataframe tbody tr th {\n",
       "        vertical-align: top;\n",
       "    }\n",
       "\n",
       "    .dataframe thead th {\n",
       "        text-align: right;\n",
       "    }\n",
       "</style>\n",
       "<table border=\"1\" class=\"dataframe\">\n",
       "  <thead>\n",
       "    <tr style=\"text-align: right;\">\n",
       "      <th></th>\n",
       "      <th>totalyearlycompensation</th>\n",
       "      <th>basesalary</th>\n",
       "      <th>stockgrantvalue</th>\n",
       "      <th>bonus</th>\n",
       "      <th>yearsofexperience</th>\n",
       "      <th>yearsatcompany</th>\n",
       "      <th>Age</th>\n",
       "      <th>Height</th>\n",
       "      <th>SAT</th>\n",
       "      <th>GPA</th>\n",
       "      <th>...</th>\n",
       "      <th>gemini</th>\n",
       "      <th>cancer</th>\n",
       "      <th>leo</th>\n",
       "      <th>virgo</th>\n",
       "      <th>libra</th>\n",
       "      <th>scorpio</th>\n",
       "      <th>sagittarius</th>\n",
       "      <th>capricorn</th>\n",
       "      <th>aquarius</th>\n",
       "      <th>pisces</th>\n",
       "    </tr>\n",
       "  </thead>\n",
       "  <tbody>\n",
       "    <tr>\n",
       "      <th>0</th>\n",
       "      <td>1.518933</td>\n",
       "      <td>1.330754</td>\n",
       "      <td>1.381814</td>\n",
       "      <td>1.059895</td>\n",
       "      <td>-0.362911</td>\n",
       "      <td>0.690758</td>\n",
       "      <td>0.845917</td>\n",
       "      <td>0.630969</td>\n",
       "      <td>0.798871</td>\n",
       "      <td>0.493157</td>\n",
       "      <td>...</td>\n",
       "      <td>0.0</td>\n",
       "      <td>0.0</td>\n",
       "      <td>0.0</td>\n",
       "      <td>0.0</td>\n",
       "      <td>0.0</td>\n",
       "      <td>0.0</td>\n",
       "      <td>1.0</td>\n",
       "      <td>0.0</td>\n",
       "      <td>0.0</td>\n",
       "      <td>0.0</td>\n",
       "    </tr>\n",
       "    <tr>\n",
       "      <th>1</th>\n",
       "      <td>-0.464693</td>\n",
       "      <td>-0.172378</td>\n",
       "      <td>-0.605816</td>\n",
       "      <td>-0.295624</td>\n",
       "      <td>-0.704951</td>\n",
       "      <td>-0.211545</td>\n",
       "      <td>-1.419175</td>\n",
       "      <td>-1.845165</td>\n",
       "      <td>0.875509</td>\n",
       "      <td>0.600926</td>\n",
       "      <td>...</td>\n",
       "      <td>0.0</td>\n",
       "      <td>0.0</td>\n",
       "      <td>0.0</td>\n",
       "      <td>0.0</td>\n",
       "      <td>0.0</td>\n",
       "      <td>0.0</td>\n",
       "      <td>0.0</td>\n",
       "      <td>0.0</td>\n",
       "      <td>0.0</td>\n",
       "      <td>1.0</td>\n",
       "    </tr>\n",
       "    <tr>\n",
       "      <th>2</th>\n",
       "      <td>1.045568</td>\n",
       "      <td>0.753971</td>\n",
       "      <td>1.105754</td>\n",
       "      <td>0.701081</td>\n",
       "      <td>-0.191891</td>\n",
       "      <td>0.991526</td>\n",
       "      <td>-1.311314</td>\n",
       "      <td>-0.513040</td>\n",
       "      <td>1.667436</td>\n",
       "      <td>1.570849</td>\n",
       "      <td>...</td>\n",
       "      <td>0.0</td>\n",
       "      <td>0.0</td>\n",
       "      <td>0.0</td>\n",
       "      <td>0.0</td>\n",
       "      <td>0.0</td>\n",
       "      <td>0.0</td>\n",
       "      <td>0.0</td>\n",
       "      <td>0.0</td>\n",
       "      <td>0.0</td>\n",
       "      <td>0.0</td>\n",
       "    </tr>\n",
       "    <tr>\n",
       "      <th>3</th>\n",
       "      <td>0.181488</td>\n",
       "      <td>0.526753</td>\n",
       "      <td>-0.095106</td>\n",
       "      <td>0.063190</td>\n",
       "      <td>-0.533931</td>\n",
       "      <td>0.389991</td>\n",
       "      <td>-0.556283</td>\n",
       "      <td>2.255089</td>\n",
       "      <td>-0.018602</td>\n",
       "      <td>-0.548613</td>\n",
       "      <td>...</td>\n",
       "      <td>0.0</td>\n",
       "      <td>0.0</td>\n",
       "      <td>0.0</td>\n",
       "      <td>0.0</td>\n",
       "      <td>0.0</td>\n",
       "      <td>1.0</td>\n",
       "      <td>0.0</td>\n",
       "      <td>0.0</td>\n",
       "      <td>0.0</td>\n",
       "      <td>0.0</td>\n",
       "    </tr>\n",
       "    <tr>\n",
       "      <th>4</th>\n",
       "      <td>-0.081492</td>\n",
       "      <td>0.544232</td>\n",
       "      <td>-0.315954</td>\n",
       "      <td>-0.734174</td>\n",
       "      <td>-0.362911</td>\n",
       "      <td>-0.813080</td>\n",
       "      <td>-0.879868</td>\n",
       "      <td>0.570705</td>\n",
       "      <td>0.977693</td>\n",
       "      <td>1.175695</td>\n",
       "      <td>...</td>\n",
       "      <td>0.0</td>\n",
       "      <td>0.0</td>\n",
       "      <td>0.0</td>\n",
       "      <td>0.0</td>\n",
       "      <td>0.0</td>\n",
       "      <td>0.0</td>\n",
       "      <td>0.0</td>\n",
       "      <td>0.0</td>\n",
       "      <td>0.0</td>\n",
       "      <td>0.0</td>\n",
       "    </tr>\n",
       "  </tbody>\n",
       "</table>\n",
       "<p>5 rows × 38 columns</p>\n",
       "</div>"
      ],
      "text/plain": [
       "   totalyearlycompensation  basesalary  stockgrantvalue     bonus  \\\n",
       "0                 1.518933    1.330754         1.381814  1.059895   \n",
       "1                -0.464693   -0.172378        -0.605816 -0.295624   \n",
       "2                 1.045568    0.753971         1.105754  0.701081   \n",
       "3                 0.181488    0.526753        -0.095106  0.063190   \n",
       "4                -0.081492    0.544232        -0.315954 -0.734174   \n",
       "\n",
       "   yearsofexperience  yearsatcompany       Age    Height       SAT       GPA  \\\n",
       "0          -0.362911        0.690758  0.845917  0.630969  0.798871  0.493157   \n",
       "1          -0.704951       -0.211545 -1.419175 -1.845165  0.875509  0.600926   \n",
       "2          -0.191891        0.991526 -1.311314 -0.513040  1.667436  1.570849   \n",
       "3          -0.533931        0.389991 -0.556283  2.255089 -0.018602 -0.548613   \n",
       "4          -0.362911       -0.813080 -0.879868  0.570705  0.977693  1.175695   \n",
       "\n",
       "   ... gemini cancer  leo  virgo  libra  scorpio  sagittarius  capricorn  \\\n",
       "0  ...    0.0    0.0  0.0    0.0    0.0      0.0          1.0        0.0   \n",
       "1  ...    0.0    0.0  0.0    0.0    0.0      0.0          0.0        0.0   \n",
       "2  ...    0.0    0.0  0.0    0.0    0.0      0.0          0.0        0.0   \n",
       "3  ...    0.0    0.0  0.0    0.0    0.0      1.0          0.0        0.0   \n",
       "4  ...    0.0    0.0  0.0    0.0    0.0      0.0          0.0        0.0   \n",
       "\n",
       "   aquarius  pisces  \n",
       "0       0.0     0.0  \n",
       "1       0.0     1.0  \n",
       "2       0.0     0.0  \n",
       "3       0.0     0.0  \n",
       "4       0.0     0.0  \n",
       "\n",
       "[5 rows x 38 columns]"
      ]
     },
     "execution_count": 17,
     "metadata": {},
     "output_type": "execute_result"
    }
   ],
   "source": [
    "# Add scaled columns back to dataset\n",
    "data_scaled = pd.concat([scaled_df, data_scaled], axis=1)\n",
    "data_scaled.head()"
   ]
  },
  {
   "cell_type": "markdown",
   "id": "4b448b6e-d947-449a-a60d-c86b45d81b67",
   "metadata": {
    "tags": []
   },
   "source": [
    "## Question 1\n",
    "Using multiple linear regression: What is the best predictor of total annual\n",
    "compensation, how much variance is explained by this predictor vs. the full multiple\n",
    "regression model?"
   ]
  },
  {
   "cell_type": "code",
   "execution_count": 18,
   "id": "21813abb-3d54-4d8e-a2a5-904bed47a501",
   "metadata": {},
   "outputs": [
    {
     "data": {
      "text/plain": [
       "(21591, 32)"
      ]
     },
     "execution_count": 18,
     "metadata": {},
     "output_type": "execute_result"
    }
   ],
   "source": [
    "# create a new dataset, dropping qualitative & too predictive variables from the scaled dataset\n",
    "data_q1 = data_scaled.copy()\n",
    "data_q1.drop(columns=['company', 'title', 'location', 'basesalary', 'stockgrantvalue', 'bonus'], inplace=True)\n",
    "data_q1.shape"
   ]
  },
  {
   "cell_type": "code",
   "execution_count": 19,
   "id": "ff217633-01ce-4b6a-9262-64a325612595",
   "metadata": {},
   "outputs": [
    {
     "name": "stdout",
     "output_type": "stream",
     "text": [
      "yearsofexperience    0.402683\n",
      "SAT                  0.332690\n",
      "GPA                  0.305322\n",
      "Age                  0.254491\n",
      "Name: totalyearlycompensation, dtype: float64 \n",
      " Race_Black         -0.022499\n",
      "Race_Asian         -0.037028\n",
      "female             -0.039120\n",
      "Bachelors_Degree   -0.154913\n",
      "Name: totalyearlycompensation, dtype: float64\n"
     ]
    }
   ],
   "source": [
    "# find the best predictor of total annual compensation\n",
    "corrmat = data_q1.corr()['totalyearlycompensation'].sort_values(ascending = False)\n",
    "print(corrmat[1:5],'\\n',(corrmat[-4:]))"
   ]
  },
  {
   "cell_type": "markdown",
   "id": "037ed2c4-4cad-4ece-8649-66c8ad80cc40",
   "metadata": {},
   "source": [
    "Years of experience is the best single predictor of total annual compensation, since its correlation with the outcome variable is the greatest; the correlation value by years of experience has the highest magnitude (0.403) besides the correlation of the outcome variable with itself. It makes sense that this is a good predictor - people with more professional experience generally get paid more since more time spent doing a certain kind of work leads to greater expertise in that work/field."
   ]
  },
  {
   "cell_type": "code",
   "execution_count": 20,
   "id": "a60482c7-74e2-45d5-9343-63d8960f0622",
   "metadata": {},
   "outputs": [],
   "source": [
    "# drop some dummy variables to prevent overdetermination - \n",
    "# for education, race, gender, zodiac features\n",
    "data_q1.drop(columns=['Highschool', 'Race_Two_Or_More', 'other_gender', 'gemini'], inplace=True)\n",
    "\n",
    "# separate the totalyearlycompensation column from predictor variables\n",
    "data_q1_x = data_q1.drop(columns=['totalyearlycompensation'])\n",
    "data_q1_y = data_q1['totalyearlycompensation']"
   ]
  },
  {
   "cell_type": "code",
   "execution_count": 21,
   "id": "a776f1d4-fbb1-4da6-a2d3-a881c24fb8f9",
   "metadata": {},
   "outputs": [
    {
     "name": "stdout",
     "output_type": "stream",
     "text": [
      "(17272, 27) (4319, 27) (17272,) (4319,)\n"
     ]
    }
   ],
   "source": [
    "# split data into train/test sets\n",
    "xTrain, xTest, yTrain, yTest = train_test_split(data_q1_x, data_q1_y, test_size=0.2, random_state=17)\n",
    "#print(xTrain.shape, xTest.shape, yTrain.shape, yTest.shape)"
   ]
  },
  {
   "cell_type": "code",
   "execution_count": 22,
   "id": "b9a89fba-8f8e-4e9b-b0a8-6079ca01e5e0",
   "metadata": {},
   "outputs": [
    {
     "name": "stdout",
     "output_type": "stream",
     "text": [
      "R^2 of model using Years of Experience: 0.1725\n",
      "RMSE of model using Years of Experience: 0.8565\n"
     ]
    }
   ],
   "source": [
    "# simple linear regression with years of experience as single predictor\n",
    "model_exp = LinearRegression().fit(pd.DataFrame(xTrain['yearsofexperience']), yTrain)\n",
    "yPred1 = model_exp.predict(pd.DataFrame(xTest['yearsofexperience']))\n",
    "\n",
    "print(\"R^2 of model using Years of Experience: %.4f\" % model_exp.score(pd.DataFrame(xTest['yearsofexperience']), yTest))\n",
    "print(\"RMSE of model using Years of Experience: %.4f\" % np.sqrt(mean_squared_error(yTest, yPred1)))"
   ]
  },
  {
   "cell_type": "code",
   "execution_count": 23,
   "id": "0d9536f5-1c7d-4394-aca3-c0259046d61f",
   "metadata": {},
   "outputs": [
    {
     "name": "stdout",
     "output_type": "stream",
     "text": [
      "R^2 of multiple regression model: 0.2958\n",
      "RMSE of multiple regression model: 0.7901\n"
     ]
    }
   ],
   "source": [
    "# multiple regression with all predictors\n",
    "model_multi = LinearRegression().fit(xTrain, yTrain)\n",
    "yPred2 = model_multi.predict(xTest)\n",
    "\n",
    "print(\"R^2 of multiple regression model: %.4f\" % model_multi.score(xTest, yTest))\n",
    "print(\"RMSE of multiple regression model: %.4f\" %np.sqrt(mean_squared_error(yTest, yPred2)))"
   ]
  },
  {
   "cell_type": "markdown",
   "id": "73769c4a-87be-416f-9252-13e186120ed3",
   "metadata": {},
   "source": [
    "After training each model on a training set and applying each on the test set, the single-predictor linear model using years of experience yielded an R^2 of 0.173, meaning about 17.3% of the variance in the outcome (total annual compensation) can be explained by years of experience. Meanwhile, the multiple regression model using all predictors (excluding those left out to prevent overdetermination) produced an R^2 of 0.296, meaning about 29.6% of variance in the outcome could be explained by the combination of the predictors in the full multiple regression model."
   ]
  },
  {
   "cell_type": "code",
   "execution_count": 24,
   "id": "69f6ff77-fe9d-4455-993e-728b07f69f10",
   "metadata": {},
   "outputs": [
    {
     "name": "stdout",
     "output_type": "stream",
     "text": [
      "Weight of Years of Experience in linear regression model: [0.40716367]\n",
      "Weight of Years of Experience in multiple regression model: 0.39048027885991526\n"
     ]
    }
   ],
   "source": [
    "print(\"Weight of Years of Experience in linear regression model:\", model_exp.coef_)\n",
    "print(\"Weight of Years of Experience in multiple regression model:\", model_multi.coef_[0])"
   ]
  },
  {
   "cell_type": "code",
   "execution_count": 27,
   "id": "d27d6d1d-73ec-442b-8eb9-76b5a31e89f4",
   "metadata": {},
   "outputs": [
    {
     "data": {
      "image/png": "[encoded data removed]",
      "text/plain": [
       "<Figure size 1200x500 with 1 Axes>"
      ]
     },
     "metadata": {},
     "output_type": "display_data"
    }
   ],
   "source": [
    "# plot the weights of the features in the multiple regression model\n",
    "fig = plt.figure(figsize = (12, 5))\n",
    "plt.bar(xTrain.columns, model_multi.coef_);\n",
    "plt.xticks(rotation='vertical')\n",
    "plt.xlabel(\"Predictor Variable\")\n",
    "plt.ylabel(\"Weight\")\n",
    "plt.title(\"Weights of each predictor variable in Multiple Regression Model\");\n",
    "# plt.tight_layout()\n",
    "plt.show()"
   ]
  },
  {
   "cell_type": "markdown",
   "id": "de4270f6-1fac-48dc-9770-317d6c48ed01",
   "metadata": {
    "tags": []
   },
   "source": [
    "## Question 2\n",
    "Using ridge regression to do the same as in 1): How does the model change or improve\n",
    "compared to OLS? What is the optimal lambda?"
   ]
  },
  {
   "cell_type": "code",
   "execution_count": 28,
   "id": "88ed8f9a-dfd5-4fbd-aa5e-463c5dba103e",
   "metadata": {},
   "outputs": [
    {
     "name": "stdout",
     "output_type": "stream",
     "text": [
      "Ridge Optimal Lambda: 5.87\n"
     ]
    }
   ],
   "source": [
    "# define ridge model and grid\n",
    "ridge_model = Ridge()\n",
    "grid = dict()\n",
    "grid['alpha'] = np.arange(0, 20, 0.01)\n",
    "\n",
    "# perform grid search\n",
    "search = GridSearchCV(ridge_model, grid, scoring='neg_mean_squared_error', return_train_score=True, n_jobs=-1)\n",
    "results = search.fit(xTrain, yTrain)\n",
    "\n",
    "# what's the optimal lambda?\n",
    "print('Ridge Optimal Lambda: %.2f' % results.best_params_['alpha'])"
   ]
  },
  {
   "cell_type": "code",
   "execution_count": 29,
   "id": "824b3552-c28c-4150-aca4-393fabc5a256",
   "metadata": {},
   "outputs": [
    {
     "name": "stdout",
     "output_type": "stream",
     "text": [
      "Ridge Model RMSE: 0.7900\n",
      "Ridge Model R^2: 0.2959\n"
     ]
    }
   ],
   "source": [
    "# find the RMSE using the ridge model with the optimal lambda\n",
    "ridge_final = results.best_estimator_\n",
    "ridge_pred = ridge_final.predict(xTest)\n",
    "ridge_rmse = np.sqrt(mean_squared_error(yTest, ridge_pred)) \n",
    "print(\"Ridge Model RMSE: %.4f\" % ridge_rmse)\n",
    "\n",
    "# find the R^2\n",
    "print(\"Ridge Model R^2: %.4f\" % ridge_final.score(xTest, yTest))"
   ]
  },
  {
   "cell_type": "code",
   "execution_count": 30,
   "id": "cfacac6e-71f4-4bff-b66a-2a985867c88a",
   "metadata": {
    "jp-MarkdownHeadingCollapsed": true,
    "tags": []
   },
   "outputs": [
    {
     "data": {
      "image/png": "[encoded data removed]",
      "text/plain": [
       "<Figure size 1200x500 with 1 Axes>"
      ]
     },
     "metadata": {},
     "output_type": "display_data"
    }
   ],
   "source": [
    "# plot the weights of the features in the ridge model\n",
    "fig = plt.figure(figsize = (12, 5))\n",
    "plt.bar(xTrain.columns, ridge_final.coef_);\n",
    "plt.xticks(rotation='vertical')\n",
    "plt.xlabel(\"Predictor Variable\")\n",
    "plt.ylabel(\"Weight\")\n",
    "plt.title(\"Weights of each predictor variable in Ridge Model\");\n",
    "# plt.tight_layout()\n",
    "plt.show()"
   ]
  },
  {
   "cell_type": "markdown",
   "id": "31672d13-8285-44d6-bd5c-f738a4d487c9",
   "metadata": {
    "tags": []
   },
   "source": [
    "## Question 3\n",
    "Using Lasso regression to do the same as in 1): How does the model change now? How\n",
    "many of the predictor betas are shrunk to exactly 0? What is the optimal lambda now?"
   ]
  },
  {
   "cell_type": "code",
   "execution_count": 31,
   "id": "63f13a12-cff4-4689-a334-e2f5b068cc59",
   "metadata": {},
   "outputs": [
    {
     "name": "stdout",
     "output_type": "stream",
     "text": [
      "Lasso Optimal Lambda: 0.00\n"
     ]
    }
   ],
   "source": [
    "warnings.filterwarnings('ignore') \n",
    "\n",
    "# define model and grid\n",
    "lasso_model = Lasso()\n",
    "grid = dict()\n",
    "grid['alpha'] = np.arange(0,20,1)\n",
    "\n",
    "# perform grid search\n",
    "search = GridSearchCV(lasso_model, grid, scoring='neg_mean_squared_error', return_train_score=True, n_jobs=-1)\n",
    "results_lasso = search.fit(xTrain, yTrain)\n",
    "\n",
    "# what's the optimal lambda?\n",
    "print('Lasso Optimal Lambda: %.2f' % results_lasso.best_params_['alpha'])"
   ]
  },
  {
   "cell_type": "code",
   "execution_count": 32,
   "id": "9eaa6c5f-ffea-4289-81f6-a8ddf426fdef",
   "metadata": {},
   "outputs": [
    {
     "data": {
      "image/png": "[encoded data removed]",
      "text/plain": [
       "<Figure size 640x480 with 1 Axes>"
      ]
     },
     "metadata": {},
     "output_type": "display_data"
    },
    {
     "name": "stdout",
     "output_type": "stream",
     "text": [
      "Optimal lambda: 0.0\n"
     ]
    }
   ],
   "source": [
    "# try using a different method (sklearn implementation) \n",
    "# to graph the RMSE over different lambdas\n",
    "\n",
    "lambdas = np.linspace(-20,20,201)\n",
    "cont = np.empty([len(lambdas),2])*np.NaN # [lambda error]\n",
    "\n",
    "for ii in range(len(lambdas)):\n",
    "    ridgeModel = Lasso(alpha=lambdas[ii]).fit(xTrain, yTrain)\n",
    "    cont[ii,0] = lambdas[ii]\n",
    "    error = mean_squared_error(yTest,ridgeModel.predict(xTest),squared=False)\n",
    "    cont[ii,1] = error\n",
    "\n",
    "# plot lambda vs RMSE\n",
    "plt.plot(cont[:,0],cont[:,1])\n",
    "plt.xlabel('Lambda')\n",
    "plt.ylabel('RMSE')\n",
    "plt.title('Lasso Regression: Lambda vs. RMSE')\n",
    "plt.show()\n",
    "print('Optimal lambda:',lambdas[np.argmax(cont[:,1]==np.min(cont[:,1]))])"
   ]
  },
  {
   "cell_type": "code",
   "execution_count": 33,
   "id": "8798404f-6e2a-4262-8a1a-c08cb27122e7",
   "metadata": {},
   "outputs": [
    {
     "name": "stdout",
     "output_type": "stream",
     "text": [
      "Lasso Model RMSE: 0.7901\n",
      "Lasso Model R^2: 0.2958\n"
     ]
    }
   ],
   "source": [
    "# find the RMSE using the lasso model with the optimal lambda\n",
    "lasso_final = results_lasso.best_estimator_\n",
    "lasso_pred = lasso_final.predict(xTest)\n",
    "lasso_rmse = np.sqrt(mean_squared_error(yTest, lasso_pred)) \n",
    "print(\"Lasso Model RMSE: %.4f\" % lasso_rmse)\n",
    "\n",
    "# find the R^2\n",
    "print(\"Lasso Model R^2: %.4f\" % lasso_final.score(xTest, yTest))"
   ]
  },
  {
   "cell_type": "code",
   "execution_count": 34,
   "id": "cbe83073-af5e-4f0a-86a9-299e5a62786c",
   "metadata": {},
   "outputs": [
    {
     "data": {
      "text/plain": [
       "0"
      ]
     },
     "execution_count": 34,
     "metadata": {},
     "output_type": "execute_result"
    }
   ],
   "source": [
    "# verify no betas have shrunk to zero\n",
    "(lasso_final.coef_==0).sum()"
   ]
  },
  {
   "cell_type": "markdown",
   "id": "c8f9a267-d74e-4c53-8e10-61f413497238",
   "metadata": {},
   "source": [
    "lambda=0 means the lasso model is no different from OLS (multiple regression model), and none of the betas have shrunk to 0"
   ]
  },
  {
   "cell_type": "markdown",
   "id": "b77656b5-77cf-4c92-9af7-00e723d8c7b1",
   "metadata": {
    "tags": []
   },
   "source": [
    "## Question 4\n",
    "There is controversy as to the existence of a male/female gender pay gap in tech job\n",
    "compensation. Build a logistic regression model (with gender as the outcome variable)\n",
    "to see if there is an appreciable beta associated with total annual compensation with\n",
    "and without controlling for other factors."
   ]
  },
  {
   "cell_type": "code",
   "execution_count": 35,
   "id": "c4a84252-5cf7-46fc-b392-8cbeed6b11bb",
   "metadata": {},
   "outputs": [
    {
     "data": {
      "text/html": [
       "<div>\n",
       "<style scoped>\n",
       "    .dataframe tbody tr th:only-of-type {\n",
       "        vertical-align: middle;\n",
       "    }\n",
       "\n",
       "    .dataframe tbody tr th {\n",
       "        vertical-align: top;\n",
       "    }\n",
       "\n",
       "    .dataframe thead th {\n",
       "        text-align: right;\n",
       "    }\n",
       "</style>\n",
       "<table border=\"1\" class=\"dataframe\">\n",
       "  <thead>\n",
       "    <tr style=\"text-align: right;\">\n",
       "      <th></th>\n",
       "      <th>totalyearlycompensation</th>\n",
       "      <th>yearsofexperience</th>\n",
       "      <th>yearsatcompany</th>\n",
       "      <th>Age</th>\n",
       "      <th>Height</th>\n",
       "      <th>SAT</th>\n",
       "      <th>GPA</th>\n",
       "      <th>Masters_Degree</th>\n",
       "      <th>Bachelors_Degree</th>\n",
       "      <th>Doctorate_Degree</th>\n",
       "      <th>...</th>\n",
       "      <th>taurus</th>\n",
       "      <th>cancer</th>\n",
       "      <th>leo</th>\n",
       "      <th>virgo</th>\n",
       "      <th>libra</th>\n",
       "      <th>scorpio</th>\n",
       "      <th>sagittarius</th>\n",
       "      <th>capricorn</th>\n",
       "      <th>aquarius</th>\n",
       "      <th>pisces</th>\n",
       "    </tr>\n",
       "  </thead>\n",
       "  <tbody>\n",
       "    <tr>\n",
       "      <th>0</th>\n",
       "      <td>1.518933</td>\n",
       "      <td>-0.362911</td>\n",
       "      <td>0.690758</td>\n",
       "      <td>0.845917</td>\n",
       "      <td>0.630969</td>\n",
       "      <td>0.798871</td>\n",
       "      <td>0.493157</td>\n",
       "      <td>0</td>\n",
       "      <td>0</td>\n",
       "      <td>1</td>\n",
       "      <td>...</td>\n",
       "      <td>0.0</td>\n",
       "      <td>0.0</td>\n",
       "      <td>0.0</td>\n",
       "      <td>0.0</td>\n",
       "      <td>0.0</td>\n",
       "      <td>0.0</td>\n",
       "      <td>1.0</td>\n",
       "      <td>0.0</td>\n",
       "      <td>0.0</td>\n",
       "      <td>0.0</td>\n",
       "    </tr>\n",
       "    <tr>\n",
       "      <th>1</th>\n",
       "      <td>-0.464693</td>\n",
       "      <td>-0.704951</td>\n",
       "      <td>-0.211545</td>\n",
       "      <td>-1.419175</td>\n",
       "      <td>-1.845165</td>\n",
       "      <td>0.875509</td>\n",
       "      <td>0.600926</td>\n",
       "      <td>0</td>\n",
       "      <td>1</td>\n",
       "      <td>0</td>\n",
       "      <td>...</td>\n",
       "      <td>0.0</td>\n",
       "      <td>0.0</td>\n",
       "      <td>0.0</td>\n",
       "      <td>0.0</td>\n",
       "      <td>0.0</td>\n",
       "      <td>0.0</td>\n",
       "      <td>0.0</td>\n",
       "      <td>0.0</td>\n",
       "      <td>0.0</td>\n",
       "      <td>1.0</td>\n",
       "    </tr>\n",
       "    <tr>\n",
       "      <th>2</th>\n",
       "      <td>1.045568</td>\n",
       "      <td>-0.191891</td>\n",
       "      <td>0.991526</td>\n",
       "      <td>-1.311314</td>\n",
       "      <td>-0.513040</td>\n",
       "      <td>1.667436</td>\n",
       "      <td>1.570849</td>\n",
       "      <td>0</td>\n",
       "      <td>1</td>\n",
       "      <td>0</td>\n",
       "      <td>...</td>\n",
       "      <td>0.0</td>\n",
       "      <td>0.0</td>\n",
       "      <td>0.0</td>\n",
       "      <td>0.0</td>\n",
       "      <td>0.0</td>\n",
       "      <td>0.0</td>\n",
       "      <td>0.0</td>\n",
       "      <td>0.0</td>\n",
       "      <td>0.0</td>\n",
       "      <td>0.0</td>\n",
       "    </tr>\n",
       "    <tr>\n",
       "      <th>3</th>\n",
       "      <td>0.181488</td>\n",
       "      <td>-0.533931</td>\n",
       "      <td>0.389991</td>\n",
       "      <td>-0.556283</td>\n",
       "      <td>2.255089</td>\n",
       "      <td>-0.018602</td>\n",
       "      <td>-0.548613</td>\n",
       "      <td>1</td>\n",
       "      <td>0</td>\n",
       "      <td>0</td>\n",
       "      <td>...</td>\n",
       "      <td>0.0</td>\n",
       "      <td>0.0</td>\n",
       "      <td>0.0</td>\n",
       "      <td>0.0</td>\n",
       "      <td>0.0</td>\n",
       "      <td>1.0</td>\n",
       "      <td>0.0</td>\n",
       "      <td>0.0</td>\n",
       "      <td>0.0</td>\n",
       "      <td>0.0</td>\n",
       "    </tr>\n",
       "    <tr>\n",
       "      <th>4</th>\n",
       "      <td>-0.081492</td>\n",
       "      <td>-0.362911</td>\n",
       "      <td>-0.813080</td>\n",
       "      <td>-0.879868</td>\n",
       "      <td>0.570705</td>\n",
       "      <td>0.977693</td>\n",
       "      <td>1.175695</td>\n",
       "      <td>0</td>\n",
       "      <td>1</td>\n",
       "      <td>0</td>\n",
       "      <td>...</td>\n",
       "      <td>1.0</td>\n",
       "      <td>0.0</td>\n",
       "      <td>0.0</td>\n",
       "      <td>0.0</td>\n",
       "      <td>0.0</td>\n",
       "      <td>0.0</td>\n",
       "      <td>0.0</td>\n",
       "      <td>0.0</td>\n",
       "      <td>0.0</td>\n",
       "      <td>0.0</td>\n",
       "    </tr>\n",
       "  </tbody>\n",
       "</table>\n",
       "<p>5 rows × 28 columns</p>\n",
       "</div>"
      ],
      "text/plain": [
       "   totalyearlycompensation  yearsofexperience  yearsatcompany       Age  \\\n",
       "0                 1.518933          -0.362911        0.690758  0.845917   \n",
       "1                -0.464693          -0.704951       -0.211545 -1.419175   \n",
       "2                 1.045568          -0.191891        0.991526 -1.311314   \n",
       "3                 0.181488          -0.533931        0.389991 -0.556283   \n",
       "4                -0.081492          -0.362911       -0.813080 -0.879868   \n",
       "\n",
       "     Height       SAT       GPA  Masters_Degree  Bachelors_Degree  \\\n",
       "0  0.630969  0.798871  0.493157               0                 0   \n",
       "1 -1.845165  0.875509  0.600926               0                 1   \n",
       "2 -0.513040  1.667436  1.570849               0                 1   \n",
       "3  2.255089 -0.018602 -0.548613               1                 0   \n",
       "4  0.570705  0.977693  1.175695               0                 1   \n",
       "\n",
       "   Doctorate_Degree  ...  taurus  cancer  leo  virgo  libra  scorpio  \\\n",
       "0                 1  ...     0.0     0.0  0.0    0.0    0.0      0.0   \n",
       "1                 0  ...     0.0     0.0  0.0    0.0    0.0      0.0   \n",
       "2                 0  ...     0.0     0.0  0.0    0.0    0.0      0.0   \n",
       "3                 0  ...     0.0     0.0  0.0    0.0    0.0      1.0   \n",
       "4                 0  ...     1.0     0.0  0.0    0.0    0.0      0.0   \n",
       "\n",
       "   sagittarius  capricorn  aquarius  pisces  \n",
       "0          1.0        0.0       0.0     0.0  \n",
       "1          0.0        0.0       0.0     1.0  \n",
       "2          0.0        0.0       0.0     0.0  \n",
       "3          0.0        0.0       0.0     0.0  \n",
       "4          0.0        0.0       0.0     0.0  \n",
       "\n",
       "[5 rows x 28 columns]"
      ]
     },
     "execution_count": 35,
     "metadata": {},
     "output_type": "execute_result"
    }
   ],
   "source": [
    "# create new dataset, dropping units with \"other\" as gender\n",
    "# still not using variables 5-7 due to multicollinearity concerns\n",
    "data_q4 = data_q1.copy()\n",
    "data_q4.head()"
   ]
  },
  {
   "cell_type": "code",
   "execution_count": 36,
   "id": "0f50ae51-af26-44b1-b08b-6455a4e41f49",
   "metadata": {},
   "outputs": [
    {
     "data": {
      "text/plain": [
       "(21591, 28)"
      ]
     },
     "execution_count": 36,
     "metadata": {},
     "output_type": "execute_result"
    }
   ],
   "source": [
    "data_q4.shape"
   ]
  },
  {
   "cell_type": "code",
   "execution_count": 37,
   "id": "84de4696-5175-4195-a9e0-7da75d7e7225",
   "metadata": {},
   "outputs": [
    {
     "data": {
      "text/plain": [
       "(21485, 28)"
      ]
     },
     "execution_count": 37,
     "metadata": {},
     "output_type": "execute_result"
    }
   ],
   "source": [
    "# drop units with \"other\" as gender, there should be 106 rows removed\n",
    "other_index = data_q4[(data_q4['male']==0) & (data_q4['female']==0)].index\n",
    "data_q4.drop(other_index, inplace=True)\n",
    "data_q4.shape"
   ]
  },
  {
   "cell_type": "code",
   "execution_count": 38,
   "id": "0ead8045-321f-4952-bc2b-6f8723030bda",
   "metadata": {},
   "outputs": [
    {
     "data": {
      "text/plain": [
       "(21485, 27)"
      ]
     },
     "execution_count": 38,
     "metadata": {},
     "output_type": "execute_result"
    }
   ],
   "source": [
    "# drop the female column, use the male column as gender column\n",
    "# male = 1, female = 0\n",
    "data_q4.drop(columns=['female'], inplace=True)\n",
    "data_q4.rename(columns={\"male\": \"gender\"}, inplace=True)\n",
    "data_q4.shape"
   ]
  },
  {
   "cell_type": "code",
   "execution_count": 39,
   "id": "8cca2873-6835-45e9-b4cc-adb05b0d05e7",
   "metadata": {},
   "outputs": [
    {
     "data": {
      "text/html": [
       "<div>\n",
       "<style scoped>\n",
       "    .dataframe tbody tr th:only-of-type {\n",
       "        vertical-align: middle;\n",
       "    }\n",
       "\n",
       "    .dataframe tbody tr th {\n",
       "        vertical-align: top;\n",
       "    }\n",
       "\n",
       "    .dataframe thead th {\n",
       "        text-align: right;\n",
       "    }\n",
       "</style>\n",
       "<table border=\"1\" class=\"dataframe\">\n",
       "  <thead>\n",
       "    <tr style=\"text-align: right;\">\n",
       "      <th></th>\n",
       "      <th>totalyearlycompensation</th>\n",
       "      <th>yearsofexperience</th>\n",
       "      <th>yearsatcompany</th>\n",
       "      <th>Age</th>\n",
       "      <th>Height</th>\n",
       "      <th>SAT</th>\n",
       "      <th>GPA</th>\n",
       "      <th>Masters_Degree</th>\n",
       "      <th>Bachelors_Degree</th>\n",
       "      <th>Doctorate_Degree</th>\n",
       "      <th>...</th>\n",
       "      <th>taurus</th>\n",
       "      <th>cancer</th>\n",
       "      <th>leo</th>\n",
       "      <th>virgo</th>\n",
       "      <th>libra</th>\n",
       "      <th>scorpio</th>\n",
       "      <th>sagittarius</th>\n",
       "      <th>capricorn</th>\n",
       "      <th>aquarius</th>\n",
       "      <th>pisces</th>\n",
       "    </tr>\n",
       "  </thead>\n",
       "  <tbody>\n",
       "    <tr>\n",
       "      <th>0</th>\n",
       "      <td>1.518933</td>\n",
       "      <td>-0.362911</td>\n",
       "      <td>0.690758</td>\n",
       "      <td>0.845917</td>\n",
       "      <td>0.630969</td>\n",
       "      <td>0.798871</td>\n",
       "      <td>0.493157</td>\n",
       "      <td>0</td>\n",
       "      <td>0</td>\n",
       "      <td>1</td>\n",
       "      <td>...</td>\n",
       "      <td>0.0</td>\n",
       "      <td>0.0</td>\n",
       "      <td>0.0</td>\n",
       "      <td>0.0</td>\n",
       "      <td>0.0</td>\n",
       "      <td>0.0</td>\n",
       "      <td>1.0</td>\n",
       "      <td>0.0</td>\n",
       "      <td>0.0</td>\n",
       "      <td>0.0</td>\n",
       "    </tr>\n",
       "    <tr>\n",
       "      <th>1</th>\n",
       "      <td>-0.464693</td>\n",
       "      <td>-0.704951</td>\n",
       "      <td>-0.211545</td>\n",
       "      <td>-1.419175</td>\n",
       "      <td>-1.845165</td>\n",
       "      <td>0.875509</td>\n",
       "      <td>0.600926</td>\n",
       "      <td>0</td>\n",
       "      <td>1</td>\n",
       "      <td>0</td>\n",
       "      <td>...</td>\n",
       "      <td>0.0</td>\n",
       "      <td>0.0</td>\n",
       "      <td>0.0</td>\n",
       "      <td>0.0</td>\n",
       "      <td>0.0</td>\n",
       "      <td>0.0</td>\n",
       "      <td>0.0</td>\n",
       "      <td>0.0</td>\n",
       "      <td>0.0</td>\n",
       "      <td>1.0</td>\n",
       "    </tr>\n",
       "    <tr>\n",
       "      <th>2</th>\n",
       "      <td>1.045568</td>\n",
       "      <td>-0.191891</td>\n",
       "      <td>0.991526</td>\n",
       "      <td>-1.311314</td>\n",
       "      <td>-0.513040</td>\n",
       "      <td>1.667436</td>\n",
       "      <td>1.570849</td>\n",
       "      <td>0</td>\n",
       "      <td>1</td>\n",
       "      <td>0</td>\n",
       "      <td>...</td>\n",
       "      <td>0.0</td>\n",
       "      <td>0.0</td>\n",
       "      <td>0.0</td>\n",
       "      <td>0.0</td>\n",
       "      <td>0.0</td>\n",
       "      <td>0.0</td>\n",
       "      <td>0.0</td>\n",
       "      <td>0.0</td>\n",
       "      <td>0.0</td>\n",
       "      <td>0.0</td>\n",
       "    </tr>\n",
       "    <tr>\n",
       "      <th>3</th>\n",
       "      <td>0.181488</td>\n",
       "      <td>-0.533931</td>\n",
       "      <td>0.389991</td>\n",
       "      <td>-0.556283</td>\n",
       "      <td>2.255089</td>\n",
       "      <td>-0.018602</td>\n",
       "      <td>-0.548613</td>\n",
       "      <td>1</td>\n",
       "      <td>0</td>\n",
       "      <td>0</td>\n",
       "      <td>...</td>\n",
       "      <td>0.0</td>\n",
       "      <td>0.0</td>\n",
       "      <td>0.0</td>\n",
       "      <td>0.0</td>\n",
       "      <td>0.0</td>\n",
       "      <td>1.0</td>\n",
       "      <td>0.0</td>\n",
       "      <td>0.0</td>\n",
       "      <td>0.0</td>\n",
       "      <td>0.0</td>\n",
       "    </tr>\n",
       "    <tr>\n",
       "      <th>4</th>\n",
       "      <td>-0.081492</td>\n",
       "      <td>-0.362911</td>\n",
       "      <td>-0.813080</td>\n",
       "      <td>-0.879868</td>\n",
       "      <td>0.570705</td>\n",
       "      <td>0.977693</td>\n",
       "      <td>1.175695</td>\n",
       "      <td>0</td>\n",
       "      <td>1</td>\n",
       "      <td>0</td>\n",
       "      <td>...</td>\n",
       "      <td>1.0</td>\n",
       "      <td>0.0</td>\n",
       "      <td>0.0</td>\n",
       "      <td>0.0</td>\n",
       "      <td>0.0</td>\n",
       "      <td>0.0</td>\n",
       "      <td>0.0</td>\n",
       "      <td>0.0</td>\n",
       "      <td>0.0</td>\n",
       "      <td>0.0</td>\n",
       "    </tr>\n",
       "  </tbody>\n",
       "</table>\n",
       "<p>5 rows × 27 columns</p>\n",
       "</div>"
      ],
      "text/plain": [
       "   totalyearlycompensation  yearsofexperience  yearsatcompany       Age  \\\n",
       "0                 1.518933          -0.362911        0.690758  0.845917   \n",
       "1                -0.464693          -0.704951       -0.211545 -1.419175   \n",
       "2                 1.045568          -0.191891        0.991526 -1.311314   \n",
       "3                 0.181488          -0.533931        0.389991 -0.556283   \n",
       "4                -0.081492          -0.362911       -0.813080 -0.879868   \n",
       "\n",
       "     Height       SAT       GPA  Masters_Degree  Bachelors_Degree  \\\n",
       "0  0.630969  0.798871  0.493157               0                 0   \n",
       "1 -1.845165  0.875509  0.600926               0                 1   \n",
       "2 -0.513040  1.667436  1.570849               0                 1   \n",
       "3  2.255089 -0.018602 -0.548613               1                 0   \n",
       "4  0.570705  0.977693  1.175695               0                 1   \n",
       "\n",
       "   Doctorate_Degree  ...  taurus  cancer  leo  virgo  libra  scorpio  \\\n",
       "0                 1  ...     0.0     0.0  0.0    0.0    0.0      0.0   \n",
       "1                 0  ...     0.0     0.0  0.0    0.0    0.0      0.0   \n",
       "2                 0  ...     0.0     0.0  0.0    0.0    0.0      0.0   \n",
       "3                 0  ...     0.0     0.0  0.0    0.0    0.0      1.0   \n",
       "4                 0  ...     1.0     0.0  0.0    0.0    0.0      0.0   \n",
       "\n",
       "   sagittarius  capricorn  aquarius  pisces  \n",
       "0          1.0        0.0       0.0     0.0  \n",
       "1          0.0        0.0       0.0     1.0  \n",
       "2          0.0        0.0       0.0     0.0  \n",
       "3          0.0        0.0       0.0     0.0  \n",
       "4          0.0        0.0       0.0     0.0  \n",
       "\n",
       "[5 rows x 27 columns]"
      ]
     },
     "execution_count": 39,
     "metadata": {},
     "output_type": "execute_result"
    }
   ],
   "source": [
    "# reset the index\n",
    "data_q4.reset_index(drop=True, inplace=True)\n",
    "data_q4.head()"
   ]
  },
  {
   "cell_type": "code",
   "execution_count": 40,
   "id": "4060de99-3569-4d8f-a3d8-f4a0ef29b70f",
   "metadata": {},
   "outputs": [
    {
     "data": {
      "text/plain": [
       "1.0    17605\n",
       "0.0     3880\n",
       "Name: gender, dtype: int64"
      ]
     },
     "execution_count": 40,
     "metadata": {},
     "output_type": "execute_result"
    }
   ],
   "source": [
    "# are the classes balanced? not at all\n",
    "data_q4['gender'].value_counts()"
   ]
  },
  {
   "cell_type": "code",
   "execution_count": 41,
   "id": "c0848719-473b-4e69-a5bb-93438fddefbb",
   "metadata": {},
   "outputs": [],
   "source": [
    "# separate the gender column from predictor variables\n",
    "data_q4_x = data_q4.drop(columns=['gender'])\n",
    "data_q4_y = data_q4['gender']"
   ]
  },
  {
   "cell_type": "code",
   "execution_count": 42,
   "id": "0380797f-145e-45ee-b302-a95732b6f21e",
   "metadata": {},
   "outputs": [
    {
     "name": "stdout",
     "output_type": "stream",
     "text": [
      "(17188, 26) (4297, 26) (17188,) (4297,)\n"
     ]
    }
   ],
   "source": [
    "# split data into train/test sets\n",
    "# use StratifiedShuffleSplit this time to make sure both sets have the same proportion of males to females\n",
    "split = StratifiedShuffleSplit(n_splits = 1, test_size = 0.2, random_state=17)\n",
    "for train_index, test_index in split.split(data_q4_x, data_q4_y):\n",
    "    xTrainG = data_q4_x.loc[train_index]\n",
    "    yTrainG = data_q4_y.loc[train_index]\n",
    "    xTestG = data_q4_x.loc[test_index]\n",
    "    yTestG = data_q4_y.loc[test_index]\n",
    "    \n",
    "#print(xTrainG.shape, xTestG.shape, yTrainG.shape, yTestG.shape)"
   ]
  },
  {
   "cell_type": "code",
   "execution_count": 43,
   "id": "59703566-965e-4dca-8e2a-76c3305e03d5",
   "metadata": {},
   "outputs": [
    {
     "data": {
      "image/png": "[encoded data removed]",
      "text/plain": [
       "<Figure size 640x480 with 2 Axes>"
      ]
     },
     "metadata": {},
     "output_type": "display_data"
    }
   ],
   "source": [
    "# check that the class proportions are the same in both sets\n",
    "fig, axes = plt.subplots(1, 2)\n",
    "yTrainG.hist(ax=axes[0]);\n",
    "yTestG.hist(ax=axes[1]);\n",
    "fig.suptitle(\"Gender Proportions in Training vs. Test Set\")\n",
    "plt.tight_layout()\n",
    "plt.show()"
   ]
  },
  {
   "cell_type": "code",
   "execution_count": 44,
   "id": "c2e7427b-834c-44ad-928c-4fcb380aa39e",
   "metadata": {},
   "outputs": [
    {
     "name": "stdout",
     "output_type": "stream",
     "text": [
      "R^2 of logistic model using Total Yearly Compensation: 0.4445\n",
      "RMSE of logistic model using Total Yearly Compensation: 0.7453\n",
      "Beta of Total Yearly Compensation in logistic model: 0.1417\n"
     ]
    }
   ],
   "source": [
    "# logistic regression with totalyearlycompensation as only predictor\n",
    "log_1 = LogisticRegression(class_weight='balanced').fit(pd.DataFrame(xTrainG['totalyearlycompensation']), \n",
    "                                                        yTrainG.values.flatten());\n",
    "yPredLog1 = log_1.predict(pd.DataFrame(xTestG['totalyearlycompensation']))\n",
    "\n",
    "print(\"R^2 of logistic model using Total Yearly Compensation: %.4f\" % log_1.score(pd.DataFrame(xTestG['totalyearlycompensation']), yTestG))\n",
    "print(\"RMSE of logistic model using Total Yearly Compensation: %.4f\" % np.sqrt(mean_squared_error(yTestG, yPredLog1)))\n",
    "print(\"Beta of Total Yearly Compensation in logistic model: %.4f\" % log_1.coef_[0])"
   ]
  },
  {
   "cell_type": "code",
   "execution_count": 45,
   "id": "c330fb97-b7db-4f8a-a5a4-38d2b3076830",
   "metadata": {},
   "outputs": [
    {
     "name": "stdout",
     "output_type": "stream",
     "text": [
      "More metrics for Total Yearly Compensation logistic model:\n",
      "Confusion matrix:\n",
      " [[ 454  322]\n",
      " [2065 1456]]\n",
      "Accuracy = 44.45%\n",
      "Precision = 81.89%\n",
      "Recall = 41.35%\n"
     ]
    }
   ],
   "source": [
    "# additional evaluation metrics\n",
    "print(\"More metrics for Total Yearly Compensation logistic model:\")\n",
    "# confusion matrix\n",
    "print(\"Confusion matrix:\\n\", confusion_matrix(yTestG, yPredLog1))\n",
    "      \n",
    "# accuracy score: (tp+tn)/all\n",
    "acc = accuracy_score(yTestG, yPredLog1)\n",
    "print(\"Accuracy = {:0.2f}%\".format(acc * 100))\n",
    "\n",
    "# precision score: tp/positive predictions = tp/(tp+fp), PPV\n",
    "prec = precision_score(yTestG, yPredLog1)\n",
    "print(\"Precision = {:0.2f}%\".format(100 * prec))\n",
    "\n",
    "# recall score: tp/ap = tp/(tn+fp)\n",
    "recall = recall_score(yTestG, yPredLog1)\n",
    "print(\"Recall = {:0.2f}%\".format(100 * recall))"
   ]
  },
  {
   "cell_type": "code",
   "execution_count": 85,
   "id": "5084b91b",
   "metadata": {},
   "outputs": [
    {
     "data": {
      "image/png": "[encoded data removed]",
      "text/plain": [
       "<Figure size 640x480 with 1 Axes>"
      ]
     },
     "metadata": {},
     "output_type": "display_data"
    }
   ],
   "source": [
    "# plot ROC curve\n",
    "fpr, tpr, thresholds = metrics.roc_curve(yTestG, yPredLog1)\n",
    "auc = metrics.roc_auc_score(yTestG, yPredLog1)\n",
    "plt.plot(fpr, tpr, color='orange', label='ROC')\n",
    "plt.plot([0, 1], [0, 1], color='darkblue', linestyle='--',label='ROC curve (area = %0.2f)' % auc)\n",
    "plt.xlabel('False Positive Rate')\n",
    "plt.ylabel('True Positive Rate')\n",
    "plt.title('ROC Curve for Model using totalyearlycompensation')\n",
    "plt.legend()\n",
    "plt.show()"
   ]
  },
  {
   "cell_type": "code",
   "execution_count": 47,
   "id": "e6ccb6f2-6be3-4b95-8d91-4e577afdfd65",
   "metadata": {},
   "outputs": [
    {
     "name": "stdout",
     "output_type": "stream",
     "text": [
      "R^2 of full logistic model: 0.5083\n",
      "RMSE of full logistic model: 0.7012\n",
      "Beta of Total Yearly Compensation in full logistic model: 0.0887\n"
     ]
    }
   ],
   "source": [
    "# logistic regression controlling for all factors\n",
    "log_2 = LogisticRegression(class_weight='balanced').fit(xTrainG, yTrainG.values.flatten());\n",
    "yPredLog2 = log_2.predict(xTestG)\n",
    "\n",
    "print(\"R^2 of full logistic model: %.4f\" % log_2.score(xTestG, yTestG))\n",
    "print(\"RMSE of full logistic model: %.4f\" % np.sqrt(mean_squared_error(yTestG, yPredLog2)))\n",
    "print(\"Beta of Total Yearly Compensation in full logistic model: %.4f\" % log_2.coef_.flatten()[0])"
   ]
  },
  {
   "cell_type": "code",
   "execution_count": 48,
   "id": "03b540e2-9199-4923-ac38-58565a8a859f",
   "metadata": {},
   "outputs": [
    {
     "name": "stdout",
     "output_type": "stream",
     "text": [
      "More metrics for full logistic regression model:\n",
      "Confusion matrix:\n",
      " [[ 467  309]\n",
      " [1804 1717]]\n",
      "Accuracy = 50.83%\n",
      "Precision = 84.75%\n",
      "Recall = 48.76%\n"
     ]
    }
   ],
   "source": [
    "# additional evaluation metrics\n",
    "print(\"More metrics for full logistic regression model:\")\n",
    "\n",
    "# confusion matrix\n",
    "print(\"Confusion matrix:\\n\", confusion_matrix(yTestG, yPredLog2))\n",
    "      \n",
    "# accuracy score: (tp+tn)/all\n",
    "acc = accuracy_score(yTestG, yPredLog2)\n",
    "print(\"Accuracy = {:0.2f}%\".format(acc * 100))\n",
    "\n",
    "# precision score: tp/positive predictions = tp/(tp+fp), PPV\n",
    "prec = precision_score(yTestG, yPredLog2)\n",
    "print(\"Precision = {:0.2f}%\".format(100 * prec))\n",
    "\n",
    "# recall score: tp/ap = tp/(tn+fp)\n",
    "recall = recall_score(yTestG, yPredLog2)\n",
    "print(\"Recall = {:0.2f}%\".format(100 * recall))"
   ]
  },
  {
   "cell_type": "code",
   "execution_count": 86,
   "id": "c026ea12",
   "metadata": {},
   "outputs": [
    {
     "data": {
      "image/png": "[encoded data removed]",
      "text/plain": [
       "<Figure size 640x480 with 1 Axes>"
      ]
     },
     "metadata": {},
     "output_type": "display_data"
    }
   ],
   "source": [
    "# plot ROC curve\n",
    "fpr, tpr, thresholds = metrics.roc_curve(yTestG, yPredLog2)\n",
    "auc = metrics.roc_auc_score(yTestG, yPredLog2)\n",
    "plt.plot(fpr, tpr, color='orange', label='ROC')\n",
    "plt.plot([0, 1], [0, 1], color='darkblue', linestyle='--',label='ROC curve (area = %0.2f)' % auc)\n",
    "plt.xlabel('False Positive Rate')\n",
    "plt.ylabel('True Positive Rate')\n",
    "plt.title('ROC Curve for Model using All Predictors')\n",
    "plt.legend()\n",
    "plt.show()"
   ]
  },
  {
   "cell_type": "markdown",
   "id": "bf7fb6cd-029d-45ed-9b3b-45e0030187f7",
   "metadata": {
    "tags": []
   },
   "source": [
    "## Question 5\n",
    "Build a logistic regression model to see if you can predict high and low pay from years\n",
    "of relevant experience, age, height, SAT score and GPA, respectively."
   ]
  },
  {
   "cell_type": "code",
   "execution_count": 50,
   "id": "fc17a899-8e14-4c61-99b3-7c21eedaebf0",
   "metadata": {},
   "outputs": [],
   "source": [
    "# reload original data\n",
    "origdata = pd.read_csv('techSalaries2017.csv')"
   ]
  },
  {
   "cell_type": "code",
   "execution_count": 51,
   "id": "5b22afff-71b4-4f2a-b4c7-98569a688143",
   "metadata": {},
   "outputs": [
    {
     "data": {
      "text/html": [
       "<div>\n",
       "<style scoped>\n",
       "    .dataframe tbody tr th:only-of-type {\n",
       "        vertical-align: middle;\n",
       "    }\n",
       "\n",
       "    .dataframe tbody tr th {\n",
       "        vertical-align: top;\n",
       "    }\n",
       "\n",
       "    .dataframe thead th {\n",
       "        text-align: right;\n",
       "    }\n",
       "</style>\n",
       "<table border=\"1\" class=\"dataframe\">\n",
       "  <thead>\n",
       "    <tr style=\"text-align: right;\">\n",
       "      <th></th>\n",
       "      <th>yearsofexperience</th>\n",
       "      <th>Age</th>\n",
       "      <th>Height</th>\n",
       "      <th>SAT</th>\n",
       "      <th>GPA</th>\n",
       "      <th>basesalary</th>\n",
       "    </tr>\n",
       "  </thead>\n",
       "  <tbody>\n",
       "    <tr>\n",
       "      <th>0</th>\n",
       "      <td>1.5</td>\n",
       "      <td>38</td>\n",
       "      <td>68.590</td>\n",
       "      <td>829</td>\n",
       "      <td>2.13</td>\n",
       "      <td>107000</td>\n",
       "    </tr>\n",
       "    <tr>\n",
       "      <th>1</th>\n",
       "      <td>5.0</td>\n",
       "      <td>34</td>\n",
       "      <td>68.059</td>\n",
       "      <td>993</td>\n",
       "      <td>2.77</td>\n",
       "      <td>0</td>\n",
       "    </tr>\n",
       "    <tr>\n",
       "      <th>2</th>\n",
       "      <td>8.0</td>\n",
       "      <td>42</td>\n",
       "      <td>61.343</td>\n",
       "      <td>1200</td>\n",
       "      <td>3.26</td>\n",
       "      <td>155000</td>\n",
       "    </tr>\n",
       "    <tr>\n",
       "      <th>3</th>\n",
       "      <td>7.0</td>\n",
       "      <td>28</td>\n",
       "      <td>66.495</td>\n",
       "      <td>1170</td>\n",
       "      <td>3.07</td>\n",
       "      <td>157000</td>\n",
       "    </tr>\n",
       "    <tr>\n",
       "      <th>4</th>\n",
       "      <td>5.0</td>\n",
       "      <td>34</td>\n",
       "      <td>69.015</td>\n",
       "      <td>1115</td>\n",
       "      <td>2.91</td>\n",
       "      <td>0</td>\n",
       "    </tr>\n",
       "  </tbody>\n",
       "</table>\n",
       "</div>"
      ],
      "text/plain": [
       "   yearsofexperience  Age  Height   SAT   GPA  basesalary\n",
       "0                1.5   38  68.590   829  2.13      107000\n",
       "1                5.0   34  68.059   993  2.77           0\n",
       "2                8.0   42  61.343  1200  3.26      155000\n",
       "3                7.0   28  66.495  1170  3.07      157000\n",
       "4                5.0   34  69.015  1115  2.91           0"
      ]
     },
     "execution_count": 51,
     "metadata": {},
     "output_type": "execute_result"
    }
   ],
   "source": [
    "# keep only relevant columns\n",
    "q5_cols = ['yearsofexperience', 'Age', 'Height', 'SAT', 'GPA', 'basesalary']\n",
    "data_q5 = origdata[q5_cols] \n",
    "data_q5.head()"
   ]
  },
  {
   "cell_type": "code",
   "execution_count": 52,
   "id": "2becc6c3-e5b8-4816-bdc6-610dd37ba711",
   "metadata": {},
   "outputs": [
    {
     "data": {
      "text/html": [
       "<div>\n",
       "<style scoped>\n",
       "    .dataframe tbody tr th:only-of-type {\n",
       "        vertical-align: middle;\n",
       "    }\n",
       "\n",
       "    .dataframe tbody tr th {\n",
       "        vertical-align: top;\n",
       "    }\n",
       "\n",
       "    .dataframe thead th {\n",
       "        text-align: right;\n",
       "    }\n",
       "</style>\n",
       "<table border=\"1\" class=\"dataframe\">\n",
       "  <thead>\n",
       "    <tr style=\"text-align: right;\">\n",
       "      <th></th>\n",
       "      <th>yearsofexperience</th>\n",
       "      <th>Age</th>\n",
       "      <th>Height</th>\n",
       "      <th>SAT</th>\n",
       "      <th>GPA</th>\n",
       "      <th>basesalary</th>\n",
       "      <th>highearner</th>\n",
       "    </tr>\n",
       "  </thead>\n",
       "  <tbody>\n",
       "    <tr>\n",
       "      <th>0</th>\n",
       "      <td>1.5</td>\n",
       "      <td>38</td>\n",
       "      <td>68.590</td>\n",
       "      <td>829</td>\n",
       "      <td>2.13</td>\n",
       "      <td>107000</td>\n",
       "      <td>0</td>\n",
       "    </tr>\n",
       "    <tr>\n",
       "      <th>1</th>\n",
       "      <td>5.0</td>\n",
       "      <td>34</td>\n",
       "      <td>68.059</td>\n",
       "      <td>993</td>\n",
       "      <td>2.77</td>\n",
       "      <td>0</td>\n",
       "      <td>0</td>\n",
       "    </tr>\n",
       "    <tr>\n",
       "      <th>2</th>\n",
       "      <td>8.0</td>\n",
       "      <td>42</td>\n",
       "      <td>61.343</td>\n",
       "      <td>1200</td>\n",
       "      <td>3.26</td>\n",
       "      <td>155000</td>\n",
       "      <td>1</td>\n",
       "    </tr>\n",
       "    <tr>\n",
       "      <th>3</th>\n",
       "      <td>7.0</td>\n",
       "      <td>28</td>\n",
       "      <td>66.495</td>\n",
       "      <td>1170</td>\n",
       "      <td>3.07</td>\n",
       "      <td>157000</td>\n",
       "      <td>1</td>\n",
       "    </tr>\n",
       "    <tr>\n",
       "      <th>4</th>\n",
       "      <td>5.0</td>\n",
       "      <td>34</td>\n",
       "      <td>69.015</td>\n",
       "      <td>1115</td>\n",
       "      <td>2.91</td>\n",
       "      <td>0</td>\n",
       "      <td>0</td>\n",
       "    </tr>\n",
       "  </tbody>\n",
       "</table>\n",
       "</div>"
      ],
      "text/plain": [
       "   yearsofexperience  Age  Height   SAT   GPA  basesalary  highearner\n",
       "0                1.5   38  68.590   829  2.13      107000           0\n",
       "1                5.0   34  68.059   993  2.77           0           0\n",
       "2                8.0   42  61.343  1200  3.26      155000           1\n",
       "3                7.0   28  66.495  1170  3.07      157000           1\n",
       "4                5.0   34  69.015  1115  2.91           0           0"
      ]
     },
     "execution_count": 52,
     "metadata": {},
     "output_type": "execute_result"
    }
   ],
   "source": [
    "# create new outcome variable: highearner\n",
    "# 1 = makes more than median annual salary, 0 = makes less than median annual salary\n",
    "data_q5[\"highearner\"] = (data_q5['basesalary']>data_q5['basesalary'].quantile()).replace({True:1, False:0})\n",
    "data_q5.head()"
   ]
  },
  {
   "cell_type": "code",
   "execution_count": 53,
   "id": "a07d96e2-0651-4c47-b94f-9285efa84003",
   "metadata": {},
   "outputs": [
    {
     "data": {
      "text/html": [
       "<div>\n",
       "<style scoped>\n",
       "    .dataframe tbody tr th:only-of-type {\n",
       "        vertical-align: middle;\n",
       "    }\n",
       "\n",
       "    .dataframe tbody tr th {\n",
       "        vertical-align: top;\n",
       "    }\n",
       "\n",
       "    .dataframe thead th {\n",
       "        text-align: right;\n",
       "    }\n",
       "</style>\n",
       "<table border=\"1\" class=\"dataframe\">\n",
       "  <thead>\n",
       "    <tr style=\"text-align: right;\">\n",
       "      <th></th>\n",
       "      <th>yearsofexperience</th>\n",
       "      <th>Age</th>\n",
       "      <th>Height</th>\n",
       "      <th>SAT</th>\n",
       "      <th>GPA</th>\n",
       "      <th>highearner</th>\n",
       "    </tr>\n",
       "  </thead>\n",
       "  <tbody>\n",
       "    <tr>\n",
       "      <th>0</th>\n",
       "      <td>1.5</td>\n",
       "      <td>38</td>\n",
       "      <td>68.590</td>\n",
       "      <td>829</td>\n",
       "      <td>2.13</td>\n",
       "      <td>0</td>\n",
       "    </tr>\n",
       "    <tr>\n",
       "      <th>1</th>\n",
       "      <td>5.0</td>\n",
       "      <td>34</td>\n",
       "      <td>68.059</td>\n",
       "      <td>993</td>\n",
       "      <td>2.77</td>\n",
       "      <td>0</td>\n",
       "    </tr>\n",
       "    <tr>\n",
       "      <th>2</th>\n",
       "      <td>8.0</td>\n",
       "      <td>42</td>\n",
       "      <td>61.343</td>\n",
       "      <td>1200</td>\n",
       "      <td>3.26</td>\n",
       "      <td>1</td>\n",
       "    </tr>\n",
       "    <tr>\n",
       "      <th>3</th>\n",
       "      <td>7.0</td>\n",
       "      <td>28</td>\n",
       "      <td>66.495</td>\n",
       "      <td>1170</td>\n",
       "      <td>3.07</td>\n",
       "      <td>1</td>\n",
       "    </tr>\n",
       "    <tr>\n",
       "      <th>4</th>\n",
       "      <td>5.0</td>\n",
       "      <td>34</td>\n",
       "      <td>69.015</td>\n",
       "      <td>1115</td>\n",
       "      <td>2.91</td>\n",
       "      <td>0</td>\n",
       "    </tr>\n",
       "  </tbody>\n",
       "</table>\n",
       "</div>"
      ],
      "text/plain": [
       "   yearsofexperience  Age  Height   SAT   GPA  highearner\n",
       "0                1.5   38  68.590   829  2.13           0\n",
       "1                5.0   34  68.059   993  2.77           0\n",
       "2                8.0   42  61.343  1200  3.26           1\n",
       "3                7.0   28  66.495  1170  3.07           1\n",
       "4                5.0   34  69.015  1115  2.91           0"
      ]
     },
     "execution_count": 53,
     "metadata": {},
     "output_type": "execute_result"
    }
   ],
   "source": [
    "# drop basesalary\n",
    "data_q5.drop(columns=['basesalary'], inplace=True)\n",
    "data_q5.head()"
   ]
  },
  {
   "cell_type": "code",
   "execution_count": 54,
   "id": "5937f07a-258a-44c8-8ac6-09c7db94bb15",
   "metadata": {},
   "outputs": [],
   "source": [
    "# separate predictors and target variables\n",
    "data_q5_x = data_q5.drop(columns=['highearner'])\n",
    "data_q5_y = data_q5['highearner']"
   ]
  },
  {
   "cell_type": "code",
   "execution_count": 55,
   "id": "71c57abb-57e8-40ad-8954-c0bf14b238c0",
   "metadata": {},
   "outputs": [
    {
     "data": {
      "text/html": [
       "<div>\n",
       "<style scoped>\n",
       "    .dataframe tbody tr th:only-of-type {\n",
       "        vertical-align: middle;\n",
       "    }\n",
       "\n",
       "    .dataframe tbody tr th {\n",
       "        vertical-align: top;\n",
       "    }\n",
       "\n",
       "    .dataframe thead th {\n",
       "        text-align: right;\n",
       "    }\n",
       "</style>\n",
       "<table border=\"1\" class=\"dataframe\">\n",
       "  <thead>\n",
       "    <tr style=\"text-align: right;\">\n",
       "      <th></th>\n",
       "      <th>yearsofexperience</th>\n",
       "      <th>Age</th>\n",
       "      <th>Height</th>\n",
       "      <th>SAT</th>\n",
       "      <th>GPA</th>\n",
       "    </tr>\n",
       "  </thead>\n",
       "  <tbody>\n",
       "    <tr>\n",
       "      <th>0</th>\n",
       "      <td>-0.976680</td>\n",
       "      <td>0.083307</td>\n",
       "      <td>0.533047</td>\n",
       "      <td>-2.117992</td>\n",
       "      <td>-2.827954</td>\n",
       "    </tr>\n",
       "    <tr>\n",
       "      <th>1</th>\n",
       "      <td>-0.377399</td>\n",
       "      <td>-0.348521</td>\n",
       "      <td>0.355843</td>\n",
       "      <td>-0.722949</td>\n",
       "      <td>-0.523381</td>\n",
       "    </tr>\n",
       "    <tr>\n",
       "      <th>2</th>\n",
       "      <td>0.136271</td>\n",
       "      <td>0.515135</td>\n",
       "      <td>-1.885403</td>\n",
       "      <td>1.037868</td>\n",
       "      <td>1.241058</td>\n",
       "    </tr>\n",
       "    <tr>\n",
       "      <th>3</th>\n",
       "      <td>-0.034953</td>\n",
       "      <td>-0.996262</td>\n",
       "      <td>-0.166091</td>\n",
       "      <td>0.782677</td>\n",
       "      <td>0.556888</td>\n",
       "    </tr>\n",
       "    <tr>\n",
       "      <th>4</th>\n",
       "      <td>-0.377399</td>\n",
       "      <td>-0.348521</td>\n",
       "      <td>0.674877</td>\n",
       "      <td>0.314827</td>\n",
       "      <td>-0.019255</td>\n",
       "    </tr>\n",
       "  </tbody>\n",
       "</table>\n",
       "</div>"
      ],
      "text/plain": [
       "   yearsofexperience       Age    Height       SAT       GPA\n",
       "0          -0.976680  0.083307  0.533047 -2.117992 -2.827954\n",
       "1          -0.377399 -0.348521  0.355843 -0.722949 -0.523381\n",
       "2           0.136271  0.515135 -1.885403  1.037868  1.241058\n",
       "3          -0.034953 -0.996262 -0.166091  0.782677  0.556888\n",
       "4          -0.377399 -0.348521  0.674877  0.314827 -0.019255"
      ]
     },
     "execution_count": 55,
     "metadata": {},
     "output_type": "execute_result"
    }
   ],
   "source": [
    "# standardize the predictors\n",
    "scaler = StandardScaler()\n",
    "scaled_cols = scaler.fit_transform(data_q5_x) \n",
    "data_q5_x = pd.DataFrame(scaled_cols, columns=data_q5_x.columns)\n",
    "data_q5_x.head()"
   ]
  },
  {
   "cell_type": "code",
   "execution_count": 56,
   "id": "f32a3ccc-cb6f-40cb-875d-9812e8675507",
   "metadata": {},
   "outputs": [
    {
     "name": "stdout",
     "output_type": "stream",
     "text": [
      "(50113, 5) (12529, 5) (50113,) (12529,)\n"
     ]
    }
   ],
   "source": [
    "# split data into train/test sets\n",
    "xTrain5, xTest5, yTrain5, yTest5 = train_test_split(data_q5_x, data_q5_y, test_size=0.2, random_state=17)\n",
    "print(xTrain5.shape, xTest5.shape, yTrain5.shape, yTest5.shape)"
   ]
  },
  {
   "cell_type": "code",
   "execution_count": 57,
   "id": "4127a3b5-da6a-480e-99f9-182e472f083a",
   "metadata": {},
   "outputs": [
    {
     "name": "stdout",
     "output_type": "stream",
     "text": [
      "R^2 of model: 0.6926\n",
      "RMSE of model: 0.5544\n"
     ]
    }
   ],
   "source": [
    "# logistic regression model predicting high or low pay\n",
    "pay_model = LogisticRegression().fit(xTrain5, yTrain5.values.flatten());\n",
    "yPredPay = pay_model.predict(xTest5)\n",
    "\n",
    "print(\"R^2 of model: %.4f\" % pay_model.score(xTest5, yTest5))\n",
    "print(\"RMSE of model: %.4f\" % np.sqrt(mean_squared_error(yTest5, yPredPay)))"
   ]
  },
  {
   "cell_type": "code",
   "execution_count": 58,
   "id": "5e8270d9-a247-4e41-995b-584426963497",
   "metadata": {},
   "outputs": [
    {
     "name": "stdout",
     "output_type": "stream",
     "text": [
      "More metrics for original logistic regression model:\n",
      "Confusion matrix:\n",
      " [[4991 1530]\n",
      " [2321 3687]]\n",
      "Accuracy = 69.26%\n",
      "Precision = 70.67%\n",
      "Recall = 61.37%\n",
      "AUROC = 0.69\n"
     ]
    }
   ],
   "source": [
    "# additional evaluation metrics\n",
    "print(\"More metrics for original logistic regression model:\")\n",
    "\n",
    "# confusion matrix\n",
    "print(\"Confusion matrix:\\n\", confusion_matrix(yTest5, yPredPay))\n",
    "      \n",
    "# accuracy score: (tp+tn)/all\n",
    "acc = accuracy_score(yTest5, yPredPay)\n",
    "print(\"Accuracy = {:0.2f}%\".format(acc * 100))\n",
    "\n",
    "# precision score: tp/positive predictions = tp/(tp+fp), PPV\n",
    "prec = precision_score(yTest5, yPredPay)\n",
    "print(\"Precision = {:0.2f}%\".format(100 * prec))\n",
    "\n",
    "# recall score: tp/ap = tp/(tn+fp)\n",
    "recall = recall_score(yTest5, yPredPay)\n",
    "print(\"Recall = {:0.2f}%\".format(100 * recall))\n",
    "\n",
    "# AUROC\n",
    "auroc = roc_auc_score(yTest5, yPredPay)\n",
    "print(\"AUROC = {:0.2f}\".format(auroc))"
   ]
  },
  {
   "cell_type": "code",
   "execution_count": 59,
   "id": "a5ccb358-d916-4c0c-9572-c32a6dd28039",
   "metadata": {},
   "outputs": [
    {
     "data": {
      "image/png": "[encoded data removed]",
      "text/plain": [
       "<Figure size 1200x500 with 1 Axes>"
      ]
     },
     "metadata": {},
     "output_type": "display_data"
    }
   ],
   "source": [
    "# plot the weights of the features in the model\n",
    "fig = plt.figure(figsize = (12, 5))\n",
    "plt.bar(xTrain5.columns, pay_model.coef_[0]);\n",
    "# plt.xticks(rotation='vertical')\n",
    "plt.xlabel(\"Predictor Variable\")\n",
    "plt.ylabel(\"Weight\")\n",
    "plt.title(\"Weights of each predictor variable in Pay Prediction Model\");\n",
    "# plt.tight_layout()\n",
    "plt.show()"
   ]
  },
  {
   "cell_type": "code",
   "execution_count": 60,
   "id": "767ceb62-460b-4683-9d12-07697f5e0f3d",
   "metadata": {},
   "outputs": [
    {
     "name": "stdout",
     "output_type": "stream",
     "text": [
      "R^2 of new model: 0.6928\n",
      "RMSE of new model: 0.5543\n"
     ]
    }
   ],
   "source": [
    "# try building model with just yearsofexperience and SAT this time\n",
    "pay_model2 = LogisticRegression().fit(pd.DataFrame(xTrain5[['yearsofexperience', 'SAT']]), \n",
    "                                      yTrain5.values.flatten());\n",
    "yPredPay2 = pay_model2.predict(pd.DataFrame(xTest5[['yearsofexperience', 'SAT']]))\n",
    "\n",
    "print(\"R^2 of new model: %.4f\" % pay_model2.score(xTest5[['yearsofexperience', 'SAT']], yTest5))\n",
    "print(\"RMSE of new model: %.4f\" % np.sqrt(mean_squared_error(yTest5, yPredPay2)))"
   ]
  },
  {
   "cell_type": "code",
   "execution_count": 62,
   "id": "2a90bbcb-b451-470a-a4f6-c91932715cd5",
   "metadata": {},
   "outputs": [
    {
     "name": "stdout",
     "output_type": "stream",
     "text": [
      "More metrics for new logistic regression model:\n",
      "Confusion matrix:\n",
      " [[4991 1530]\n",
      " [2319 3689]]\n",
      "Accuracy = 69.28%\n",
      "Precision = 70.68%\n",
      "Recall = 61.40%\n"
     ]
    }
   ],
   "source": [
    "# additional evaluation metrics\n",
    "print(\"More metrics for new logistic regression model:\")\n",
    "\n",
    "# confusion matrix\n",
    "print(\"Confusion matrix:\\n\", confusion_matrix(yTest5, yPredPay2))\n",
    "      \n",
    "# accuracy score: (tp+tn)/all\n",
    "acc = accuracy_score(yTest5, yPredPay2)\n",
    "print(\"Accuracy = {:0.2f}%\".format(acc * 100))\n",
    "\n",
    "# precision score: tp/positive predictions = tp/(tp+fp), PPV\n",
    "prec = precision_score(yTest5, yPredPay2)\n",
    "print(\"Precision = {:0.2f}%\".format(100 * prec))\n",
    "\n",
    "# recall score: tp/ap = tp/(tn+fp)\n",
    "recall = recall_score(yTest5, yPredPay2)\n",
    "print(\"Recall = {:0.2f}%\".format(100 * recall))"
   ]
  },
  {
   "cell_type": "code",
   "execution_count": 89,
   "id": "b11e253a",
   "metadata": {},
   "outputs": [
    {
     "data": {
      "image/png": "[encoded data removed]",
      "text/plain": [
       "<Figure size 640x480 with 1 Axes>"
      ]
     },
     "metadata": {},
     "output_type": "display_data"
    }
   ],
   "source": [
    "# plot ROC curve\n",
    "fpr, tpr, thresholds = metrics.roc_curve(yTest5, yPredPay2)\n",
    "auc = metrics.roc_auc_score(yTest5, yPredPay2)\n",
    "plt.plot(fpr, tpr, color='orange', label='ROC')\n",
    "plt.plot([0, 1], [0, 1], color='darkblue', linestyle='--',label='ROC curve (area = %0.2f)' % auc)\n",
    "plt.xlabel('False Positive Rate')\n",
    "plt.ylabel('True Positive Rate')\n",
    "plt.title('ROC Curve for Model using yearsofexperience and SAT')\n",
    "plt.legend()\n",
    "plt.show()"
   ]
  },
  {
   "cell_type": "markdown",
   "id": "0d3019f4-5cc9-4adb-9f5e-49d6ad90d7ee",
   "metadata": {
    "tags": []
   },
   "source": [
    "# Extra Credit\n",
    "## Part A\n",
    "Is salary, height or age normally distributed? Does this surprise you? Why or why not?"
   ]
  },
  {
   "cell_type": "code",
   "execution_count": 64,
   "id": "d2208579-94ac-47ea-9eb8-734fa762cfb8",
   "metadata": {},
   "outputs": [
    {
     "data": {
      "image/png": "[encoded data removed]",
      "text/plain": [
       "<Figure size 640x480 with 1 Axes>"
      ]
     },
     "metadata": {},
     "output_type": "display_data"
    }
   ],
   "source": [
    "plt.hist(origdata['Age'], bins=25, range=[0,85])\n",
    "plt.title(\"Distribution of Age\")\n",
    "plt.show()"
   ]
  },
  {
   "cell_type": "code",
   "execution_count": 65,
   "id": "d97b93bd-6240-4a28-910c-5c8b7ede720a",
   "metadata": {},
   "outputs": [
    {
     "data": {
      "image/png": "[encoded data removed]",
      "text/plain": [
       "<Figure size 640x480 with 1 Axes>"
      ]
     },
     "metadata": {},
     "output_type": "display_data"
    }
   ],
   "source": [
    "plt.hist(origdata['Height'], bins=25)\n",
    "plt.title(\"Distribution of Height\")\n",
    "plt.show()"
   ]
  },
  {
   "cell_type": "code",
   "execution_count": 66,
   "id": "0ab214d0-63e5-43b4-82f1-d9ecfee0f993",
   "metadata": {},
   "outputs": [
    {
     "data": {
      "image/png": "[encoded data removed]",
      "text/plain": [
       "<Figure size 640x480 with 1 Axes>"
      ]
     },
     "metadata": {},
     "output_type": "display_data"
    }
   ],
   "source": [
    "plt.hist(origdata['basesalary'], bins=25, range=[0,500000])\n",
    "plt.title(\"Distribution of Salary\")\n",
    "plt.show()"
   ]
  },
  {
   "cell_type": "code",
   "execution_count": 67,
   "id": "579d34b2-191d-4dff-9dbd-01a4be4d3b8d",
   "metadata": {},
   "outputs": [
    {
     "name": "stdout",
     "output_type": "stream",
     "text": [
      "No salary: 2304\n",
      "Low salary (<$20k): 2828\n"
     ]
    },
    {
     "name": "stderr",
     "output_type": "stream",
     "text": [
      "/Users/erinchoi2001/opt/anaconda3/lib/python3.8/site-packages/sklearn/model_selection/_validation.py:680: UserWarning: With alpha=0, this algorithm does not converge well. You are advised to use the LinearRegression estimator\n",
      "  estimator.fit(X_train, y_train, **fit_params)\n",
      "/Users/erinchoi2001/opt/anaconda3/lib/python3.8/site-packages/sklearn/linear_model/_coordinate_descent.py:647: UserWarning: Coordinate descent with no regularization may lead to unexpected results and is discouraged.\n",
      "  model = cd_fast.enet_coordinate_descent(\n",
      "/Users/erinchoi2001/opt/anaconda3/lib/python3.8/site-packages/sklearn/linear_model/_coordinate_descent.py:647: ConvergenceWarning: Objective did not converge. You might want to increase the number of iterations, check the scale of the features or consider increasing regularisation. Duality gap: 4.941e+03, tolerance: 1.363e+00 Linear regression models with null weight for the l1 regularization term are more efficiently fitted using one of the solvers implemented in sklearn.linear_model.Ridge/RidgeCV instead.\n",
      "  model = cd_fast.enet_coordinate_descent(\n",
      "/Users/erinchoi2001/opt/anaconda3/lib/python3.8/site-packages/sklearn/model_selection/_validation.py:680: UserWarning: With alpha=0, this algorithm does not converge well. You are advised to use the LinearRegression estimator\n",
      "  estimator.fit(X_train, y_train, **fit_params)\n",
      "/Users/erinchoi2001/opt/anaconda3/lib/python3.8/site-packages/sklearn/linear_model/_coordinate_descent.py:647: UserWarning: Coordinate descent with no regularization may lead to unexpected results and is discouraged.\n",
      "  model = cd_fast.enet_coordinate_descent(\n",
      "/Users/erinchoi2001/opt/anaconda3/lib/python3.8/site-packages/sklearn/linear_model/_coordinate_descent.py:647: ConvergenceWarning: Objective did not converge. You might want to increase the number of iterations, check the scale of the features or consider increasing regularisation. Duality gap: 5.517e+03, tolerance: 1.484e+00 Linear regression models with null weight for the l1 regularization term are more efficiently fitted using one of the solvers implemented in sklearn.linear_model.Ridge/RidgeCV instead.\n",
      "  model = cd_fast.enet_coordinate_descent(\n",
      "/Users/erinchoi2001/opt/anaconda3/lib/python3.8/site-packages/sklearn/model_selection/_validation.py:680: UserWarning: With alpha=0, this algorithm does not converge well. You are advised to use the LinearRegression estimator\n",
      "  estimator.fit(X_train, y_train, **fit_params)\n",
      "/Users/erinchoi2001/opt/anaconda3/lib/python3.8/site-packages/sklearn/linear_model/_coordinate_descent.py:647: UserWarning: Coordinate descent with no regularization may lead to unexpected results and is discouraged.\n",
      "  model = cd_fast.enet_coordinate_descent(\n",
      "/Users/erinchoi2001/opt/anaconda3/lib/python3.8/site-packages/sklearn/linear_model/_coordinate_descent.py:647: ConvergenceWarning: Objective did not converge. You might want to increase the number of iterations, check the scale of the features or consider increasing regularisation. Duality gap: 5.393e+03, tolerance: 1.446e+00 Linear regression models with null weight for the l1 regularization term are more efficiently fitted using one of the solvers implemented in sklearn.linear_model.Ridge/RidgeCV instead.\n",
      "  model = cd_fast.enet_coordinate_descent(\n",
      "/Users/erinchoi2001/opt/anaconda3/lib/python3.8/site-packages/sklearn/model_selection/_validation.py:680: UserWarning: With alpha=0, this algorithm does not converge well. You are advised to use the LinearRegression estimator\n",
      "  estimator.fit(X_train, y_train, **fit_params)\n",
      "/Users/erinchoi2001/opt/anaconda3/lib/python3.8/site-packages/sklearn/linear_model/_coordinate_descent.py:647: UserWarning: Coordinate descent with no regularization may lead to unexpected results and is discouraged.\n",
      "  model = cd_fast.enet_coordinate_descent(\n",
      "/Users/erinchoi2001/opt/anaconda3/lib/python3.8/site-packages/sklearn/linear_model/_coordinate_descent.py:647: ConvergenceWarning: Objective did not converge. You might want to increase the number of iterations, check the scale of the features or consider increasing regularisation. Duality gap: 5.477e+03, tolerance: 1.467e+00 Linear regression models with null weight for the l1 regularization term are more efficiently fitted using one of the solvers implemented in sklearn.linear_model.Ridge/RidgeCV instead.\n",
      "  model = cd_fast.enet_coordinate_descent(\n",
      "/Users/erinchoi2001/opt/anaconda3/lib/python3.8/site-packages/sklearn/model_selection/_validation.py:680: UserWarning: With alpha=0, this algorithm does not converge well. You are advised to use the LinearRegression estimator\n",
      "  estimator.fit(X_train, y_train, **fit_params)\n",
      "/Users/erinchoi2001/opt/anaconda3/lib/python3.8/site-packages/sklearn/linear_model/_coordinate_descent.py:647: UserWarning: Coordinate descent with no regularization may lead to unexpected results and is discouraged.\n",
      "  model = cd_fast.enet_coordinate_descent(\n",
      "/Users/erinchoi2001/opt/anaconda3/lib/python3.8/site-packages/sklearn/linear_model/_coordinate_descent.py:647: ConvergenceWarning: Objective did not converge. You might want to increase the number of iterations, check the scale of the features or consider increasing regularisation. Duality gap: 4.930e+03, tolerance: 1.345e+00 Linear regression models with null weight for the l1 regularization term are more efficiently fitted using one of the solvers implemented in sklearn.linear_model.Ridge/RidgeCV instead.\n",
      "  model = cd_fast.enet_coordinate_descent(\n"
     ]
    }
   ],
   "source": [
    "# count of people with no or low salary\n",
    "print(\"No salary:\", (origdata['basesalary']==0).sum())\n",
    "print(\"Low salary (<$20k):\", (origdata['basesalary']<20000).sum())"
   ]
  }
 ],
 "metadata": {
  "kernelspec": {
   "display_name": "Python 3 (ipykernel)",
   "language": "python",
   "name": "python3"
  },
  "language_info": {
   "codemirror_mode": {
    "name": "ipython",
    "version": 3
   },
   "file_extension": ".py",
   "mimetype": "text/x-python",
   "name": "python",
   "nbconvert_exporter": "python",
   "pygments_lexer": "ipython3",
   "version": "3.8.13"
  },
  "toc-autonumbering": false,
  "toc-showcode": false,
  "toc-showmarkdowntxt": false,
  "toc-showtags": false
 },
 "nbformat": 4,
 "nbformat_minor": 5
}
