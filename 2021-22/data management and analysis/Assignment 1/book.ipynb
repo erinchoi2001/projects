{
 "cells": [
  {
   "cell_type": "markdown",
   "metadata": {},
   "source": [
    "# Data Management and Analysis (CSCI-UA 479)\n",
    "## Erin Choi - Assignment 1, Part 2: Books"
   ]
  },
  {
   "cell_type": "markdown",
   "metadata": {},
   "source": [
    "### Books used:\n",
    "#### *The Great Gatsby* by F. Scott Fitzgerald\n",
    "https://www.gutenberg.org/ebooks/64317\n",
    "\n",
    "**Licensing information:**\n",
    "\n",
    "This eBook is for the use of anyone anywhere in the United States and\n",
    "most other parts of the world at no cost and with almost no restrictions\n",
    "whatsoever. You may copy it, give it away or re-use it under the terms\n",
    "of the Project Gutenberg License included with this eBook or online at\n",
    "www.gutenberg.org. If you are not located in the United States, you\n",
    "will have to check the laws of the country where you are located before\n",
    "using this eBook.\n",
    "\n",
    "**Encoding**: UTF-8\n",
    "\n",
    "#### *Little Women* by Louisa May Alcott\n",
    "https://www.gutenberg.org/ebooks/514\n",
    "\n",
    "**Licensing information:**\n",
    "\n",
    "This eBook is for the use of anyone anywhere at no cost and with\n",
    "almost no restrictions whatsoever.  You may copy it, give it away or\n",
    "re-use it under the terms of the Project Gutenberg License included\n",
    "with this eBook or online at www.gutenberg.org\n",
    "\n",
    "**Encoding:** UTF-8"
   ]
  },
  {
   "cell_type": "markdown",
   "metadata": {},
   "source": [
    "### Questions about books:\n",
    "- *The Great Gatsby*: Which character, besides Jay Gatsby, is mentioned by name most?\n",
    "    * Characters included in my analysis (only using mentions of first names) are Nick (Carraway, narrator), Daisy (Buchanan), Tom (Buchanan), Jordan (Baker), Myrtle (Wilson), George (Wilson), and Meyer (Wolfsheim).\n",
    "- *Little Women*: How many times are each of the 4 sisters mentioned by name?\n",
    "    * The sisters' names are Meg, Jo, Beth, and Amy."
   ]
  },
  {
   "cell_type": "markdown",
   "metadata": {},
   "source": [
    "**Note about reading books:**\n",
    "Since the encoding for both books is UTF-8, the books can be read in as usual without changing the encoding parameter of the file open function."
   ]
  },
  {
   "cell_type": "markdown",
   "metadata": {},
   "source": [
    "### Analysis of *The Great Gatsby*"
   ]
  },
  {
   "cell_type": "markdown",
   "metadata": {},
   "source": [
    "First, I read in the lines of the book and store the lines in a list."
   ]
  },
  {
   "cell_type": "code",
   "execution_count": 37,
   "metadata": {},
   "outputs": [],
   "source": [
    "# read lines in book, store as a list\n",
    "gatsby = open('data/gatsby.txt', 'r')\n",
    "gatsby_lines = gatsby.readlines()\n",
    "gatsby.close()"
   ]
  },
  {
   "cell_type": "markdown",
   "metadata": {},
   "source": [
    "For each line in the list of lines:\n",
    "* I remove the white space around the lines to get rid of new lines, tabs, etc.\n",
    "* I split the line at each space to get a list of words in that line.\n",
    "* I remove the starting and end punctuation by replacing it with an empty string. (I don't examine each character in a \"word\" to see if it's punctuation, since that could affect contractions, compound words connected by dashes, etc.)\n",
    "* I append each non-empty \"word\" to a list of words in the whole book."
   ]
  },
  {
   "cell_type": "code",
   "execution_count": 38,
   "metadata": {},
   "outputs": [],
   "source": [
    "# remove white space, separate words, remove punctuation\n",
    "\n",
    "gatsby_lines = list(map(str.strip, gatsby_lines))\n",
    "gatsby_words = []\n",
    "punctuation = '''!()-[]{};:'\"\\,<>./?@#$%^&*_~'''\n",
    "\n",
    "for line in gatsby_lines:\n",
    "    \n",
    "    # split each line at spaces to get words\n",
    "    line_words = line.split()\n",
    "    for word in line_words:\n",
    "        # replace only starting and end punctuation with empty string \n",
    "        if word[-1] in punctuation:\n",
    "            word = word.replace(word[-1], '')\n",
    "        if word!='' and word[0] in punctuation:\n",
    "            word = word.replace(word[0], '')\n",
    "        \n",
    "        # append non-empty \"words\" to list of words\n",
    "        if word!='':\n",
    "            gatsby_words.append(word)"
   ]
  },
  {
   "cell_type": "markdown",
   "metadata": {},
   "source": [
    "Finally, I count the number of occurrences of each name of interest by looping through the list of all words and update a dictionary, with keys being the names and values being the number of the name's occurrences."
   ]
  },
  {
   "cell_type": "code",
   "execution_count": 39,
   "metadata": {},
   "outputs": [
    {
     "data": {
      "text/plain": [
       "{'Tom': 164, 'Daisy': 137, 'Nick': 13, 'Jordan': 61, 'Myrtle': 18, 'Meyer': 5}"
      ]
     },
     "execution_count": 39,
     "metadata": {},
     "output_type": "execute_result"
    }
   ],
   "source": [
    "# count the number of occurrences of each name of interest\n",
    "# by looping through all words and updating a dictionary\n",
    "name_dict = {}\n",
    "name_list = ['Nick', 'Daisy', 'Tom', 'Jordan', 'Myrtle', 'Meyer']\n",
    "\n",
    "for word in gatsby_words:\n",
    "    if word in name_list:\n",
    "        if word in name_dict.keys():\n",
    "            name_dict[word] += 1\n",
    "        else:\n",
    "            name_dict[word] = 1\n",
    "\n",
    "name_dict"
   ]
  },
  {
   "cell_type": "markdown",
   "metadata": {},
   "source": [
    "**The results of my analysis show that Tom Buchanan's name is mentioned the most - he is named 164 times in *The Great Gatsby*.** I thought Daisy would be mentioned the most besides Gatsby since she is Gatsby's love interest, but surprisingly, Tom is mentioned more. (Or maybe not surprisingly, since he is Daisy's husband and thus is in a position of conflict with Gatsby...)"
   ]
  },
  {
   "cell_type": "markdown",
   "metadata": {},
   "source": [
    "### Analysis of *Little Women*"
   ]
  },
  {
   "cell_type": "markdown",
   "metadata": {},
   "source": [
    "Again, I read in the lines of the book and store them in a list."
   ]
  },
  {
   "cell_type": "code",
   "execution_count": 40,
   "metadata": {},
   "outputs": [],
   "source": [
    "lw = open('data/littlewomen.txt', 'r')\n",
    "lw_lines = lw.readlines()\n",
    "lw.close()"
   ]
  },
  {
   "cell_type": "markdown",
   "metadata": {},
   "source": [
    "I repeat the steps I performed for *The Great Gatsby* here.\n",
    "For each line, I strip white space, obtain a list of words in the line, remove starting and end punctuation, and append non-empty words to a list."
   ]
  },
  {
   "cell_type": "code",
   "execution_count": 42,
   "metadata": {},
   "outputs": [],
   "source": [
    "lw_lines = list(map(str.strip, lw_lines))\n",
    "lw_words = []\n",
    "\n",
    "for line in lw_lines:\n",
    "\n",
    "    line_words = line.split()\n",
    "    for word in line_words:\n",
    "        if word[-1] in punctuation:\n",
    "            word = word.replace(word[-1], '')\n",
    "        if word!='' and word[0] in punctuation:\n",
    "            word = word.replace(word[0], '')\n",
    "        \n",
    "        if word!='':\n",
    "            lw_words.append(word)"
   ]
  },
  {
   "cell_type": "markdown",
   "metadata": {},
   "source": [
    "I count the number of times each sister (\"Little Woman\") is mentioned by looping through the list of all words and update a dictionary."
   ]
  },
  {
   "cell_type": "code",
   "execution_count": 43,
   "metadata": {},
   "outputs": [
    {
     "data": {
      "text/plain": [
       "{'Jo': 1209, 'Meg': 615, 'Amy': 553, 'Beth': 393}"
      ]
     },
     "execution_count": 43,
     "metadata": {},
     "output_type": "execute_result"
    }
   ],
   "source": [
    "lw_name_dict = {}\n",
    "woman_list = ['Meg', 'Jo', 'Beth', 'Amy']\n",
    "\n",
    "for word in lw_words:\n",
    "    if word in woman_list:\n",
    "        if word in lw_name_dict.keys():\n",
    "            lw_name_dict[word] += 1\n",
    "        else:\n",
    "            lw_name_dict[word] = 1\n",
    "\n",
    "lw_name_dict"
   ]
  },
  {
   "cell_type": "markdown",
   "metadata": {},
   "source": [
    "The results are as follows:\n",
    "* **Meg is mentioned 615 times.**\n",
    "* **Jo is mentioned 1209 times.**\n",
    "* **Beth is mentioned 393 times.**\n",
    "* **Amy is mentioned 553 times.**\n",
    "\n",
    "This makes sense because although the story is about all of the sisters, Jo is in a way the \"main\" sister that the novel focuses on and follows most closely, particularly towards the end of the book. **Spoiler Alert:** Beth is likely mentioned the least because she was not as active as her sisters, and she passes away partway through the book."
   ]
  }
 ],
 "metadata": {
  "kernelspec": {
   "display_name": "Python 3",
   "language": "python",
   "name": "python3"
  },
  "language_info": {
   "codemirror_mode": {
    "name": "ipython",
    "version": 3
   },
   "file_extension": ".py",
   "mimetype": "text/x-python",
   "name": "python",
   "nbconvert_exporter": "python",
   "pygments_lexer": "ipython3",
   "version": "3.8.8"
  }
 },
 "nbformat": 4,
 "nbformat_minor": 4
}
