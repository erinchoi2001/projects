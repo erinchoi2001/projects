{
 "cells": [
  {
   "cell_type": "markdown",
   "id": "85948ea6",
   "metadata": {},
   "source": [
    "# Homework 02"
   ]
  },
  {
   "cell_type": "markdown",
   "id": "625cf1f7",
   "metadata": {},
   "source": [
    "\n",
    "## Part 1 - Questions\n",
    "\n",
    "### Question 1: \n",
    "\n",
    "What is the average tempo (in BPM, beats per minute) of the most popular songs on Spotify in the decade of the 2010s?\n",
    "\n",
    "* Who (population): popular songs on Spotify in 2010s\n",
    "* What (subject, discipline): N/A\n",
    "* Where (location): Spotify worldwide\n",
    "* When (snapshot, longitudinal): snapshot\n",
    "* How much data do you need to do the analysis/work: information for most popular songs on Spotify in years 2010-2019, perhaps top 100 songs for each year, that contains each song's tempo\n",
    "\n",
    "### Question 2: \n",
    "\n",
    "Of which genre were most of the most popular songs on Spotify in the 2010s?\n",
    "\n",
    "* Who (population): popular songs on Spotify in 2010s\n",
    "* What (subject, discipline): N/A\n",
    "* Where (location): Spotify worldwide\n",
    "* When (snapshot, longitudinal): snapshot\n",
    "* How much data do you need to do the analysis/work: information for most popular songs on Spotify in years 2010-2019, ideally top 100 songs for each year, that contains the category of genre for each song\n",
    "\n",
    "### Who Might Collect Relevant Data / What Articles or Publications Cite a Relevant Data Set?\n",
    "\n",
    "Spotify collects and releases this data, sites that compile Spotify data or Kaggle users may turn the relevant data into separate datasets."
   ]
  },
  {
   "cell_type": "markdown",
   "id": "efe27c56",
   "metadata": {},
   "source": [
    "## Part 2 - Selecting a Data Set, Adding Documentation\n",
    "\n",
    "\n",
    "\n",
    "1. Name / Title: Top Spotify songs from 2010-2019 - BY YEAR\n",
    "2. Link to Data: https://www.kaggle.com/leonardopena/top-spotify-songs-from-20102019-by-year\n",
    "3. Source / Origin: \n",
    "\t* Author or Creator: Leonardo Henrique\n",
    "\t* Publication Date: 12/26/19\n",
    "\t* Publisher: Leonardo Henrique on Kaggle\n",
    "\t* Version of Data Accessed: 1\n",
    "4. License: None specified (\"Other\": data were extracted from http://organizeyourmusic.playlistmachinery.com/)\n",
    "5. Can You Use this Data Set for Your Intended Use Case? \n",
    "Yes - it contains columns for both tempo and genre for the most popular songs on Spotify (worldwide) from 2010 to 2019 and can thus be used to answer both of my questions above."
   ]
  },
  {
   "cell_type": "markdown",
   "id": "b97b3b23",
   "metadata": {},
   "source": [
    "## Format\n",
    "\n"
   ]
  },
  {
   "cell_type": "markdown",
   "id": "f25e701f",
   "metadata": {},
   "source": [
    "\n",
    "### Overview\n",
    "\n",
    "* Format: .csv\n",
    "* Size: 54 kB\n",
    "* Number of Records: 603\n",
    "\n"
   ]
  },
  {
   "cell_type": "markdown",
   "id": "4dbead07",
   "metadata": {},
   "source": [
    "### Sample of Data\n",
    "\n",
    "\n"
   ]
  },
  {
   "cell_type": "code",
   "execution_count": 71,
   "id": "4ed96fd7",
   "metadata": {},
   "outputs": [
    {
     "name": "stdout",
     "output_type": "stream",
     "text": [
      "['', 'title', 'artist', 'top genre', 'year', 'bpm', 'nrgy', 'dnce', 'dB', 'live', 'val', 'dur', 'acous', 'spch', 'pop']\n",
      "['1', 'Hey, Soul Sister', 'Train', 'neo mellow', '2010', '97', '89', '67', '-4', '8', '80', '217', '19', '4', '83']\n",
      "['2', 'Love The Way You Lie', 'Eminem', 'detroit hip hop', '2010', '87', '93', '75', '-5', '52', '64', '263', '24', '23', '82']\n",
      "['3', 'TiK ToK', 'Kesha', 'dance pop', '2010', '120', '84', '76', '-3', '29', '71', '200', '10', '14', '80']\n",
      "['4', 'Bad Romance', 'Lady Gaga', 'dance pop', '2010', '119', '92', '70', '-4', '8', '71', '295', '0', '4', '79']\n",
      "['5', 'Just the Way You Are', 'Bruno Mars', 'pop', '2010', '109', '84', '64', '-5', '9', '43', '221', '2', '4', '78']\n",
      "['6', 'Baby', 'Justin Bieber', 'canadian pop', '2010', '65', '86', '73', '-5', '11', '54', '214', '4', '14', '77']\n",
      "['7', 'Dynamite', 'Taio Cruz', 'dance pop', '2010', '120', '78', '75', '-4', '4', '82', '203', '0', '9', '77']\n",
      "['8', 'Secrets', 'OneRepublic', 'dance pop', '2010', '148', '76', '52', '-6', '12', '38', '225', '7', '4', '77']\n",
      "['9', 'Empire State of Mind (Part II) Broken Down', 'Alicia Keys', 'hip pop', '2010', '93', '37', '48', '-8', '12', '14', '216', '74', '3', '76']\n"
     ]
    }
   ],
   "source": [
    "# TODO show a few lines of data from the actual file\n",
    "\n",
    "# Use \"regular\" Python to do this in this code block\n",
    "# Assume that jupyter-lab was started in your root directory\n",
    "# with open('./data/raw/example-data.csv', 'r'): \n",
    "            \n",
    "# f = open(\"../data/raw/top10s.csv\", 'r', encoding='latin-1')\n",
    "# lines = f.readlines()\n",
    "# f.close()\n",
    "\n",
    "import csv\n",
    "datalist = []\n",
    "data = {}\n",
    "\n",
    "# using default encoding (utf-8) results in an error -\n",
    "with open(\"../data/raw/top10s.csv\", 'r', encoding='latin-1') as f:\n",
    "    reader = csv.reader(f, delimiter=',')\n",
    "    index = 0\n",
    "    for row in reader:\n",
    "        data[index] = row\n",
    "        index+=1\n",
    "f.close()\n",
    "\n",
    "for index in range(10):\n",
    "    print(data[index])"
   ]
  },
  {
   "cell_type": "markdown",
   "id": "8e841542",
   "metadata": {},
   "source": [
    "\n",
    "### Fields or Column Headers\n",
    "\n",
    "* Field/Column 1: # (song ID number, str)\n",
    "* Field/Column 2: title (title of song, str)\n",
    "* Field/Column 3: artist (song artist, str)\n",
    "* Field/Column 4: top genre (genre of the song, str)\n",
    "* Field/Column 5: year (year of song's release, int)\n",
    "* Field/Column 6: bpm (tempo in beats per minute, int)\n",
    "* Field/Column 7: nrgy (measure of how energetic the song is, int)\n",
    "* Field/Column 8: dnce (danceability of song, int)\n",
    "* Field/Column 9: dB (loudness in decibels, int)\n",
    "* Field/Column 10: live (likeliness that song is a live recording, int)\n",
    "* Field/Column 11: val (valence/positivity of song, int)\n",
    "* Field/Column 12: dur (duration in seconds, int)\n",
    "* Field/Column 13: acous (acousticness of song, int)\n",
    "* Field/Column 14: spch (measure of how much spoken word is in the song, int)\n",
    "* Field/Column 15: pop (how popular the song is, int)"
   ]
  },
  {
   "cell_type": "markdown",
   "id": "8642b177",
   "metadata": {},
   "source": [
    "## Part 3 - Extract / Transform\n",
    "\n",
    "TODO describe your process for extracting, transforming, cleaning your incoming data:\n",
    "\n",
    "* what columns you'll be using (extracting) from your dataset\n",
    "* how you're planning to convert the data into analogous python types / how you'll deal with type issues (for example, you may want a column that's numeric, but the data contains a label, such as 4 months) \n",
    "* any other kind of cleaning (_normalizing_ data, filling in missing values, etc.) that you'll have to perform\n"
   ]
  },
  {
   "cell_type": "markdown",
   "id": "35dbcdbf-5f41-4517-ab7d-96a8845294b6",
   "metadata": {},
   "source": [
    "I will be using the \"bpm\" and \"top genre\" columns for my analysis to answer my questions. I will also retain the first three columns (#, title, artist) just to inform about what song each row is referring to.\n",
    "\n",
    "All columns are already in the desired type:\n",
    "* \"bpm,\" which refers to the tempo of each song in beats per minute, is an int\n",
    "* \"top genre,\" or the genre of each song, is a str\n",
    "\n",
    "There are no missing values or data that should be normalized (e.g. all genres are already all lowercase). All BPM values are stored as ints."
   ]
  },
  {
   "cell_type": "code",
   "execution_count": 120,
   "id": "af936f82",
   "metadata": {},
   "outputs": [
    {
     "name": "stdout",
     "output_type": "stream",
     "text": [
      "['', 'title', 'artist', 'top genre', 'bpm']\n",
      "['1', 'Hey, Soul Sister', 'Train', 'neo mellow', 97]\n",
      "['2', 'Love The Way You Lie', 'Eminem', 'detroit hip hop', 87]\n",
      "['3', 'TiK ToK', 'Kesha', 'dance pop', 120]\n",
      "['4', 'Bad Romance', 'Lady Gaga', 'dance pop', 119]\n",
      "['5', 'Just the Way You Are', 'Bruno Mars', 'pop', 109]\n",
      "['6', 'Baby', 'Justin Bieber', 'canadian pop', 65]\n",
      "['7', 'Dynamite', 'Taio Cruz', 'dance pop', 120]\n",
      "['8', 'Secrets', 'OneRepublic', 'dance pop', 148]\n",
      "['9', 'Empire State of Mind (Part II) Broken Down', 'Alicia Keys', 'hip pop', 93]\n"
     ]
    }
   ],
   "source": [
    "# Creating a new dict with only columns of interest\n",
    "# from original dict of all data.\n",
    "# Keeping cols 1-4 and 6, or indices 0-3 and 5 of each row\n",
    "\n",
    "extracted = {}\n",
    "index = 0\n",
    "for row in data:\n",
    "    if extracted[index][1] == \"\"\n",
    "    extracted[index] = data[index][0:4]\n",
    "    try:\n",
    "        extracted[index].append(int(data[index][5]))\n",
    "    except ValueError:\n",
    "        extracted[index].append(data[index][5])\n",
    "    index += 1\n",
    "    \n",
    "for index in range(10):\n",
    "    print(extracted[index])"
   ]
  },
  {
   "cell_type": "markdown",
   "id": "992221a4",
   "metadata": {},
   "source": [
    "## Part 4 - Descriptive Statistics\n",
    "\n",
    "### Analysis on Numeric Data\n",
    "\n",
    "#### Min, max, range\n",
    "\n"
   ]
  },
  {
   "cell_type": "code",
   "execution_count": 155,
   "id": "da0d0d7e-2025-426a-9d0c-d160570b0957",
   "metadata": {},
   "outputs": [],
   "source": [
    "# make array for bpm values\n",
    "import numpy as np\n",
    "\n",
    "arr = np.array(())\n",
    "for index in range(1, len(extracted)):\n",
    "    arr = np.append(arr, extracted[index][4])"
   ]
  },
  {
   "cell_type": "code",
   "execution_count": 169,
   "id": "ee43998f-dc6a-4a98-a2c7-a063b89db053",
   "metadata": {},
   "outputs": [
    {
     "name": "stdout",
     "output_type": "stream",
     "text": [
      "The number of songs in the data is: 603\n"
     ]
    }
   ],
   "source": [
    "print(\"The number of songs in the data is:\",len(bpm))"
   ]
  },
  {
   "cell_type": "code",
   "execution_count": 156,
   "id": "96cd120a-86a0-4eba-90c0-a612162d5cd7",
   "metadata": {},
   "outputs": [
    {
     "name": "stdout",
     "output_type": "stream",
     "text": [
      "The min tempo is: 0.0\n",
      "The max tempo is: 206.0\n",
      "The range of tempos in the data is: 206.0\n"
     ]
    }
   ],
   "source": [
    "print(\"The min tempo is:\", np.min(arr))\n",
    "print(\"The max tempo is:\", np.max(arr))\n",
    "print(\"The range of tempos in the data is:\", np.max(arr)-np.min(arr))"
   ]
  },
  {
   "cell_type": "markdown",
   "id": "abcaabd4-05bb-4363-b724-6335279e40b4",
   "metadata": {},
   "source": [
    "Having a min tempo of 0 makes no sense, so I will replace this value with the mean tempo for this data."
   ]
  },
  {
   "cell_type": "code",
   "execution_count": 157,
   "id": "cbca5240-ea5c-4d96-a976-8dba75ed7a81",
   "metadata": {},
   "outputs": [
    {
     "data": {
      "text/plain": [
       "118.0"
      ]
     },
     "execution_count": 157,
     "metadata": {},
     "output_type": "execute_result"
    }
   ],
   "source": [
    "# Adele's \"Million Years Ago,\" ID #443, is listed with a tempo of 0\n",
    "extracted[443][4] = np.trunc(np.mean(bpm))\n",
    "extracted[443][4]"
   ]
  },
  {
   "cell_type": "code",
   "execution_count": 158,
   "id": "769813c0-bf40-4888-abd3-86753fb3d961",
   "metadata": {},
   "outputs": [],
   "source": [
    "bpm = np.array(())\n",
    "for index in range(1, len(extracted)):\n",
    "    bpm = np.append(bpm, extracted[index][4])"
   ]
  },
  {
   "cell_type": "markdown",
   "id": "536d4f7b-90ad-419b-b8c5-294c75ecc0b9",
   "metadata": {},
   "source": [
    "The new numbers after replacing the zero:"
   ]
  },
  {
   "cell_type": "code",
   "execution_count": 159,
   "id": "bb612873-3d7e-4437-b602-aba91d296177",
   "metadata": {},
   "outputs": [
    {
     "name": "stdout",
     "output_type": "stream",
     "text": [
      "The min tempo is: 43.0\n",
      "The max tempo is: 206.0\n",
      "The range of tempos in the data is: 163.0\n"
     ]
    }
   ],
   "source": [
    "print(\"The min tempo is:\", np.min(bpm))\n",
    "print(\"The max tempo is:\", np.max(bpm))\n",
    "print(\"The range of tempos in the data is:\", np.max(bpm)-np.min(bpm))"
   ]
  },
  {
   "cell_type": "markdown",
   "id": "d48e82de-db83-49bd-81e3-419be127dc1e",
   "metadata": {},
   "source": [
    "#### Central Tendency"
   ]
  },
  {
   "cell_type": "code",
   "execution_count": 161,
   "id": "d29bb51c",
   "metadata": {},
   "outputs": [
    {
     "name": "stdout",
     "output_type": "stream",
     "text": [
      "The mean tempo is: 118.7412935323383\n",
      "The median tempo is: 120.0\n"
     ]
    }
   ],
   "source": [
    "# mean and median\n",
    "print(\"The mean tempo is:\", np.mean(bpm))\n",
    "print(\"The median tempo is:\", np.median(bpm))"
   ]
  },
  {
   "cell_type": "markdown",
   "id": "ee0ecc13",
   "metadata": {},
   "source": [
    "#### Dispersion"
   ]
  },
  {
   "cell_type": "code",
   "execution_count": 162,
   "id": "2da258bc",
   "metadata": {},
   "outputs": [
    {
     "name": "stdout",
     "output_type": "stream",
     "text": [
      "The standard deviation of the tempo: 24.299118649640935\n",
      "The variance is: 590.4471671493279\n"
     ]
    }
   ],
   "source": [
    "print(\"The standard deviation of the tempo:\", np.std(bpm))\n",
    "print(\"The variance is:\", np.var(bpm))"
   ]
  },
  {
   "cell_type": "markdown",
   "id": "d0172f19",
   "metadata": {},
   "source": [
    "#### Outliers\n"
   ]
  },
  {
   "cell_type": "markdown",
   "id": "41a507ec-f765-4761-81a6-07dfcc520e14",
   "metadata": {},
   "source": [
    "If I define outliers as being outside of 1.5 times the IQR from the first and third quartiles, there seems to be quite a few \"outliers.\""
   ]
  },
  {
   "cell_type": "code",
   "execution_count": 163,
   "id": "19b2f102",
   "metadata": {},
   "outputs": [
    {
     "name": "stdout",
     "output_type": "stream",
     "text": [
      "First quartile: 100.0\n",
      "Third quartile: 129.0\n",
      "IQR: 29.0\n",
      "Outlier range: 56.5 to 172.5\n"
     ]
    }
   ],
   "source": [
    "q1 = np.quantile(bpm, 0.25)\n",
    "q3 = np.quantile(bpm, 0.75)\n",
    "iqr = q3-q1\n",
    "print(\"First quartile:\", q1)\n",
    "print(\"Third quartile:\", q3)\n",
    "print(\"IQR:\", iqr)\n",
    "\n",
    "print(\"Outlier range:\", q1-(1.5*iqr), \"to\", q3+(1.5*iqr))"
   ]
  },
  {
   "cell_type": "code",
   "execution_count": 165,
   "id": "5d0b7674-7e8a-4772-8371-c79e25211e5b",
   "metadata": {},
   "outputs": [
    {
     "name": "stdout",
     "output_type": "stream",
     "text": [
      "Outliers as defined by IQR: [186.0, 182.0, 43.0, 175.0, 184.0, 180.0, 174.0, 185.0, 184.0, 201.0, 186.0, 192.0, 174.0, 206.0, 190.0, 190.0, 176.0, 192.0, 202.0, 175.0, 186.0, 186.0, 178.0, 192.0, 190.0, 181.0, 180.0]\n"
     ]
    }
   ],
   "source": [
    "outliers_iqr = []\n",
    "for t in bpm:\n",
    "    if t < 56.5 or t > 172.5:\n",
    "        outliers_iqr.append(t)\n",
    "\n",
    "print(\"Outliers as defined by IQR:\", outliers_iqr)"
   ]
  },
  {
   "cell_type": "markdown",
   "id": "2b502f69-6250-4264-aa04-bf4c258dabe7",
   "metadata": {},
   "source": [
    "Conversely, if I define outliers as being more than 3 standard deviations from the mean, there are still several outliers, but fewer than with the IQR definition."
   ]
  },
  {
   "cell_type": "code",
   "execution_count": 166,
   "id": "ae02ac8a-b04c-441e-b993-1a73fd2a2f75",
   "metadata": {},
   "outputs": [
    {
     "name": "stdout",
     "output_type": "stream",
     "text": [
      "Standard deviation: 24.299118649640935\n",
      "Outlier range: 45.843937583415496 to 191.6386494812611\n"
     ]
    }
   ],
   "source": [
    "std = np.std(bpm)\n",
    "mean = np.mean(bpm)\n",
    "print(\"Standard deviation:\", std)\n",
    "print(\"Outlier range:\", mean-(3*std), \"to\", mean+(3*std))"
   ]
  },
  {
   "cell_type": "code",
   "execution_count": 167,
   "id": "182f74e0-814d-4cdd-ac9a-6511e2b8bf46",
   "metadata": {},
   "outputs": [
    {
     "name": "stdout",
     "output_type": "stream",
     "text": [
      "Outliers as defined by standard deviation: [43.0, 201.0, 192.0, 206.0, 192.0, 202.0, 192.0]\n"
     ]
    }
   ],
   "source": [
    "outliers_std = []\n",
    "for t in bpm:\n",
    "    if t < 45.8 or t > 191.6:\n",
    "        outliers_std.append(t)\n",
    "\n",
    "print(\"Outliers as defined by standard deviation:\", outliers_std)"
   ]
  },
  {
   "cell_type": "markdown",
   "id": "8d36e388-f762-4423-bbc9-d1c3f68f183f",
   "metadata": {},
   "source": [
    "The nature of this data (being descriptions of songs) means these \"outliers\" are not really anomalies, as it is definitely possible for songs to be relatively very fast or very slow. These \"outliers\" are just significantly faster or slower than other popular songs from the decade, but they're not outliers I would choose to exclude."
   ]
  },
  {
   "cell_type": "markdown",
   "id": "3f393bc7",
   "metadata": {},
   "source": [
    "#### Other\n"
   ]
  },
  {
   "cell_type": "markdown",
   "id": "b50c7e28-a999-4ffd-a7fd-ce735b4a1e76",
   "metadata": {},
   "source": [
    "Frequencies of the tempos in this dataset are as follows: "
   ]
  },
  {
   "cell_type": "code",
   "execution_count": 184,
   "id": "a859c54e",
   "metadata": {},
   "outputs": [],
   "source": [
    "from collections import Counter\n",
    "tempocount = Counter(bpm)"
   ]
  },
  {
   "cell_type": "code",
   "execution_count": 188,
   "id": "0658f10b-b82d-4d8e-8a13-1e82e117a613",
   "metadata": {},
   "outputs": [
    {
     "name": "stdout",
     "output_type": "stream",
     "text": [
      "The bpm 120.0 occurs the most in this data, occurring 47 times.\n"
     ]
    }
   ],
   "source": [
    "mode = max(tempocount, key=tempocount.get)\n",
    "print(\"The bpm\", mode, \"occurs the most in this data, occurring\", tempocount.get(mode), \"times.\")"
   ]
  },
  {
   "cell_type": "markdown",
   "id": "c916d30f",
   "metadata": {},
   "source": [
    "###  Analysis on Categorical Data"
   ]
  },
  {
   "cell_type": "markdown",
   "id": "647d1f4c",
   "metadata": {},
   "source": [
    "#### Frequency"
   ]
  },
  {
   "cell_type": "code",
   "execution_count": 181,
   "id": "a33b3b0f",
   "metadata": {},
   "outputs": [],
   "source": [
    "# make array for genre values\n",
    "genre = np.array(())\n",
    "for index in range(1, len(extracted)):\n",
    "    genre = np.append(genre, extracted[index][3])"
   ]
  },
  {
   "cell_type": "code",
   "execution_count": 186,
   "id": "07927f69-0fb7-4974-b385-e5916928f152",
   "metadata": {},
   "outputs": [
    {
     "data": {
      "text/plain": [
       "Counter({'neo mellow': 9,\n",
       "         'detroit hip hop': 2,\n",
       "         'dance pop': 327,\n",
       "         'pop': 60,\n",
       "         'canadian pop': 34,\n",
       "         'hip pop': 6,\n",
       "         'barbadian pop': 15,\n",
       "         'atl hip hop': 5,\n",
       "         'australian pop': 5,\n",
       "         'indie pop': 2,\n",
       "         'art pop': 8,\n",
       "         'colombian pop': 3,\n",
       "         'big room': 10,\n",
       "         'british soul': 11,\n",
       "         'chicago rap': 1,\n",
       "         'acoustic pop': 2,\n",
       "         'permanent wave': 4,\n",
       "         'boy band': 15,\n",
       "         'baroque pop': 2,\n",
       "         'celtic rock': 1,\n",
       "         'electro': 2,\n",
       "         'complextro': 6,\n",
       "         'canadian hip hop': 2,\n",
       "         'candy pop': 2,\n",
       "         'alaska indie': 1,\n",
       "         'folk-pop': 2,\n",
       "         'metropopolis': 1,\n",
       "         'house': 1,\n",
       "         'australian hip hop': 1,\n",
       "         'electropop': 13,\n",
       "         'australian dance': 6,\n",
       "         'hollywood': 1,\n",
       "         'canadian contemporary r&b': 9,\n",
       "         'irish singer-songwriter': 1,\n",
       "         'tropical house': 3,\n",
       "         'belgian edm': 2,\n",
       "         'french indie pop': 1,\n",
       "         'hip hop': 4,\n",
       "         'danish pop': 1,\n",
       "         'latin': 4,\n",
       "         'canadian latin': 1,\n",
       "         'electronic trap': 2,\n",
       "         'edm': 5,\n",
       "         'electro house': 1,\n",
       "         'downtempo': 2,\n",
       "         'brostep': 2,\n",
       "         'contemporary country': 1,\n",
       "         'moroccan pop': 1,\n",
       "         'escape room': 2,\n",
       "         'alternative r&b': 1})"
      ]
     },
     "execution_count": 186,
     "metadata": {},
     "output_type": "execute_result"
    }
   ],
   "source": [
    "genrecount = Counter(genre)\n",
    "genrecount"
   ]
  },
  {
   "cell_type": "code",
   "execution_count": 191,
   "id": "e26d2d97-7c77-4cdd-a4fc-69eb133582c5",
   "metadata": {},
   "outputs": [
    {
     "name": "stdout",
     "output_type": "stream",
     "text": [
      "The genre dance pop occurs the most in this data, occurring 327 times.\n"
     ]
    }
   ],
   "source": [
    "genmode = max(genrecount, key=genrecount.get)\n",
    "print(\"The genre\", genmode, \"occurs the most in this data, occurring\", genrecount.get(genmode), \"times.\")\n"
   ]
  },
  {
   "cell_type": "markdown",
   "id": "8e85a352",
   "metadata": {},
   "source": [
    "#### Unique Values"
   ]
  },
  {
   "cell_type": "code",
   "execution_count": 196,
   "id": "79b351ea",
   "metadata": {},
   "outputs": [
    {
     "name": "stdout",
     "output_type": "stream",
     "text": [
      "The unique genres in this dataset are:\n",
      "acoustic pop\n",
      "alaska indie\n",
      "alternative r&b\n",
      "art pop\n",
      "atl hip hop\n",
      "australian dance\n",
      "australian hip hop\n",
      "australian pop\n",
      "barbadian pop\n",
      "baroque pop\n",
      "belgian edm\n",
      "big room\n",
      "boy band\n",
      "british soul\n",
      "brostep\n",
      "canadian contemporary r&b\n",
      "canadian hip hop\n",
      "canadian latin\n",
      "canadian pop\n",
      "candy pop\n",
      "celtic rock\n",
      "chicago rap\n",
      "colombian pop\n",
      "complextro\n",
      "contemporary country\n",
      "dance pop\n",
      "danish pop\n",
      "detroit hip hop\n",
      "downtempo\n",
      "edm\n",
      "electro\n",
      "electro house\n",
      "electronic trap\n",
      "electropop\n",
      "escape room\n",
      "folk-pop\n",
      "french indie pop\n",
      "hip hop\n",
      "hip pop\n",
      "hollywood\n",
      "house\n",
      "indie pop\n",
      "irish singer-songwriter\n",
      "latin\n",
      "metropopolis\n",
      "moroccan pop\n",
      "neo mellow\n",
      "permanent wave\n",
      "pop\n",
      "tropical house\n",
      "\n",
      "There are 50 unique genres in this dataset.\n"
     ]
    }
   ],
   "source": [
    "print(\"The unique genres in this dataset are:\")\n",
    "for g in np.unique(genre):\n",
    "    print(g)\n",
    "\n",
    "print(\"\\nThere are\", len(np.unique(genre)), \"unique genres in this dataset.\")"
   ]
  },
  {
   "cell_type": "markdown",
   "id": "3cac24b4",
   "metadata": {},
   "source": [
    "## Part 5 - Visualizations\n",
    "\n"
   ]
  },
  {
   "cell_type": "code",
   "execution_count": 224,
   "id": "9c456aac",
   "metadata": {},
   "outputs": [
    {
     "data": {
      "image/png": "[encoded data removed]",
      "text/plain": [
       "<Figure size 432x288 with 1 Axes>"
      ]
     },
     "metadata": {
      "needs_background": "light"
     },
     "output_type": "display_data"
    }
   ],
   "source": [
    "import matplotlib.pyplot as plt\n",
    "\n",
    "plt.hist(bpm, bins=len(tempocount))\n",
    "plt.title(\"Frequency of Tempos in Dataset\")\n",
    "plt.xlabel(\"Tempo (BPM)\")\n",
    "plt.ylabel(\"Frequency (count)\")\n",
    "plt.show()"
   ]
  },
  {
   "cell_type": "markdown",
   "id": "5593be60-07d3-4627-8609-2cd78daba71a",
   "metadata": {},
   "source": [
    "The frequency of each tempo in the dataset was plotted in the histogram above. The highest frequency (highest bar) belongs to BPM 120, which is consistent with what was previously found in the analysis for the bpm column. This is also the median tempo and very close to the mean tempo (which is about 118)."
   ]
  },
  {
   "cell_type": "code",
   "execution_count": 220,
   "id": "2e02f4d0-9593-45b4-9992-c1e39fa94ca0",
   "metadata": {},
   "outputs": [],
   "source": [
    "# Since it's difficult to show all 50 genres on the x-axis,\n",
    "# I included only genres that occurred more than twice\n",
    "\n",
    "freqgenre = {}\n",
    "for g in genrecount.items():\n",
    "    if g[1] > 2:\n",
    "        freqgenre[g[0]] = g[1]"
   ]
  },
  {
   "cell_type": "code",
   "execution_count": 221,
   "id": "5a84af30-9f23-462d-9925-b416e564bf39",
   "metadata": {},
   "outputs": [
    {
     "data": {
      "image/png": "[encoded data removed]",
      "text/plain": [
       "<Figure size 432x288 with 1 Axes>"
      ]
     },
     "metadata": {
      "needs_background": "light"
     },
     "output_type": "display_data"
    }
   ],
   "source": [
    "plt.bar(freqgenre.keys(), freqgenre.values())\n",
    "plt.xticks(rotation = 90)\n",
    "plt.title(\"Frequency of Most Frequent Genres in Dataset\")\n",
    "plt.xlabel(\"Genre names\")\n",
    "plt.ylabel(\"Frequency (count)\")\n",
    "plt.show()"
   ]
  },
  {
   "cell_type": "markdown",
   "id": "62fabbd0",
   "metadata": {},
   "source": [
    "The frequency of each genre in the dataset (that occurred more than twice) was plotted in the bar chart above. The highest frequency (highest bar) belongs to the dance pop genre. This is also consistent with what was found in the analysis for the genre column. No other genre comes even close to how many times dance pop occurs, which goes to show that dance pop songs become popular more than other genres (or at least become popular more often in the 2010s)."
   ]
  },
  {
   "cell_type": "markdown",
   "id": "4025083d-2a51-4423-8d26-d164134a403c",
   "metadata": {},
   "source": [
    "## Part 6 - Conclusion\n",
    "\n",
    "#### Q1: What is the average tempo (in BPM, beats per minute) of the most popular songs on Spotify in the decade of the 2010s?\n",
    "\n",
    "Three different \"averages\" were calculated or displayed in the analysis above: mean, median, and mode (highest frequency). The mean was found to be about 118.74, while the median and mode were both 120. The histogram for the BPM data showed that the tempo of 120 BPM occurred much more frequently than other tempos. The mean is very close to 120, so considering all of these results, I conclude that the average tempo is 120 BPM."
   ]
  },
  {
   "cell_type": "markdown",
   "id": "97097206-80b3-4ab2-a5b9-3acc68d16650",
   "metadata": {},
   "source": [
    "#### Q2: Of which genre were most of the most popular songs on Spotify in the 2010s?\n",
    "\n",
    "Both the counter generated for genres and the bar graph for the most frequently-occurring genres showed that dance pop occurred many more times in the data than other popular genres. Based on both the code and visualization of the genre data, I conclude that most of the popular songs during the 2010s decade were of the dance pop genre."
   ]
  }
 ],
 "metadata": {
  "kernelspec": {
   "display_name": "Python 3 (ipykernel)",
   "language": "python",
   "name": "python3"
  },
  "language_info": {
   "codemirror_mode": {
    "name": "ipython",
    "version": 3
   },
   "file_extension": ".py",
   "mimetype": "text/x-python",
   "name": "python",
   "nbconvert_exporter": "python",
   "pygments_lexer": "ipython3",
   "version": "3.8.13"
  }
 },
 "nbformat": 4,
 "nbformat_minor": 5
}
